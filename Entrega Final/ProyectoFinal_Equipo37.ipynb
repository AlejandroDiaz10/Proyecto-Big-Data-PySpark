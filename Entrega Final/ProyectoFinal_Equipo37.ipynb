{
 "cells": [
  {
   "cell_type": "markdown",
   "id": "12c667fc",
   "metadata": {},
   "source": [
    "# Proyecto Final | Análisis de Sentimientos en Reseñas de Amazon mediante Técnicas de Big Data con PySpark\n",
    "---"
   ]
  },
  {
   "cell_type": "markdown",
   "id": "0e2888f4",
   "metadata": {},
   "source": [
    "**MAESTRÍA EN INTELIGENCIA ARTIFICIAL APLICADA**\n",
    "\n",
    "**Curso: TC4034.10 - Análisis de grandes volúmenes de datos**\n",
    "\n",
    "Tecnológico de Monterrey\n",
    "\n",
    "* Dr. Iván Olmos Pineda\n",
    "* Mtra. Verónica Sandra Guzmán de Valle\n",
    "* Mtro. Alberto Daniel Salinas Montemayor\n",
    "\n",
    "**Proyecto Final** - \n",
    "Análisis de Sentimientos en Reseñas de Amazon mediante Técnicas de Big Data con PySpark\n",
    "\n",
    "**Fecha de entrega** - \n",
    "22 de junio del 2025\n",
    "\n",
    "---"
   ]
  },
  {
   "cell_type": "markdown",
   "id": "8b5c4a7c",
   "metadata": {},
   "source": [
    "**Equipo 37**\n",
    "\n",
    "|  NOMBRE COMPLETO                        |     MATRÍCULA     |\n",
    "| :-------------------------------------: |:-----------------:|\n",
    "| Alejandro Díaz Villagómez               |  A01276769        |\n",
    "| Alonso Pedrero Martínez                 |  A01769076        |\n",
    "| César Iván Pedrero Martínez             |  A01366501        |\n",
    "| Emiliano Saucedo Arriola                |  A01659258        |"
   ]
  },
  {
   "cell_type": "markdown",
   "id": "20f56cc0",
   "metadata": {},
   "source": [
    "# 0) Introducción\n",
    "---"
   ]
  },
  {
   "cell_type": "markdown",
   "id": "9eb6cdb8",
   "metadata": {},
   "source": [
    "## Descripción del tema de interés\n",
    "--- \n",
    "\n",
    "El presente proyecto tiene como objetivo principal analizar las reseñas de productos publicadas en Amazon utilizando herramientas de Big Data, específicamente PySpark. Amazon, como empresa de reconocimiento mundial tanto en el ámbito del comercio electrónico como en el desarrollo de soluciones tecnológicas, destacando su plataforma AWS (Amazon Web Services), constituye un referente global en el sector. Además, su posicionamiento como líder indiscutible del mercado de marketplaces la convierte en una fuente valiosa de datos masivos para análisis de comportamiento del consumidor.\n",
    "\n",
    "La selección de este tema responde a intereses tanto profesionales como personales. Como programadores y consultores de software, frecuentemente trabajamos con clientes que solicitan el desarrollo de plataformas de venta en línea, mostrando un creciente interés en conocer la percepción y aceptación de sus productos en el mercado digital. En este contexto, resulta fundamental contar con herramientas que permitan identificar tendencias, analizar sentimientos y extraer patrones ocultos en las opiniones de los usuarios.\n",
    "\n",
    "Por tanto, el objetivo general de este proyecto es construir una solución que, a partir del procesamiento y análisis de grandes volúmenes de reseñas, permita:\n",
    "\n",
    "* Identificar el sentimiento general asociado a los productos (positivo, negativo o neutral).\n",
    "* Detectar tendencias y patrones recurrentes en las opiniones de los consumidores.\n",
    "* Apoyar en la toma de decisiones estratégicas de marketing y mejora de productos, proporcionando información valiosa y procesable a partir de los datos analizados.\n",
    "\n",
    "Este enfoque no solo fortalece nuestras competencias técnicas en Big Data (e incluso en temas como procesamiento de lenguaje natural - NLP), sino que también aporta una herramienta práctica y directamente aplicable a nuestro entorno laboral actual.\n",
    "\n",
    "\n",
    "Algunas aplicaciones potenciales son:\n",
    "\n",
    "* **Mejora de Productos**: Analizar las reseñas puede ayudar a identificar problemas recurrentes o aspectos destacados de los productos, ayudando a los fabricantes a mejorar los diseños o la experiencia del cliente.\n",
    "* **Atención al Cliente y Soporte**: Identificar rápidamente las reseñas negativas permite a las empresas abordar las preocupaciones de los clientes de manera eficiente, mejorando la satisfacción del cliente.\n",
    "* **Sistemas de Recomendación**: El conjunto de datos puede usarse para mejorar los sistemas de recomendación, correlacionando las calificaciones de los productos, los sentimientos y las preferencias de los clientes."
   ]
  },
  {
   "cell_type": "markdown",
   "id": "b0efc6f5",
   "metadata": {},
   "source": [
    "## Selección del dataset\n",
    "---\n",
    "\n",
    "### **Selección**\n",
    "\n",
    "| **Campo**              | **Detalle**                                                                                  |\n",
    "|-------------------------|----------------------------------------------------------------------------------------------|\n",
    "| Nombre del dataset      | Amazon-reviews                                                                               |\n",
    "| Enlace                  | [Amazon-reviews en Kaggle](https://www.kaggle.com/datasets/machharavikiran/amazon-reviews?resource=download) |\n",
    "| Publicador              | Machha Ravi Kiran                                                                            |\n",
    "| Última actualización    | Hace aproximadamente 2 años                                                                  |\n",
    "| Formato - Tamaño        | CSV - 3.68 GB                                                                                 |\n",
    "| Fuente                  | Repositorio Kaggle (acceso público)                                                           |\n",
    "\n",
    "---\n",
    "\n",
    "### **Atributos del Conjunto de Datos**\n",
    "\n",
    "| Columna           | Tipo de dato | Descripción                                      |\n",
    "|-------------------|--------------|--------------------------------------------------|\n",
    "| marketplace       | string       | Mercado donde se realizó la compra               |\n",
    "| customer_id       | integer      | Identificador único del cliente                        |\n",
    "| review_id         | string       | Identificador único de la reseña                 |\n",
    "| product_id        | string       | Identificador del producto                      |\n",
    "| product_parent    | integer      | Identificador de grupo o \"padre\" para productos similares o relacionados             |\n",
    "| product_title     | string       | Nombre del producto                              |\n",
    "| product_category  | string       | Categoría del producto                           |\n",
    "| star_rating       | integer      | Calificación otorgada por el cliente (1-5)             |\n",
    "| helpful_votes     | integer      | Número de votos útiles recibidos por la reseña    |\n",
    "| total_votes       | integer      | Número total de votos recibidos                  |\n",
    "| vine              | string       | Participación en el programa Vine de reseñas (Y para sí, N para no)    |\n",
    "| verified_purchase | string       | Indicador de compra verificada (Y para sí, N para no)                  |\n",
    "| review_headline   | string       | Encabezado de la reseña                          |\n",
    "| review_body       | string       | Cuerpo del texto de la reseña                    |\n",
    "| review_date       | date         | Fecha en que se realizó la reseña                |\n",
    "| sentiment         | integer      | Valor de sentimiento asignado a la reseña (1 para positivo, 0 para negativo)       |\n",
    "\n",
    "---\n",
    "\n",
    "### **Descripción General**\n",
    "\n",
    "Este conjunto de datos contiene reseñas de productos publicadas en Amazon, con un enfoque principal en productos electrónicos. La información es detallada, incluyendo las calificaciones de los usuarios, comentarios, votos útiles, y otros aspectos que permiten realizar un análisis profundo del comportamiento del consumidor y el sentimiento de las reseñas.\n",
    "\n",
    "El dataset seleccionado cumple con los criterios establecidos para este proyecto, ya que está directamente relacionado con el análisis de reseñas de productos, presenta un tamaño adecuado para técnicas de Big Data, y su formato tabular favorece su procesamiento mediante PySpark. Además, la procedencia del dataset, proveniente de una fuente reconocida como Kaggle, garantiza además su calidad y fiabilidad para los fines académicos y profesionales de este trabajo.\n",
    "\n",
    "---"
   ]
  },
  {
   "cell_type": "markdown",
   "id": "172bfbd1",
   "metadata": {},
   "source": [
    "# 1) Propuesta de solución\n",
    "---"
   ]
  },
  {
   "cell_type": "markdown",
   "id": "fa5bbb18",
   "metadata": {},
   "source": [
    "El desarrollo del presente proyecto plantea una solución integral y escalable para el análisis automatizado de sentimientos en reseñas de productos publicadas en Amazon, combinando técnicas de procesamiento distribuido con PySpark y modelos de aprendizaje supervisado. Esta propuesta busca responder eficazmente a los desafíos inherentes al tratamiento de datos textuales masivos, garantizando tanto la representatividad estadística de la muestra como la solidez y eficiencia computacional del modelo construido.\n",
    "\n",
    "La estrategia metodológica implementada se fundamenta en el análisis de un conjunto de datos extenso, cuyo objetivo central es la predicción del sentimiento (positivo o negativo) expresado en cada reseña. Para alcanzar este fin, se diseñó un flujo de trabajo sistemático que abarca desde la caracterización inicial de la población y la construcción rigurosa de una muestra representativa, hasta la selección, entrenamiento y validación de modelos predictivos.\n",
    "\n",
    "El proceso completo se estructura en las siguientes etapas clave:\n",
    "\n",
    "1) Caracterización de la población\n",
    "2) Construcción de una muestra representativa (M) y particiones Mi\n",
    "3) Preprocesamiento y preparación de datos\n",
    "4) Selección de métricas e identificación de algoritmos de aprendizaje\n",
    "5) Ajuste de hiperparámetros mediante validación cruzada\n",
    "\n",
    "Cada una de estas fases metodológicas será descrita en detalle en los apartados siguientes, destacando tanto las decisiones técnicas adoptadas como los fundamentos estadísticos y computacionales que sustentan su implementación."
   ]
  },
  {
   "cell_type": "markdown",
   "id": "ab62f588",
   "metadata": {},
   "source": [
    "## 1.1) Carga de datos\n",
    "---"
   ]
  },
  {
   "cell_type": "code",
   "execution_count": 1,
   "id": "d3760e2d",
   "metadata": {},
   "outputs": [
    {
     "data": {
      "text/plain": [
       "'/Users/alejandrodiazvillagomez/Desktop/Proyecto-Big-Data-PySpark/.venv/lib/python3.12/site-packages/pyspark'"
      ]
     },
     "execution_count": 1,
     "metadata": {},
     "output_type": "execute_result"
    }
   ],
   "source": [
    "import findspark\n",
    "from pyspark.sql import SparkSession, functions as F\n",
    "\n",
    "findspark.init()\n",
    "findspark.find()"
   ]
  },
  {
   "cell_type": "code",
   "execution_count": 2,
   "id": "492e017b",
   "metadata": {},
   "outputs": [
    {
     "name": "stderr",
     "output_type": "stream",
     "text": [
      "25/06/21 23:18:10 WARN Utils: Your hostname, Alejandros-MacBook-Pro.local resolves to a loopback address: 127.0.0.1; using 192.168.100.221 instead (on interface en0)\n",
      "25/06/21 23:18:10 WARN Utils: Set SPARK_LOCAL_IP if you need to bind to another address\n",
      "Setting default log level to \"WARN\".\n",
      "To adjust logging level use sc.setLogLevel(newLevel). For SparkR, use setLogLevel(newLevel).\n",
      "25/06/21 23:18:11 WARN NativeCodeLoader: Unable to load native-hadoop library for your platform... using builtin-java classes where applicable\n"
     ]
    },
    {
     "data": {
      "text/html": [
       "\n",
       "            <div>\n",
       "                <p><b>SparkSession - in-memory</b></p>\n",
       "                \n",
       "        <div>\n",
       "            <p><b>SparkContext</b></p>\n",
       "\n",
       "            <p><a href=\"http://192.168.100.221:4040\">Spark UI</a></p>\n",
       "\n",
       "            <dl>\n",
       "              <dt>Version</dt>\n",
       "                <dd><code>v3.5.5</code></dd>\n",
       "              <dt>Master</dt>\n",
       "                <dd><code>local[*]</code></dd>\n",
       "              <dt>AppName</dt>\n",
       "                <dd><code>pyspark-shell</code></dd>\n",
       "            </dl>\n",
       "        </div>\n",
       "        \n",
       "            </div>\n",
       "        "
      ],
      "text/plain": [
       "<pyspark.sql.session.SparkSession at 0x11e3460f0>"
      ]
     },
     "execution_count": 2,
     "metadata": {},
     "output_type": "execute_result"
    }
   ],
   "source": [
    "spark = SparkSession.builder.master(\"local[*]\").getOrCreate()\n",
    "spark.sparkContext.setLogLevel(\"ERROR\")\n",
    "spark.conf.set(\"spark.sql.repl.eagerEval.enabled\", True)\n",
    "\n",
    "spark"
   ]
  },
  {
   "cell_type": "code",
   "execution_count": 3,
   "id": "a140f407",
   "metadata": {},
   "outputs": [],
   "source": [
    "class FileManager():\n",
    "    @staticmethod\n",
    "    def open_csv_file(file_path : str):\n",
    "        \"\"\"\n",
    "        This method opens a csv file with pyspark\n",
    "        \"\"\"\n",
    "        csv_df = spark.read.csv(\n",
    "            file_path,\n",
    "            header=True,\n",
    "            inferSchema=True,\n",
    "            multiLine=True,\n",
    "            escape=\"\\\"\",\n",
    "            quote=\"\\\"\"\n",
    "        )\n",
    "\n",
    "        # csv_df.show(truncate=20)\n",
    "\n",
    "        return csv_df"
   ]
  },
  {
   "cell_type": "code",
   "execution_count": 4,
   "id": "eedc112d",
   "metadata": {},
   "outputs": [
    {
     "name": "stderr",
     "output_type": "stream",
     "text": [
      "/Users/alejandrodiazvillagomez/Desktop/Proyecto-Big-Data-PySpark/.venv/lib/python3.12/site-packages/tqdm/auto.py:21: TqdmWarning: IProgress not found. Please update jupyter and ipywidgets. See https://ipywidgets.readthedocs.io/en/stable/user_install.html\n",
      "  from .autonotebook import tqdm as notebook_tqdm\n"
     ]
    },
    {
     "name": "stdout",
     "output_type": "stream",
     "text": [
      "Path to dataset files: /Users/alejandrodiazvillagomez/.cache/kagglehub/datasets/machharavikiran/amazon-reviews/versions/1\n"
     ]
    },
    {
     "name": "stderr",
     "output_type": "stream",
     "text": [
      "                                                                                \r"
     ]
    },
    {
     "data": {
      "text/html": [
       "<div>\n",
       "<style scoped>\n",
       "    .dataframe tbody tr th:only-of-type {\n",
       "        vertical-align: middle;\n",
       "    }\n",
       "\n",
       "    .dataframe tbody tr th {\n",
       "        vertical-align: top;\n",
       "    }\n",
       "\n",
       "    .dataframe thead th {\n",
       "        text-align: right;\n",
       "    }\n",
       "</style>\n",
       "<table border=\"1\" class=\"dataframe\">\n",
       "  <thead>\n",
       "    <tr style=\"text-align: right;\">\n",
       "      <th></th>\n",
       "      <th>marketplace</th>\n",
       "      <th>customer_id</th>\n",
       "      <th>review_id</th>\n",
       "      <th>product_id</th>\n",
       "      <th>product_parent</th>\n",
       "      <th>product_title</th>\n",
       "      <th>product_category</th>\n",
       "      <th>star_rating</th>\n",
       "      <th>helpful_votes</th>\n",
       "      <th>total_votes</th>\n",
       "      <th>vine</th>\n",
       "      <th>verified_purchase</th>\n",
       "      <th>review_headline</th>\n",
       "      <th>review_body</th>\n",
       "      <th>review_date</th>\n",
       "      <th>sentiment</th>\n",
       "    </tr>\n",
       "  </thead>\n",
       "  <tbody>\n",
       "    <tr>\n",
       "      <th>0</th>\n",
       "      <td>US</td>\n",
       "      <td>22873041</td>\n",
       "      <td>R3ARRMDEGED8RD</td>\n",
       "      <td>B00KJWQIIC</td>\n",
       "      <td>335625766</td>\n",
       "      <td>Plemo 14-Inch Laptop Sleeve Case Waterproof Fa...</td>\n",
       "      <td>PC</td>\n",
       "      <td>5</td>\n",
       "      <td>0</td>\n",
       "      <td>0</td>\n",
       "      <td>N</td>\n",
       "      <td>Y</td>\n",
       "      <td>Pleasantly surprised</td>\n",
       "      <td>I was very surprised at the high quality of th...</td>\n",
       "      <td>2015-08-31</td>\n",
       "      <td>1</td>\n",
       "    </tr>\n",
       "    <tr>\n",
       "      <th>1</th>\n",
       "      <td>US</td>\n",
       "      <td>30088427</td>\n",
       "      <td>RQ28TSA020Y6J</td>\n",
       "      <td>B013ALA9LA</td>\n",
       "      <td>671157305</td>\n",
       "      <td>TP-Link OnHub AC1900 Wireless Wi-Fi Router</td>\n",
       "      <td>PC</td>\n",
       "      <td>5</td>\n",
       "      <td>24</td>\n",
       "      <td>31</td>\n",
       "      <td>N</td>\n",
       "      <td>N</td>\n",
       "      <td>OnHub is a pretty no nonsense type router that...</td>\n",
       "      <td>I am a Google employee and had to chance to us...</td>\n",
       "      <td>2015-08-31</td>\n",
       "      <td>1</td>\n",
       "    </tr>\n",
       "    <tr>\n",
       "      <th>2</th>\n",
       "      <td>US</td>\n",
       "      <td>20329786</td>\n",
       "      <td>RUXJRZCT6953M</td>\n",
       "      <td>B00PML2GQ8</td>\n",
       "      <td>982036237</td>\n",
       "      <td>AmazonBasics USB 3.0 A Male to A Male Cable - ...</td>\n",
       "      <td>PC</td>\n",
       "      <td>1</td>\n",
       "      <td>2</td>\n",
       "      <td>2</td>\n",
       "      <td>N</td>\n",
       "      <td>N</td>\n",
       "      <td>None of them worked.  No functionality at all.</td>\n",
       "      <td>Bought cables in 3ft, 6ft and 9ft.  NONE of th...</td>\n",
       "      <td>2015-08-31</td>\n",
       "      <td>0</td>\n",
       "    </tr>\n",
       "    <tr>\n",
       "      <th>3</th>\n",
       "      <td>US</td>\n",
       "      <td>14215710</td>\n",
       "      <td>R7EO0UO6BPB71</td>\n",
       "      <td>B001NS0OZ4</td>\n",
       "      <td>576587596</td>\n",
       "      <td>Transcend P8 15-in-1 USB 2.0 Flash Memory Card...</td>\n",
       "      <td>PC</td>\n",
       "      <td>1</td>\n",
       "      <td>0</td>\n",
       "      <td>0</td>\n",
       "      <td>N</td>\n",
       "      <td>Y</td>\n",
       "      <td>just keep searching.</td>\n",
       "      <td>nope, cheap and slow</td>\n",
       "      <td>2015-08-31</td>\n",
       "      <td>0</td>\n",
       "    </tr>\n",
       "    <tr>\n",
       "      <th>4</th>\n",
       "      <td>US</td>\n",
       "      <td>38264512</td>\n",
       "      <td>R39NJY2YJ1JFSV</td>\n",
       "      <td>B00AQMTND2</td>\n",
       "      <td>964759214</td>\n",
       "      <td>Aleratec SATA Data Cable 2.0 20in Serial ATA S...</td>\n",
       "      <td>PC</td>\n",
       "      <td>5</td>\n",
       "      <td>0</td>\n",
       "      <td>0</td>\n",
       "      <td>N</td>\n",
       "      <td>Y</td>\n",
       "      <td>Five Stars</td>\n",
       "      <td>Excellent! Great value and does the job.</td>\n",
       "      <td>2015-08-31</td>\n",
       "      <td>1</td>\n",
       "    </tr>\n",
       "    <tr>\n",
       "      <th>5</th>\n",
       "      <td>US</td>\n",
       "      <td>30548466</td>\n",
       "      <td>R31SR7REWNX7CF</td>\n",
       "      <td>B00KX4TORI</td>\n",
       "      <td>170101802</td>\n",
       "      <td>Kingston Digital MobileLite G4 USB 3.0 Multi-F...</td>\n",
       "      <td>PC</td>\n",
       "      <td>5</td>\n",
       "      <td>0</td>\n",
       "      <td>0</td>\n",
       "      <td>N</td>\n",
       "      <td>Y</td>\n",
       "      <td>Good quality, works well and compact</td>\n",
       "      <td>Good quality,works well and compact size</td>\n",
       "      <td>2015-08-31</td>\n",
       "      <td>1</td>\n",
       "    </tr>\n",
       "    <tr>\n",
       "      <th>6</th>\n",
       "      <td>US</td>\n",
       "      <td>589298</td>\n",
       "      <td>RVBP8I1R0CTZ8</td>\n",
       "      <td>B00P17WEMY</td>\n",
       "      <td>206124740</td>\n",
       "      <td>White 9 Inch Unlocked Dual Sim Card Phone Tabl...</td>\n",
       "      <td>PC</td>\n",
       "      <td>3</td>\n",
       "      <td>1</td>\n",
       "      <td>2</td>\n",
       "      <td>N</td>\n",
       "      <td>Y</td>\n",
       "      <td>in fact this is third China good. Demn s***</td>\n",
       "      <td>This demn tablet is just a Real Chinese produc...</td>\n",
       "      <td>2015-08-31</td>\n",
       "      <td>0</td>\n",
       "    </tr>\n",
       "    <tr>\n",
       "      <th>7</th>\n",
       "      <td>US</td>\n",
       "      <td>49329488</td>\n",
       "      <td>R1QF6RS1PDLU18</td>\n",
       "      <td>B00TR05L9Y</td>\n",
       "      <td>778403103</td>\n",
       "      <td>Lenovo TAB2 A10 - 10.1\" 2-in-1 Tablet (1.5Ghz,...</td>\n",
       "      <td>PC</td>\n",
       "      <td>4</td>\n",
       "      <td>1</td>\n",
       "      <td>1</td>\n",
       "      <td>N</td>\n",
       "      <td>Y</td>\n",
       "      <td>Good</td>\n",
       "      <td>I am not sure I don't know if it is the tablet...</td>\n",
       "      <td>2015-08-31</td>\n",
       "      <td>1</td>\n",
       "    </tr>\n",
       "    <tr>\n",
       "      <th>8</th>\n",
       "      <td>US</td>\n",
       "      <td>50728290</td>\n",
       "      <td>R23AICGEDAJQL1</td>\n",
       "      <td>B0098Y77OG</td>\n",
       "      <td>177098042</td>\n",
       "      <td>Acer</td>\n",
       "      <td>PC</td>\n",
       "      <td>1</td>\n",
       "      <td>0</td>\n",
       "      <td>0</td>\n",
       "      <td>N</td>\n",
       "      <td>Y</td>\n",
       "      <td>You get what you pay for</td>\n",
       "      <td>After exactly 45 days, the screen went dark. P...</td>\n",
       "      <td>2015-08-31</td>\n",
       "      <td>0</td>\n",
       "    </tr>\n",
       "    <tr>\n",
       "      <th>9</th>\n",
       "      <td>US</td>\n",
       "      <td>37802374</td>\n",
       "      <td>R2EY3N4K9W19UP</td>\n",
       "      <td>B00IFYEYXC</td>\n",
       "      <td>602496520</td>\n",
       "      <td>AzureWave Broadcom BCM94352HMB 802.11/ac/867Mb...</td>\n",
       "      <td>PC</td>\n",
       "      <td>5</td>\n",
       "      <td>3</td>\n",
       "      <td>4</td>\n",
       "      <td>N</td>\n",
       "      <td>Y</td>\n",
       "      <td>Great for Windows 7 Laptop!</td>\n",
       "      <td>Replaced my Intel Centrino 2230 with the BCM94...</td>\n",
       "      <td>2015-08-31</td>\n",
       "      <td>1</td>\n",
       "    </tr>\n",
       "  </tbody>\n",
       "</table>\n",
       "</div>"
      ],
      "text/plain": [
       "  marketplace  customer_id       review_id  product_id  product_parent  \\\n",
       "0          US     22873041  R3ARRMDEGED8RD  B00KJWQIIC       335625766   \n",
       "1          US     30088427   RQ28TSA020Y6J  B013ALA9LA       671157305   \n",
       "2          US     20329786   RUXJRZCT6953M  B00PML2GQ8       982036237   \n",
       "3          US     14215710   R7EO0UO6BPB71  B001NS0OZ4       576587596   \n",
       "4          US     38264512  R39NJY2YJ1JFSV  B00AQMTND2       964759214   \n",
       "5          US     30548466  R31SR7REWNX7CF  B00KX4TORI       170101802   \n",
       "6          US       589298   RVBP8I1R0CTZ8  B00P17WEMY       206124740   \n",
       "7          US     49329488  R1QF6RS1PDLU18  B00TR05L9Y       778403103   \n",
       "8          US     50728290  R23AICGEDAJQL1  B0098Y77OG       177098042   \n",
       "9          US     37802374  R2EY3N4K9W19UP  B00IFYEYXC       602496520   \n",
       "\n",
       "                                       product_title product_category  \\\n",
       "0  Plemo 14-Inch Laptop Sleeve Case Waterproof Fa...               PC   \n",
       "1         TP-Link OnHub AC1900 Wireless Wi-Fi Router               PC   \n",
       "2  AmazonBasics USB 3.0 A Male to A Male Cable - ...               PC   \n",
       "3  Transcend P8 15-in-1 USB 2.0 Flash Memory Card...               PC   \n",
       "4  Aleratec SATA Data Cable 2.0 20in Serial ATA S...               PC   \n",
       "5  Kingston Digital MobileLite G4 USB 3.0 Multi-F...               PC   \n",
       "6  White 9 Inch Unlocked Dual Sim Card Phone Tabl...               PC   \n",
       "7  Lenovo TAB2 A10 - 10.1\" 2-in-1 Tablet (1.5Ghz,...               PC   \n",
       "8                                               Acer               PC   \n",
       "9  AzureWave Broadcom BCM94352HMB 802.11/ac/867Mb...               PC   \n",
       "\n",
       "   star_rating  helpful_votes  total_votes vine verified_purchase  \\\n",
       "0            5              0            0    N                 Y   \n",
       "1            5             24           31    N                 N   \n",
       "2            1              2            2    N                 N   \n",
       "3            1              0            0    N                 Y   \n",
       "4            5              0            0    N                 Y   \n",
       "5            5              0            0    N                 Y   \n",
       "6            3              1            2    N                 Y   \n",
       "7            4              1            1    N                 Y   \n",
       "8            1              0            0    N                 Y   \n",
       "9            5              3            4    N                 Y   \n",
       "\n",
       "                                     review_headline  \\\n",
       "0                               Pleasantly surprised   \n",
       "1  OnHub is a pretty no nonsense type router that...   \n",
       "2     None of them worked.  No functionality at all.   \n",
       "3                               just keep searching.   \n",
       "4                                         Five Stars   \n",
       "5               Good quality, works well and compact   \n",
       "6        in fact this is third China good. Demn s***   \n",
       "7                                               Good   \n",
       "8                           You get what you pay for   \n",
       "9                        Great for Windows 7 Laptop!   \n",
       "\n",
       "                                         review_body review_date  sentiment  \n",
       "0  I was very surprised at the high quality of th...  2015-08-31          1  \n",
       "1  I am a Google employee and had to chance to us...  2015-08-31          1  \n",
       "2  Bought cables in 3ft, 6ft and 9ft.  NONE of th...  2015-08-31          0  \n",
       "3                               nope, cheap and slow  2015-08-31          0  \n",
       "4           Excellent! Great value and does the job.  2015-08-31          1  \n",
       "5           Good quality,works well and compact size  2015-08-31          1  \n",
       "6  This demn tablet is just a Real Chinese produc...  2015-08-31          0  \n",
       "7  I am not sure I don't know if it is the tablet...  2015-08-31          1  \n",
       "8  After exactly 45 days, the screen went dark. P...  2015-08-31          0  \n",
       "9  Replaced my Intel Centrino 2230 with the BCM94...  2015-08-31          1  "
      ]
     },
     "execution_count": 4,
     "metadata": {},
     "output_type": "execute_result"
    }
   ],
   "source": [
    "import kagglehub\n",
    "\n",
    "# Download latest version\n",
    "FILE_PATH = kagglehub.dataset_download(\"machharavikiran/amazon-reviews\")\n",
    "\n",
    "print(\"Path to dataset files:\", FILE_PATH)\n",
    "\n",
    "df_reviews = FileManager.open_csv_file(FILE_PATH)\n",
    "df_reviews.limit(10).toPandas()"
   ]
  },
  {
   "cell_type": "markdown",
   "id": "1a274bf8",
   "metadata": {},
   "source": [
    "## 1.2) Caracterización de la población\n",
    "---"
   ]
  },
  {
   "cell_type": "markdown",
   "id": "8532ad69",
   "metadata": {},
   "source": [
    "La caracterización de la población constituye una etapa crítica en todo proceso de análisis basado en muestreo. Su objetivo es identificar las propiedades generales de la población objetivo (`𝑃`) mediante un conjunto de variables que capturen diferencias y similitudes significativas entre los registros, y que sirvan como base para diseñar una estrategia de particionamiento representativa, libre de sesgos y alineada con los objetivos analíticos del proyecto.\n",
    "\n",
    "Para ello, se seleccionaron variables con alto poder explicativo, dominio discretizable, baja proporción de valores nulos y relevancia directa en el contexto del análisis de sentimientos. Esta selección permite generar particiones homogéneas y comparables, facilitar la interpretación de resultados y detectar patrones comportamentales relevantes."
   ]
  },
  {
   "cell_type": "code",
   "execution_count": 5,
   "id": "de7bd956",
   "metadata": {},
   "outputs": [
    {
     "name": "stdout",
     "output_type": "stream",
     "text": [
      "root\n",
      " |-- marketplace: string (nullable = true)\n",
      " |-- customer_id: integer (nullable = true)\n",
      " |-- review_id: string (nullable = true)\n",
      " |-- product_id: string (nullable = true)\n",
      " |-- product_parent: integer (nullable = true)\n",
      " |-- product_title: string (nullable = true)\n",
      " |-- product_category: string (nullable = true)\n",
      " |-- star_rating: integer (nullable = true)\n",
      " |-- helpful_votes: integer (nullable = true)\n",
      " |-- total_votes: integer (nullable = true)\n",
      " |-- vine: string (nullable = true)\n",
      " |-- verified_purchase: string (nullable = true)\n",
      " |-- review_headline: string (nullable = true)\n",
      " |-- review_body: string (nullable = true)\n",
      " |-- review_date: date (nullable = true)\n",
      " |-- sentiment: integer (nullable = true)\n",
      "\n"
     ]
    }
   ],
   "source": [
    "# Descripción general de columnas del DataFrame\n",
    "df_reviews.printSchema()"
   ]
  },
  {
   "cell_type": "markdown",
   "id": "5ebe3eb8",
   "metadata": {},
   "source": [
    "En primero instancia, se descartaron aquellas variables que, por su naturaleza, no aportaban valor analítico en esta etapa o introducían alta cardinalidad innecesaria:\n",
    "\n",
    "* Identificadores únicos como customer_id, review_id, product_id, product_parent, y product_title actúan como claves o agrupadores, pero no representan comportamientos colectivos.\n",
    "* Variables constantes como marketplace y product_category no ofrecen variabilidad interna, al contener un único valor en todo el dataset.\n",
    "* Campos textuales como review_headline y review_body, aunque esenciales para el análisis de sentimiento, presentan cardinalidad extremadamente alta y no son adecuados para la segmentación estadística inicial.\n",
    "\n",
    "Por otro lado, las siguientes variables han sido identificadas como relevantes para caracterizar los patrones de comportamiento en las reseñas de Amazon:\n",
    "\n",
    "| **Variable**           | **Tipo / Dominio** | **Justificación**                                                                    |\n",
    "| ---------------------- | ------------------ | ------------------------------------------------------------------------------------ |\n",
    "| **star_rating**       | {1, 2, 3, 4, 5}    | Indicador directo de satisfacción; presenta sesgo positivo característico.           |\n",
    "| **helpful_votes**     | Enteros ≥ 0        | Mide el impacto social de una reseña; distribución long-tail significativa.          |\n",
    "| **total_votes**       | Enteros ≥ 0        | Complementa `helpful_votes`; permite calcular ratios de utilidad percibida.          |\n",
    "| **sentiment**          | {0, 1}             | Variable objetivo del proyecto; correlacionada con `star_rating`.                    |\n",
    "| **verified_purchase** | {'Y', 'N'}         | Refleja la autenticidad de la reseña; mayor credibilidad en valores 'Y'.             |\n",
    "| **vine**               | {'Y', 'N'}         | Distingue reseñas orgánicas de aquellas incentivadas (programa Vine de Amazon).      |\n",
    "| **review_date**       | Fechas (1999–2015) | Permite detectar estacionalidades y cambios de comportamiento a lo largo del tiempo. |\n",
    "\n",
    "Cada una de estas variables aporta una dimensión única al análisis, ya sea desde una perspectiva temporal, de credibilidad, de popularidad o de valoración explícita del producto."
   ]
  },
  {
   "cell_type": "code",
   "execution_count": 6,
   "id": "84c094ce",
   "metadata": {},
   "outputs": [
    {
     "name": "stdout",
     "output_type": "stream",
     "text": [
      "\n",
      "Distribución para columna: star_rating\n"
     ]
    },
    {
     "name": "stderr",
     "output_type": "stream",
     "text": [
      "                                                                                \r"
     ]
    },
    {
     "name": "stdout",
     "output_type": "stream",
     "text": [
      "+-----------+-------+\n",
      "|star_rating|count  |\n",
      "+-----------+-------+\n",
      "|5          |4105687|\n",
      "|4          |1168208|\n",
      "|1          |756857 |\n",
      "|3          |513656 |\n",
      "|2          |362156 |\n",
      "+-----------+-------+\n",
      "\n",
      "\n",
      "Distribución para columna: helpful_votes\n"
     ]
    },
    {
     "name": "stderr",
     "output_type": "stream",
     "text": [
      "                                                                                \r"
     ]
    },
    {
     "name": "stdout",
     "output_type": "stream",
     "text": [
      "+-------------+-------+\n",
      "|helpful_votes|count  |\n",
      "+-------------+-------+\n",
      "|0            |5018293|\n",
      "|1            |935789 |\n",
      "|2            |331921 |\n",
      "|3            |171794 |\n",
      "|4            |100548 |\n",
      "|5            |66264  |\n",
      "|6            |46064  |\n",
      "|7            |34218  |\n",
      "|8            |25910  |\n",
      "|9            |20432  |\n",
      "|10           |16558  |\n",
      "|11           |13437  |\n",
      "|12           |11310  |\n",
      "|13           |9539   |\n",
      "|14           |8257   |\n",
      "|15           |7078   |\n",
      "|16           |6313   |\n",
      "|17           |5520   |\n",
      "|18           |4772   |\n",
      "|19           |4277   |\n",
      "+-------------+-------+\n",
      "only showing top 20 rows\n",
      "\n",
      "\n",
      "Distribución para columna: total_votes\n"
     ]
    },
    {
     "name": "stderr",
     "output_type": "stream",
     "text": [
      "                                                                                \r"
     ]
    },
    {
     "name": "stdout",
     "output_type": "stream",
     "text": [
      "+-----------+-------+\n",
      "|total_votes|count  |\n",
      "+-----------+-------+\n",
      "|0          |4546914|\n",
      "|1          |1041522|\n",
      "|2          |433014 |\n",
      "|3          |228941 |\n",
      "|4          |144506 |\n",
      "|5          |95190  |\n",
      "|6          |66824  |\n",
      "|7          |51093  |\n",
      "|8          |39390  |\n",
      "|9          |30263  |\n",
      "|10         |25452  |\n",
      "|11         |20218  |\n",
      "|12         |17324  |\n",
      "|13         |14700  |\n",
      "|14         |12613  |\n",
      "|15         |10742  |\n",
      "|16         |9636   |\n",
      "|17         |8308   |\n",
      "|18         |7367   |\n",
      "|19         |6410   |\n",
      "+-----------+-------+\n",
      "only showing top 20 rows\n",
      "\n",
      "\n",
      "Distribución para columna: sentiment\n"
     ]
    },
    {
     "name": "stderr",
     "output_type": "stream",
     "text": [
      "                                                                                \r"
     ]
    },
    {
     "name": "stdout",
     "output_type": "stream",
     "text": [
      "+---------+-------+\n",
      "|sentiment|count  |\n",
      "+---------+-------+\n",
      "|1        |5273895|\n",
      "|0        |1632669|\n",
      "+---------+-------+\n",
      "\n",
      "\n",
      "Distribución para columna: verified_purchase\n"
     ]
    },
    {
     "name": "stderr",
     "output_type": "stream",
     "text": [
      "                                                                                \r"
     ]
    },
    {
     "name": "stdout",
     "output_type": "stream",
     "text": [
      "+-----------------+-------+\n",
      "|verified_purchase|count  |\n",
      "+-----------------+-------+\n",
      "|Y                |6047075|\n",
      "|N                |859489 |\n",
      "+-----------------+-------+\n",
      "\n",
      "\n",
      "Distribución para columna: vine\n"
     ]
    },
    {
     "name": "stderr",
     "output_type": "stream",
     "text": [
      "                                                                                \r"
     ]
    },
    {
     "name": "stdout",
     "output_type": "stream",
     "text": [
      "+----+-------+\n",
      "|vine|count  |\n",
      "+----+-------+\n",
      "|N   |6870336|\n",
      "|Y   |36228  |\n",
      "+----+-------+\n",
      "\n",
      "\n",
      "Distribución para columna: review_date\n"
     ]
    },
    {
     "name": "stderr",
     "output_type": "stream",
     "text": [
      "[Stage 21:>                                                         (0 + 1) / 1]\r"
     ]
    },
    {
     "name": "stdout",
     "output_type": "stream",
     "text": [
      "+-----------+-----+\n",
      "|review_date|count|\n",
      "+-----------+-----+\n",
      "|2015-01-05 |16067|\n",
      "|2015-01-04 |15720|\n",
      "|2015-01-03 |13931|\n",
      "|2015-01-07 |13375|\n",
      "|2014-12-29 |12523|\n",
      "|2015-01-09 |12071|\n",
      "|2014-12-31 |11744|\n",
      "|2015-02-23 |11334|\n",
      "|2015-01-06 |11056|\n",
      "|2015-01-12 |11050|\n",
      "|2015-01-01 |10931|\n",
      "|2014-01-03 |10849|\n",
      "|2015-02-18 |10828|\n",
      "|2015-01-13 |10828|\n",
      "|2015-01-14 |10517|\n",
      "|2015-06-03 |10513|\n",
      "|2015-01-20 |10482|\n",
      "|2015-02-24 |10389|\n",
      "|2015-02-04 |10383|\n",
      "|2015-02-17 |10319|\n",
      "+-----------+-----+\n",
      "only showing top 20 rows\n",
      "\n"
     ]
    },
    {
     "name": "stderr",
     "output_type": "stream",
     "text": [
      "                                                                                \r"
     ]
    }
   ],
   "source": [
    "# Conteo de valores únicos por columna de interés\n",
    "columns_to_explore = [\"star_rating\", \"helpful_votes\", \"total_votes\", \n",
    "                      \"sentiment\", \"verified_purchase\", \"vine\", \"review_date\"]\n",
    "\n",
    "for col_name in columns_to_explore:\n",
    "    print(f\"\\nDistribución para columna: {col_name}\")\n",
    "    df_reviews.groupBy(col_name).count().orderBy(F.desc(\"count\")).show(truncate=False)"
   ]
  },
  {
   "cell_type": "markdown",
   "id": "5155c0f7",
   "metadata": {},
   "source": [
    "Para el diseño de la muestra estratificada y la construcción de particiones `𝑀𝑖`, se eligió un subconjunto de tres variables categóricas: `star_rating`, `verified_purchase` y `vine`. Esta decisión se fundamenta en los siguientes criterios:\n",
    "\n",
    "* **Relevancia analítica directa**:\n",
    "    * star_rating refleja la evaluación explícita del usuario, estrechamente vinculada con el sentimiento.\n",
    "    * verified_purchase permite distinguir reseñas de compradores auténticos, clave para evitar sesgos.\n",
    "    * vine identifica reseñas incentivadas, útiles para analizar diferencias en el tono o contenido.\n",
    "\n",
    "* **Viabilidad práctica**:\n",
    "    * Incluir todas las variables conduciría a una explosión combinatoria de particiones con escasa representatividad en algunas celdas. El uso de estas tres variables permite mantener interpretabilidad sin perder granularidad analítica.\n",
    "\n",
    "\n",
    "Esta caracterización fue esencial para garantizar que los modelos entrenados fueran evaluados sobre segmentos de la población con comportamiento representativo y coherente, evitando conclusiones sesgadas o limitadas a subconjuntos no generalizables.\n"
   ]
  },
  {
   "cell_type": "code",
   "execution_count": 7,
   "id": "e36065c3",
   "metadata": {},
   "outputs": [
    {
     "name": "stderr",
     "output_type": "stream",
     "text": [
      "[Stage 24:>                                                         (0 + 1) / 1]\r"
     ]
    },
    {
     "name": "stdout",
     "output_type": "stream",
     "text": [
      "+-------+-----------------+------------------+------------------+\n",
      "|summary|      star_rating|     helpful_votes|       total_votes|\n",
      "+-------+-----------------+------------------+------------------+\n",
      "|  count|          6906564|           6906564|           6906564|\n",
      "|   mean|4.086460937739808|1.4844511684826203|1.9620770907212328|\n",
      "| stddev|1.362854001234071| 41.49142556564166| 43.07079218821245|\n",
      "|    min|                1|                 0|                 0|\n",
      "|    25%|                4|                 0|                 0|\n",
      "|    50%|                5|                 0|                 0|\n",
      "|    75%|                5|                 1|                 1|\n",
      "|    max|                5|             47524|             48362|\n",
      "+-------+-----------------+------------------+------------------+\n",
      "\n"
     ]
    },
    {
     "name": "stderr",
     "output_type": "stream",
     "text": [
      "                                                                                \r"
     ]
    }
   ],
   "source": [
    "# Estadísticas descriptivas para columnas numéricas\n",
    "df_reviews.select(\"star_rating\", \"helpful_votes\", \"total_votes\").summary().show()"
   ]
  },
  {
   "cell_type": "markdown",
   "id": "22701485",
   "metadata": {},
   "source": [
    "Los resultados estadísticos muestran una clara concentración de reseñas con calificaciones altas. La mediana de `star_rating` es 5, lo que indica una fuerte tendencia positiva en la percepción de los productos. Tanto `helpful_votes` como `total_votes` presentan una distribución fuertemente asimétrica (sesgo a la derecha), con valores medios bajos pero máximos extremadamente altos. Esto sugiere que la mayoría de las reseñas tienen poca interacción, mientras que un pequeño número recibe una gran cantidad de atención por parte de la comunidad. Estos patrones refuerzan la importancia de considerar técnicas de muestreo que garanticen la representatividad de todos los segmentos, incluyendo casos minoritarios pero influyentes."
   ]
  },
  {
   "cell_type": "markdown",
   "id": "0862e765",
   "metadata": {},
   "source": [
    "## 1.3) Construcción de una muestra representativa (M) y particiones Mi\n",
    "---"
   ]
  },
  {
   "cell_type": "markdown",
   "id": "fa2e9400",
   "metadata": {},
   "source": [
    "Una vez caracterizada la población, se procedió a la construcción de una muestra representativa denominada `𝑀`, con el propósito de reducir la escala del conjunto de datos original sin perder su riqueza estructural ni comprometer la validez estadística de los análisis posteriores. Esta etapa es especialmente relevante en entornos de Big Data, donde el volumen de información puede superar la capacidad operativa de los sistemas y dificultar tanto el entrenamiento de modelos como la evaluación exploratoria detallada."
   ]
  },
  {
   "cell_type": "markdown",
   "id": "044d45bb",
   "metadata": {},
   "source": [
    "### 1.3.1) Analizar la Distribución de las Variables Categóricas"
   ]
  },
  {
   "cell_type": "code",
   "execution_count": 8,
   "id": "fc2308c2",
   "metadata": {},
   "outputs": [
    {
     "name": "stdout",
     "output_type": "stream",
     "text": [
      "--- Análisis de la Distribución de la Población (df_reviews) ---\n"
     ]
    },
    {
     "name": "stderr",
     "output_type": "stream",
     "text": [
      "                                                                                \r"
     ]
    },
    {
     "name": "stdout",
     "output_type": "stream",
     "text": [
      "\n",
      "Distribución de las combinaciones en la población:\n"
     ]
    },
    {
     "name": "stderr",
     "output_type": "stream",
     "text": [
      "                                                                                \r"
     ]
    },
    {
     "data": {
      "text/html": [
       "<div>\n",
       "<style scoped>\n",
       "    .dataframe tbody tr th:only-of-type {\n",
       "        vertical-align: middle;\n",
       "    }\n",
       "\n",
       "    .dataframe tbody tr th {\n",
       "        vertical-align: top;\n",
       "    }\n",
       "\n",
       "    .dataframe thead th {\n",
       "        text-align: right;\n",
       "    }\n",
       "</style>\n",
       "<table border=\"1\" class=\"dataframe\">\n",
       "  <thead>\n",
       "    <tr style=\"text-align: right;\">\n",
       "      <th></th>\n",
       "      <th>verified_purchase</th>\n",
       "      <th>vine</th>\n",
       "      <th>count</th>\n",
       "      <th>percentage</th>\n",
       "    </tr>\n",
       "  </thead>\n",
       "  <tbody>\n",
       "    <tr>\n",
       "      <th>0</th>\n",
       "      <td>N</td>\n",
       "      <td>N</td>\n",
       "      <td>823420</td>\n",
       "      <td>11.922281</td>\n",
       "    </tr>\n",
       "    <tr>\n",
       "      <th>1</th>\n",
       "      <td>N</td>\n",
       "      <td>Y</td>\n",
       "      <td>36069</td>\n",
       "      <td>0.522242</td>\n",
       "    </tr>\n",
       "    <tr>\n",
       "      <th>2</th>\n",
       "      <td>Y</td>\n",
       "      <td>N</td>\n",
       "      <td>6046916</td>\n",
       "      <td>87.553174</td>\n",
       "    </tr>\n",
       "    <tr>\n",
       "      <th>3</th>\n",
       "      <td>Y</td>\n",
       "      <td>Y</td>\n",
       "      <td>159</td>\n",
       "      <td>0.002302</td>\n",
       "    </tr>\n",
       "  </tbody>\n",
       "</table>\n",
       "</div>"
      ],
      "text/plain": [
       "  verified_purchase vine    count  percentage\n",
       "0                 N    N   823420   11.922281\n",
       "1                 N    Y    36069    0.522242\n",
       "2                 Y    N  6046916   87.553174\n",
       "3                 Y    Y      159    0.002302"
      ]
     },
     "execution_count": 8,
     "metadata": {},
     "output_type": "execute_result"
    }
   ],
   "source": [
    "categorical_cols = [\"verified_purchase\", \"vine\"]\n",
    "\n",
    "print(\"--- Análisis de la Distribución de la Población (df_reviews) ---\")\n",
    "\n",
    "# Contar las ocurrencias de cada combinación de las variables categóricas\n",
    "population_distribution = df_reviews.groupBy(categorical_cols).count()\n",
    "population_distribution = population_distribution.withColumn(\n",
    "    \"percentage\", (F.col(\"count\") / df_reviews.count()) * 100\n",
    ").orderBy(categorical_cols)\n",
    "\n",
    "print(\"\\nDistribución de las combinaciones en la población:\")\n",
    "population_distribution.toPandas()"
   ]
  },
  {
   "cell_type": "markdown",
   "id": "abfe64b1",
   "metadata": {},
   "source": [
    "En esta etapa del proceso, se realiza un análisis exploratorio de la distribución de la población original (`df_reviews`) con base en dos variables categóricas seleccionadas: `verified_purchase` y `vine`. En esta ocasión se decidió excluir la variable `star_rating` del conjunto de variables de caracterización. Esta decisión responde a un hallazgo clave derivado del análisis supervisado anterior, donde se identificó que `star_rating` guarda una correlación directa y significativa con la variable objetivo `sentiment`, lo cual podría introducir un sesgo indeseado en la construcción de la muestra representativa. Mantener únicamente variables neutras y no directamente relacionadas con la etiqueta de salida garantiza una segmentación más imparcial y metodológicamente sólida.\n",
    "\n",
    "El análisis de distribución revela que la gran mayoría de las observaciones corresponde a reseñas verificadas (`verified_purchase = Y`) y no asociadas al programa Vine (`vine = N`), representando aproximadamente el 87.55% del total. Otras combinaciones, como reseñas no verificadas (`verified_purchase = N`) o aquellas marcadas como parte del programa Vine (`vine = Y`), conforman proporciones mucho menores. Este paso es fundamental ya que permite identificar las proporciones reales de cada estrato dentro de la población y constituye la base para una posterior selección muestral proporcional, asegurando que la muestra `𝑀` sea verdaderamente representativa de la población `𝑃`."
   ]
  },
  {
   "cell_type": "markdown",
   "id": "8d1f8e98",
   "metadata": {},
   "source": [
    "### 1.3.2) Determinar el Tamaño de la Muestra (M)"
   ]
  },
  {
   "cell_type": "code",
   "execution_count": 9,
   "id": "39413582",
   "metadata": {},
   "outputs": [
    {
     "name": "stderr",
     "output_type": "stream",
     "text": [
      "[Stage 38:>                                                         (0 + 1) / 1]\r"
     ]
    },
    {
     "name": "stdout",
     "output_type": "stream",
     "text": [
      "Total de registros en la población: 6906564\n",
      "Tamaño de la muestra deseado (aprox. 10.0%): 690656\n"
     ]
    },
    {
     "name": "stderr",
     "output_type": "stream",
     "text": [
      "                                                                                \r"
     ]
    }
   ],
   "source": [
    "# Vamos a definir un tamaño de muestra. Para este ejemplo, usemos el 10% del total de registros.\n",
    "sample_fraction = 0.1\n",
    "total_population_count = df_reviews.count()\n",
    "sample_size = int(total_population_count * sample_fraction)\n",
    "\n",
    "print(f\"Total de registros en la población: {total_population_count}\")\n",
    "print(f\"Tamaño de la muestra deseado (aprox. {sample_fraction*100}%): {sample_size}\")"
   ]
  },
  {
   "cell_type": "markdown",
   "id": "90767488",
   "metadata": {},
   "source": [
    "En esta segunda etapa se define el tamaño de la muestra `𝑀` que será extraída de la población `𝑃`, con el propósito de construir un subconjunto representativo que preserve la estructura y diversidad de los datos originales. Para este fin, se estableció un valor de muestreo equivalente al **10% del total de registros disponibles**. Esta proporción fue seleccionada con base en criterios metodológicos y computacionales, considerando tanto la escala del conjunto de datos como los objetivos del análisis posterior.\n",
    "\n",
    "Desde el punto de vista estadístico, una fracción del 10% resulta suficiente para capturar patrones relevantes y garantizar una adecuada representación de las combinaciones categóricas identificadas previamente, incluso en escenarios donde algunos estratos presentan baja frecuencia relativa. Además, esta decisión permite mantener un equilibrio adecuado entre la fidelidad de la muestra y la eficiencia computacional, particularmente importante en contextos de Big Data donde el volumen de información puede impactar significativamente el rendimiento de las operaciones.\n",
    "\n",
    "Al delimitar explícitamente el tamaño de la muestra, se establece un marco cuantitativo claro que orienta la distribución proporcional de las instancias en cada segmento, evitando sesgos y distorsiones en las etapas siguientes del análisis."
   ]
  },
  {
   "cell_type": "markdown",
   "id": "8f5e4f20",
   "metadata": {},
   "source": [
    "### 1.3.3) Calcular el Número de Instancias por Partición (Mi)"
   ]
  },
  {
   "cell_type": "code",
   "execution_count": 10,
   "id": "5c94d7f4",
   "metadata": {},
   "outputs": [
    {
     "name": "stdout",
     "output_type": "stream",
     "text": [
      "--- Distribución Deseada de la Muestra y Conteo por Partición ---\n"
     ]
    },
    {
     "name": "stderr",
     "output_type": "stream",
     "text": [
      "                                                                                \r"
     ]
    },
    {
     "data": {
      "text/plain": [
       "{('N', 'N'): 82342.0,\n",
       " ('N', 'Y'): 3607.0,\n",
       " ('Y', 'N'): 604691.0,\n",
       " ('Y', 'Y'): 16.0}"
      ]
     },
     "execution_count": 10,
     "metadata": {},
     "output_type": "execute_result"
    }
   ],
   "source": [
    "# Calcular el número de instancias para cada combinación en la muestra\n",
    "print(\"--- Distribución Deseada de la Muestra y Conteo por Partición ---\")\n",
    "\n",
    "sample_distribution = population_distribution.withColumn(\n",
    "    \"sample_count\", F.round(F.col(\"percentage\") * sample_size / 100)\n",
    ")\n",
    "sample_distribution.toPandas() # Muestra el conteo deseado para cada partición en la muestra\n",
    "\n",
    "# Convertir a un diccionario para facilitar la selección de la muestra estratificada\n",
    "sample_counts_dict = {\n",
    "    tuple(row[col] for col in categorical_cols): row[\"sample_count\"]\n",
    "    for row in sample_distribution.collect()\n",
    "}\n",
    "sample_counts_dict"
   ]
  },
  {
   "cell_type": "markdown",
   "id": "cfecead0",
   "metadata": {},
   "source": [
    "Se procede a determinar la distribución deseada de la muestra representativa `𝑀`, en función de las proporciones previamente observadas en la población `𝑃` respecto a las variables categóricas seleccionadas: `verified_purchase` y `vine`. Para ello, se calcula la cantidad de instancias que cada combinación posible de estas variables deberá contener dentro de la muestra, con base en su porcentaje de representación original y el tamaño total previamente definido para `𝑀` (10% del total poblacional).\n",
    "\n",
    "Este procedimiento tiene como objetivo preservar la estructura interna de la población, garantizando que la muestra conserve de manera proporcional la diversidad y distribución de los distintos perfiles existentes en los datos. En otras palabras, se busca construir una muestra estratificada que refleje fielmente la composición original de los datos en términos de las variables de caracterización elegidas.\n",
    "\n",
    "Los resultados obtenidos muestran que la combinación más frecuente es `('Y', 'N')`, correspondiente a registros de usuarios que realizaron una compra verificada y que no pertenecen al programa Vine, con una representación esperada de aproximadamente 604,691 registros dentro de la muestra. Le siguen `('N', 'N')` con 82,342 registros, `('N', 'Y')` con 3,607, y `('Y', 'Y')` con solo 16 registros. Esta distribución, aunque desigual, es consistente con la frecuencia real de ocurrencia en la población y será la base para extraer de forma estratificada los registros que compondrán la muestra final `𝑀`.\n",
    "\n",
    "Este paso es esencial para asegurar que las particiones `𝑀𝑖`, construidas posteriormente a partir de `𝑀`, sean equilibradas, realistas y libres de sesgos de representación, lo que a su vez fortalece la validez estadística de cualquier análisis futuro derivado del conjunto muestral."
   ]
  },
  {
   "cell_type": "markdown",
   "id": "a943b398",
   "metadata": {},
   "source": [
    "### 1.3.4) Generar la Muestra (M) de forma estratificada"
   ]
  },
  {
   "cell_type": "code",
   "execution_count": 11,
   "id": "ec531515",
   "metadata": {},
   "outputs": [
    {
     "name": "stdout",
     "output_type": "stream",
     "text": [
      "--- Generando la Muestra (M) de forma Estratificada ---\n"
     ]
    },
    {
     "name": "stderr",
     "output_type": "stream",
     "text": [
      "                                                                                \r"
     ]
    },
    {
     "name": "stdout",
     "output_type": "stream",
     "text": [
      "Número de registros en la muestra final (M): 691829\n",
      "Muestra (M) generada. Mostrando las primeras 5 filas:\n"
     ]
    },
    {
     "name": "stderr",
     "output_type": "stream",
     "text": [
      "                                                                                \r"
     ]
    },
    {
     "data": {
      "text/html": [
       "<div>\n",
       "<style scoped>\n",
       "    .dataframe tbody tr th:only-of-type {\n",
       "        vertical-align: middle;\n",
       "    }\n",
       "\n",
       "    .dataframe tbody tr th {\n",
       "        vertical-align: top;\n",
       "    }\n",
       "\n",
       "    .dataframe thead th {\n",
       "        text-align: right;\n",
       "    }\n",
       "</style>\n",
       "<table border=\"1\" class=\"dataframe\">\n",
       "  <thead>\n",
       "    <tr style=\"text-align: right;\">\n",
       "      <th></th>\n",
       "      <th>marketplace</th>\n",
       "      <th>customer_id</th>\n",
       "      <th>review_id</th>\n",
       "      <th>product_id</th>\n",
       "      <th>product_parent</th>\n",
       "      <th>product_title</th>\n",
       "      <th>product_category</th>\n",
       "      <th>star_rating</th>\n",
       "      <th>helpful_votes</th>\n",
       "      <th>total_votes</th>\n",
       "      <th>vine</th>\n",
       "      <th>verified_purchase</th>\n",
       "      <th>review_headline</th>\n",
       "      <th>review_body</th>\n",
       "      <th>review_date</th>\n",
       "      <th>sentiment</th>\n",
       "    </tr>\n",
       "  </thead>\n",
       "  <tbody>\n",
       "    <tr>\n",
       "      <th>0</th>\n",
       "      <td>US</td>\n",
       "      <td>112405</td>\n",
       "      <td>RKP98DQX0VTFZ</td>\n",
       "      <td>B00T91YABQ</td>\n",
       "      <td>541159143</td>\n",
       "      <td>Polare Thick Full Grain Leather Shoulder Brief...</td>\n",
       "      <td>PC</td>\n",
       "      <td>5</td>\n",
       "      <td>1</td>\n",
       "      <td>3</td>\n",
       "      <td>N</td>\n",
       "      <td>N</td>\n",
       "      <td>Awesome Bag!</td>\n",
       "      <td>I bought this bag looking for a briefcase that...</td>\n",
       "      <td>2015-08-31</td>\n",
       "      <td>1</td>\n",
       "    </tr>\n",
       "    <tr>\n",
       "      <th>1</th>\n",
       "      <td>US</td>\n",
       "      <td>46558847</td>\n",
       "      <td>R3MSK0V0TDL01L</td>\n",
       "      <td>B00TKFDFW6</td>\n",
       "      <td>701421383</td>\n",
       "      <td>CybertronPC SOKOM-I Gaming Desktop - AMD FX-63...</td>\n",
       "      <td>PC</td>\n",
       "      <td>5</td>\n",
       "      <td>1</td>\n",
       "      <td>1</td>\n",
       "      <td>N</td>\n",
       "      <td>N</td>\n",
       "      <td>It's a Monster Machine</td>\n",
       "      <td>I bought a slightly modified version of this C...</td>\n",
       "      <td>2015-08-31</td>\n",
       "      <td>1</td>\n",
       "    </tr>\n",
       "    <tr>\n",
       "      <th>2</th>\n",
       "      <td>US</td>\n",
       "      <td>19852854</td>\n",
       "      <td>RM6KESMRIY1UQ</td>\n",
       "      <td>B00746W9F2</td>\n",
       "      <td>41875278</td>\n",
       "      <td>Apple iPad mini</td>\n",
       "      <td>PC</td>\n",
       "      <td>5</td>\n",
       "      <td>0</td>\n",
       "      <td>0</td>\n",
       "      <td>N</td>\n",
       "      <td>N</td>\n",
       "      <td>Five Stars</td>\n",
       "      <td>very good price!</td>\n",
       "      <td>2015-08-31</td>\n",
       "      <td>1</td>\n",
       "    </tr>\n",
       "    <tr>\n",
       "      <th>3</th>\n",
       "      <td>US</td>\n",
       "      <td>13443121</td>\n",
       "      <td>R2A948UZQGFZHO</td>\n",
       "      <td>B00KQE99C0</td>\n",
       "      <td>348236562</td>\n",
       "      <td>Standing Protective Case for Fire HD 7 (4th Ge...</td>\n",
       "      <td>PC</td>\n",
       "      <td>5</td>\n",
       "      <td>0</td>\n",
       "      <td>0</td>\n",
       "      <td>N</td>\n",
       "      <td>N</td>\n",
       "      <td>Five Stars</td>\n",
       "      <td>Love it, it protects the screen and I love the...</td>\n",
       "      <td>2015-08-31</td>\n",
       "      <td>1</td>\n",
       "    </tr>\n",
       "    <tr>\n",
       "      <th>4</th>\n",
       "      <td>US</td>\n",
       "      <td>107911</td>\n",
       "      <td>RS1QTAUB8FJI0</td>\n",
       "      <td>B00JQZJ75E</td>\n",
       "      <td>937857628</td>\n",
       "      <td>iXCC Silicon Case Cover for Apple iPad Mini</td>\n",
       "      <td>PC</td>\n",
       "      <td>5</td>\n",
       "      <td>0</td>\n",
       "      <td>0</td>\n",
       "      <td>N</td>\n",
       "      <td>N</td>\n",
       "      <td>5 stars</td>\n",
       "      <td>Nice case for the money. It is comfortable to ...</td>\n",
       "      <td>2015-08-31</td>\n",
       "      <td>1</td>\n",
       "    </tr>\n",
       "  </tbody>\n",
       "</table>\n",
       "</div>"
      ],
      "text/plain": [
       "  marketplace  customer_id       review_id  product_id  product_parent  \\\n",
       "0          US       112405   RKP98DQX0VTFZ  B00T91YABQ       541159143   \n",
       "1          US     46558847  R3MSK0V0TDL01L  B00TKFDFW6       701421383   \n",
       "2          US     19852854   RM6KESMRIY1UQ  B00746W9F2        41875278   \n",
       "3          US     13443121  R2A948UZQGFZHO  B00KQE99C0       348236562   \n",
       "4          US       107911   RS1QTAUB8FJI0  B00JQZJ75E       937857628   \n",
       "\n",
       "                                       product_title product_category  \\\n",
       "0  Polare Thick Full Grain Leather Shoulder Brief...               PC   \n",
       "1  CybertronPC SOKOM-I Gaming Desktop - AMD FX-63...               PC   \n",
       "2                                    Apple iPad mini               PC   \n",
       "3  Standing Protective Case for Fire HD 7 (4th Ge...               PC   \n",
       "4        iXCC Silicon Case Cover for Apple iPad Mini               PC   \n",
       "\n",
       "   star_rating  helpful_votes  total_votes vine verified_purchase  \\\n",
       "0            5              1            3    N                 N   \n",
       "1            5              1            1    N                 N   \n",
       "2            5              0            0    N                 N   \n",
       "3            5              0            0    N                 N   \n",
       "4            5              0            0    N                 N   \n",
       "\n",
       "          review_headline                                        review_body  \\\n",
       "0            Awesome Bag!  I bought this bag looking for a briefcase that...   \n",
       "1  It's a Monster Machine  I bought a slightly modified version of this C...   \n",
       "2              Five Stars                                   very good price!   \n",
       "3              Five Stars  Love it, it protects the screen and I love the...   \n",
       "4                 5 stars  Nice case for the money. It is comfortable to ...   \n",
       "\n",
       "  review_date  sentiment  \n",
       "0  2015-08-31          1  \n",
       "1  2015-08-31          1  \n",
       "2  2015-08-31          1  \n",
       "3  2015-08-31          1  \n",
       "4  2015-08-31          1  "
      ]
     },
     "execution_count": 11,
     "metadata": {},
     "output_type": "execute_result"
    }
   ],
   "source": [
    "# Para asegurar la representatividad, realizaremos un muestreo estratificado.\n",
    "# Esto implica muestrear cada \"estrato\" (combinación de categorías) por separado para asegurar las proporciones deseadas.\n",
    "print(\"--- Generando la Muestra (M) de forma Estratificada ---\")\n",
    "\n",
    "sample_df = spark.createDataFrame([], df_reviews.schema) # DataFrame vacío para la muestra\n",
    "\n",
    "for combo_values, count_needed in sample_counts_dict.items():\n",
    "    if count_needed > 0:\n",
    "        filter_condition = None\n",
    "        for i, col_name in enumerate(categorical_cols):\n",
    "            if filter_condition is None:\n",
    "                filter_condition = (F.col(col_name) == combo_values[i])\n",
    "            else:\n",
    "                filter_condition = filter_condition & (F.col(col_name) == combo_values[i])\n",
    "\n",
    "        # Seleccionar las filas para el estrato actual\n",
    "        stratum_df = df_reviews.filter(filter_condition)\n",
    "\n",
    "        # Si el estrato tiene menos registros de los que necesitamos, tomamos todos.\n",
    "        # Si tiene más, tomamos una muestra aleatoria del tamaño deseado.\n",
    "        current_stratum_count = stratum_df.count()\n",
    "        if current_stratum_count > 0:\n",
    "            if count_needed < current_stratum_count:\n",
    "                # Tomamos una muestra aleatoria del tamaño deseado\n",
    "                fraction = count_needed / current_stratum_count\n",
    "                sampled_stratum = stratum_df.sample(withReplacement=False, fraction=fraction, seed=42)\n",
    "            else:\n",
    "                # Si no hay suficientes registros en el estrato, tomamos todos los disponibles\n",
    "                sampled_stratum = stratum_df\n",
    "\n",
    "            # Unir al DataFrame de la muestra principal\n",
    "            sample_df = sample_df.unionAll(sampled_stratum)\n",
    "\n",
    "print(f\"Número de registros en la muestra final (M): {sample_df.count()}\")\n",
    "print(\"Muestra (M) generada. Mostrando las primeras 5 filas:\")\n",
    "sample_df.limit(5).toPandas()"
   ]
  },
  {
   "cell_type": "markdown",
   "id": "649893ba",
   "metadata": {},
   "source": [
    "En este paso se lleva a cabo la generación efectiva de la muestra `𝑀` mediante un proceso de **muestreo estratificado**. A diferencia de un muestreo aleatorio simple, el enfoque estratificado garantiza que cada subconjunto de interés (en este caso, definido por las combinaciones de las variables categóricas `verified_purchase` y `vine`) esté adecuadamente representado en la muestra final, en proporciones equivalentes a las observadas en la población `𝑃`.\n",
    "\n",
    "Para ello, se recorre cada combinación posible de valores previamente identificada y se extrae un subconjunto de registros desde el conjunto poblacional, aplicando una lógica condicional que asegura tanto la proporcionalidad deseada como la eficiencia computacional. En particular, cuando un estrato contiene más registros que los requeridos, se realiza un muestreo aleatorio sin reemplazo proporcional a su tamaño; en contraste, si el estrato es más pequeño que la cantidad esperada, se conservan todos los registros disponibles. Este tratamiento dual permite construir una muestra robusta, incluso en presencia de categorías minoritarias o desbalanceadas.\n",
    "\n",
    "El resultado final fue la obtención de una muestra `𝑀` con 691,829 registros, cifra levemente superior al valor estimado originalmente (690,656) debido a efectos de redondeo y disponibilidad real de datos en algunos estratos. Esta ligera discrepancia es aceptable dentro de un marco de análisis exploratorio y no compromete la representatividad del conjunto, ya que la preservación de las proporciones entre categorías sigue siendo el criterio rector de la construcción muestral.\n",
    "\n",
    "Como se puede apreciar, este paso sienta las bases para asegurar que cualquier inferencia posterior, basada en la muestra `𝑀` o en sus particiones `𝑀𝑖`, no esté sesgada por sobre o subrepresentación de ciertos grupos, manteniendo la integridad metodológica del estudio."
   ]
  },
  {
   "cell_type": "markdown",
   "id": "6bf18174",
   "metadata": {},
   "source": [
    "### 1.3.5) Crear las Particiones (Mi)"
   ]
  },
  {
   "cell_type": "code",
   "execution_count": 12,
   "id": "0f080ea0",
   "metadata": {},
   "outputs": [
    {
     "name": "stderr",
     "output_type": "stream",
     "text": [
      "                                                                                \r"
     ]
    },
    {
     "name": "stdout",
     "output_type": "stream",
     "text": [
      "\n",
      "Ejemplo de partición M_i (verified_purchase='Y', vine='N'): 605672 registros\n"
     ]
    },
    {
     "name": "stderr",
     "output_type": "stream",
     "text": [
      "                                                                                \r"
     ]
    },
    {
     "data": {
      "text/html": [
       "<div>\n",
       "<style scoped>\n",
       "    .dataframe tbody tr th:only-of-type {\n",
       "        vertical-align: middle;\n",
       "    }\n",
       "\n",
       "    .dataframe tbody tr th {\n",
       "        vertical-align: top;\n",
       "    }\n",
       "\n",
       "    .dataframe thead th {\n",
       "        text-align: right;\n",
       "    }\n",
       "</style>\n",
       "<table border=\"1\" class=\"dataframe\">\n",
       "  <thead>\n",
       "    <tr style=\"text-align: right;\">\n",
       "      <th></th>\n",
       "      <th>marketplace</th>\n",
       "      <th>customer_id</th>\n",
       "      <th>review_id</th>\n",
       "      <th>product_id</th>\n",
       "      <th>product_parent</th>\n",
       "      <th>product_title</th>\n",
       "      <th>product_category</th>\n",
       "      <th>star_rating</th>\n",
       "      <th>helpful_votes</th>\n",
       "      <th>total_votes</th>\n",
       "      <th>vine</th>\n",
       "      <th>verified_purchase</th>\n",
       "      <th>review_headline</th>\n",
       "      <th>review_body</th>\n",
       "      <th>review_date</th>\n",
       "      <th>sentiment</th>\n",
       "    </tr>\n",
       "  </thead>\n",
       "  <tbody>\n",
       "    <tr>\n",
       "      <th>0</th>\n",
       "      <td>US</td>\n",
       "      <td>37802374</td>\n",
       "      <td>R2EY3N4K9W19UP</td>\n",
       "      <td>B00IFYEYXC</td>\n",
       "      <td>602496520</td>\n",
       "      <td>AzureWave Broadcom BCM94352HMB 802.11/ac/867Mb...</td>\n",
       "      <td>PC</td>\n",
       "      <td>5</td>\n",
       "      <td>3</td>\n",
       "      <td>4</td>\n",
       "      <td>N</td>\n",
       "      <td>Y</td>\n",
       "      <td>Great for Windows 7 Laptop!</td>\n",
       "      <td>Replaced my Intel Centrino 2230 with the BCM94...</td>\n",
       "      <td>2015-08-31</td>\n",
       "      <td>1</td>\n",
       "    </tr>\n",
       "    <tr>\n",
       "      <th>1</th>\n",
       "      <td>US</td>\n",
       "      <td>29333557</td>\n",
       "      <td>R3G4RT3EQ9RSY7</td>\n",
       "      <td>B00MA40W9I</td>\n",
       "      <td>535866197</td>\n",
       "      <td>Egoway® New Laptop Battery for Apple A1309 A12...</td>\n",
       "      <td>PC</td>\n",
       "      <td>1</td>\n",
       "      <td>0</td>\n",
       "      <td>0</td>\n",
       "      <td>N</td>\n",
       "      <td>Y</td>\n",
       "      <td>Totally wasted $60 on this battery</td>\n",
       "      <td>Totally wasted $60 on this battery.  Didn't wo...</td>\n",
       "      <td>2015-08-31</td>\n",
       "      <td>0</td>\n",
       "    </tr>\n",
       "    <tr>\n",
       "      <th>2</th>\n",
       "      <td>US</td>\n",
       "      <td>16160990</td>\n",
       "      <td>RW9VR7UKL3E69</td>\n",
       "      <td>B00HPQ0H0K</td>\n",
       "      <td>176437370</td>\n",
       "      <td>ARCTIC S111 USB-Powered Portable Stereo Speake...</td>\n",
       "      <td>PC</td>\n",
       "      <td>2</td>\n",
       "      <td>0</td>\n",
       "      <td>0</td>\n",
       "      <td>N</td>\n",
       "      <td>Y</td>\n",
       "      <td>tinny sounding</td>\n",
       "      <td>tinny weak sound</td>\n",
       "      <td>2015-08-31</td>\n",
       "      <td>0</td>\n",
       "    </tr>\n",
       "    <tr>\n",
       "      <th>3</th>\n",
       "      <td>US</td>\n",
       "      <td>48701722</td>\n",
       "      <td>R7ER63LS7Q1O5</td>\n",
       "      <td>B00RXEWOAA</td>\n",
       "      <td>540891596</td>\n",
       "      <td>3.5\" USB External Floppy Disk Drive Portable 1...</td>\n",
       "      <td>PC</td>\n",
       "      <td>5</td>\n",
       "      <td>0</td>\n",
       "      <td>0</td>\n",
       "      <td>N</td>\n",
       "      <td>Y</td>\n",
       "      <td>Five Stars</td>\n",
       "      <td>Love it</td>\n",
       "      <td>2015-08-31</td>\n",
       "      <td>1</td>\n",
       "    </tr>\n",
       "    <tr>\n",
       "      <th>4</th>\n",
       "      <td>US</td>\n",
       "      <td>19280847</td>\n",
       "      <td>RAYGOWHX4H47</td>\n",
       "      <td>B001J226JQ</td>\n",
       "      <td>210607495</td>\n",
       "      <td>Generic USB to 9-pin Serial Port Adapter</td>\n",
       "      <td>PC</td>\n",
       "      <td>5</td>\n",
       "      <td>0</td>\n",
       "      <td>0</td>\n",
       "      <td>N</td>\n",
       "      <td>Y</td>\n",
       "      <td>Five Stars</td>\n",
       "      <td>perfect</td>\n",
       "      <td>2015-08-31</td>\n",
       "      <td>1</td>\n",
       "    </tr>\n",
       "  </tbody>\n",
       "</table>\n",
       "</div>"
      ],
      "text/plain": [
       "  marketplace  customer_id       review_id  product_id  product_parent  \\\n",
       "0          US     37802374  R2EY3N4K9W19UP  B00IFYEYXC       602496520   \n",
       "1          US     29333557  R3G4RT3EQ9RSY7  B00MA40W9I       535866197   \n",
       "2          US     16160990   RW9VR7UKL3E69  B00HPQ0H0K       176437370   \n",
       "3          US     48701722   R7ER63LS7Q1O5  B00RXEWOAA       540891596   \n",
       "4          US     19280847    RAYGOWHX4H47  B001J226JQ       210607495   \n",
       "\n",
       "                                       product_title product_category  \\\n",
       "0  AzureWave Broadcom BCM94352HMB 802.11/ac/867Mb...               PC   \n",
       "1  Egoway® New Laptop Battery for Apple A1309 A12...               PC   \n",
       "2  ARCTIC S111 USB-Powered Portable Stereo Speake...               PC   \n",
       "3  3.5\" USB External Floppy Disk Drive Portable 1...               PC   \n",
       "4           Generic USB to 9-pin Serial Port Adapter               PC   \n",
       "\n",
       "   star_rating  helpful_votes  total_votes vine verified_purchase  \\\n",
       "0            5              3            4    N                 Y   \n",
       "1            1              0            0    N                 Y   \n",
       "2            2              0            0    N                 Y   \n",
       "3            5              0            0    N                 Y   \n",
       "4            5              0            0    N                 Y   \n",
       "\n",
       "                      review_headline  \\\n",
       "0         Great for Windows 7 Laptop!   \n",
       "1  Totally wasted $60 on this battery   \n",
       "2                      tinny sounding   \n",
       "3                          Five Stars   \n",
       "4                          Five Stars   \n",
       "\n",
       "                                         review_body review_date  sentiment  \n",
       "0  Replaced my Intel Centrino 2230 with the BCM94...  2015-08-31          1  \n",
       "1  Totally wasted $60 on this battery.  Didn't wo...  2015-08-31          0  \n",
       "2                                   tinny weak sound  2015-08-31          0  \n",
       "3                                            Love it  2015-08-31          1  \n",
       "4                                            perfect  2015-08-31          1  "
      ]
     },
     "execution_count": 12,
     "metadata": {},
     "output_type": "execute_result"
    }
   ],
   "source": [
    "# Una vez que tenemos la muestra (sample_df), las particiones Mi son simplemente subconjuntos de esta \n",
    "# muestra basados en las combinaciones de las variables categóricas.\n",
    "# No es necesario almacenar cada Mi por separado si se va a trabajar con ellos de forma iterativa o agrupada. \n",
    "# Podemos simplemente agrupar por las variables categóricas cuando sea necesario.\n",
    "\n",
    "# Si se necesita acceder a una partición específica (Mi), se puede filtrar así:\n",
    "# Ejemplo: Partición para verified_purchase='Y', vine='N'\n",
    "mi_example = sample_df.filter((F.col(\"verified_purchase\") == \"Y\") &\n",
    "                              (F.col(\"vine\") == \"N\"))\n",
    "print(f\"\\nEjemplo de partición M_i (verified_purchase='Y', vine='N'): {mi_example.count()} registros\")\n",
    "mi_example.limit(5).toPandas()"
   ]
  },
  {
   "cell_type": "code",
   "execution_count": 13,
   "id": "8e7a71c3",
   "metadata": {},
   "outputs": [
    {
     "name": "stdout",
     "output_type": "stream",
     "text": [
      "--- Creando las Particiones (Mi) ---\n"
     ]
    },
    {
     "name": "stderr",
     "output_type": "stream",
     "text": [
      "                                                                                \r"
     ]
    },
    {
     "name": "stdout",
     "output_type": "stream",
     "text": [
      "\n",
      "Distribución REAL de las combinaciones en la Muestra (M):\n"
     ]
    },
    {
     "name": "stderr",
     "output_type": "stream",
     "text": [
      "                                                                                \r"
     ]
    },
    {
     "data": {
      "text/html": [
       "<div>\n",
       "<style scoped>\n",
       "    .dataframe tbody tr th:only-of-type {\n",
       "        vertical-align: middle;\n",
       "    }\n",
       "\n",
       "    .dataframe tbody tr th {\n",
       "        vertical-align: top;\n",
       "    }\n",
       "\n",
       "    .dataframe thead th {\n",
       "        text-align: right;\n",
       "    }\n",
       "</style>\n",
       "<table border=\"1\" class=\"dataframe\">\n",
       "  <thead>\n",
       "    <tr style=\"text-align: right;\">\n",
       "      <th></th>\n",
       "      <th>verified_purchase</th>\n",
       "      <th>vine</th>\n",
       "      <th>count</th>\n",
       "      <th>percentage</th>\n",
       "    </tr>\n",
       "  </thead>\n",
       "  <tbody>\n",
       "    <tr>\n",
       "      <th>0</th>\n",
       "      <td>N</td>\n",
       "      <td>N</td>\n",
       "      <td>82555</td>\n",
       "      <td>11.932862</td>\n",
       "    </tr>\n",
       "    <tr>\n",
       "      <th>1</th>\n",
       "      <td>N</td>\n",
       "      <td>Y</td>\n",
       "      <td>3583</td>\n",
       "      <td>0.517903</td>\n",
       "    </tr>\n",
       "    <tr>\n",
       "      <th>2</th>\n",
       "      <td>Y</td>\n",
       "      <td>N</td>\n",
       "      <td>605672</td>\n",
       "      <td>87.546489</td>\n",
       "    </tr>\n",
       "    <tr>\n",
       "      <th>3</th>\n",
       "      <td>Y</td>\n",
       "      <td>Y</td>\n",
       "      <td>19</td>\n",
       "      <td>0.002746</td>\n",
       "    </tr>\n",
       "  </tbody>\n",
       "</table>\n",
       "</div>"
      ],
      "text/plain": [
       "  verified_purchase vine   count  percentage\n",
       "0                 N    N   82555   11.932862\n",
       "1                 N    Y    3583    0.517903\n",
       "2                 Y    N  605672   87.546489\n",
       "3                 Y    Y      19    0.002746"
      ]
     },
     "execution_count": 13,
     "metadata": {},
     "output_type": "execute_result"
    }
   ],
   "source": [
    "print(\"--- Creando las Particiones (Mi) ---\")\n",
    "\n",
    "# Verificamos que las proporciones se mantengan.\n",
    "sample_actual_distribution = sample_df.groupBy(categorical_cols).count()\n",
    "sample_actual_distribution = sample_actual_distribution.withColumn(\n",
    "    \"percentage\", (F.col(\"count\") / sample_df.count()) * 100\n",
    ").orderBy(categorical_cols)\n",
    "\n",
    "print(\"\\nDistribución REAL de las combinaciones en la Muestra (M):\")\n",
    "sample_actual_distribution.toPandas()"
   ]
  },
  {
   "cell_type": "markdown",
   "id": "de0a2f29",
   "metadata": {},
   "source": [
    "En esta última fase del proceso se formaliza la creación de las particiones `𝑀𝑖`, definidas como subconjuntos disjuntos de la muestra `𝑀`, cuya segmentación responde a las combinaciones únicas de las variables categóricas seleccionadas. Dado que la muestra fue construida de manera estratificada en función de estas mismas variables, el agrupamiento por sus valores permite recuperar de forma directa cada una de las particiones sin necesidad de duplicar datos ni mantener estructuras adicionales.\n",
    "\n",
    "Este diseño no solo reduce el costo computacional, sino que ofrece flexibilidad metodológica: cada partición puede ser invocada y procesada dinámicamente según los requerimientos del análisis posterior. Por ejemplo, acceder a la partición \n",
    "`𝑀𝑖` correspondiente a `verified_purchase='Y'` y `vine='N'` permite trabajar exclusivamente con ese segmento de usuarios, aislando su comportamiento o características para estudios comparativos.\n",
    "\n",
    "Al verificar la distribución real de las combinaciones dentro de la muestra generada, se confirma que las proporciones han sido exitosamente conservadas. Las diferencias con respecto a los valores esperados son mínimas y atribuibles al redondeo y a la disponibilidad efectiva de registros dentro de ciertos estratos, sin comprometer la validez del enfoque.\n",
    "\n",
    "Este paso final garantiza que cada partición sea estadísticamente coherente con su representación en la población `𝑃`, eliminando riesgos de sesgo por subrepresentación o sobreajuste a grupos específicos. Este diseño habilita un análisis posterior más sólido y confiable, ajustado a los principios fundamentales de muestreo en escenarios de datos masivos."
   ]
  },
  {
   "cell_type": "markdown",
   "id": "96402768",
   "metadata": {},
   "source": [
    "## 1.4) Identificación de algoritmos de aprendizaje y selección de métricas\n",
    "---"
   ]
  },
  {
   "cell_type": "markdown",
   "id": "76405a06",
   "metadata": {},
   "source": [
    "### 1.4.1) Identificación de algoritmos de aprendizaje"
   ]
  },
  {
   "cell_type": "markdown",
   "id": "a9cfc3c0",
   "metadata": {},
   "source": [
    "#### 1.4.1.1) Modelo supervisado"
   ]
  },
  {
   "cell_type": "markdown",
   "id": "8364c746",
   "metadata": {},
   "source": [
    "Para abordar la tarea de clasificación binaria del sentimiento (positivo o negativo) en las reseñas de productos, se seleccionó el algoritmo `RandomForestClassifier` del módulo `pyspark.ml.classification` como modelo de aprendizaje supervisado. Esta elección fue sustentada tanto en criterios técnicos como en consideraciones prácticas vinculadas a la naturaleza del problema y las características del conjunto de datos.\n",
    "\n",
    "El modelo en cuestión es una técnica de ensamblado basada en árboles de decisión que ofrece una excelente relación entre precisión, robustez y eficiencia computacional, lo cual lo hace especialmente adecuado para contextos de Big Data como el presente. Las razones principales de su elección se detallan a continuación:\n",
    "\n",
    "* **Adecuado para clasificación binaria**: El problema se define como una clasificación binaria (`sentiment` = 0 ó 1), una tarea donde Random Forest ha demostrado un desempeño sobresaliente en múltiples estudios y aplicaciones prácticas.\n",
    "* **Manejo eficiente de datos numéricos y categóricos codificados**: Todas las variables seleccionadas (`star_rating`, `helpful_votes`, `total_votes`, `verified_purchase_index`, `vine_index`) son de tipo numérico o han sido codificadas previamente mediante `StringIndexer`, lo cual es completamente compatible con este algoritmo sin necesidad de transformaciones adicionales.\n",
    "* **Robustez frente a outliers y datos ruidosos**: Random Forest no se ve significativamente afectado por valores atípicos o ruido en los datos, como aquellos observados en las variables `helpful_votes` y `total_votes`, por lo que evita la necesidad de aplicar estrategias de eliminación o transformación adicional de estos valores.\n",
    "* **No requiere normalización de variables**: A diferencia de algoritmos como la regresión logística o las redes neuronales, Random Forest no depende de la escala de las variables de entrada, lo que reduce el número de pasos de preprocesamiento requeridos.\n",
    "* **Capacidad para manejar datos desbalanceados**: Aunque el dataset presenta un desbalance de clases (76% positivas, 24% negativas), Random Forest puede mitigar este efecto mediante su mecanismo de muestreo aleatorio (bootstrap sampling) en cada árbol.\n",
    "* **Interpretabilidad y análisis de importancia de variables**: Una ventaja adicional del modelo es su capacidad para generar métricas de importancia de características, lo cual es valioso para interpretar qué variables contribuyen más a la predicción del sentimiento.\n",
    "**Costo computacional razonable**: Dado que el entrenamiento se realiza en un entorno distribuido con PySpark, el uso de `RandomForestClassifier` permite aprovechar eficientemente los recursos disponibles, obteniendo buenos resultados sin incurrir en el alto costo computacional que requerirían otros modelos como `GBTClassifier` o `MultilayerPerceptronClassifier`.\n",
    "\n",
    "#### **Comparación con otros modelos**\n",
    "| Modelo                 | Motivo por el cual no fue seleccionado                                     |\n",
    "| ---------------------- | -------------------------------------------------------------------------- |\n",
    "| `LogisticRegression`   | Requiere normalización y es más sensible a desbalance de clases.           |\n",
    "| `MultilayerPerceptron` | Demanda tuning de hiperparámetros, normalización y mayor poder de cómputo. |\n",
    "| `GBTClassifier`        | Más preciso en algunos casos, pero considerablemente más costoso.          |\n"
   ]
  },
  {
   "cell_type": "markdown",
   "id": "97541d5e",
   "metadata": {},
   "source": [
    "#### 1.4.1.2) Modelo no supervisado"
   ]
  },
  {
   "cell_type": "markdown",
   "id": "5e0ef770",
   "metadata": {},
   "source": [
    "Para la etapa de aprendizaje no supervisado, se selecciona el algoritmo `K-Means Clustering` como el método más adecuado para llevar a cabo un análisis de agrupamiento sobre el conjunto `feature_cols_v2`, el cual no incluye la variable `star_rating`. Las razones para esta decisón se presentan a continuación:\n",
    "\n",
    "* **Consistencia con el modelo supervisado corregido**: Se excluye la variable `star_rating`, que en experimentos previos demostró tener una correlación directa con la variable objetivo `sentiment`, generando resultados artificialmente perfectos (**overfitting**).\n",
    "* **Evitar fuga de información (data leakage)**: Eliminar `star_rating` del conjunto de características asegura que los clusters generados surjan de patrones genuinos, sin ser inducidos por una variable que actúa como proxy de la etiqueta.\n",
    "* **Exploración honesta de estructura latente**: Al omitir variables altamente correlacionadas con la etiqueta, se permite al modelo encontrar patrones naturales y no triviales que podrían revelar nuevos perfiles de reseñas o usuarios dentro de los datos.\n",
    "\n",
    "K-Means es un algoritmo ampliamente utilizado en problemas de agrupamiento debido a su eficiencia computacional, simplicidad conceptual y buena escalabilidad para grandes volúmenes de datos. Estas cualidades resultan particularmente ventajosas en el contexto del presente proyecto, el cual opera sobre millones de registros dentro de un entorno distribuido basado en PySpark.\n",
    "\n",
    "Las justificaciones de la elección de este modelo son:\n",
    "\n",
    "* **Escalabilidad**: K-Means tiene una complejidad computacional baja (O(n·k·i)), lo que lo hace ideal para trabajar con conjuntos de datos de millones de registros como en el caso actual.\n",
    "* **Compatibilidad con PySpark**: PySpark MLlib ofrece una implementación altamente optimizada de KMeans que se integra fácilmente con pipelines de transformación (`VectorAssembler`) y evaluación (`ClusteringEvaluator`).\n",
    "* **Simplicidad interpretativa**: Los centroides obtenidos permiten caracterizar los grupos descubiertos con base en las variables seleccionadas, facilitando el análisis exploratorio.\n",
    "\n",
    "#### **Comparación con otros modelos**\n",
    "| Modelo                      | Motivo por el cual no fue seleccionado                                                                  |\n",
    "|-----------------------------|---------------------------------------------------------------------------------------------------------|\n",
    "| `GaussianMixture`           | Mayor costo computacional por manejo probabilístico y convergencia más lenta.                           |\n",
    "| `PowerIterationClustering`  | Requiere configuración más compleja y se orienta a grafos o estructuras de conectividad específicas.    |\n",
    "| `BisectingKMeans`           | Más útil para jerarquías de cluster; no aporta ventajas claras frente a K-Means en este contexto plano. |"
   ]
  },
  {
   "cell_type": "markdown",
   "id": "79bea26e",
   "metadata": {},
   "source": [
    "### 1.4.2) Selección de métricas para medir calidad de resultados"
   ]
  },
  {
   "cell_type": "markdown",
   "id": "22f436ac",
   "metadata": {},
   "source": [
    "Con el objetivo de evaluar la calidad de los resultados obtenidos a partir de los modelos implementados, es fundamental seleccionar cuidadosamente las **métricas de desempeño**, considerando no solo la naturaleza del algoritmo (supervisado o no supervisado), sino también el volumen de datos procesado y las implicaciones computacionales de cada métrica en un entorno de Big Data.\n",
    "\n",
    "En el caso del modelo `RandomForestClassifier`, al tratarse de un enfoque supervisado orientado a la clasificación, se seleccionaron métricas estándar pero robustas que permiten evaluar el desempeño general y por clase del modelo. Específicamente, se consideran las siguientes: **accuracy, precision, recall y F1-score**, todas en su versión ponderada. Estas métricas permiten analizar no solo el número de aciertos globales, sino también la capacidad del modelo para distinguir correctamente entre las clases positivas y negativas, lo cual es especialmente relevante ante posibles desbalances en los datos. Adicionalmente, se utilizará la **matriz de confusión** como instrumento visual y cuantitativo que permite comprender la naturaleza de los errores cometidos (falsos positivos y falsos negativos), lo cual enriquece el análisis más allá de los valores promedio.\n",
    "\n",
    "Por otro lado, para el modelo `KMeans`, al ser un algoritmo no supervisado de agrupamiento, las métricas tradicionales de clasificación no resultan aplicables. En su lugar, se optó por la utilización del **Silhouette Score**, el cual mide qué tan similares son los puntos dentro de un mismo clúster en comparación con puntos de otros clústers. Esta métrica, además de ser ampliamente aceptada en tareas de agrupamiento, resulta computacionalmente viable en PySpark y permite inferir si el número de clústers seleccionado es coherente con la estructura de los datos. Complementariamente, se evaluará la **coherencia semántica de los clústers obtenidos mediante inspección manual y análisis de centroides promedio**, especialmente al comparar los resultados con la variable de salida conocida, lo que permite explorar la alineación entre los patrones descubiertos de manera no supervisada y las etiquetas originales.\n",
    "\n",
    "La selección de estas métricas responde a la doble necesidad de garantizar interpretabilidad y precisión en el análisis, al tiempo que se respeta la escalabilidad exigida por el tratamiento de grandes volúmenes de datos. La diversidad de enfoques implementados (supervisado y no supervisado) permite explorar diferentes dimensiones del comportamiento de los datos y establecer comparaciones que fortalecen la comprensión del problema y la calidad de las soluciones construidas."
   ]
  },
  {
   "cell_type": "markdown",
   "id": "b67488f6",
   "metadata": {},
   "source": [
    "## 1.5) Preprocesamiento y preparación de datos\n",
    "---"
   ]
  },
  {
   "cell_type": "markdown",
   "id": "b95ee2a9",
   "metadata": {},
   "source": [
    "### 1.5.1) Construcción Train – Test"
   ]
  },
  {
   "cell_type": "code",
   "execution_count": 14,
   "id": "d5c7e8b5",
   "metadata": {},
   "outputs": [
    {
     "name": "stderr",
     "output_type": "stream",
     "text": [
      "                                                                                \r"
     ]
    },
    {
     "data": {
      "text/plain": [
       "[Row(verified_purchase='N', vine='N'),\n",
       " Row(verified_purchase='N', vine='Y'),\n",
       " Row(verified_purchase='Y', vine='N'),\n",
       " Row(verified_purchase='Y', vine='Y')]"
      ]
     },
     "execution_count": 14,
     "metadata": {},
     "output_type": "execute_result"
    }
   ],
   "source": [
    "# Definimos la proporción de división\n",
    "train_ratio = 0.7\n",
    "test_ratio = 1 - train_ratio\n",
    "seed = 42\n",
    "\n",
    "# Diccionarios para almacenar los conjuntos de entrenamiento y prueba por partición\n",
    "train_partitions = {} # { (verified_purchase, vine): DataFrame_Tri }\n",
    "test_partitions = {}  # { (verified_purchase, vine): DataFrame_Tsi }\n",
    "\n",
    "# Obtenemos todas las combinaciones únicas de las variables categóricas en la muestra (M)\n",
    "distinct_combinations = sample_df.select(categorical_cols).distinct().collect()\n",
    "distinct_combinations"
   ]
  },
  {
   "cell_type": "markdown",
   "id": "32dad3db",
   "metadata": {},
   "source": [
    "La definición de una proporción de **70/30** para los conjuntos de entrenamiento y prueba responde a una práctica comúnmente aceptada en el ámbito del análisis de datos, ya que permite un equilibrio adecuado entre aprendizaje y validación. El uso de una semilla asegura la reproducibilidad del proceso, lo cual es fundamental en entornos experimentales. \n",
    "\n",
    "Por otro lado, la identificación explícita de las combinaciones presentes en la muestra evita errores asociados al redondeo o a la ausencia de estratos poco frecuentes, garantizando que la división se realice únicamente sobre particiones efectivamente representadas. El resultado obtenido (cuatro combinaciones únicas) confirma que la muestra mantiene la diversidad estructural necesaria para una segmentación estratificada válida."
   ]
  },
  {
   "cell_type": "code",
   "execution_count": 15,
   "id": "67936ea2",
   "metadata": {},
   "outputs": [
    {
     "name": "stdout",
     "output_type": "stream",
     "text": [
      "\n",
      "Procesando partición Mi para: ('N', 'N')\n"
     ]
    },
    {
     "name": "stderr",
     "output_type": "stream",
     "text": [
      "                                                                                \r"
     ]
    },
    {
     "name": "stdout",
     "output_type": "stream",
     "text": [
      "\tTamaño de Mi: 82555 registros\n"
     ]
    },
    {
     "name": "stderr",
     "output_type": "stream",
     "text": [
      "                                                                                \r"
     ]
    },
    {
     "name": "stdout",
     "output_type": "stream",
     "text": [
      "\tTamaño de Tri: 57790 registros\n"
     ]
    },
    {
     "name": "stderr",
     "output_type": "stream",
     "text": [
      "                                                                                \r"
     ]
    },
    {
     "name": "stdout",
     "output_type": "stream",
     "text": [
      "\tTamaño de Tsi: 24765 registros\n",
      "\n",
      "Procesando partición Mi para: ('N', 'Y')\n"
     ]
    },
    {
     "name": "stderr",
     "output_type": "stream",
     "text": [
      "                                                                                \r"
     ]
    },
    {
     "name": "stdout",
     "output_type": "stream",
     "text": [
      "\tTamaño de Mi: 3583 registros\n"
     ]
    },
    {
     "name": "stderr",
     "output_type": "stream",
     "text": [
      "                                                                                \r"
     ]
    },
    {
     "name": "stdout",
     "output_type": "stream",
     "text": [
      "\tTamaño de Tri: 2455 registros\n"
     ]
    },
    {
     "name": "stderr",
     "output_type": "stream",
     "text": [
      "                                                                                \r"
     ]
    },
    {
     "name": "stdout",
     "output_type": "stream",
     "text": [
      "\tTamaño de Tsi: 1128 registros\n",
      "\n",
      "Procesando partición Mi para: ('Y', 'N')\n"
     ]
    },
    {
     "name": "stderr",
     "output_type": "stream",
     "text": [
      "                                                                                \r"
     ]
    },
    {
     "name": "stdout",
     "output_type": "stream",
     "text": [
      "\tTamaño de Mi: 605672 registros\n"
     ]
    },
    {
     "name": "stderr",
     "output_type": "stream",
     "text": [
      "                                                                                \r"
     ]
    },
    {
     "name": "stdout",
     "output_type": "stream",
     "text": [
      "\tTamaño de Tri: 424081 registros\n"
     ]
    },
    {
     "name": "stderr",
     "output_type": "stream",
     "text": [
      "                                                                                \r"
     ]
    },
    {
     "name": "stdout",
     "output_type": "stream",
     "text": [
      "\tTamaño de Tsi: 181591 registros\n",
      "\n",
      "Procesando partición Mi para: ('Y', 'Y')\n"
     ]
    },
    {
     "name": "stderr",
     "output_type": "stream",
     "text": [
      "                                                                                \r"
     ]
    },
    {
     "name": "stdout",
     "output_type": "stream",
     "text": [
      "\tTamaño de Mi: 19 registros\n"
     ]
    },
    {
     "name": "stderr",
     "output_type": "stream",
     "text": [
      "                                                                                \r"
     ]
    },
    {
     "name": "stdout",
     "output_type": "stream",
     "text": [
      "\tTamaño de Tri: 16 registros\n"
     ]
    },
    {
     "name": "stderr",
     "output_type": "stream",
     "text": [
      "[Stage 123:=========================================>             (12 + 4) / 16]\r"
     ]
    },
    {
     "name": "stdout",
     "output_type": "stream",
     "text": [
      "\tTamaño de Tsi: 3 registros\n"
     ]
    },
    {
     "name": "stderr",
     "output_type": "stream",
     "text": [
      "                                                                                \r"
     ]
    }
   ],
   "source": [
    "# Iteramos sobre cada combinación para crear las particiones Mi y dividirlas\n",
    "for row in distinct_combinations:\n",
    "    combo_values = tuple(row[col] for col in categorical_cols)\n",
    "    print(f\"\\nProcesando partición Mi para: {combo_values}\")\n",
    "\n",
    "    # Aislamos la Partición Mi con apoyo de un filtro\n",
    "    filter_condition = None\n",
    "    for i, col_name in enumerate(categorical_cols):\n",
    "        if filter_condition is None:\n",
    "            filter_condition = (F.col(col_name) == combo_values[i])\n",
    "        else:\n",
    "            filter_condition = filter_condition & (F.col(col_name) == combo_values[i])\n",
    "\n",
    "    mi_df = sample_df.filter(filter_condition)\n",
    "    mi_count = mi_df.count()\n",
    "    print(f\"\\tTamaño de Mi: {mi_count} registros\")\n",
    "\n",
    "    # Dividimos la Partición Mi en Tri y Tsi\n",
    "    if mi_count > 0:\n",
    "        # randomSplit distribuye los datos aleatoriamente según las proporciones dadas\n",
    "        tri, tsi = mi_df.randomSplit([train_ratio, test_ratio], seed=seed)\n",
    "\n",
    "        # Almacenar las particiones resultantes\n",
    "        train_partitions[combo_values] = tri\n",
    "        test_partitions[combo_values] = tsi\n",
    "\n",
    "        print(f\"\\tTamaño de Tri: {tri.count()} registros\")\n",
    "        print(f\"\\tTamaño de Tsi: {tsi.count()} registros\")\n",
    "    else:\n",
    "        print(f\"\\tPartición Mi vacía. No se generarán Tri y Tsi.\")"
   ]
  },
  {
   "cell_type": "markdown",
   "id": "8c9b8f15",
   "metadata": {},
   "source": [
    "Con este código se hace la segmentación de la muestra representativa `𝑀` en subconjuntos de entrenamiento (`𝑇𝑟𝑖`) y prueba (`𝑇𝑠𝑖`) para cada una de las particiones `𝑀𝑖`, definidas previamente según las combinaciones únicas de las variables categóricas `verified_purchase` y `vine`. Esta estrategia garantiza que el proceso de entrenamiento y evaluación se lleve a cabo respetando la estructura interna de la población original, evitando así la introducción de sesgos derivados de una partición aleatoria no estratificada.\n",
    "\n",
    "El método empleado consiste en filtrar individualmente cada estrato `𝑀𝑖`, y aplicar la función `randomSplit` de PySpark para generar las correspondientes divisiones con una proporción **70/30**. Esto permite mantener la representatividad estadística dentro de cada combinación de atributos. Los resultados muestran que la distribución se ha respetado incluso en estratos de baja frecuencia, como el caso de la combinación `('Y', 'Y')`, donde se preservó una división razonable de 16 observaciones para entrenamiento y 3 para prueba.\n",
    "\n",
    "Esta partición controlada por estrato es especialmente valiosa en contextos donde existen desequilibrios severos entre categorías, ya que permite evaluar el desempeño del modelo de forma equitativa sobre todos los grupos relevantes. Además, al evitar el solapamiento entre `𝑇𝑟𝑖` y `𝑇𝑠𝑖`, se salvaguarda la independencia entre fases de entrenamiento y validación, requisito esencial para asegurar la robustez metodológica de los resultados."
   ]
  },
  {
   "cell_type": "code",
   "execution_count": 16,
   "id": "e6c638cf",
   "metadata": {},
   "outputs": [
    {
     "name": "stdout",
     "output_type": "stream",
     "text": [
      "--- Verificación de las Condiciones ---\n"
     ]
    },
    {
     "name": "stderr",
     "output_type": "stream",
     "text": [
      "                                                                                \r"
     ]
    },
    {
     "name": "stdout",
     "output_type": "stream",
     "text": [
      "Tamaño de la muestra original (M): 691829\n"
     ]
    },
    {
     "name": "stderr",
     "output_type": "stream",
     "text": [
      "                                                                                \r"
     ]
    },
    {
     "name": "stdout",
     "output_type": "stream",
     "text": [
      "Tamaño de la unión de todos los Tri y Tsi: 691829\n"
     ]
    },
    {
     "name": "stderr",
     "output_type": "stream",
     "text": [
      "[Stage 138:====================================================>(151 + 1) / 152]\r"
     ]
    },
    {
     "name": "stdout",
     "output_type": "stream",
     "text": [
      "¡La condición de unión de particiones = M se cumple! Los conteos coinciden.\n"
     ]
    },
    {
     "name": "stderr",
     "output_type": "stream",
     "text": [
      "                                                                                \r"
     ]
    }
   ],
   "source": [
    "# Verificamos las condiciones Tri Ç Tsi = Æ (no solapamiento) y la unión de todas las particiones = M\n",
    "# Cabe destcar que la condición Tri Ç Tsi = Æ se garantiza por la función `randomSplit` de Spark\n",
    "print(\"--- Verificación de las Condiciones ---\")\n",
    "\n",
    "# Unión de todos los Tri\n",
    "all_tri_union = spark.createDataFrame([], sample_df.schema)\n",
    "for combo, tri_df in train_partitions.items():\n",
    "    all_tri_union = all_tri_union.unionAll(tri_df)\n",
    "\n",
    "# Unión de todos los Tsi\n",
    "all_tsi_union = spark.createDataFrame([], sample_df.schema)\n",
    "for combo, tsi_df in test_partitions.items():\n",
    "    all_tsi_union = all_tsi_union.unionAll(tsi_df)\n",
    "\n",
    "# Unión de todos los Tri y Tsi\n",
    "# Usamos distinct para manejar posibles duplicados si no hay garantía estricta\n",
    "final_union_m = all_tri_union.unionAll(all_tsi_union).distinct()\n",
    "\n",
    "print(f\"Tamaño de la muestra original (M): {sample_df.count()}\")\n",
    "print(f\"Tamaño de la unión de todos los Tri y Tsi: {final_union_m.count()}\")\n",
    "\n",
    "# Si los conteos coinciden, la condición se cumple.\n",
    "if sample_df.count() == final_union_m.count():\n",
    "    print(\"¡La condición de unión de particiones = M se cumple! Los conteos coinciden.\")\n",
    "else:\n",
    "    print(\"Advertencia: Los conteos de la unión de particiones y la muestra M no coinciden.\")"
   ]
  },
  {
   "cell_type": "markdown",
   "id": "401f2cdd",
   "metadata": {},
   "source": [
    "Una vez realizadas las divisiones `𝑇𝑟𝑖` y `𝑇𝑠𝑖` correspondientes a cada partición `𝑀𝑖`, se llevó a cabo un proceso de verificación para confirmar que se cumplan dos condiciones fundamentales de integridad en el diseño experimental: la no superposición entre conjuntos de entrenamiento y prueba, es decir, `𝑇𝑟𝑖 ∩ 𝑇𝑠𝑖 = ∅`, y la exhaustividad de la muestra, es decir, que la unión de todas las particiones `𝑇𝑟𝑖 ∪ 𝑇𝑠𝑖` sea equivalente al conjunto original `𝑀`.\n",
    "\n",
    "La primera condición se garantiza implícitamente mediante el uso de la función `randomSplit` de PySpark, la cual está diseñada para generar subconjuntos mutuamente excluyentes a partir de un conjunto dado. En cuanto a la segunda condición, se construyó la unión de todas las particiones generadas y se aplicó una operación `distinct` para asegurar la unicidad de los registros. Al comparar el tamaño de esta unión con el total de registros de `𝑀`, se comprobó que ambos coinciden perfectamente, lo cual valida que no hubo pérdida ni duplicación de datos en el proceso de división."
   ]
  },
  {
   "cell_type": "markdown",
   "id": "f1df7074",
   "metadata": {},
   "source": [
    "### 1.5.2) Definición del preprocesamiento"
   ]
  },
  {
   "cell_type": "code",
   "execution_count": 17,
   "id": "fb0e238e",
   "metadata": {},
   "outputs": [],
   "source": [
    "from pyspark.ml.feature import StringIndexer, VectorAssembler, StandardScaler\n",
    "from pyspark.ml import Pipeline\n",
    "\n",
    "# Convertir las columnas categóricas a índices numéricos\n",
    "indexer_verified = StringIndexer(inputCol=\"verified_purchase\", outputCol=\"verified_purchase_index\", handleInvalid=\"skip\")\n",
    "indexer_vine = StringIndexer(inputCol=\"vine\", outputCol=\"vine_index\", handleInvalid=\"skip\")\n",
    "\n",
    "label_col = \"sentiment\"\n",
    "label_indexer = StringIndexer(inputCol=label_col, outputCol=\"label\")"
   ]
  },
  {
   "cell_type": "code",
   "execution_count": 18,
   "id": "26245ba6",
   "metadata": {},
   "outputs": [
    {
     "name": "stderr",
     "output_type": "stream",
     "text": [
      "[Stage 147:=========================================>             (12 + 4) / 16]\r"
     ]
    },
    {
     "name": "stdout",
     "output_type": "stream",
     "text": [
      "Registros después de eliminar nulos: 691829 (original: 691829)\n"
     ]
    },
    {
     "name": "stderr",
     "output_type": "stream",
     "text": [
      "                                                                                \r"
     ]
    }
   ],
   "source": [
    "# Manejo de valores nulos \n",
    "initial_cols_to_check_for_nulls = [\n",
    "    \"helpful_votes\", \n",
    "    \"total_votes\", \n",
    "    \"verified_purchase\", \n",
    "    \"vine\", \n",
    "    \"sentiment\" # Label\n",
    "]\n",
    "\n",
    "sample_df_cleaned = sample_df.na.drop(subset=initial_cols_to_check_for_nulls)\n",
    "print(f\"Registros después de eliminar nulos: {sample_df_cleaned.count()} (original: {sample_df.count()})\")"
   ]
  },
  {
   "cell_type": "markdown",
   "id": "8b229fa6",
   "metadata": {},
   "source": [
    "Para validar la integridad del conjunto de datos antes de su procesamiento, se realizó una verificación de valores nulos únicamente sobre un subconjunto específico de columnas consideradas críticas para la construcción de modelos de aprendizaje automático:\n",
    "\n",
    "* `helpful_votes` y `total_votes`: Representan variables numéricas que aportan información cuantitativa relevante sobre la recepción de la reseña por parte de otros usuarios, y que serán utilizadas como parte del vector de características.\n",
    "* `verified_purchase` y `vine`: Son variables categóricas claves utilizadas en la caracterización de la población (Mi), e influyen directamente en la segmentación y entrenamiento del modelo.\n",
    "* `sentiment`: constituye la variable objetivo en el enfoque supervisado, por lo que cualquier registro con valor nulo en esta columna sería inutilizable para entrenamiento o validación.\n",
    "\n",
    "Otras columnas presentes en el dataset, como `review_id`, `product_id`, `product_title`, `review_body`, entre otras, no se consideran directamente en la construcción del vector de características ni en la partición estratificada: los identificadores no aportan valor predictivo, mientras que las columnas textuales podrían ser relevantes en análisis futuros mediante técnicas de procesamiento de lenguaje natural (NLP), pero no forman parte del enfoque estructurado actual. Por tanto no condicionan la validez del modelo si contienen valores nulos. Esto permite optimizar el proceso de limpieza, evitando descartes innecesarios de registros útiles. \n",
    "\n",
    "En este caso particular, la verificación indicó que no existen registros con valores nulos en las columnas críticas seleccionadas, lo cual confirma que:\n",
    "\n",
    "* El conjunto de datos `sample_df` es íntegro desde el punto de vista del modelado\n",
    "* No es necesario rehacer el muestreo estratificado ni las divisiones en entrenamiento/prueba (`𝑇𝑟𝑖`/`𝑇𝑠𝑖`)\n",
    "* Se puede continuar con el pipeline de preprocesamiento sin riesgo de inconsistencias.\n",
    "\n",
    "Este control constituye una etapa esencial dentro de los principios de data readiness, asegurando que los modelos construidos operen sobre datos válidos, completos y coherentes."
   ]
  },
  {
   "cell_type": "code",
   "execution_count": 19,
   "id": "40564d4f",
   "metadata": {},
   "outputs": [],
   "source": [
    "# Definición de las columnas que serán ensambladas en el vector de características\n",
    "feature_cols_for_assembler = [\n",
    "    \"helpful_votes\", \n",
    "    \"total_votes\", \n",
    "    \"verified_purchase_index\", \n",
    "    \"vine_index\"\n",
    "]\n",
    "\n",
    "vector_assembler = VectorAssembler(inputCols=feature_cols_for_assembler, outputCol=\"raw_features\")"
   ]
  },
  {
   "cell_type": "code",
   "execution_count": 20,
   "id": "b781e005",
   "metadata": {},
   "outputs": [],
   "source": [
    "# Código para escalar las características\n",
    "scaler = StandardScaler(\n",
    "    inputCol=\"raw_features\", \n",
    "    outputCol=\"scaled_features\", \n",
    "    withStd=True, \n",
    "    withMean=False\n",
    ")"
   ]
  },
  {
   "cell_type": "markdown",
   "id": "a02c111a",
   "metadata": {},
   "source": [
    "Con el objetivo de preparar los datos para su uso en modelos de aprendizaje automático, se diseñó un proceso de preprocesamiento robusto y escalable, alineado con las mejores prácticas en contextos de Big Data. Este proceso incluye las siguientes etapas clave:\n",
    "\n",
    "1. **Conversión de variables categóricas a formato numérico:** Se empleó la técnica de indexación categórica mediante `StringIndexer` para transformar las variables `verified_purchase`, `vine` y la variable objetivo `sentiment` en índices numéricos. Esta transformación es necesaria, dado que los algoritmos de aprendizaje en `Spark MLlib` no operan directamente sobre variables de tipo string. Además, se utilizó el parámetro `handleInvalid=\"skip\"` para excluir de forma segura registros con valores inválidos sin interrumpir el pipeline de procesamiento.\n",
    "\n",
    "2. **Verificación y tratamiento de valores nulos:** Se validó que no existieran valores nulos en los campos clave (`helpful_votes`, `total_votes`, variables categóricas y la etiqueta `sentiment`), lo cual garantiza la integridad del dataset antes de su transformación. La ausencia de valores faltantes permitió conservar la muestra original sin necesidad de rehacer el muestreo ni las particiones.\n",
    "\n",
    "3. **Ensamblado de características:** Se definió un `VectorAssembler` para combinar las variables numéricas y las categorías indexadas en un solo vector de características (`raw_features`). Esta etapa unifica la estructura del dataset para su posterior escalamiento y modelado.\n",
    "\n",
    "4. **Escalamiento de características:** Dado que los algoritmos como `KMeans` se ven fuertemente influenciados por la escala de los atributos, se aplicó un `StandardScaler` para normalizar las variables, asegurando que todas las características contribuyan equitativamente al cálculo de distancias o decisiones de partición. El escalamiento se realizó con media cero y varianza unitaria (`withStd=True`, `withMean=False`), lo cual es apropiado en entornos distribuidos donde la centración puede implicar sobrecosto computacional.\n",
    "\n",
    "Este pipeline de preprocesamiento proporciona una base sólida para la construcción de modelos tanto supervisados como no supervisados, asegurando compatibilidad algorítmica, integridad de los datos y comparabilidad entre atributos."
   ]
  },
  {
   "cell_type": "markdown",
   "id": "bb306819",
   "metadata": {},
   "source": [
    "## 1.6) Ajuste de hiperparámetros mediante validación cruzada\n",
    "---"
   ]
  },
  {
   "cell_type": "code",
   "execution_count": 21,
   "id": "b6ff479d",
   "metadata": {},
   "outputs": [],
   "source": [
    "from pyspark.ml.classification import RandomForestClassifier\n",
    "from pyspark.ml.evaluation import MulticlassClassificationEvaluator, ClusteringEvaluator\n",
    "from pyspark.ml.tuning import ParamGridBuilder, CrossValidator\n",
    "\n",
    "# Diccionarios para almacenar los resultados de la evaluación\n",
    "rf_evaluation_results = {}\n",
    "kmeans_evaluation_results = {}\n",
    "\n",
    "# Definimos los evaluadores\n",
    "rf_evaluator = MulticlassClassificationEvaluator(\n",
    "    labelCol=\"label\", \n",
    "    predictionCol=\"prediction\"\n",
    ")\n",
    "\n",
    "kmeans_evaluator = ClusteringEvaluator(\n",
    "    featuresCol=\"scaled_features\", \n",
    "    predictionCol=\"prediction\", \n",
    "    metricName=\"silhouette\"\n",
    ")"
   ]
  },
  {
   "cell_type": "markdown",
   "id": "b2726af7",
   "metadata": {},
   "source": [
    "Antes de realizar el ajuste de hiperparámetros, se preparan los elementos esenciales para evaluar el desempeño de los modelos.\n",
    "\n",
    "Se inicializan dos diccionarios:\n",
    "- `rf_evaluation_results`: para almacenar los resultados de evaluación del modelo de clasificación (`RandomForestClassifier`).\n",
    "- `kmeans_evaluation_results`: para almacenar las métricas asociadas al modelo no supervisado de agrupamiento (`KMeans`).\n",
    "\n",
    "Se definen los evaluadores correspondientes a cada enfoque:\n",
    "- `rf_evaluator`: evalúa el rendimiento del modelo de clasificación. Utiliza las columnas `label` y `prediction` para calcular métricas como accuracy, F1-score, etc.\n",
    "- `kmeans_evaluator`: evalúa la calidad del agrupamiento utilizando la métrica de **Silhouette Score**, que mide qué tan bien están separados y cohesionados los clústers. Utiliza como entrada las características escaladas (`scaled_features`) y las predicciones (`prediction`) del modelo KMeans.\n",
    "\n",
    "Estos evaluadores serán utilizados posteriormente dentro de los procesos de validación cruzada y selección de hiperparámetros, proporcionando una base objetiva para comparar el rendimiento de diferentes configuraciones de modelos."
   ]
  },
  {
   "cell_type": "markdown",
   "id": "5b638a33",
   "metadata": {},
   "source": [
    "### 1.6.1) Modelo supervisado"
   ]
  },
  {
   "cell_type": "code",
   "execution_count": 22,
   "id": "370b5043",
   "metadata": {},
   "outputs": [],
   "source": [
    "# Instanciamos un nuevo RandomForestClassifier (sin numTrees y maxDepth específicos aquí, se definirán en ParamGrid)\n",
    "rf_tune_model_instance = RandomForestClassifier(\n",
    "    featuresCol=\"scaled_features\", \n",
    "    labelCol=\"label\", \n",
    "    seed=42\n",
    ")\n",
    "\n",
    "# Reconstruimos el pipeline de RF para tuning, usando la instancia `rf_tune_model_instance`\n",
    "rf_tune_pipeline = Pipeline(stages=[\n",
    "    indexer_verified,\n",
    "    indexer_vine,\n",
    "    vector_assembler,\n",
    "    scaler,\n",
    "    label_indexer,\n",
    "    rf_tune_model_instance\n",
    "])\n",
    "\n",
    "# Definimos la cuadrícula de parámetros a probar\n",
    "rf_paramGrid = (\n",
    "    ParamGridBuilder()\n",
    "        .addGrid(rf_tune_model_instance.numTrees, [10, 50]) \n",
    "        .addGrid(rf_tune_model_instance.maxDepth, [5, 10])  \n",
    "        .addGrid(rf_tune_model_instance.minInstancesPerNode, [1, 5]) \n",
    "        .build()\n",
    ")\n",
    "\n",
    "# Creamos el CrossValidator\n",
    "rf_crossval = CrossValidator(\n",
    "    estimator=rf_tune_pipeline,\n",
    "    estimatorParamMaps=rf_paramGrid,\n",
    "    evaluator=MulticlassClassificationEvaluator(\n",
    "        labelCol=\"label\", \n",
    "        predictionCol=\"prediction\",\n",
    "        metricName=\"f1\"\n",
    "    ),\n",
    "    numFolds=3,\n",
    "    seed=42,\n",
    "    parallelism=spark.sparkContext.defaultParallelism # Usar todos los cores disponibles\n",
    ")"
   ]
  },
  {
   "cell_type": "code",
   "execution_count": null,
   "id": "a379f3bb",
   "metadata": {},
   "outputs": [
    {
     "name": "stderr",
     "output_type": "stream",
     "text": [
      "                                                                                \r"
     ]
    },
    {
     "name": "stdout",
     "output_type": "stream",
     "text": [
      "Realizando ajuste de hiperparámetros (Tamaño: 484342)\n",
      "\tIniciando Cross-Validation para RandomForest...\n"
     ]
    },
    {
     "name": "stderr",
     "output_type": "stream",
     "text": [
      "                                                                                \r"
     ]
    },
    {
     "name": "stdout",
     "output_type": "stream",
     "text": [
      "\tMejores Hiperparámetros encontrados para RandomForestClassifier:\n",
      "\t\tnumTrees: 50\n",
      "\t\tmaxDepth: 10\n",
      "\t\tminInstancesPerNode: 1\n"
     ]
    }
   ],
   "source": [
    "print(f\"Realizando ajuste de hiperparámetros (Tamaño: {all_tri_union.count()})\")\n",
    "\n",
    "# Entrenamos el CrossValidator\n",
    "print(\"\\tIniciando Cross-Validation para RandomForest...\")\n",
    "rf_cv_model = rf_crossval.fit(all_tri_union) \n",
    "best_rf_pipeline_model = rf_cv_model.bestModel\n",
    "\n",
    "print(\"\\tMejores Hiperparámetros encontrados para RandomForestClassifier:\")\n",
    "best_rf_params = best_rf_pipeline_model.stages[-1].extractParamMap()\n",
    "print(f\"\\t\\tnumTrees: {best_rf_params.get(rf_tune_model_instance.numTrees)}\")\n",
    "print(f\"\\t\\tmaxDepth: {best_rf_params.get(rf_tune_model_instance.maxDepth)}\")\n",
    "print(f\"\\t\\tminInstancesPerNode: {best_rf_params.get(rf_tune_model_instance.minInstancesPerNode)}\")"
   ]
  },
  {
   "cell_type": "markdown",
   "id": "2d24b9ff",
   "metadata": {},
   "source": [
    "El proceso de ajuste de hiperparámetros mediante validación cruzada identificó como configuración óptima un `RandomForestClassifier` con **50 árboles**, una **profundidad máxima de 10** y un mínimo de **1 instancia por nodo**. Esta combinación sugiere un modelo con alta capacidad de representación, capaz de capturar patrones complejos sin restricciones excesivas. La selección de `minInstancesPerNode = 1` indica que el modelo prioriza la máxima ramificación posible, lo cual puede ser beneficioso en contextos con gran volumen de datos y alta variabilidad como el presente."
   ]
  },
  {
   "cell_type": "markdown",
   "id": "9e6621f6",
   "metadata": {},
   "source": [
    "### 1.6.2) Modelo no supervisado"
   ]
  },
  {
   "cell_type": "code",
   "execution_count": 24,
   "id": "e8f08463",
   "metadata": {},
   "outputs": [
    {
     "name": "stdout",
     "output_type": "stream",
     "text": [
      "\n",
      "Entrenando KMeans con k = 2\n"
     ]
    },
    {
     "name": "stderr",
     "output_type": "stream",
     "text": [
      "                                                                                \r"
     ]
    },
    {
     "name": "stdout",
     "output_type": "stream",
     "text": [
      "\tSilhouette Score para k=2: 1.0000\n",
      "\n",
      "Entrenando KMeans con k = 3\n"
     ]
    },
    {
     "name": "stderr",
     "output_type": "stream",
     "text": [
      "                                                                                \r"
     ]
    },
    {
     "name": "stdout",
     "output_type": "stream",
     "text": [
      "\tSilhouette Score para k=3: 0.8266\n",
      "\n",
      "Entrenando KMeans con k = 4\n"
     ]
    },
    {
     "name": "stderr",
     "output_type": "stream",
     "text": [
      "                                                                                \r"
     ]
    },
    {
     "name": "stdout",
     "output_type": "stream",
     "text": [
      "\tSilhouette Score para k=4: 0.9745\n",
      "\n",
      "Entrenando KMeans con k = 5\n"
     ]
    },
    {
     "name": "stderr",
     "output_type": "stream",
     "text": [
      "[Stage 1197:===================================================>  (72 + 4) / 76]\r"
     ]
    },
    {
     "name": "stdout",
     "output_type": "stream",
     "text": [
      "\tSilhouette Score para k=5: 0.9745\n",
      "\n",
      "Mejor modelo encontrado con k = 2 (Silhouette Score = 1.0000)\n"
     ]
    },
    {
     "name": "stderr",
     "output_type": "stream",
     "text": [
      "                                                                                \r"
     ]
    }
   ],
   "source": [
    "from pyspark.ml.clustering import KMeans\n",
    "from pyspark.ml.evaluation import ClusteringEvaluator\n",
    "from pyspark.ml import Pipeline\n",
    "\n",
    "# Evaluador\n",
    "kmeans_evaluator = ClusteringEvaluator(\n",
    "    featuresCol=\"scaled_features\",\n",
    "    predictionCol=\"prediction\",\n",
    "    metricName=\"silhouette\"\n",
    ")\n",
    "\n",
    "# Rango de valores de k a probar\n",
    "k_values = [2, 3, 4, 5]\n",
    "kmeans_results = {}\n",
    "\n",
    "best_score = float('-inf')\n",
    "best_kmeans_model = None\n",
    "best_k = None\n",
    "\n",
    "for k in k_values:\n",
    "    print(f\"\\nEntrenando KMeans con k = {k}\")\n",
    "    \n",
    "    kmeans = KMeans(featuresCol=\"scaled_features\", k=k, seed=42)\n",
    "    \n",
    "    # Pipeline con preprocesamiento + KMeans\n",
    "    kmeans_pipeline = Pipeline(stages=[\n",
    "        indexer_verified,\n",
    "        indexer_vine,\n",
    "        vector_assembler,\n",
    "        scaler,\n",
    "        kmeans\n",
    "    ])\n",
    "    \n",
    "    # Entrenar\n",
    "    model = kmeans_pipeline.fit(all_tri_union)\n",
    "    \n",
    "    # Predecir\n",
    "    predictions = model.transform(all_tri_union)\n",
    "    \n",
    "    # Evaluar\n",
    "    silhouette_score = kmeans_evaluator.evaluate(predictions)\n",
    "    print(f\"\\tSilhouette Score para k={k}: {silhouette_score:.4f}\")\n",
    "    \n",
    "    # Guardar resultado\n",
    "    kmeans_results[k] = {\n",
    "        \"model\": model,\n",
    "        \"score\": silhouette_score\n",
    "    }\n",
    "    \n",
    "    # Actualizar mejor modelo\n",
    "    if silhouette_score > best_score:\n",
    "        best_score = silhouette_score\n",
    "        best_kmeans_model = model\n",
    "        best_k = k\n",
    "\n",
    "print(f\"\\nMejor modelo encontrado con k = {best_k} (Silhouette Score = {best_score:.4f})\")"
   ]
  },
  {
   "cell_type": "markdown",
   "id": "3c775580",
   "metadata": {},
   "source": [
    "El ajuste del modelo `KMeans` sobre el conjunto de entrenamiento completo reveló que el valor óptimo de `k` es **2**, alcanzando un **Silhouette Score perfecto de 1.0000**. Este valor sugiere que los datos presentan una **separación natural y muy bien definida en dos grupos**, lo cual es poco común y digno de exploración adicional. Aunque valores de `k = 4` y `k = 5` también mostraron puntuaciones elevadas (0.9745), la simplicidad estructural y la calidad del agrupamiento respaldan la elección de `k = 2` como la más adecuada para este caso."
   ]
  },
  {
   "cell_type": "markdown",
   "id": "9197bc52",
   "metadata": {},
   "source": [
    "# 2) Experimentación\n",
    "---"
   ]
  },
  {
   "cell_type": "markdown",
   "id": "0ff5bfcf",
   "metadata": {},
   "source": [
    "## 2.1) Evaluación de los mejores modelos y visualización de resultados\n",
    "---"
   ]
  },
  {
   "cell_type": "markdown",
   "id": "ac0ee4e4",
   "metadata": {},
   "source": [
    "### 2.1.1) Modelo supervisado"
   ]
  },
  {
   "cell_type": "code",
   "execution_count": null,
   "id": "3362e12d",
   "metadata": {},
   "outputs": [
    {
     "name": "stdout",
     "output_type": "stream",
     "text": [
      "\n",
      "=== Modelo supervisado (Random Forest) ===\n"
     ]
    },
    {
     "name": "stderr",
     "output_type": "stream",
     "text": [
      "                                                                                \r"
     ]
    },
    {
     "name": "stdout",
     "output_type": "stream",
     "text": [
      "Accuracy: 0.7810320646594726\n"
     ]
    },
    {
     "name": "stderr",
     "output_type": "stream",
     "text": [
      "                                                                                \r"
     ]
    },
    {
     "name": "stdout",
     "output_type": "stream",
     "text": [
      "F1-score: 0.7218234991856148\n"
     ]
    },
    {
     "name": "stderr",
     "output_type": "stream",
     "text": [
      "                                                                                \r"
     ]
    },
    {
     "name": "stdout",
     "output_type": "stream",
     "text": [
      "Precision: 0.7580700836887941\n"
     ]
    },
    {
     "name": "stderr",
     "output_type": "stream",
     "text": [
      "[Stage 1214:===================================================>  (72 + 4) / 76]\r"
     ]
    },
    {
     "name": "stdout",
     "output_type": "stream",
     "text": [
      "Recall: 0.7810320646594726\n"
     ]
    },
    {
     "name": "stderr",
     "output_type": "stream",
     "text": [
      "                                                                                \r"
     ]
    }
   ],
   "source": [
    "rf_predictions = best_rf_pipeline_model.transform(all_tsi_union)\n",
    "\n",
    "# Evaluación\n",
    "rf_evaluator = MulticlassClassificationEvaluator(labelCol=\"label\", predictionCol=\"prediction\")\n",
    "\n",
    "print(\"=== Modelo supervisado (Random Forest) ===\")\n",
    "print(\"Accuracy:\", rf_evaluator.evaluate(rf_predictions, {rf_evaluator.metricName: \"accuracy\"}))\n",
    "print(\"F1-score:\", rf_evaluator.evaluate(rf_predictions, {rf_evaluator.metricName: \"f1\"}))\n",
    "print(\"Precision:\", rf_evaluator.evaluate(rf_predictions, {rf_evaluator.metricName: \"weightedPrecision\"}))\n",
    "print(\"Recall:\", rf_evaluator.evaluate(rf_predictions, {rf_evaluator.metricName: \"weightedRecall\"}))"
   ]
  },
  {
   "cell_type": "markdown",
   "id": "f1718f04",
   "metadata": {},
   "source": [
    "Los resultados obtenidos en el conjunto de prueba (`Tsi`) para el modelo Random Forest muestran un desempeño sólido y balanceado. Se alcanzó una accuracy del 78.1%, lo cual indica una buena capacidad general del modelo para clasificar correctamente las instancias. Además, el F1-score de 72.1% refleja un equilibrio adecuado entre precisión y recall, lo cual es particularmente relevante en contextos con posibles desbalances de clase. La precisión ponderada del 75.8% sugiere que los errores tipo I (falsos positivos) fueron relativamente bajos, mientras que el recall ponderado igual al accuracy (78.1%) evidencia que el modelo logra recuperar una alta proporción de las instancias relevantes. En conjunto, estas métricas avalan que el modelo entrenado captura patrones significativos en los datos sin sobreajuste evidente."
   ]
  },
  {
   "cell_type": "code",
   "execution_count": null,
   "id": "17ff7d2b",
   "metadata": {},
   "outputs": [
    {
     "name": "stderr",
     "output_type": "stream",
     "text": [
      "                                                                                \r"
     ]
    },
    {
     "data": {
      "image/png": "[encoded data removed]",
      "text/plain": [
       "<Figure size 600x500 with 2 Axes>"
      ]
     },
     "metadata": {},
     "output_type": "display_data"
    }
   ],
   "source": [
    "# Matriz de confusión\n",
    "import matplotlib.pyplot as plt\n",
    "import seaborn as sns\n",
    "from sklearn.metrics import confusion_matrix\n",
    "\n",
    "# Obtener etiquetas reales y predichas\n",
    "y_true = rf_predictions.select(\"label\").rdd.flatMap(lambda x: x).collect()\n",
    "y_pred = rf_predictions.select(\"prediction\").rdd.flatMap(lambda x: x).collect()\n",
    "\n",
    "# Calcular matriz de confusión\n",
    "cm = confusion_matrix(y_true, y_pred)\n",
    "\n",
    "# Visualizar matriz\n",
    "plt.figure(figsize=(6, 5))\n",
    "sns.heatmap(cm, annot=True, fmt='d', cmap=\"Blues\", xticklabels=True, yticklabels=True)\n",
    "plt.title(\"Matriz de Confusión\")\n",
    "plt.xlabel(\"Predicted\")\n",
    "plt.ylabel(\"Actual\")\n",
    "plt.tight_layout()\n",
    "plt.show()\n"
   ]
  },
  {
   "cell_type": "markdown",
   "id": "417f221e",
   "metadata": {},
   "source": [
    "Esta gráfica permite visualizar de manera explícita las predicciones correctas e incorrectas del modelo. Se observa un alto número de verdaderos negativos (155,156) y verdaderos positivos (6,898), con una proporción moderada de falsos negativos (41,931) que indica una oportunidad de mejora en la detección de la clase minoritaria. Aun así, la relación entre verdaderos positivos y falsos positivos (3,502) resulta favorable y refuerza la robustez del modelo."
   ]
  },
  {
   "cell_type": "code",
   "execution_count": 30,
   "id": "588ccb94",
   "metadata": {},
   "outputs": [
    {
     "name": "stderr",
     "output_type": "stream",
     "text": [
      "                                                                                \r"
     ]
    },
    {
     "data": {
      "image/png": "[encoded data removed]",
      "text/plain": [
       "<Figure size 600x500 with 1 Axes>"
      ]
     },
     "metadata": {},
     "output_type": "display_data"
    }
   ],
   "source": [
    "# Curva ROC y AUC\n",
    "from sklearn.metrics import roc_curve, auc\n",
    "import numpy as np\n",
    "\n",
    "# Obtener probabilidades de predicción para la clase positiva (1.0)\n",
    "y_score = rf_predictions.select(\"probability\").rdd.map(lambda x: x[0][1]).collect()\n",
    "\n",
    "# ROC y AUC\n",
    "fpr, tpr, _ = roc_curve(y_true, y_score, pos_label=1.0)\n",
    "roc_auc = auc(fpr, tpr)\n",
    "\n",
    "# Gráfico\n",
    "plt.figure(figsize=(6, 5))\n",
    "plt.plot(fpr, tpr, label=f\"ROC curve (AUC = {roc_auc:.2f})\", linewidth=2)\n",
    "plt.plot([0, 1], [0, 1], 'k--', linewidth=1)\n",
    "plt.xlabel(\"False Positive Rate\")\n",
    "plt.ylabel(\"True Positive Rate\")\n",
    "plt.title(\"Curva ROC\")\n",
    "plt.legend(loc=\"lower right\")\n",
    "plt.tight_layout()\n",
    "plt.show()"
   ]
  },
  {
   "cell_type": "markdown",
   "id": "f21e6bfd",
   "metadata": {},
   "source": [
    "El área bajo la curva (AUC) fue de 0.64, lo cual representa una capacidad moderada de discriminación entre clases. Aunque este valor podría mejorarse, es aceptable dadas las características del dataset y la naturaleza ruidosa de algunas variables. La curva evidencia que el modelo logra una mejor tasa de verdaderos positivos que una predicción aleatoria, pero también sugiere posibles márgenes de optimización adicionales, por ejemplo mediante técnicas de balanceo de clases o ingeniería de características más avanzada."
   ]
  },
  {
   "cell_type": "code",
   "execution_count": null,
   "id": "cd25dd75",
   "metadata": {},
   "outputs": [
    {
     "data": {
      "image/png": "[encoded data removed]",
      "text/plain": [
       "<Figure size 600x400 with 1 Axes>"
      ]
     },
     "metadata": {},
     "output_type": "display_data"
    }
   ],
   "source": [
    "# Importancia de características\n",
    "# Obtener modelo Random Forest (última etapa del pipeline)\n",
    "rf_model = best_rf_pipeline_model.stages[-1]\n",
    "\n",
    "# Nombres originales de las características\n",
    "feature_names = [\n",
    "    \"helpful_votes\", \n",
    "    \"total_votes\", \n",
    "    \"verified_purchase_index\", \n",
    "    \"vine_index\"\n",
    "]\n",
    "\n",
    "# Obtener importancias\n",
    "importances = rf_model.featureImportances.toArray()\n",
    "\n",
    "# Visualizar\n",
    "plt.figure(figsize=(6, 4))\n",
    "sns.barplot(x=importances, y=feature_names)\n",
    "plt.title(\"Importancia de características (Random Forest)\")\n",
    "plt.xlabel(\"Importancia\")\n",
    "plt.tight_layout()\n",
    "plt.show()"
   ]
  },
  {
   "cell_type": "markdown",
   "id": "5967ce74",
   "metadata": {},
   "source": [
    "El análisis de importancia de variables indica que total_votes y helpful_votes son los principales contribuyentes a la predicción del sentimiento, mientras que verified_purchase_index y vine_index tienen menor relevancia. Este hallazgo es coherente con el comportamiento observado en etapas exploratorias, y respalda la interpretación de que el volumen y utilidad percibida de los votos son factores determinantes en la valoración del sentimiento expresado."
   ]
  },
  {
   "cell_type": "markdown",
   "id": "c4895cbe",
   "metadata": {},
   "source": [
    "### 2.1.2) Modelo no supervisado"
   ]
  },
  {
   "cell_type": "code",
   "execution_count": 37,
   "id": "e9643093",
   "metadata": {},
   "outputs": [
    {
     "name": "stderr",
     "output_type": "stream",
     "text": [
      "[Stage 1231:=====================================================>(75 + 1) / 76]\r"
     ]
    },
    {
     "name": "stdout",
     "output_type": "stream",
     "text": [
      "Silhouette Score final sobre conjunto de evaluación: 1.0000\n"
     ]
    },
    {
     "name": "stderr",
     "output_type": "stream",
     "text": [
      "                                                                                \r"
     ]
    }
   ],
   "source": [
    "# Evaluar el modelo final\n",
    "final_predictions = best_kmeans_model.transform(all_tri_union)\n",
    "final_silhouette_score = kmeans_evaluator.evaluate(final_predictions)\n",
    "\n",
    "print(f\"Silhouette Score final sobre conjunto de evaluación: {final_silhouette_score:.4f}\")"
   ]
  },
  {
   "cell_type": "markdown",
   "id": "d99a0591",
   "metadata": {},
   "source": [
    "Dado que el modelo de KMeans es un algoritmo no supervisado, no contamos con etiquetas verdaderas que nos permitan evaluar su desempeño de forma tradicional como en los modelos supervisados. Por ello, la métrica empleada para cuantificar la calidad de la agrupación generada es el **Silhouette Score**, que mide la cohesión interna de los clústeres y su separación respecto a otros grupos.\n",
    "\n",
    "En un intento inicial de evaluar el modelo sobre el conjunto de prueba (`all_tsi_union`), se identificó que **todos los puntos fueron asignados a un único clúster**, lo cual imposibilita el cálculo de esta métrica. Esto sugiere que la distribución de los datos en dicho subconjunto no contiene suficiente diversidad para generar múltiples grupos válidos.\n",
    "\n",
    "Por esta razón, se optó por evaluar el modelo sobre el mismo conjunto de entrenamiento (`all_tri_union`), ya que en contextos no supervisados es común validar la estructura de los clústeres sobre los datos utilizados para el ajuste del modelo.\n",
    "\n",
    "El **Silhouette Score obtenido fue de 1.0000**, lo cual es un valor inusualmente alto y sugiere una **segmentación extremadamente bien definida**. Sin embargo, es importante destacar que un resultado tan perfecto **puede ser indicativo de algún efecto artificial** como:\n",
    "- Redundancia en las variables.\n",
    "- Escalado inapropiado o trivialización del espacio vectorial.\n",
    "- Distribuciones altamente separables por naturaleza."
   ]
  },
  {
   "cell_type": "code",
   "execution_count": 38,
   "id": "7b33c6f8",
   "metadata": {},
   "outputs": [
    {
     "name": "stdout",
     "output_type": "stream",
     "text": [
      "Centroide 0: [0.01609117 0.02110085 0.3769027  0.07160978]\n",
      "Centroide 1: [454.68972459 452.77774887   0.           0.        ]\n"
     ]
    }
   ],
   "source": [
    "# Extraer el modelo KMeans del pipeline\n",
    "kmeans_stage = best_kmeans_model.stages[-1]\n",
    "centroids = kmeans_stage.clusterCenters()\n",
    "\n",
    "for i, center in enumerate(centroids):\n",
    "    print(f\"Centroide {i}: {center}\")"
   ]
  },
  {
   "cell_type": "markdown",
   "id": "aebcb813",
   "metadata": {},
   "source": [
    "Se identificaron dos centroides claramente diferenciados:\n",
    "\n",
    "- **Centroide 0:** Con valores bajos en todas las variables escaladas, lo cual sugiere que agrupa reseñas con baja participación (pocos votos útiles, bajas puntuaciones y sin afiliación a programas como Vine).\n",
    "- **Centroide 1:** Muestra valores excepcionalmente altos en las primeras dos variables (probablemente `helpful_votes` y `total_votes`), mientras que las otras son cero. Esto indica la presencia de un grupo **muy pequeño pero extremadamente destacado**, posiblemente compuesto por reseñas altamente visibles o atípicas.\n",
    "\n",
    "Esta diferencia tan marcada en los centroides puede **explicar el Silhouette Score de 1.0000**, ya que la distancia entre los clústeres es extremadamente alta, mientras que la dispersión interna (dentro de cada grupo) es muy baja."
   ]
  },
  {
   "cell_type": "code",
   "execution_count": 39,
   "id": "e978c47a",
   "metadata": {},
   "outputs": [
    {
     "name": "stderr",
     "output_type": "stream",
     "text": [
      "[Stage 1234:===================================================>  (72 + 4) / 76]\r"
     ]
    },
    {
     "name": "stdout",
     "output_type": "stream",
     "text": [
      "+----------+---------+------+\n",
      "|prediction|sentiment| count|\n",
      "+----------+---------+------+\n",
      "|         0|        0|114225|\n",
      "|         0|        1|370115|\n",
      "|         1|        1|     2|\n",
      "+----------+---------+------+\n",
      "\n"
     ]
    },
    {
     "name": "stderr",
     "output_type": "stream",
     "text": [
      "                                                                                \r"
     ]
    }
   ],
   "source": [
    "# Agregación para ver la distribución del sentimiento por clúster\n",
    "final_predictions.select(\"prediction\", \"sentiment\") \\\n",
    "    .groupBy(\"prediction\", \"sentiment\") \\\n",
    "    .count() \\\n",
    "    .orderBy(\"prediction\", \"sentiment\") \\\n",
    "    .show()"
   ]
  },
  {
   "cell_type": "markdown",
   "id": "3eb05562",
   "metadata": {},
   "source": [
    "La mayoría de los datos se agruparon en el **clúster 0**, que contiene más de 484,000 registros, mientras que el **clúster 1 contiene únicamente 2 observaciones**. Este desbalance extremo implica que el modelo ha detectado un grupo de **casos excepcionales** más que una estructura generalizable.\n",
    "\n",
    "| Clúster | Sentimiento 0 (Negativo) | Sentimiento 1 (Positivo) | Total |\n",
    "|---------|--------------------------|---------------------------|-------|\n",
    "|    0    |        114,225           |          370,115          | 484,340 |\n",
    "|    1    |             0            |               2           |    2   |\n",
    "\n",
    "Esta tabla muestra que **prácticamente todos los datos** caen en un solo clúster, con muy poca diversidad estructural útil para segmentaciones prácticas.\n",
    "\n",
    "Aunque el **Silhouette Score es perfecto**, el análisis de los centroides y la distribución interna revela que esta perfección **puede ser engañosa**. La calidad del clustering no radica solo en la separación matemática, sino también en la **relevancia interpretativa y utilidad práctica** de los grupos formados. "
   ]
  },
  {
   "cell_type": "code",
   "execution_count": 40,
   "id": "ebf9fcd3",
   "metadata": {},
   "outputs": [
    {
     "name": "stderr",
     "output_type": "stream",
     "text": [
      "                                                                                \r"
     ]
    },
    {
     "data": {
      "image/png": "[encoded data removed]",
      "text/plain": [
       "<Figure size 640x480 with 1 Axes>"
      ]
     },
     "metadata": {},
     "output_type": "display_data"
    }
   ],
   "source": [
    "# Silhouette Score por registro (Silhouette plot)\n",
    "from sklearn.metrics import silhouette_samples\n",
    "import numpy as np\n",
    "import matplotlib.pyplot as plt\n",
    "import seaborn as sns\n",
    "\n",
    "# Convertir a Pandas\n",
    "pdf = final_predictions.select(\"scaled_features\", \"prediction\").toPandas()\n",
    "\n",
    "# Extraer features y etiquetas\n",
    "X = np.array([row.toArray() for row in pdf['scaled_features']])\n",
    "labels = pdf['prediction']\n",
    "\n",
    "# Calcular silhouette por punto\n",
    "sample_silhouette_values = silhouette_samples(X, labels)\n",
    "\n",
    "# Agregar a dataframe\n",
    "pdf['silhouette'] = sample_silhouette_values\n",
    "\n",
    "# Graficar\n",
    "sns.boxplot(data=pdf, x='prediction', y='silhouette')\n",
    "plt.title(\"Distribución de Silhouette por clúster\")\n",
    "plt.xlabel(\"Clúster\")\n",
    "plt.ylabel(\"Silhouette Score\")\n",
    "plt.show()"
   ]
  },
  {
   "cell_type": "markdown",
   "id": "e5186eeb",
   "metadata": {},
   "source": [
    "A pesar del valor promedio perfecto, la distribución interna muestra que el clúster dominante contiene gran parte de la variabilidad."
   ]
  },
  {
   "cell_type": "code",
   "execution_count": 41,
   "id": "9f434514",
   "metadata": {},
   "outputs": [
    {
     "data": {
      "image/png": "[encoded data removed]",
      "text/plain": [
       "<Figure size 800x600 with 1 Axes>"
      ]
     },
     "metadata": {},
     "output_type": "display_data"
    }
   ],
   "source": [
    "# Proyección 2D con PCA (clusters visuales)\n",
    "from sklearn.decomposition import PCA\n",
    "\n",
    "pca = PCA(n_components=2)\n",
    "X_pca = pca.fit_transform(X)\n",
    "\n",
    "pdf['pca1'] = X_pca[:, 0]\n",
    "pdf['pca2'] = X_pca[:, 1]\n",
    "\n",
    "# Graficar clusters en 2D\n",
    "plt.figure(figsize=(8,6))\n",
    "sns.scatterplot(data=pdf, x='pca1', y='pca2', hue='prediction', palette='tab10')\n",
    "plt.title(\"Visualización de clústeres con PCA\")\n",
    "plt.xlabel(\"Componente principal 1\")\n",
    "plt.ylabel(\"Componente principal 2\")\n",
    "plt.legend(title=\"Clúster\")\n",
    "plt.show()"
   ]
  },
  {
   "cell_type": "markdown",
   "id": "1428c1f4",
   "metadata": {},
   "source": [
    "Se aprecia una separación clara entre los clústeres, aunque el clúster minoritario aparece aislado con apenas un par de observaciones."
   ]
  },
  {
   "cell_type": "code",
   "execution_count": 43,
   "id": "3162e38c",
   "metadata": {},
   "outputs": [
    {
     "data": {
      "image/png": "[encoded data removed]",
      "text/plain": [
       "<Figure size 1000x600 with 2 Axes>"
      ]
     },
     "metadata": {},
     "output_type": "display_data"
    }
   ],
   "source": [
    "# Heatmap de centroides\n",
    "import pandas as pd\n",
    "import seaborn as sns\n",
    "\n",
    "# Centroides como dataframe\n",
    "centroids_df = pd.DataFrame(centroids)\n",
    "\n",
    "# Mapa de calor\n",
    "plt.figure(figsize=(10, 6))\n",
    "sns.heatmap(centroids_df, annot=True, cmap=\"YlGnBu\")\n",
    "plt.title(\"Valores de características por centroide\")\n",
    "plt.xlabel(\"Características\")\n",
    "plt.ylabel(\"Clúster\")\n",
    "plt.show()"
   ]
  },
  {
   "cell_type": "markdown",
   "id": "7cd72996",
   "metadata": {},
   "source": [
    "Refleja la gran disparidad entre los clústeres en al menos dos variables, lo que sugiere que la separación se basa en pocas características dominantes."
   ]
  },
  {
   "cell_type": "markdown",
   "id": "71d9975c",
   "metadata": {},
   "source": [
    "# 3) Conclusiones y trabajo futuro\n",
    "---"
   ]
  },
  {
   "cell_type": "markdown",
   "id": "aca8cd71",
   "metadata": {},
   "source": [
    "El desarrollo de este proyecto representó una oportunidad invaluable para comprender y aplicar conceptos clave del análisis de datos en un contexto de Big Data. A través del uso de herramientas como PySpark, se logró implementar modelos de aprendizaje supervisado y no supervisado sobre un conjunto de reseñas masivo, reforzando habilidades tanto técnicas como analíticas.\n",
    "\n",
    "Uno de los principales aprendizajes fue reconocer la importancia de elegir las tecnologías adecuadas para enfrentar problemas reales donde el volumen de datos supera las capacidades tradicionales. Así mismo, se evidenció el papel crucial que juega el preprocesamiento de datos, el conocimiento del dominio y la construcción de una muestra representativa, no solo como base para obtener resultados sólidos y confiables, sino también como una estrategia necesaria para no comprometer la capacidad computacional disponible. Además, se destacó que la correcta visualización de resultados (mediante gráficas y tablas relevantes) permitió comunicar hallazgos de forma clara tanto a audiencias técnicas como no especializadas.\n",
    "\n",
    "Desde el punto de vista práctico, se consolidó un modelo supervisado robusto capaz de predecir el sentimiento de los consumidores con un desempeño satisfactorio, especialmente útil para sistemas de recomendación o análisis de reputación. No obstante, se identificó la necesidad de mejorar el tratamiento de la clase minoritaria y explorar estrategias más sofisticadas de feature engineering. Por su parte, el modelo no supervisado demostró una separación técnica efectiva, pero su aplicabilidad aún es limitada. En trabajos futuros, se propone fortalecer esta línea mediante mejoras en la definición de clústeres y su alineación con patrones de comportamiento de compra.\n",
    "\n",
    "Finalmente, una línea de desarrollo particularmente prometedora radica en la incorporación de técnicas de Procesamiento de Lenguaje Natural (NLP). Dado que el corpus original contiene textos ricos en información, su análisis podría potenciar aún más la capacidad predictiva de los modelos y abrir nuevas vías de segmentación y personalización. Este enfoque representa un paso natural para ampliar el valor del proyecto y adaptarlo a escenarios reales de negocio donde el texto juega un papel central."
   ]
  }
 ],
 "metadata": {
  "kernelspec": {
   "display_name": ".venv",
   "language": "python",
   "name": "python3"
  },
  "language_info": {
   "codemirror_mode": {
    "name": "ipython",
    "version": 3
   },
   "file_extension": ".py",
   "mimetype": "text/x-python",
   "name": "python",
   "nbconvert_exporter": "python",
   "pygments_lexer": "ipython3",
   "version": "3.12.0"
  }
 },
 "nbformat": 4,
 "nbformat_minor": 5
}
