{
 "cells": [
  {
   "cell_type": "markdown",
   "metadata": {},
   "source": [
    "# PySpark data investigation\n",
    "---"
   ]
  },
  {
   "cell_type": "code",
   "execution_count": 1,
   "metadata": {},
   "outputs": [],
   "source": [
    "import findspark\n",
    "from pyspark.sql import SparkSession\n",
    "from pyspark.sql.functions import col, isnan, when, count\n",
    "\n",
    "from os import path\n",
    "\n",
    "import matplotlib.pyplot as plt\n",
    "import seaborn as sns"
   ]
  },
  {
   "cell_type": "code",
   "execution_count": 2,
   "metadata": {},
   "outputs": [
    {
     "data": {
      "text/plain": [
       "'/Users/alonsopedreromartinez/Documents/GitHub/Proyecto-Big-Data-PySpark/Proyecto | lectura, escritura, archivos de Big Data PySpark/act_1_big_data/lib/python3.12/site-packages/pyspark'"
      ]
     },
     "execution_count": 2,
     "metadata": {},
     "output_type": "execute_result"
    }
   ],
   "source": [
    "findspark.init()\n",
    "findspark.find()"
   ]
  },
  {
   "cell_type": "code",
   "execution_count": 3,
   "metadata": {},
   "outputs": [
    {
     "name": "stderr",
     "output_type": "stream",
     "text": [
      "Setting default log level to \"WARN\".\n",
      "To adjust logging level use sc.setLogLevel(newLevel). For SparkR, use setLogLevel(newLevel).\n",
      "25/04/26 19:48:37 WARN NativeCodeLoader: Unable to load native-hadoop library for your platform... using builtin-java classes where applicable\n"
     ]
    },
    {
     "data": {
      "text/html": [
       "\n",
       "            <div>\n",
       "                <p><b>SparkSession - in-memory</b></p>\n",
       "                \n",
       "        <div>\n",
       "            <p><b>SparkContext</b></p>\n",
       "\n",
       "            <p><a href=\"http://192.168.1.13:4040\">Spark UI</a></p>\n",
       "\n",
       "            <dl>\n",
       "              <dt>Version</dt>\n",
       "                <dd><code>v3.5.5</code></dd>\n",
       "              <dt>Master</dt>\n",
       "                <dd><code>local[*]</code></dd>\n",
       "              <dt>AppName</dt>\n",
       "                <dd><code>pyspark-shell</code></dd>\n",
       "            </dl>\n",
       "        </div>\n",
       "        \n",
       "            </div>\n",
       "        "
      ],
      "text/plain": [
       "<pyspark.sql.session.SparkSession at 0x10f906bd0>"
      ]
     },
     "execution_count": 3,
     "metadata": {},
     "output_type": "execute_result"
    }
   ],
   "source": [
    "spark = SparkSession.builder.master(\"local[*]\").getOrCreate()\n",
    "spark.conf.set(\"spark.sql.repl.eagerEval.enabled\", True)\n",
    "\n",
    "spark"
   ]
  },
  {
   "cell_type": "code",
   "execution_count": 4,
   "metadata": {},
   "outputs": [],
   "source": [
    "PATH = \"../files/\"\n",
    "FILE = \"train.csv\""
   ]
  },
  {
   "cell_type": "code",
   "execution_count": 5,
   "metadata": {},
   "outputs": [],
   "source": [
    "class FileManagement():\n",
    "    def open_csv_file(self, PATH_input : str, FILE_input : str):\n",
    "        \"\"\"\n",
    "        This method opens a csv file with pyspark\n",
    "        \"\"\"\n",
    "        csv_df = spark.read.csv(\n",
    "            path.join(PATH_input, FILE_input),\n",
    "            header=False,\n",
    "            inferSchema=True,\n",
    "            multiLine=True,\n",
    "            escape=\"\\\"\",\n",
    "            quote=\"\\\"\"\n",
    "        )\n",
    "        csv_df = csv_df.withColumnRenamed(\"_c0\", \"polarity\") \\\n",
    "            .withColumnRenamed(\"_c1\", \"title\") \\\n",
    "            .withColumnRenamed(\"_c2\", \"text\")\n",
    "\n",
    "        csv_df.show(truncate=20)\n",
    "\n",
    "        return csv_df"
   ]
  },
  {
   "cell_type": "code",
   "execution_count": 6,
   "metadata": {},
   "outputs": [],
   "source": [
    "class StatisticalAnalysis():\n",
    "    def dataset_dimensions(self, df_input):\n",
    "        print(\"columns in the dataset:\", len(df_input.columns))\n",
    "        print(\"rows in the dataset:\", df_input.count())\n",
    "    \n",
    "    def schema_information(self, df_input):\n",
    "        \"\"\"\n",
    "        \"\"\"\n",
    "        df_input.printSchema()\n",
    "\n",
    "    def descriptive_statistics(self, df_input):\n",
    "        \"\"\"\n",
    "        \"\"\"\n",
    "        df_input.summary().show(truncate=False)"
   ]
  },
  {
   "cell_type": "code",
   "execution_count": 7,
   "metadata": {},
   "outputs": [],
   "source": [
    "fileManagement = FileManagement()"
   ]
  },
  {
   "cell_type": "code",
   "execution_count": 8,
   "metadata": {},
   "outputs": [
    {
     "name": "stderr",
     "output_type": "stream",
     "text": [
      "                                                                                \r"
     ]
    },
    {
     "name": "stdout",
     "output_type": "stream",
     "text": [
      "+--------+--------------------+--------------------+\n",
      "|polarity|               title|                text|\n",
      "+--------+--------------------+--------------------+\n",
      "|       2|Stuning even for ...|This sound track ...|\n",
      "|       2|The best soundtra...|I'm reading a lot...|\n",
      "|       2|            Amazing!|This soundtrack i...|\n",
      "|       2|Excellent Soundtrack|I truly like this...|\n",
      "|       2|Remember, Pull Yo...|If you've played ...|\n",
      "|       2|an absolute maste...|I am quite sure a...|\n",
      "|       1|        Buyer beware|This is a self-pu...|\n",
      "|       2|      Glorious story|I loved Whisper o...|\n",
      "|       2|    A FIVE STAR BOOK|I just finished r...|\n",
      "|       2|Whispers of the W...|This was a easy t...|\n",
      "|       1|          The Worst!|A complete waste ...|\n",
      "|       2|          Great book|This was a great ...|\n",
      "|       2|          Great Read|I thought this bo...|\n",
      "|       1|           Oh please|I guess you have ...|\n",
      "|       1|Awful beyond belief!|I feel I have to ...|\n",
      "|       1|Don't try to fool...|It's glaringly ob...|\n",
      "|       2|A romantic zen ba...|When you hear fol...|\n",
      "|       2|Fashionable Compr...|After I had a DVT...|\n",
      "|       2|Jobst UltraSheer ...|Excellent product...|\n",
      "|       1|sizes recomended ...|sizes are much sm...|\n",
      "+--------+--------------------+--------------------+\n",
      "only showing top 20 rows\n",
      "\n"
     ]
    }
   ],
   "source": [
    "df_reviews = fileManagement.open_csv_file(PATH, FILE)"
   ]
  },
  {
   "cell_type": "code",
   "execution_count": 9,
   "metadata": {},
   "outputs": [],
   "source": [
    "statisticalAnalysis = StatisticalAnalysis()"
   ]
  },
  {
   "cell_type": "code",
   "execution_count": 10,
   "metadata": {},
   "outputs": [
    {
     "name": "stdout",
     "output_type": "stream",
     "text": [
      "columns in the dataset: 3\n"
     ]
    },
    {
     "name": "stderr",
     "output_type": "stream",
     "text": [
      "[Stage 3:>                                                          (0 + 1) / 1]\r"
     ]
    },
    {
     "name": "stdout",
     "output_type": "stream",
     "text": [
      "rows in the dataset: 3600000\n"
     ]
    },
    {
     "name": "stderr",
     "output_type": "stream",
     "text": [
      "                                                                                \r"
     ]
    }
   ],
   "source": [
    "statisticalAnalysis.dataset_dimensions(df_reviews)"
   ]
  },
  {
   "cell_type": "code",
   "execution_count": 11,
   "metadata": {},
   "outputs": [
    {
     "name": "stdout",
     "output_type": "stream",
     "text": [
      "root\n",
      " |-- polarity: integer (nullable = true)\n",
      " |-- title: string (nullable = true)\n",
      " |-- text: string (nullable = true)\n",
      "\n"
     ]
    }
   ],
   "source": [
    "statisticalAnalysis.schema_information(df_reviews)"
   ]
  },
  {
   "cell_type": "code",
   "execution_count": 12,
   "metadata": {},
   "outputs": [
    {
     "name": "stderr",
     "output_type": "stream",
     "text": [
      "25/04/26 19:48:46 WARN SparkStringUtils: Truncated the string representation of a plan since it was too large. This behavior can be adjusted by setting 'spark.sql.debug.maxToStringFields'.\n",
      "25/04/26 19:48:47 WARN GarbageCollectionMetrics: To enable non-built-in garbage collector(s) List(G1 Concurrent GC), users should configure it(them) to spark.eventLog.gcMetrics.youngGenerationGarbageCollectors or spark.eventLog.gcMetrics.oldGenerationGarbageCollectors\n"
     ]
    },
    {
     "name": "stdout",
     "output_type": "stream",
     "text": [
      "+-------+------------------+--------------------------------+---------------------------------------------------------------------------------------------------------------+\n",
      "|summary|polarity          |title                           |text                                                                                                           |\n",
      "+-------+------------------+--------------------------------+---------------------------------------------------------------------------------------------------------------+\n",
      "|count  |3600000           |3599952                         |3600000                                                                                                        |\n",
      "|mean   |1.5               |NaN                             |NULL                                                                                                           |\n",
      "|stddev |0.5000000694444666|NaN                             |NULL                                                                                                           |\n",
      "|min    |1                 |\u0010The Worst Thing I've Ever Heard|\u0003this is the best toy in the wrolrd i mean it is a plane and a car and that's y i think it is a relly cool toy.|\n",
      "|25%    |1                 |7.0                             |NULL                                                                                                           |\n",
      "|50%    |2                 |526.0                           |NULL                                                                                                           |\n",
      "|75%    |2                 |1984.0                          |NULL                                                                                                           |\n",
      "|max    |2                 |♦ LOVE IT ♦                     |…were Marvin and Tami not the best mixed duo in American music, ever?Fine quality, good selection, ... ... ....|\n",
      "+-------+------------------+--------------------------------+---------------------------------------------------------------------------------------------------------------+\n",
      "\n"
     ]
    },
    {
     "name": "stderr",
     "output_type": "stream",
     "text": [
      "                                                                                \r"
     ]
    }
   ],
   "source": [
    "statisticalAnalysis.descriptive_statistics(df_reviews)"
   ]
  }
 ],
 "metadata": {
  "kernelspec": {
   "display_name": "act_1_big_data",
   "language": "python",
   "name": "python3"
  },
  "language_info": {
   "codemirror_mode": {
    "name": "ipython",
    "version": 3
   },
   "file_extension": ".py",
   "mimetype": "text/x-python",
   "name": "python",
   "nbconvert_exporter": "python",
   "pygments_lexer": "ipython3",
   "version": "3.12.7"
  }
 },
 "nbformat": 4,
 "nbformat_minor": 2
}
