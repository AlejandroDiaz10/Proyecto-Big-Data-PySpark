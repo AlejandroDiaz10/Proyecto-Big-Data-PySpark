{
 "cells": [
  {
   "cell_type": "markdown",
   "id": "fc93ef7d",
   "metadata": {},
   "source": [
    "# Actividad 4 | Métricas de calidad de resultados\n",
    "---"
   ]
  },
  {
   "cell_type": "markdown",
   "id": "e8ec30f5",
   "metadata": {},
   "source": [
    "**MAESTRÍA EN INTELIGENCIA ARTIFICIAL APLICADA**\n",
    "\n",
    "**Curso: TC4034.10 - Análisis de grandes volúmenes de datos**\n",
    "\n",
    "Tecnológico de Monterrey\n",
    "\n",
    "* Dr. Iván Olmos Pineda\n",
    "* Mtra. Verónica Sandra Guzmán de Valle\n",
    "* Mtro. Alberto Daniel Salinas Montemayor\n",
    "\n",
    "---"
   ]
  },
  {
   "cell_type": "markdown",
   "id": "bfc9a9d0",
   "metadata": {},
   "source": [
    "**Datos del alumno**\n",
    "\n",
    "|  NOMBRE COMPLETO                        |     MATRÍCULA     |\n",
    "| :-------------------------------------: |:-----------------:|\n",
    "| Emiliano Saucedo Arriola                |  A01659258        |"
   ]
  },
  {
   "cell_type": "markdown",
   "id": "ce9e0cf9",
   "metadata": {},
   "source": [
    "# Actividad 4"
   ]
  },
  {
   "cell_type": "markdown",
   "id": "91480e99",
   "metadata": {},
   "source": [
    "## 0. Inicialización"
   ]
  },
  {
   "cell_type": "code",
   "execution_count": 24,
   "id": "12334dfd",
   "metadata": {},
   "outputs": [],
   "source": [
    "import findspark\n",
    "\n",
    "from pyspark.sql import SparkSession, functions as F\n",
    "from pyspark.sql import functions as F\n",
    "from pyspark.sql.types import *\n",
    "from functools import reduce\n",
    "from operator import and_\n",
    "\n",
    "import os\n",
    "from concurrent.futures import ThreadPoolExecutor\n",
    "\n",
    "import pandas as pd\n",
    "\n",
    "from pyspark.sql import DataFrame\n",
    "from pyspark.sql.functions import col, log1p\n",
    "from pyspark.ml.feature import StringIndexer\n",
    "\n",
    "from pyspark.ml import Pipeline\n",
    "from pyspark.ml.feature import VectorAssembler\n",
    "from pyspark.ml.tuning import CrossValidator, ParamGridBuilder\n",
    "from pyspark.ml.classification import RandomForestClassifier, GBTClassifier\n",
    "from pyspark.ml.evaluation import MulticlassClassificationEvaluator, BinaryClassificationEvaluator"
   ]
  },
  {
   "cell_type": "code",
   "execution_count": 25,
   "id": "c92ec906",
   "metadata": {},
   "outputs": [
    {
     "data": {
      "text/plain": [
       "'/Users/emisaar/anaconda3/envs/pyspark_env/lib/python3.10/site-packages/pyspark'"
      ]
     },
     "execution_count": 25,
     "metadata": {},
     "output_type": "execute_result"
    }
   ],
   "source": [
    "findspark.init()\n",
    "findspark.find()"
   ]
  },
  {
   "cell_type": "code",
   "execution_count": 26,
   "id": "1c08099e",
   "metadata": {},
   "outputs": [],
   "source": [
    "class FileManager():\n",
    "    @staticmethod\n",
    "    def open_csv_file(file_path: str):\n",
    "        \"\"\"\n",
    "        Abre un archivo CSV usando PySpark con configuraciones optimizadas\n",
    "        \"\"\"\n",
    "        csv_df = spark.read.csv(\n",
    "            file_path,\n",
    "            header=True,\n",
    "            inferSchema=True,\n",
    "            multiLine=True,\n",
    "            escape=\"\\\"\",\n",
    "            quote=\"\\\"\"\n",
    "        )\n",
    "        \n",
    "        print(f\"Dataset original cargado: {csv_df.count():,} registros\")\n",
    "        csv_df.show(5, truncate=20)\n",
    "        return csv_df"
   ]
  },
  {
   "cell_type": "code",
   "execution_count": 27,
   "id": "7c8d42e8",
   "metadata": {},
   "outputs": [
    {
     "data": {
      "text/html": [
       "\n",
       "            <div>\n",
       "                <p><b>SparkSession - in-memory</b></p>\n",
       "                \n",
       "        <div>\n",
       "            <p><b>SparkContext</b></p>\n",
       "\n",
       "            <p><a href=\"http://192.168.100.8:4040\">Spark UI</a></p>\n",
       "\n",
       "            <dl>\n",
       "              <dt>Version</dt>\n",
       "                <dd><code>v3.5.5</code></dd>\n",
       "              <dt>Master</dt>\n",
       "                <dd><code>local[*]</code></dd>\n",
       "              <dt>AppName</dt>\n",
       "                <dd><code>pyspark-shell</code></dd>\n",
       "            </dl>\n",
       "        </div>\n",
       "        \n",
       "            </div>\n",
       "        "
      ],
      "text/plain": [
       "<pyspark.sql.session.SparkSession at 0x13b601060>"
      ]
     },
     "execution_count": 27,
     "metadata": {},
     "output_type": "execute_result"
    }
   ],
   "source": [
    "spark = SparkSession.builder.master(\"local[*]\").getOrCreate()\n",
    "spark.sparkContext.setLogLevel(\"ERROR\")\n",
    "spark.conf.set(\"spark.sql.repl.eagerEval.enabled\", True)\n",
    "spark"
   ]
  },
  {
   "cell_type": "code",
   "execution_count": 28,
   "id": "0ed1a46e",
   "metadata": {},
   "outputs": [
    {
     "name": "stderr",
     "output_type": "stream",
     "text": [
      "/Users/emisaar/anaconda3/envs/pyspark_env/lib/python3.10/site-packages/tqdm/auto.py:21: TqdmWarning: IProgress not found. Please update jupyter and ipywidgets. See https://ipywidgets.readthedocs.io/en/stable/user_install.html\n",
      "  from .autonotebook import tqdm as notebook_tqdm\n"
     ]
    },
    {
     "name": "stdout",
     "output_type": "stream",
     "text": [
      "Path to dataset files: /Users/emisaar/.cache/kagglehub/datasets/machharavikiran/amazon-reviews/versions/1\n"
     ]
    }
   ],
   "source": [
    "import kagglehub\n",
    "\n",
    "FILE_PATH = kagglehub.dataset_download(\"machharavikiran/amazon-reviews\")\n",
    "print(\"Path to dataset files:\", FILE_PATH)"
   ]
  },
  {
   "cell_type": "code",
   "execution_count": 29,
   "id": "13f79c3b",
   "metadata": {},
   "outputs": [
    {
     "name": "stderr",
     "output_type": "stream",
     "text": [
      "[Stage 224:>                                                        (0 + 1) / 1]\r"
     ]
    },
    {
     "name": "stdout",
     "output_type": "stream",
     "text": [
      "Dataset original cargado: 6,906,564 registros\n",
      "+-----------+-----------+--------------+----------+--------------+--------------------+----------------+-----------+-------------+-----------+----+-----------------+--------------------+--------------------+-----------+---------+\n",
      "|marketplace|customer_id|     review_id|product_id|product_parent|       product_title|product_category|star_rating|helpful_votes|total_votes|vine|verified_purchase|     review_headline|         review_body|review_date|sentiment|\n",
      "+-----------+-----------+--------------+----------+--------------+--------------------+----------------+-----------+-------------+-----------+----+-----------------+--------------------+--------------------+-----------+---------+\n",
      "|         US|   22873041|R3ARRMDEGED8RD|B00KJWQIIC|     335625766|Plemo 14-Inch Lap...|              PC|          5|            0|          0|   N|                Y|Pleasantly surprised|I was very surpri...| 2015-08-31|        1|\n",
      "|         US|   30088427| RQ28TSA020Y6J|B013ALA9LA|     671157305|TP-Link OnHub AC1...|              PC|          5|           24|         31|   N|                N|OnHub is a pretty...|I am a Google emp...| 2015-08-31|        1|\n",
      "|         US|   20329786| RUXJRZCT6953M|B00PML2GQ8|     982036237|AmazonBasics USB ...|              PC|          1|            2|          2|   N|                N|None of them work...|Bought cables in ...| 2015-08-31|        0|\n",
      "|         US|   14215710| R7EO0UO6BPB71|B001NS0OZ4|     576587596|Transcend P8 15-i...|              PC|          1|            0|          0|   N|                Y|just keep searching.|nope, cheap and slow| 2015-08-31|        0|\n",
      "|         US|   38264512|R39NJY2YJ1JFSV|B00AQMTND2|     964759214|Aleratec SATA Dat...|              PC|          5|            0|          0|   N|                Y|          Five Stars|Excellent! Great ...| 2015-08-31|        1|\n",
      "+-----------+-----------+--------------+----------+--------------+--------------------+----------------+-----------+-------------+-----------+----+-----------------+--------------------+--------------------+-----------+---------+\n",
      "only showing top 5 rows\n",
      "\n"
     ]
    },
    {
     "name": "stderr",
     "output_type": "stream",
     "text": [
      "                                                                                \r"
     ]
    }
   ],
   "source": [
    "# Cargar dataset (población P)\n",
    "df_reviews_P = FileManager.open_csv_file(FILE_PATH)"
   ]
  },
  {
   "cell_type": "markdown",
   "id": "c3dcdaab",
   "metadata": {},
   "source": [
    "## 1.  Construcción de la muestra M"
   ]
  },
  {
   "cell_type": "code",
   "execution_count": 30,
   "id": "4bba0c29",
   "metadata": {},
   "outputs": [],
   "source": [
    "# Definir variables de caracterización\n",
    "characterization_variables = [\"star_rating\", \"verified_purchase\", \"vine\"]"
   ]
  },
  {
   "cell_type": "markdown",
   "id": "ddf7f3c4",
   "metadata": {},
   "source": [
    "#### Análisis de la población P\n",
    "\n",
    "En este apartado se realiza un análisis exploratorio sobre el dataset completo (población P). El objetivo es comprender la distribución general de las variables de caracterización (`star_rating`, `verified_purchase`, `vine`) y cómo se combinan entre sí, para identificar patrones, sesgos y grupos minoritarios."
   ]
  },
  {
   "cell_type": "code",
   "execution_count": 31,
   "id": "b3ba0ae5",
   "metadata": {},
   "outputs": [
    {
     "name": "stderr",
     "output_type": "stream",
     "text": [
      "[Stage 228:>                                                        (0 + 1) / 1]\r"
     ]
    },
    {
     "name": "stdout",
     "output_type": "stream",
     "text": [
      "Tamaño total de la población P: 6,906,564 registros\n"
     ]
    },
    {
     "name": "stderr",
     "output_type": "stream",
     "text": [
      "                                                                                \r"
     ]
    }
   ],
   "source": [
    "# Analizar distribución de la población\n",
    "total_count = df_reviews_P.count()\n",
    "print(f\"Tamaño total de la población P: {total_count:,} registros\")"
   ]
  },
  {
   "cell_type": "code",
   "execution_count": 32,
   "id": "f427bb05",
   "metadata": {},
   "outputs": [
    {
     "name": "stdout",
     "output_type": "stream",
     "text": [
      "\n",
      "Distribución de star_rating:\n"
     ]
    },
    {
     "name": "stderr",
     "output_type": "stream",
     "text": [
      "                                                                                \r"
     ]
    },
    {
     "name": "stdout",
     "output_type": "stream",
     "text": [
      "+-----------+-------+----------+\n",
      "|star_rating|  count|percentage|\n",
      "+-----------+-------+----------+\n",
      "|          5|4105687|     59.45|\n",
      "|          4|1168208|     16.91|\n",
      "|          1| 756857|     10.96|\n",
      "|          3| 513656|      7.44|\n",
      "|          2| 362156|      5.24|\n",
      "+-----------+-------+----------+\n",
      "\n",
      "\n",
      "Distribución de verified_purchase:\n"
     ]
    },
    {
     "name": "stderr",
     "output_type": "stream",
     "text": [
      "                                                                                \r"
     ]
    },
    {
     "name": "stdout",
     "output_type": "stream",
     "text": [
      "+-----------------+-------+----------+\n",
      "|verified_purchase|  count|percentage|\n",
      "+-----------------+-------+----------+\n",
      "|                Y|6047075|     87.56|\n",
      "|                N| 859489|     12.44|\n",
      "+-----------------+-------+----------+\n",
      "\n",
      "\n",
      "Distribución de vine:\n"
     ]
    },
    {
     "name": "stderr",
     "output_type": "stream",
     "text": [
      "[Stage 237:>                                                        (0 + 1) / 1]\r"
     ]
    },
    {
     "name": "stdout",
     "output_type": "stream",
     "text": [
      "+----+-------+----------+\n",
      "|vine|  count|percentage|\n",
      "+----+-------+----------+\n",
      "|   N|6870336|     99.48|\n",
      "|   Y|  36228|      0.52|\n",
      "+----+-------+----------+\n",
      "\n"
     ]
    },
    {
     "name": "stderr",
     "output_type": "stream",
     "text": [
      "                                                                                \r"
     ]
    }
   ],
   "source": [
    "# Calcular distribución de cada variable individual\n",
    "for var in characterization_variables:\n",
    "    print(f\"\\nDistribución de {var}:\")\n",
    "    var_dist = df_reviews_P.groupBy(var).count() \\\n",
    "                .withColumn(\"percentage\", F.round(F.col(\"count\") * 100.0 / total_count, 2)) \\\n",
    "                .orderBy(\"count\", ascending=False)\n",
    "    var_dist.show()"
   ]
  },
  {
   "cell_type": "markdown",
   "id": "777e45c1",
   "metadata": {},
   "source": [
    "**Observaciones**\n",
    "\n",
    "***Distribución de calificaciones (`star_rating`)***\n",
    "* El 59.45% de las reseñas son de 5 estrellas, mostrando un fuerte sesgo positivo.\n",
    "* Las reseñas con 1 estrella representan el 10.96%, mientras que las reseñas intermedias (2–4 estrellas) representan el resto.\n",
    "\n",
    "***Distribución de compras verificadas (`verified_purchase`)***\n",
    "* La gran mayoría (87.56%) proviene de usuarios con compra verificada, indicando que la base de datos tiene un fuerte enfoque en opiniones genuinas.\n",
    "\n",
    "***Distribución del programa Vine (`vine`)***\n",
    "* Solo el 52% de las reseñas provienen del programa Vine (usuarios seleccionados para reseñar productos), mientras que el 99.48% no pertenece a este grupo, haciéndolo un segmento muy minoritario."
   ]
  },
  {
   "cell_type": "code",
   "execution_count": 33,
   "id": "e568c864",
   "metadata": {},
   "outputs": [
    {
     "name": "stdout",
     "output_type": "stream",
     "text": [
      "Distribución conjunta de ['star_rating', 'verified_purchase', 'vine']:\n"
     ]
    },
    {
     "name": "stderr",
     "output_type": "stream",
     "text": [
      "[Stage 240:>                                                        (0 + 1) / 1]\r"
     ]
    },
    {
     "name": "stdout",
     "output_type": "stream",
     "text": [
      "+-----------+-----------------+----+-------+-----------+\n",
      "|star_rating|verified_purchase|vine|  count|probability|\n",
      "+-----------+-----------------+----+-------+-----------+\n",
      "|          5|                Y|   N|3679909|   0.532813|\n",
      "|          4|                Y|   N|1019728|   0.147646|\n",
      "|          1|                Y|   N| 603371|   0.087362|\n",
      "|          3|                Y|   N| 443364|   0.064195|\n",
      "|          5|                N|   N| 410073|   0.059374|\n",
      "|          2|                Y|   N| 300544|   0.043516|\n",
      "|          1|                N|   N| 152779|   0.022121|\n",
      "|          4|                N|   N| 135197|   0.019575|\n",
      "|          3|                N|   N|  65398|   0.009469|\n",
      "|          2|                N|   N|  59973|   0.008683|\n",
      "|          5|                N|   Y|  15604|   0.002259|\n",
      "|          4|                N|   Y|  13240|   0.001917|\n",
      "|          3|                N|   Y|   4886|    7.07E-4|\n",
      "|          2|                N|   Y|   1634|    2.37E-4|\n",
      "|          1|                N|   Y|    705|    1.02E-4|\n",
      "|          5|                Y|   Y|    101|     1.5E-5|\n",
      "|          4|                Y|   Y|     43|     6.0E-6|\n",
      "|          3|                Y|   Y|      8|     1.0E-6|\n",
      "|          2|                Y|   Y|      5|     1.0E-6|\n",
      "|          1|                Y|   Y|      2|        0.0|\n",
      "+-----------+-----------------+----+-------+-----------+\n",
      "\n"
     ]
    },
    {
     "name": "stderr",
     "output_type": "stream",
     "text": [
      "                                                                                \r"
     ]
    }
   ],
   "source": [
    "# Calcular distribución conjunta\n",
    "print(f\"Distribución conjunta de {characterization_variables}:\")\n",
    "population_dist = df_reviews_P.groupBy(characterization_variables).count() \\\n",
    "                .withColumn(\"probability\", F.round(F.col(\"count\") / total_count, 6)) \\\n",
    "                .orderBy(\"probability\", ascending=False)\n",
    "population_dist.show(20)"
   ]
  },
  {
   "cell_type": "markdown",
   "id": "285ee96f",
   "metadata": {},
   "source": [
    "**Observaciones**\n",
    "* Más de la mitad son reseñas de 5 estrellas, verificadas y sin Vine (53.28%).\n",
    "* Los grupos minoritarios, como reseñas de Vine con calificaciones bajas (1-3), tienen probabilidades extremadamente pequeñas.\n",
    "* Esto confirma que la población está altamente desbalanceada, con algunos grupos muy dominantes y otros extremadamente escasos."
   ]
  },
  {
   "cell_type": "markdown",
   "id": "bbd449b7",
   "metadata": {},
   "source": [
    "#### Filtrado de los estratos"
   ]
  },
  {
   "cell_type": "code",
   "execution_count": 34,
   "id": "402f1a2d",
   "metadata": {},
   "outputs": [
    {
     "name": "stderr",
     "output_type": "stream",
     "text": [
      "[Stage 243:>                                                        (0 + 1) / 1]\r"
     ]
    },
    {
     "name": "stdout",
     "output_type": "stream",
     "text": [
      "Estratos identificados: 15\n",
      "Probabilidad mínima requerida: 0.000100\n"
     ]
    },
    {
     "name": "stderr",
     "output_type": "stream",
     "text": [
      "                                                                                \r"
     ]
    }
   ],
   "source": [
    "# Identificar estratos relevantes (combinaciones con suficiente probabilidad)\n",
    "min_probability = 0.0001\n",
    "relevant_strata = population_dist.filter(F.col(\"probability\") >= min_probability).collect()\n",
    "\n",
    "print(f\"Estratos identificados: {len(relevant_strata)}\")\n",
    "print(f\"Probabilidad mínima requerida: {min_probability:.6f}\")"
   ]
  },
  {
   "cell_type": "markdown",
   "id": "fac0060d",
   "metadata": {},
   "source": [
    "**Observaciones**\n",
    "\n",
    "Al analizar todas las combinaciones posibles de las variables de caracterización, se seleccionaron solo aquellos estratos (15 identificados) que tienen una probabilidad mínima (mayor o igual a 0.0001) de ocurrencia en la población. Esto asegura trabajar solo con grupos significativos."
   ]
  },
  {
   "cell_type": "markdown",
   "id": "b5d5dd20",
   "metadata": {},
   "source": [
    "#### Fracción de muestreo\n",
    "A continuación, se construye un diccionario en el que se calcula la fracción de muestreo que se aplicará a cada estrato relevante para construir la muestra representativa M. Para mantener la diversidad y la representatividad de los datos, se optó por tomar el 10% de cada grupo, con un pequeño ajuste (~12%) para compensar la variabilidad aleatoria del muestreo y evitar que algunos grupos minoritarios terminen demasiado reducidos."
   ]
  },
  {
   "cell_type": "code",
   "execution_count": 35,
   "id": "596694e9",
   "metadata": {},
   "outputs": [
    {
     "name": "stderr",
     "output_type": "stream",
     "text": [
      "[Stage 251:>                                                        (0 + 1) / 1]\r"
     ]
    },
    {
     "name": "stdout",
     "output_type": "stream",
     "text": [
      "Estrato R5_VPY_VN: 3,679,909 registros, fracción: 0.120\n",
      "Estrato R4_VPY_VN: 1,019,728 registros, fracción: 0.120\n",
      "Estrato R1_VPY_VN: 603,371 registros, fracción: 0.120\n",
      "Estrato R3_VPY_VN: 443,364 registros, fracción: 0.120\n",
      "Estrato R5_VPN_VN: 410,073 registros, fracción: 0.120\n",
      "Estrato R2_VPY_VN: 300,544 registros, fracción: 0.120\n",
      "Estrato R1_VPN_VN: 152,779 registros, fracción: 0.120\n",
      "Estrato R4_VPN_VN: 135,197 registros, fracción: 0.120\n",
      "Estrato R3_VPN_VN: 65,398 registros, fracción: 0.120\n",
      "Estrato R2_VPN_VN: 59,973 registros, fracción: 0.120\n",
      "Estrato R5_VPN_VY: 15,604 registros, fracción: 0.120\n",
      "Estrato R4_VPN_VY: 13,240 registros, fracción: 0.120\n",
      "Estrato R3_VPN_VY: 4,886 registros, fracción: 0.120\n",
      "Estrato R2_VPN_VY: 1,634 registros, fracción: 0.120\n",
      "Estrato R1_VPN_VY: 705 registros, fracción: 0.120\n"
     ]
    },
    {
     "name": "stderr",
     "output_type": "stream",
     "text": [
      "                                                                                \r"
     ]
    }
   ],
   "source": [
    "# Crear fracciones de muestreo para cada estrato\n",
    "strata_fractions = {}\n",
    "sample_fraction = 0.1\n",
    "total_population = df_reviews_P.count()\n",
    "\n",
    "for row in relevant_strata:\n",
    "    # Crear clave única para el estrato\n",
    "    star_label = f\"R{row['star_rating']}\"\n",
    "    vp_label = f\"VP{'Y' if row['verified_purchase'] == 'Y' else 'N'}\"\n",
    "    vine_label = f\"V{'Y' if row['vine'] == 'Y' else 'N'}\"\n",
    "\n",
    "    strata_key = f\"{star_label}_{vp_label}_{vine_label}\"\n",
    "    \n",
    "    # Calcular fracción de muestreo para mantener representatividad\n",
    "    strata_fraction = min(sample_fraction * 1.2, 0.5)  # Ligeramente mayor para compensar variabilidad\n",
    "    strata_fractions[strata_key] = strata_fraction\n",
    "    \n",
    "    print(f\"Estrato {strata_key}: {row['count']:,} registros, fracción: {strata_fraction:.3f}\")"
   ]
  },
  {
   "cell_type": "markdown",
   "id": "4f2e1e4a",
   "metadata": {},
   "source": [
    "#### Construcción de M"
   ]
  },
  {
   "cell_type": "markdown",
   "id": "dc81fc7c",
   "metadata": {},
   "source": [
    "Para cada estrato, se filtran los registros y se toma una muestra utilizando la fracción previamente calculada. Este muestreo se realiza con una semilla fija (seed=42) para garantizar la reproducibilidad. Además, se asegura que no haya reemplazo (`withReplacement=False`), lo que significa que cada registro puede aparecer solo una vez en la muestra final.\n",
    "\n",
    "Fuentes consultadas:\n",
    "* https://www.geeksforgeeks.org/pyspark-random-sample-with-example/"
   ]
  },
  {
   "cell_type": "code",
   "execution_count": 36,
   "id": "bc4d3f05",
   "metadata": {},
   "outputs": [
    {
     "name": "stderr",
     "output_type": "stream",
     "text": [
      "                                                                                \r"
     ]
    },
    {
     "name": "stdout",
     "output_type": "stream",
     "text": [
      "Muestreados 442,073 de 3,679,909 en estrato R5_VPY_VN\n"
     ]
    },
    {
     "name": "stderr",
     "output_type": "stream",
     "text": [
      "                                                                                \r"
     ]
    },
    {
     "name": "stdout",
     "output_type": "stream",
     "text": [
      "Muestreados 122,773 de 1,019,728 en estrato R4_VPY_VN\n"
     ]
    },
    {
     "name": "stderr",
     "output_type": "stream",
     "text": [
      "                                                                                \r"
     ]
    },
    {
     "name": "stdout",
     "output_type": "stream",
     "text": [
      "Muestreados 72,444 de 603,371 en estrato R1_VPY_VN\n"
     ]
    },
    {
     "name": "stderr",
     "output_type": "stream",
     "text": [
      "                                                                                \r"
     ]
    },
    {
     "name": "stdout",
     "output_type": "stream",
     "text": [
      "Muestreados 53,285 de 443,364 en estrato R3_VPY_VN\n"
     ]
    },
    {
     "name": "stderr",
     "output_type": "stream",
     "text": [
      "                                                                                \r"
     ]
    },
    {
     "name": "stdout",
     "output_type": "stream",
     "text": [
      "Muestreados 49,191 de 410,073 en estrato R5_VPN_VN\n"
     ]
    },
    {
     "name": "stderr",
     "output_type": "stream",
     "text": [
      "                                                                                \r"
     ]
    },
    {
     "name": "stdout",
     "output_type": "stream",
     "text": [
      "Muestreados 36,089 de 300,544 en estrato R2_VPY_VN\n"
     ]
    },
    {
     "name": "stderr",
     "output_type": "stream",
     "text": [
      "                                                                                \r"
     ]
    },
    {
     "name": "stdout",
     "output_type": "stream",
     "text": [
      "Muestreados 18,316 de 152,779 en estrato R1_VPN_VN\n"
     ]
    },
    {
     "name": "stderr",
     "output_type": "stream",
     "text": [
      "                                                                                \r"
     ]
    },
    {
     "name": "stdout",
     "output_type": "stream",
     "text": [
      "Muestreados 16,171 de 135,197 en estrato R4_VPN_VN\n"
     ]
    },
    {
     "name": "stderr",
     "output_type": "stream",
     "text": [
      "                                                                                \r"
     ]
    },
    {
     "name": "stdout",
     "output_type": "stream",
     "text": [
      "Muestreados 7,838 de 65,398 en estrato R3_VPN_VN\n"
     ]
    },
    {
     "name": "stderr",
     "output_type": "stream",
     "text": [
      "                                                                                \r"
     ]
    },
    {
     "name": "stdout",
     "output_type": "stream",
     "text": [
      "Muestreados 7,208 de 59,973 en estrato R2_VPN_VN\n"
     ]
    },
    {
     "name": "stderr",
     "output_type": "stream",
     "text": [
      "                                                                                \r"
     ]
    },
    {
     "name": "stdout",
     "output_type": "stream",
     "text": [
      "Muestreados 1,936 de 15,604 en estrato R5_VPN_VY\n"
     ]
    },
    {
     "name": "stderr",
     "output_type": "stream",
     "text": [
      "                                                                                \r"
     ]
    },
    {
     "name": "stdout",
     "output_type": "stream",
     "text": [
      "Muestreados 1,674 de 13,240 en estrato R4_VPN_VY\n"
     ]
    },
    {
     "name": "stderr",
     "output_type": "stream",
     "text": [
      "                                                                                \r"
     ]
    },
    {
     "name": "stdout",
     "output_type": "stream",
     "text": [
      "Muestreados 606 de 4,886 en estrato R3_VPN_VY\n"
     ]
    },
    {
     "name": "stderr",
     "output_type": "stream",
     "text": [
      "                                                                                \r"
     ]
    },
    {
     "name": "stdout",
     "output_type": "stream",
     "text": [
      "Muestreados 213 de 1,634 en estrato R2_VPN_VY\n"
     ]
    },
    {
     "name": "stderr",
     "output_type": "stream",
     "text": [
      "[Stage 341:>                                                        (0 + 1) / 1]\r"
     ]
    },
    {
     "name": "stdout",
     "output_type": "stream",
     "text": [
      "Muestreados 83 de 705 en estrato R1_VPN_VY\n"
     ]
    },
    {
     "name": "stderr",
     "output_type": "stream",
     "text": [
      "                                                                                \r"
     ]
    }
   ],
   "source": [
    "# Aplicar muestreo estratificado\n",
    "sample_parts = []\n",
    "\n",
    "for row in relevant_strata:\n",
    "    # Filtrar datos del estrato actual\n",
    "    conditions = [F.col(var) == row[var] for var in characterization_variables]\n",
    "    combined_condition = conditions[0]\n",
    "    for condition in conditions[1:]:\n",
    "        combined_condition = combined_condition & condition\n",
    "    \n",
    "    strata_data = df_reviews_P.filter(combined_condition)\n",
    "    \n",
    "    # Crear clave única para el estrato\n",
    "    star_label = f\"R{row['star_rating']}\"\n",
    "    vp_label = f\"VP{'Y' if row['verified_purchase'] == 'Y' else 'N'}\"\n",
    "    vine_label = f\"V{'Y' if row['vine'] == 'Y' else 'N'}\"\n",
    "\n",
    "    strata_key = f\"{star_label}_{vp_label}_{vine_label}\"\n",
    "    fraction = strata_fractions[strata_key]\n",
    "    \n",
    "    # Aplicar muestreo con semilla fija para reproducibilidad\n",
    "    sampled_strata = strata_data.sample(withReplacement=False, fraction=fraction, seed=42)\n",
    "    sample_parts.append(sampled_strata)\n",
    "    \n",
    "    print(f\"Muestreados {sampled_strata.count():,} de {strata_data.count():,} en estrato {strata_key}\")"
   ]
  },
  {
   "cell_type": "markdown",
   "id": "799e39bd",
   "metadata": {},
   "source": [
    "Posteriormente, se unen todas las submuestras recolectadas de los distintos estratos para construir la muestra representativa M. Esto se logra concatenando cada subconjunto, asegurando que todos los grupos seleccionados formen parte del conjunto final."
   ]
  },
  {
   "cell_type": "code",
   "execution_count": 37,
   "id": "da13fec6",
   "metadata": {},
   "outputs": [],
   "source": [
    "# Unir todas las partes para formar la muestra M\n",
    "sample_M = sample_parts[0]\n",
    "for part in sample_parts[1:]:\n",
    "    sample_M = sample_M.union(part)"
   ]
  },
  {
   "cell_type": "code",
   "execution_count": 38,
   "id": "be0de416",
   "metadata": {},
   "outputs": [
    {
     "name": "stderr",
     "output_type": "stream",
     "text": [
      "[Stage 347:=============================>                          (8 + 7) / 15]\r"
     ]
    },
    {
     "name": "stdout",
     "output_type": "stream",
     "text": [
      "Población P: 6,906,564 registros\n",
      "Muestra M: 829,900 registros\n",
      "Factor de muestreo: 12.0%\n"
     ]
    },
    {
     "name": "stderr",
     "output_type": "stream",
     "text": [
      "                                                                                \r"
     ]
    }
   ],
   "source": [
    "# Validar que la muestra M sea representativa de la población P\n",
    "# Comparar distribuciones\n",
    "pop_total = df_reviews_P.count()\n",
    "sample_total = sample_M.count()\n",
    "\n",
    "print(f\"Población P: {pop_total:,} registros\")\n",
    "print(f\"Muestra M: {sample_total:,} registros\")\n",
    "print(f\"Factor de muestreo: {sample_total/pop_total:.1%}\")"
   ]
  },
  {
   "cell_type": "markdown",
   "id": "0b212cd2",
   "metadata": {},
   "source": [
    "**Observaciones**\n",
    "\n",
    "Se obtuvo una muestra M de 829,900 registros, equivalente al 12% de la población original.\n",
    "\n",
    "Aunque el objetivo inicial era obtener aproximadamente el 10%, el ajuste aplicado permitió compensar la variabilidad del proceso de muestreo y asegurar que los estratos más pequeños quedaran representados adecuadamente."
   ]
  },
  {
   "cell_type": "code",
   "execution_count": 39,
   "id": "8f5c50ee",
   "metadata": {},
   "outputs": [
    {
     "name": "stdout",
     "output_type": "stream",
     "text": [
      "\n",
      "--- Comparación para star_rating ---\n"
     ]
    },
    {
     "name": "stderr",
     "output_type": "stream",
     "text": [
      "                                                                                \r"
     ]
    },
    {
     "name": "stdout",
     "output_type": "stream",
     "text": [
      "+-----------+--------------+-----------------+--------------------+\n",
      "|star_rating|pop_percentage|sample_percentage|          difference|\n",
      "+-----------+--------------+-----------------+--------------------+\n",
      "|          1|         10.96|            10.95|0.010000000000001563|\n",
      "|          2|          5.24|             5.24|                 0.0|\n",
      "|          3|          7.44|             7.44|                 0.0|\n",
      "|          4|         16.91|            16.94|0.030000000000001137|\n",
      "|          5|         59.45|            59.43|0.020000000000003126|\n",
      "+-----------+--------------+-----------------+--------------------+\n",
      "\n"
     ]
    },
    {
     "name": "stderr",
     "output_type": "stream",
     "text": [
      "                                                                                \r"
     ]
    },
    {
     "name": "stdout",
     "output_type": "stream",
     "text": [
      "Diferencia promedio en star_rating: 0.01 puntos porcentuales\n",
      "\n",
      "--- Comparación para verified_purchase ---\n"
     ]
    },
    {
     "name": "stderr",
     "output_type": "stream",
     "text": [
      "                                                                                \r"
     ]
    },
    {
     "name": "stdout",
     "output_type": "stream",
     "text": [
      "+-----------------+--------------+-----------------+----------+\n",
      "|verified_purchase|pop_percentage|sample_percentage|difference|\n",
      "+-----------------+--------------+-----------------+----------+\n",
      "|                N|         12.44|            12.44|       0.0|\n",
      "|                Y|         87.56|            87.56|       0.0|\n",
      "+-----------------+--------------+-----------------+----------+\n",
      "\n"
     ]
    },
    {
     "name": "stderr",
     "output_type": "stream",
     "text": [
      "                                                                                \r"
     ]
    },
    {
     "name": "stdout",
     "output_type": "stream",
     "text": [
      "Diferencia promedio en verified_purchase: 0.00 puntos porcentuales\n",
      "\n",
      "--- Comparación para vine ---\n"
     ]
    },
    {
     "name": "stderr",
     "output_type": "stream",
     "text": [
      "                                                                                \r"
     ]
    },
    {
     "name": "stdout",
     "output_type": "stream",
     "text": [
      "+----+--------------+-----------------+--------------------+\n",
      "|vine|pop_percentage|sample_percentage|          difference|\n",
      "+----+--------------+-----------------+--------------------+\n",
      "|   N|         99.48|            99.46|0.020000000000010232|\n",
      "|   Y|          0.52|             0.54|0.020000000000000018|\n",
      "+----+--------------+-----------------+--------------------+\n",
      "\n"
     ]
    },
    {
     "name": "stderr",
     "output_type": "stream",
     "text": [
      "[Stage 400:==========================>                             (7 + 8) / 15]\r"
     ]
    },
    {
     "name": "stdout",
     "output_type": "stream",
     "text": [
      "Diferencia promedio en vine: 0.02 puntos porcentuales\n"
     ]
    },
    {
     "name": "stderr",
     "output_type": "stream",
     "text": [
      "                                                                                \r"
     ]
    }
   ],
   "source": [
    "# Comparar distribución de cada variable\n",
    "for var in characterization_variables:\n",
    "    print(f\"\\n--- Comparación para {var} ---\")\n",
    "    \n",
    "    # Distribución en población\n",
    "    pop_dist = df_reviews_P.groupBy(var).count() \\\n",
    "                            .withColumn(\"pop_percentage\", F.round(F.col(\"count\") * 100.0 / pop_total, 2)) \\\n",
    "                            .select(var, F.col(\"pop_percentage\"))\n",
    "    \n",
    "    # Distribución en muestra\n",
    "    sample_dist = sample_M.groupBy(var).count() \\\n",
    "                            .withColumn(\"sample_percentage\", F.round(F.col(\"count\") * 100.0 / sample_total, 2)) \\\n",
    "                            .select(var, F.col(\"sample_percentage\"))\n",
    "    \n",
    "    # Combinar para comparar\n",
    "    comparison = pop_dist.join(sample_dist, on=var, how=\"outer\") \\\n",
    "                        .fillna(0) \\\n",
    "                        .withColumn(\"difference\", \n",
    "                                    F.abs(F.col(\"pop_percentage\") - F.col(\"sample_percentage\"))) \\\n",
    "                        .orderBy(var)\n",
    "    \n",
    "    comparison.show()\n",
    "    \n",
    "    # Calcular diferencia promedio\n",
    "    avg_diff = comparison.agg(F.avg(\"difference\")).collect()[0][0]\n",
    "    print(f\"Diferencia promedio en {var}: {avg_diff:.2f} puntos porcentuales\")"
   ]
  },
  {
   "cell_type": "markdown",
   "id": "df78039e",
   "metadata": {},
   "source": [
    "**Observaciones**\n",
    "\n",
    "Con esta validación, nos aseguramos que el muestreo estratificado preservó las proporciones de la población, asegurando que la muestra sea representativa y fiable. Los resultados muestran que las diferencias promedio entre la población original y la muestra son casi nulas."
   ]
  },
  {
   "cell_type": "markdown",
   "id": "95cc93bc",
   "metadata": {},
   "source": [
    "#### (SKIP) Particionamiento \n",
    "\n",
    "A continuación, se crean las particiones Mi a partir de la muestra M, filtrando los datos para cada combinación de las variables de caracterización (star_rating, verified_purchase, vine). Para cada combinación, se construye dinámicamente una condición de filtrado que selecciona únicamente los registros que coinciden simultáneamente con esos valores específicos. Solo se conservan las particiones que tienen al menos 100 registros para asegurar que sean suficientemente representativas y útiles para construir más adelante los conjuntos de entrenamiento y prueba. Cada partición se guarda con un nombre descriptivo (como R5_VPY_VN), lo que permite identificar rápidamente a qué grupo pertenece. Al final, se obtiene un conjunto organizado de subconjuntos válidos."
   ]
  },
  {
   "cell_type": "code",
   "execution_count": null,
   "id": "caea6009",
   "metadata": {},
   "outputs": [
    {
     "name": "stderr",
     "output_type": "stream",
     "text": [
      "[Stage 416:=============================>                          (8 + 7) / 15]\r"
     ]
    },
    {
     "name": "stdout",
     "output_type": "stream",
     "text": [
      "Combinaciones encontradas en M: 15\n"
     ]
    },
    {
     "name": "stderr",
     "output_type": "stream",
     "text": [
      "                                                                                \r"
     ]
    }
   ],
   "source": [
    "# # Identificar todas las combinaciones existentes en M\n",
    "# combinations = sample_M.select(characterization_variables).distinct().collect()\n",
    "\n",
    "# print(f\"Combinaciones encontradas en M: {len(combinations)}\")"
   ]
  },
  {
   "cell_type": "code",
   "execution_count": null,
   "id": "8b8c9d1a",
   "metadata": {},
   "outputs": [
    {
     "name": "stderr",
     "output_type": "stream",
     "text": [
      "[Stage 419:=============================>                          (8 + 7) / 15]\r"
     ]
    },
    {
     "name": "stdout",
     "output_type": "stream",
     "text": [
      "Partición R5_VPY_VN: 442,073 registros\n"
     ]
    },
    {
     "name": "stderr",
     "output_type": "stream",
     "text": [
      "                                                                                \r"
     ]
    },
    {
     "name": "stdout",
     "output_type": "stream",
     "text": [
      "Partición R4_VPY_VN: 122,773 registros\n"
     ]
    },
    {
     "name": "stderr",
     "output_type": "stream",
     "text": [
      "                                                                                \r"
     ]
    },
    {
     "name": "stdout",
     "output_type": "stream",
     "text": [
      "Partición R1_VPY_VN: 72,444 registros\n"
     ]
    },
    {
     "name": "stderr",
     "output_type": "stream",
     "text": [
      "                                                                                \r"
     ]
    },
    {
     "name": "stdout",
     "output_type": "stream",
     "text": [
      "Partición R3_VPY_VN: 53,285 registros\n"
     ]
    },
    {
     "name": "stderr",
     "output_type": "stream",
     "text": [
      "                                                                                \r"
     ]
    },
    {
     "name": "stdout",
     "output_type": "stream",
     "text": [
      "Partición R5_VPN_VN: 49,191 registros\n"
     ]
    },
    {
     "name": "stderr",
     "output_type": "stream",
     "text": [
      "                                                                                \r"
     ]
    },
    {
     "name": "stdout",
     "output_type": "stream",
     "text": [
      "Partición R2_VPY_VN: 36,089 registros\n"
     ]
    },
    {
     "name": "stderr",
     "output_type": "stream",
     "text": [
      "                                                                                \r"
     ]
    },
    {
     "name": "stdout",
     "output_type": "stream",
     "text": [
      "Partición R1_VPN_VN: 18,316 registros\n"
     ]
    },
    {
     "name": "stderr",
     "output_type": "stream",
     "text": [
      "                                                                                \r"
     ]
    },
    {
     "name": "stdout",
     "output_type": "stream",
     "text": [
      "Partición R4_VPN_VN: 16,171 registros\n"
     ]
    },
    {
     "name": "stderr",
     "output_type": "stream",
     "text": [
      "                                                                                \r"
     ]
    },
    {
     "name": "stdout",
     "output_type": "stream",
     "text": [
      "Partición R3_VPN_VN: 7,838 registros\n"
     ]
    },
    {
     "name": "stderr",
     "output_type": "stream",
     "text": [
      "                                                                                \r"
     ]
    },
    {
     "name": "stdout",
     "output_type": "stream",
     "text": [
      "Partición R2_VPN_VN: 7,208 registros\n"
     ]
    },
    {
     "name": "stderr",
     "output_type": "stream",
     "text": [
      "                                                                                \r"
     ]
    },
    {
     "name": "stdout",
     "output_type": "stream",
     "text": [
      "Partición R5_VPN_VY: 1,936 registros\n"
     ]
    },
    {
     "name": "stderr",
     "output_type": "stream",
     "text": [
      "                                                                                \r"
     ]
    },
    {
     "name": "stdout",
     "output_type": "stream",
     "text": [
      "Partición R4_VPN_VY: 1,674 registros\n"
     ]
    },
    {
     "name": "stderr",
     "output_type": "stream",
     "text": [
      "                                                                                \r"
     ]
    },
    {
     "name": "stdout",
     "output_type": "stream",
     "text": [
      "Partición R3_VPN_VY: 606 registros\n"
     ]
    },
    {
     "name": "stderr",
     "output_type": "stream",
     "text": [
      "                                                                                \r"
     ]
    },
    {
     "name": "stdout",
     "output_type": "stream",
     "text": [
      "Partición R2_VPN_VY: 213 registros\n"
     ]
    },
    {
     "name": "stderr",
     "output_type": "stream",
     "text": [
      "[Stage 461:=============================>                          (8 + 7) / 15]\r"
     ]
    },
    {
     "name": "stdout",
     "output_type": "stream",
     "text": [
      "Excluida combinación (star_rating=1, verified_purchase=N, vine=Y): solo 83 registros (< 100)\n"
     ]
    },
    {
     "name": "stderr",
     "output_type": "stream",
     "text": [
      "                                                                                \r"
     ]
    }
   ],
   "source": [
    "# # Crear particiones Mi\n",
    "# partitions_Mi = {}\n",
    "# total_partitioned = 0\n",
    "# min_partition_size = 100\n",
    "\n",
    "# for row in combinations:\n",
    "#     # Crear condiciones de filtrado\n",
    "#     combined_condition = reduce(and_, [F.col(var) == row[var] for var in characterization_variables])\n",
    "    \n",
    "#     # Filtrar para crear la partición\n",
    "#     partition = sample_M.filter(combined_condition)\n",
    "#     partition_size = partition.count()\n",
    "    \n",
    "#     # Solo incluir si cumple con el tamaño mínimo\n",
    "#     if partition_size >= min_partition_size:\n",
    "#         # Crear nombre descriptivo para la partición\n",
    "#         star_label = f\"R{row['star_rating']}\"\n",
    "#         vp_label = f\"VP{'Y' if row['verified_purchase'] == 'Y' else 'N'}\"\n",
    "#         vine_label = f\"V{'Y' if row['vine'] == 'Y' else 'N'}\"\n",
    "\n",
    "#         partition_key = f\"{star_label}_{vp_label}_{vine_label}\"\n",
    "#         partitions_Mi[partition_key] = partition\n",
    "#         total_partitioned += partition_size\n",
    "        \n",
    "#         print(f\"Partición {partition_key}: {partition_size:,} registros\")\n",
    "#     else:\n",
    "#         key_values = [f\"{var}={row[var]}\" for var in characterization_variables]\n",
    "#         combination_str = \", \".join(key_values)\n",
    "#         print(f\"Excluida combinación ({combination_str}): solo {partition_size} registros (< {min_partition_size})\")"
   ]
  },
  {
   "cell_type": "code",
   "execution_count": null,
   "id": "c8aece47",
   "metadata": {},
   "outputs": [
    {
     "name": "stderr",
     "output_type": "stream",
     "text": [
      "[Stage 464:=============================>                          (8 + 7) / 15]\r"
     ]
    },
    {
     "name": "stdout",
     "output_type": "stream",
     "text": [
      "\n",
      "=== RESUMEN DE PARTICIONAMIENTO ===\n",
      "Particiones Mi creadas: 14\n",
      "Registros en M: 829,900\n",
      "Registros particionados: 829,817\n",
      "Cobertura: 99.9900%\n"
     ]
    },
    {
     "name": "stderr",
     "output_type": "stream",
     "text": [
      "                                                                                \r"
     ]
    }
   ],
   "source": [
    "# # 3. Verificar que la unión de particiones = M\n",
    "# sample_M_size = sample_M.count()\n",
    "# coverage = total_partitioned / sample_M_size\n",
    "\n",
    "# print(f\"\\n=== RESUMEN DE PARTICIONAMIENTO ===\")\n",
    "# print(f\"Particiones Mi creadas: {len(partitions_Mi)}\")\n",
    "# print(f\"Registros en M: {sample_M_size:,}\")\n",
    "# print(f\"Registros particionados: {total_partitioned:,}\")\n",
    "# print(f'Cobertura: {coverage * 100:.4f}%')"
   ]
  },
  {
   "cell_type": "markdown",
   "id": "ad2d15bf",
   "metadata": {},
   "source": [
    "**Observaciones**\n",
    "\n",
    "Al ejecutar el particionamiento, se crearon 14 particiones Mi, que en conjunto cubren los registros de la muestra M (829,900 registros), donde 829,817 fueron particionados.\n"
   ]
  },
  {
   "cell_type": "markdown",
   "id": "9d022ab0",
   "metadata": {},
   "source": [
    "## (NEW) 1. Proceso de validación cruzada"
   ]
  },
  {
   "cell_type": "markdown",
   "id": "db79557e",
   "metadata": {},
   "source": [
    "En esta etapa se define cómo se evaluará el rendimiento del modelo usando un método llamado validación cruzada, que permite comprobar si el modelo funciona bien en diferentes partes de los datos. Este proceso se aplicará sobre la muestra estratificada M, que contiene 829,900 registros y representa el 12% de la población original de casi 7 millones de registros. La muestra M conserva la diversidad de los 15 grupos más importantes detectados en la población.\n",
    "\n",
    "Se ha decidido usar validación cruzada con 5 partes (k=5). Esto significa que se dividirá el conjunto de entrenamiento en 5 grupos, y se harán 5 pruebas diferentes donde en cada una se entrena con 4 grupos y se prueba con el restante.\n",
    "\n",
    "Esta decisión se basa en varios motivos:\n",
    "\n",
    "- **Representatividad**: Cada uno de los 5 grupos tendrá más de 165 mil registros, y todos conservarán la misma proporción de combinaciones que tiene la muestra original. Esto asegura que los resultados obtenidos en cada prueba sean confiables y reflejen bien la realidad de los datos.\n",
    "\n",
    "- **Equilibrio entre precisión y esfuerzo**: Usar 5 grupos permite obtener resultados precisos sin hacer que el proceso sea muy lento o pesado para el sistema. Se logra un buen equilibrio entre medir correctamente el rendimiento del modelo y no gastar recursos de más.\n",
    "\n",
    "- **Mantener la estructura de los datos**: La muestra M fue creada cuidando que todos los tipos de casos importantes estén bien representados. Al dividirla en 5 partes con cuidado, se mantiene esa misma distribución en cada grupo. Esto asegura que ningún grupo tenga demasiados o muy pocos datos de cierto tipo.\n",
    "\n",
    "- **Control del error y variabilidad**: Al hacer 5 pruebas independientes, podemos saber si el modelo es estable o si cambia mucho su rendimiento dependiendo de los datos que usa. Esto da más seguridad a la hora de tomar decisiones sobre qué modelo funciona mejor.\n",
    "\n",
    "- **Eficiencia en el uso de recursos**: Dado que se está trabajando con datos grandes, es importante no hacer más divisiones de las necesarias. Usar más de 5 grupos aumentaría los tiempos de procesamiento sin aportar mejoras importantes."
   ]
  },
  {
   "cell_type": "markdown",
   "id": "95c00e07",
   "metadata": {},
   "source": [
    "## (NEW) 2. Construcción de K-Folds"
   ]
  },
  {
   "cell_type": "markdown",
   "id": "ce5e457c",
   "metadata": {},
   "source": [
    "En esta sección se implementa la construcción de los 5 folds estratificados a partir de la muestra. Cada fold conserva la misma proporción de registros por estrato que la muestra original, asegurando una representación balanceada y justa para aplicar validación cruzada sin sesgos. Se barajaron los registros de cada estrato y se repartieron equitativamente entre los 5 folds."
   ]
  },
  {
   "cell_type": "code",
   "execution_count": 48,
   "id": "dbc922e8",
   "metadata": {},
   "outputs": [
    {
     "name": "stdout",
     "output_type": "stream",
     "text": [
      "Columna 'fold' añadida. Vista previa:\n",
      "+--------------+-----------+-----------------+----+----+\n",
      "|     review_id|star_rating|verified_purchase|vine|fold|\n",
      "+--------------+-----------+-----------------+----+----+\n",
      "| R95K8PYFUYGJU|          2|                N|   Y|   0|\n",
      "|R3MR70XNXWO08C|          2|                N|   Y|   1|\n",
      "|R2JYUH3VVA639D|          2|                N|   Y|   2|\n",
      "|R31WW12RLXY0ZY|          2|                N|   Y|   3|\n",
      "|R2QEOO9V88MVY1|          2|                N|   Y|   4|\n",
      "+--------------+-----------+-----------------+----+----+\n",
      "only showing top 5 rows\n",
      "\n",
      "Tamaño de cada fold:\n",
      "+----+------+\n",
      "|fold| count|\n",
      "+----+------+\n",
      "|   0|165987|\n",
      "|   1|165982|\n",
      "|   2|165982|\n",
      "|   3|165976|\n",
      "|   4|165973|\n",
      "+----+------+\n",
      "\n",
      "Distribución del estrato 5 estrellas, compra verificada, no vine:\n",
      "+----+-----+\n",
      "|fold|count|\n",
      "+----+-----+\n",
      "|   0|88415|\n",
      "|   1|88415|\n",
      "|   2|88415|\n",
      "|   3|88414|\n",
      "|   4|88414|\n",
      "+----+-----+\n",
      "\n"
     ]
    }
   ],
   "source": [
    "from pyspark.sql import functions as F\n",
    "from pyspark.sql.window import Window\n",
    "\n",
    "# === CONFIGURACIÓN INICIAL ===\n",
    "k = 5  # Número de folds\n",
    "strat_cols = ['star_rating', 'verified_purchase', 'vine']  # Columnas de estratificación\n",
    "\n",
    "# === CREACIÓN DE FOLDS ESTRATIFICADOS ===\n",
    "# Asignar fold aleatoriamente dentro de cada estrato\n",
    "window_spec = Window.partitionBy(strat_cols).orderBy(F.rand(seed=42))\n",
    "\n",
    "df_with_folds = sample_M.withColumn(\"row_num\", F.row_number().over(window_spec)) \\\n",
    "                        .withColumn(\"fold\", (F.col(\"row_num\") - 1) % k) \\\n",
    "                        .drop(\"row_num\") \\\n",
    "                        .cache()\n",
    "\n",
    "# Vista previa y conteo por fold\n",
    "print(\"Columna 'fold' añadida. Vista previa:\")\n",
    "df_with_folds.select('review_id', *strat_cols, 'fold').show(5)\n",
    "\n",
    "print(\"Tamaño de cada fold:\")\n",
    "df_with_folds.groupBy(\"fold\").count().orderBy(\"fold\").show()\n",
    "\n",
    "# Validar distribución de un estrato específico (opcional)\n",
    "print(\"Distribución del estrato 5 estrellas, compra verificada, no vine:\")\n",
    "df_with_folds.filter(\"star_rating = 5 AND verified_purchase = 'Y' AND vine = 'N'\") \\\n",
    "             .groupBy(\"fold\").count().orderBy(\"fold\").show()\n"
   ]
  },
  {
   "cell_type": "code",
   "execution_count": 49,
   "id": "a0df2e68",
   "metadata": {},
   "outputs": [
    {
     "name": "stderr",
     "output_type": "stream",
     "text": [
      "                                                                                \r"
     ]
    },
    {
     "name": "stdout",
     "output_type": "stream",
     "text": [
      "Validación de Proporciones por Fold\n",
      "+-----------+-----------------+----+-------+---------+--------+--------+--------+--------+--------+\n",
      "|star_rating|verified_purchase|vine|total  |overall_%|fold_0_%|fold_1_%|fold_2_%|fold_3_%|fold_4_%|\n",
      "+-----------+-----------------+----+-------+---------+--------+--------+--------+--------+--------+\n",
      "|5          |Y                |N   |442,073|53.27    |53.27   |53.27   |53.27   |53.27   |53.27   |\n",
      "|4          |Y                |N   |122,773|14.79    |14.79   |14.79   |14.79   |14.79   |14.79   |\n",
      "|1          |Y                |N   |72,444 |8.73     |8.73    |8.73    |8.73    |8.73    |8.73    |\n",
      "|3          |Y                |N   |53,285 |6.42     |6.42    |6.42    |6.42    |6.42    |6.42    |\n",
      "|5          |N                |N   |49,191 |5.93     |5.93    |5.93    |5.93    |5.93    |5.93    |\n",
      "|2          |Y                |N   |36,089 |4.35     |4.35    |4.35    |4.35    |4.35    |4.35    |\n",
      "|1          |N                |N   |18,316 |2.21     |2.21    |2.21    |2.21    |2.21    |2.21    |\n",
      "|4          |N                |N   |16,171 |1.95     |1.95    |1.95    |1.95    |1.95    |1.95    |\n",
      "|3          |N                |N   |7,838  |0.94     |0.94    |0.94    |0.94    |0.94    |0.94    |\n",
      "|2          |N                |N   |7,208  |0.87     |0.87    |0.87    |0.87    |0.87    |0.87    |\n",
      "|5          |N                |Y   |1,936  |0.23     |0.23    |0.23    |0.23    |0.23    |0.23    |\n",
      "|4          |N                |Y   |1,674  |0.20     |0.20    |0.20    |0.20    |0.20    |0.20    |\n",
      "|3          |N                |Y   |606    |0.07     |0.07    |0.07    |0.07    |0.07    |0.07    |\n",
      "|2          |N                |Y   |213    |0.03     |0.03    |0.03    |0.03    |0.03    |0.03    |\n",
      "|1          |N                |Y   |83     |0.01     |0.01    |0.01    |0.01    |0.01    |0.01    |\n",
      "+-----------+-----------------+----+-------+---------+--------+--------+--------+--------+--------+\n",
      "\n"
     ]
    }
   ],
   "source": [
    "# === CÁLCULO DE PROPORCIONES ===\n",
    "total_rows = df_with_folds.count()\n",
    "\n",
    "# Recuento total por fold\n",
    "fold_sizes = df_with_folds.groupBy(\"fold\").count().withColumnRenamed(\"count\", \"fold_total\")\n",
    "\n",
    "# Recuento por estrato dentro de cada fold\n",
    "strata_fold_counts = df_with_folds.groupBy(\"fold\", *strat_cols).count()\n",
    "\n",
    "# Proporciones por estrato en cada fold\n",
    "strata_fold_props = strata_fold_counts.join(fold_sizes, \"fold\") \\\n",
    "    .withColumn(\"fold_prop\", (F.col(\"count\") / F.col(\"fold_total\")) * 100)\n",
    "\n",
    "# Tabla pivot para comparar proporciones entre folds\n",
    "pivot_props = strata_fold_props.groupBy(*strat_cols).pivot(\"fold\").agg(F.first(\"fold_prop\"))\n",
    "\n",
    "# === CÁLCULO DE PROPORCIONES GLOBALES ===\n",
    "global_props = df_with_folds.groupBy(*strat_cols).count() \\\n",
    "    .withColumn(\"overall_prop\", (F.col(\"count\") / total_rows) * 100)\n",
    "\n",
    "# === UNIÓN FINAL PARA VALIDACIÓN ===\n",
    "validation_df = global_props.join(pivot_props, strat_cols) \\\n",
    "    .select(\n",
    "        *strat_cols,\n",
    "        F.format_number(\"count\", 0).alias(\"total\"),\n",
    "        F.format_number(\"overall_prop\", 2).alias(\"overall_%\"),\n",
    "        *[F.format_number(F.col(str(fold)), 2).alias(f\"fold_{fold}_%\") for fold in range(k)]\n",
    "    ).orderBy(F.col(\"count\").desc())\n",
    "\n",
    "print(\"Validación de Proporciones por Fold\")\n",
    "validation_df.show(15, truncate=False)"
   ]
  },
  {
   "cell_type": "markdown",
   "id": "0cd17e28",
   "metadata": {},
   "source": [
    "- Calcula la proporción global de cada estrato en la muestra completa M.\n",
    "- Calcula la proporción de cada estrato dentro de cada fold por separado.\n",
    "- Pivota los resultados para crear una tabla comparativa donde cada fila representa un estrato y las columnas muestran su proporción en el total y en cada uno de los 5 folds.\n",
    "\n",
    "Como puedes observar en cada fila, los porcentajes de los folds (fold_0_% a fold_4_%) son prácticamente idénticos al porcentaje global (overall_%). Esta consistencia demuestra que cada fold es una representación fiel de la muestra completa M, validando que el modelo se evaluará en condiciones equitativas en cada iteración de la validación cruzada."
   ]
  },
  {
   "cell_type": "markdown",
   "id": "98ce803b",
   "metadata": {},
   "source": [
    "## 3. (NEW) Fase de entrenamiento"
   ]
  },
  {
   "cell_type": "markdown",
   "id": "327ceb5d",
   "metadata": {},
   "source": [
    "### Construcción de conjuntos de entrenamiento y prueba"
   ]
  },
  {
   "cell_type": "code",
   "execution_count": 63,
   "id": "9c7d1360",
   "metadata": {},
   "outputs": [],
   "source": [
    "class Preprocessor:\n",
    "    def __init__(self, columns_for_modeling):\n",
    "        self.columns = columns_for_modeling\n",
    "        self.indexed_columns = []\n",
    "\n",
    "    def merge_partitions(self, partition_dict: dict) -> DataFrame:\n",
    "        return reduce(lambda df1, df2: df1.unionByName(df2), partition_dict.values())\n",
    "\n",
    "    def drop_nulls(self, df: DataFrame) -> DataFrame:\n",
    "        initial_count = df.count()\n",
    "        print(f\"Total de registros antes de eliminar nulos: {initial_count}\")\n",
    "\n",
    "        # Calcular cuántos nulos hay por columna relevante\n",
    "        for col_name in self.columns:\n",
    "            null_count = df.filter(F.col(col_name).isNull()).count()\n",
    "            if null_count > 0:\n",
    "                print(f\"  Columna '{col_name}' tiene {null_count} valores nulos\")\n",
    "        \n",
    "        # Eliminar filas con nulos en columnas clave\n",
    "        df_clean = df.dropna(subset=self.columns)\n",
    "        final_count = df_clean.count()\n",
    "\n",
    "        print(f\"Total de registros después de eliminar nulos: {final_count}\")\n",
    "        print(f\"Se eliminaron {initial_count - final_count} registros ({(initial_count - final_count) / initial_count:.2%})\\n\")\n",
    "        \n",
    "        return df_clean\n",
    "\n",
    "    # def cast_types(self, df: DataFrame) -> DataFrame:\n",
    "    #     numeric_cols = [\"star_rating\", \"helpful_votes\", \"total_votes\", \"sentiment\"]\n",
    "    #     for col_name in numeric_cols:\n",
    "    #         df = df.withColumn(col_name, col(col_name).cast(IntegerType()))\n",
    "    #     return df\n",
    "\n",
    "    def remove_outliers(self, df: DataFrame, columns: list, quantile_error=0.01) -> DataFrame:\n",
    "        initial_count = df.count()\n",
    "        print(f\"Total inicial: {initial_count} registros\")\n",
    "\n",
    "        for col_name in columns:\n",
    "            Q1, Q3 = df.approxQuantile(col_name, [0.25, 0.75], quantile_error)\n",
    "            IQR = Q3 - Q1\n",
    "            lower_bound = Q1 - 1.5 * IQR\n",
    "            upper_bound = Q3 + 1.5 * IQR\n",
    "\n",
    "            if IQR == 0:\n",
    "                print(f\"Advertencia: IQR=0 para '{col_name}', se omite filtro de atípicos.\")\n",
    "                continue\n",
    "\n",
    "            before_count = df.count()\n",
    "            df = df.filter((F.col(col_name) >= lower_bound) & (F.col(col_name) <= upper_bound))\n",
    "            after_count = df.count()\n",
    "            removed = before_count - after_count\n",
    "\n",
    "            print(f\"'{col_name}': límites [{lower_bound:.2f}, {upper_bound:.2f}], eliminados {removed} registros ({removed / before_count:.2%})\")\n",
    "        \n",
    "        final_count = df.count()\n",
    "        print(f\"Total final después de eliminar atípicos: {final_count} registros\")\n",
    "        print(f\"Total eliminado: {initial_count - final_count} registros ({(initial_count - final_count) / initial_count:.2%})\\n\")\n",
    "        \n",
    "        return df\n",
    "   \n",
    "\n",
    "    def encode_categoricals(self, df: DataFrame) -> DataFrame:\n",
    "        categorical_cols = [\"vine\", \"verified_purchase\"]\n",
    "        for col_name in categorical_cols:\n",
    "            index_col = f\"{col_name}_index\"\n",
    "            self.indexed_columns.append(index_col)\n",
    "            indexer = StringIndexer(inputCol=col_name, outputCol=index_col)\n",
    "            df = indexer.fit(df).transform(df)\n",
    "        return df"
   ]
  },
  {
   "cell_type": "code",
   "execution_count": 70,
   "id": "3fd59ce1",
   "metadata": {},
   "outputs": [],
   "source": [
    "class CrossValidator:\n",
    "    \"\"\"\n",
    "    Ejecuta validación cruzada k-fold con modelos Random Forest o GBT en PySpark.\n",
    "    Soporta enriquecimiento de datos, preprocesamiento y evaluación de métricas.\n",
    "    \"\"\"\n",
    "\n",
    "    def __init__(self, df_with_folds, model_type, model_cols, num_cols, feature_cols, label_col=\"sentiment\", k=5):\n",
    "        \"\"\"\n",
    "        Args:\n",
    "            df_with_folds (DataFrame): DataFrame con columna 'fold'.\n",
    "            model_type (str): 'rf' para RandomForest, 'gbt' para Gradient-Boosted Trees.\n",
    "            model_cols (list): Columnas necesarias para el preprocesamiento.\n",
    "            num_cols (list): Columnas numéricas para filtrado de outliers.\n",
    "            feature_cols (list): Columnas finales para VectorAssembler.\n",
    "            label_col (str): Columna objetivo.\n",
    "            k (int): Número de folds.\n",
    "        \"\"\"\n",
    "        assert model_type in {\"rf\", \"gbt\"}, \"model_type debe ser 'rf' o 'gbt'\"\n",
    "        self.df = df_with_folds\n",
    "        self.model_type = model_type\n",
    "        self.model_cols = model_cols\n",
    "        self.num_cols = num_cols\n",
    "        self.feature_cols = feature_cols\n",
    "        self.label_col = label_col\n",
    "        self.k = k\n",
    "        self.all_metrics = []\n",
    "\n",
    "    def enrich_features(self, df):\n",
    "        \"\"\"Agrega columnas derivadas para el modelado.\"\"\"\n",
    "        return df.withColumn(\"vote_ratio\", F.col(\"helpful_votes\") / (F.col(\"total_votes\") + 1)) \\\n",
    "                 .withColumn(\"log_total_votes\", log1p(F.col(\"total_votes\"))) \\\n",
    "                 .withColumn(\"log_helpful_votes\", log1p(F.col(\"helpful_votes\")))\n",
    "\n",
    "    def preprocess(self, df, preprocessor):\n",
    "        \"\"\"\n",
    "        Aplica el pipeline de preprocesamiento: nulos, outliers y codificación.\n",
    "        \"\"\"\n",
    "        df_clean = preprocessor.drop_nulls(df)\n",
    "        df_filtered = preprocessor.remove_outliers(df_clean, self.num_cols)\n",
    "        df_encoded = preprocessor.encode_categoricals(df_filtered)\n",
    "        return df_encoded\n",
    "\n",
    "    def build_model_pipeline(self):\n",
    "        \"\"\"Crea el pipeline con el modelo correspondiente (RF o GBT).\"\"\"\n",
    "        assembler = VectorAssembler(inputCols=self.feature_cols, outputCol=\"features\", handleInvalid=\"skip\")\n",
    "\n",
    "        if self.model_type == \"rf\":\n",
    "            estimator = RandomForestClassifier(\n",
    "                featuresCol=\"features\", labelCol=self.label_col,\n",
    "                seed=42, numTrees=50, maxDepth=10\n",
    "            )\n",
    "        elif self.model_type == \"gbt\":\n",
    "            estimator = GBTClassifier(\n",
    "                featuresCol=\"features\", labelCol=self.label_col,\n",
    "                seed=42, maxIter=20, maxDepth=5, stepSize=0.1\n",
    "            )\n",
    "\n",
    "        return Pipeline(stages=[assembler, estimator])\n",
    "\n",
    "    def evaluate_model(self, predictions):\n",
    "        evaluator = MulticlassClassificationEvaluator(labelCol=self.label_col, predictionCol=\"prediction\")\n",
    "        metrics = {\n",
    "            \"accuracy\": evaluator.setMetricName(\"accuracy\").evaluate(predictions),\n",
    "            \"f1\": evaluator.setMetricName(\"f1\").evaluate(predictions),\n",
    "            \"weightedPrecision\": evaluator.setMetricName(\"weightedPrecision\").evaluate(predictions),\n",
    "            \"weightedRecall\": evaluator.setMetricName(\"weightedRecall\").evaluate(predictions)\n",
    "        }\n",
    "\n",
    "        if predictions.select(self.label_col).distinct().count() == 2:\n",
    "            evaluator_bin = BinaryClassificationEvaluator(labelCol=self.label_col)\n",
    "            metrics[\"auc\"] = evaluator_bin.evaluate(predictions)\n",
    "        else:\n",
    "            metrics[\"auc\"] = None\n",
    "\n",
    "        return metrics\n",
    "\n",
    "    def run_fold(self, fold_id):\n",
    "        print(f\"\\n===== Fold {fold_id + 1}/{self.k} ({self.model_type.upper()}) =====\")\n",
    "\n",
    "        train_df = self.df.filter(F.col(\"fold\") != fold_id)\n",
    "        test_df = self.df.filter(F.col(\"fold\") == fold_id)\n",
    "\n",
    "        print(f\"Train: {train_df.count():,}, Test: {test_df.count():,}\")\n",
    "\n",
    "        train_df = self.enrich_features(train_df)\n",
    "        test_df = self.enrich_features(test_df)\n",
    "\n",
    "        preprocessor = Preprocessor(self.model_cols)\n",
    "        train_encoded = self.preprocess(train_df, preprocessor)\n",
    "        test_encoded = self.preprocess(test_df, preprocessor)\n",
    "\n",
    "        pipeline = self.build_model_pipeline()\n",
    "        print(f\"\\tEntrenando modelo {self.model_type.upper()}...\")\n",
    "        model = pipeline.fit(train_encoded)\n",
    "\n",
    "        predictions = model.transform(test_encoded)\n",
    "        metrics = self.evaluate_model(predictions)\n",
    "\n",
    "        self.all_metrics.append(metrics)\n",
    "        print(f\"\\t✅ F1: {metrics['f1']:.4f} | Accuracy: {metrics['accuracy']:.4f}\")\n",
    "\n",
    "    def run(self):\n",
    "        print(f\"\\n🔁 Ejecutando validación cruzada con modelo: {self.model_type.upper()} (k={self.k})\")\n",
    "        for fold_id in range(self.k):\n",
    "            self.run_fold(fold_id)\n",
    "\n",
    "        print(\"\\n===== RESULTADOS FINALES =====\")\n",
    "        for key in self.all_metrics[0].keys():\n",
    "            if self.all_metrics[0][key] is not None:\n",
    "                vals = [m[key] for m in self.all_metrics]\n",
    "                print(f\"{key.capitalize():<20}: {np.mean(vals):.4f} (+/- {np.std(vals):.4f})\")\n",
    "\n",
    "        return self.all_metrics\n"
   ]
  },
  {
   "cell_type": "code",
   "execution_count": 71,
   "id": "0de24332",
   "metadata": {},
   "outputs": [],
   "source": [
    "model_cols = [\"star_rating\", \"helpful_votes\", \"total_votes\", \"vine\", \"verified_purchase\", \"sentiment\"]\n",
    "num_cols = [\"helpful_votes\", \"total_votes\"]\n",
    "feature_cols = [\"log_helpful_votes\", \"log_total_votes\", \"vote_ratio\", \"vine_index\", \"verified_purchase_index\"]"
   ]
  },
  {
   "cell_type": "code",
   "execution_count": 73,
   "id": "7a894130",
   "metadata": {},
   "outputs": [
    {
     "name": "stdout",
     "output_type": "stream",
     "text": [
      "\n",
      "🔁 Ejecutando validación cruzada con modelo: RF (k=5)\n",
      "\n",
      "===== Fold 1/5 (RF) =====\n",
      "Train: 663,913, Test: 165,987\n",
      "Total de registros antes de eliminar nulos: 663913\n",
      "Total de registros después de eliminar nulos: 663913\n",
      "Se eliminaron 0 registros (0.00%)\n",
      "\n",
      "Total inicial: 663913 registros\n",
      "'helpful_votes': límites [-1.50, 2.50], eliminados 59237 registros (8.92%)\n",
      "'total_votes': límites [-1.50, 2.50], eliminados 25258 registros (4.18%)\n",
      "Total final después de eliminar atípicos: 579418 registros\n",
      "Total eliminado: 84495 registros (12.73%)\n",
      "\n",
      "Total de registros antes de eliminar nulos: 165987\n",
      "Total de registros después de eliminar nulos: 165987\n",
      "Se eliminaron 0 registros (0.00%)\n",
      "\n",
      "Total inicial: 165987 registros\n",
      "'helpful_votes': límites [-1.50, 2.50], eliminados 14874 registros (8.96%)\n",
      "'total_votes': límites [-1.50, 2.50], eliminados 6380 registros (4.22%)\n",
      "Total final después de eliminar atípicos: 144733 registros\n",
      "Total eliminado: 21254 registros (12.80%)\n",
      "\n",
      "\tEntrenando modelo RF...\n"
     ]
    },
    {
     "name": "stderr",
     "output_type": "stream",
     "text": [
      "                                                                                \r"
     ]
    },
    {
     "name": "stdout",
     "output_type": "stream",
     "text": [
      "\t✅ F1: 0.7139 | Accuracy: 0.7952\n",
      "\n",
      "===== Fold 2/5 (RF) =====\n",
      "Train: 663,918, Test: 165,982\n",
      "Total de registros antes de eliminar nulos: 663918\n",
      "Total de registros después de eliminar nulos: 663918\n",
      "Se eliminaron 0 registros (0.00%)\n",
      "\n",
      "Total inicial: 663918 registros\n",
      "'helpful_votes': límites [-1.50, 2.50], eliminados 59354 registros (8.94%)\n",
      "'total_votes': límites [-1.50, 2.50], eliminados 25301 registros (4.18%)\n",
      "Total final después de eliminar atípicos: 579263 registros\n",
      "Total eliminado: 84655 registros (12.75%)\n",
      "\n",
      "Total de registros antes de eliminar nulos: 165982\n",
      "Total de registros después de eliminar nulos: 165982\n",
      "Se eliminaron 0 registros (0.00%)\n",
      "\n",
      "Total inicial: 165982 registros\n",
      "'helpful_votes': límites [-1.50, 2.50], eliminados 14757 registros (8.89%)\n",
      "'total_votes': límites [-1.50, 2.50], eliminados 6337 registros (4.19%)\n",
      "Total final después de eliminar atípicos: 144888 registros\n",
      "Total eliminado: 21094 registros (12.71%)\n",
      "\n",
      "\tEntrenando modelo RF...\n"
     ]
    },
    {
     "name": "stderr",
     "output_type": "stream",
     "text": [
      "                                                                                \r"
     ]
    },
    {
     "name": "stdout",
     "output_type": "stream",
     "text": [
      "\t✅ F1: 0.7145 | Accuracy: 0.7954\n",
      "\n",
      "===== Fold 3/5 (RF) =====\n",
      "Train: 663,918, Test: 165,982\n",
      "Total de registros antes de eliminar nulos: 663918\n",
      "Total de registros después de eliminar nulos: 663918\n",
      "Se eliminaron 0 registros (0.00%)\n",
      "\n",
      "Total inicial: 663918 registros\n",
      "'helpful_votes': límites [-1.50, 2.50], eliminados 59192 registros (8.92%)\n",
      "'total_votes': límites [-1.50, 2.50], eliminados 25278 registros (4.18%)\n",
      "Total final después de eliminar atípicos: 579448 registros\n",
      "Total eliminado: 84470 registros (12.72%)\n",
      "\n",
      "Total de registros antes de eliminar nulos: 165982\n",
      "Total de registros después de eliminar nulos: 165982\n",
      "Se eliminaron 0 registros (0.00%)\n",
      "\n",
      "Total inicial: 165982 registros\n",
      "'helpful_votes': límites [-1.50, 2.50], eliminados 14919 registros (8.99%)\n",
      "'total_votes': límites [-1.50, 2.50], eliminados 6360 registros (4.21%)\n",
      "Total final después de eliminar atípicos: 144703 registros\n",
      "Total eliminado: 21279 registros (12.82%)\n",
      "\n"
     ]
    },
    {
     "name": "stderr",
     "output_type": "stream",
     "text": [
      "                                                                                \r"
     ]
    },
    {
     "name": "stdout",
     "output_type": "stream",
     "text": [
      "\tEntrenando modelo RF...\n"
     ]
    },
    {
     "name": "stderr",
     "output_type": "stream",
     "text": [
      "                                                                                \r"
     ]
    },
    {
     "name": "stdout",
     "output_type": "stream",
     "text": [
      "\t✅ F1: 0.7135 | Accuracy: 0.7948\n",
      "\n",
      "===== Fold 4/5 (RF) =====\n",
      "Train: 663,924, Test: 165,976\n",
      "Total de registros antes de eliminar nulos: 663924\n",
      "Total de registros después de eliminar nulos: 663924\n",
      "Se eliminaron 0 registros (0.00%)\n",
      "\n",
      "Total inicial: 663924 registros\n",
      "'helpful_votes': límites [-1.50, 2.50], eliminados 59298 registros (8.93%)\n",
      "'total_votes': límites [-1.50, 2.50], eliminados 25329 registros (4.19%)\n",
      "Total final después de eliminar atípicos: 579297 registros\n",
      "Total eliminado: 84627 registros (12.75%)\n",
      "\n",
      "Total de registros antes de eliminar nulos: 165976\n",
      "Total de registros después de eliminar nulos: 165976\n",
      "Se eliminaron 0 registros (0.00%)\n",
      "\n",
      "Total inicial: 165976 registros\n",
      "'helpful_votes': límites [-1.50, 2.50], eliminados 14813 registros (8.92%)\n",
      "'total_votes': límites [-1.50, 2.50], eliminados 6309 registros (4.17%)\n",
      "Total final después de eliminar atípicos: 144854 registros\n",
      "Total eliminado: 21122 registros (12.73%)\n",
      "\n",
      "\tEntrenando modelo RF...\n"
     ]
    },
    {
     "name": "stderr",
     "output_type": "stream",
     "text": [
      "                                                                                \r"
     ]
    },
    {
     "name": "stdout",
     "output_type": "stream",
     "text": [
      "\t✅ F1: 0.7145 | Accuracy: 0.7955\n",
      "\n",
      "===== Fold 5/5 (RF) =====\n",
      "Train: 663,927, Test: 165,973\n",
      "Total de registros antes de eliminar nulos: 663927\n",
      "Total de registros después de eliminar nulos: 663927\n",
      "Se eliminaron 0 registros (0.00%)\n",
      "\n",
      "Total inicial: 663927 registros\n",
      "'helpful_votes': límites [-1.50, 2.50], eliminados 59363 registros (8.94%)\n",
      "'total_votes': límites [-1.50, 2.50], eliminados 25386 registros (4.20%)\n",
      "Total final después de eliminar atípicos: 579178 registros\n",
      "Total eliminado: 84749 registros (12.76%)\n",
      "\n",
      "Total de registros antes de eliminar nulos: 165973\n",
      "Total de registros después de eliminar nulos: 165973\n",
      "Se eliminaron 0 registros (0.00%)\n",
      "\n",
      "Total inicial: 165973 registros\n",
      "'helpful_votes': límites [-1.50, 2.50], eliminados 14748 registros (8.89%)\n",
      "'total_votes': límites [-1.50, 2.50], eliminados 6252 registros (4.13%)\n",
      "Total final después de eliminar atípicos: 144973 registros\n",
      "Total eliminado: 21000 registros (12.65%)\n",
      "\n",
      "\tEntrenando modelo RF...\n"
     ]
    },
    {
     "name": "stderr",
     "output_type": "stream",
     "text": [
      "                                                                                \r"
     ]
    },
    {
     "name": "stdout",
     "output_type": "stream",
     "text": [
      "\t✅ F1: 0.7152 | Accuracy: 0.7959\n",
      "\n",
      "===== RESULTADOS FINALES =====\n",
      "Accuracy            : 0.7954 (+/- 0.0004)\n",
      "F1                  : 0.7143 (+/- 0.0006)\n",
      "Weightedprecision   : 0.7471 (+/- 0.0017)\n",
      "Weightedrecall      : 0.7954 (+/- 0.0004)\n",
      "Auc                 : 0.5888 (+/- 0.0013)\n"
     ]
    }
   ],
   "source": [
    "rf_validator = CrossValidator(\n",
    "    df_with_folds=df_with_folds,\n",
    "    model_type=\"rf\",\n",
    "    model_cols=model_cols,\n",
    "    num_cols=num_cols,\n",
    "    feature_cols=feature_cols,\n",
    "    label_col=\"sentiment\",\n",
    "    k=5\n",
    ")\n",
    "rf_metrics = rf_validator.run()\n"
   ]
  },
  {
   "cell_type": "code",
   "execution_count": null,
   "id": "0a2c5fbb",
   "metadata": {},
   "outputs": [
    {
     "name": "stdout",
     "output_type": "stream",
     "text": [
      "\n",
      "🔁 Ejecutando validación cruzada con modelo: GBT (k=5)\n",
      "\n",
      "===== Fold 1/5 (GBT) =====\n",
      "Train: 663,913, Test: 165,987\n",
      "Total de registros antes de eliminar nulos: 663913\n",
      "Total de registros después de eliminar nulos: 663913\n",
      "Se eliminaron 0 registros (0.00%)\n",
      "\n",
      "Total inicial: 663913 registros\n",
      "'helpful_votes': límites [-1.50, 2.50], eliminados 59237 registros (8.92%)\n",
      "'total_votes': límites [-1.50, 2.50], eliminados 25258 registros (4.18%)\n",
      "Total final después de eliminar atípicos: 579418 registros\n",
      "Total eliminado: 84495 registros (12.73%)\n",
      "\n",
      "Total de registros antes de eliminar nulos: 165987\n",
      "Total de registros después de eliminar nulos: 165987\n",
      "Se eliminaron 0 registros (0.00%)\n",
      "\n",
      "Total inicial: 165987 registros\n",
      "'helpful_votes': límites [-1.50, 2.50], eliminados 14874 registros (8.96%)\n",
      "'total_votes': límites [-1.50, 2.50], eliminados 6380 registros (4.22%)\n",
      "Total final después de eliminar atípicos: 144733 registros\n",
      "Total eliminado: 21254 registros (12.80%)\n",
      "\n",
      "\tEntrenando modelo GBT...\n"
     ]
    },
    {
     "name": "stderr",
     "output_type": "stream",
     "text": [
      "                                                                                \r"
     ]
    },
    {
     "name": "stdout",
     "output_type": "stream",
     "text": [
      "\t✅ F1: 0.7139 | Accuracy: 0.7952\n",
      "\n",
      "===== Fold 2/5 (GBT) =====\n",
      "Train: 663,918, Test: 165,982\n",
      "Total de registros antes de eliminar nulos: 663918\n",
      "Total de registros después de eliminar nulos: 663918\n",
      "Se eliminaron 0 registros (0.00%)\n",
      "\n",
      "Total inicial: 663918 registros\n",
      "'helpful_votes': límites [-1.50, 2.50], eliminados 59354 registros (8.94%)\n",
      "'total_votes': límites [-1.50, 2.50], eliminados 25301 registros (4.18%)\n",
      "Total final después de eliminar atípicos: 579263 registros\n",
      "Total eliminado: 84655 registros (12.75%)\n",
      "\n",
      "Total de registros antes de eliminar nulos: 165982\n"
     ]
    },
    {
     "name": "stderr",
     "output_type": "stream",
     "text": [
      "ERROR:root:KeyboardInterrupt while sending command.\n",
      "Traceback (most recent call last):\n",
      "  File \"/Users/emisaar/anaconda3/envs/pyspark_env/lib/python3.10/site-packages/py4j/java_gateway.py\", line 1038, in send_command\n",
      "    response = connection.send_command(command)\n",
      "  File \"/Users/emisaar/anaconda3/envs/pyspark_env/lib/python3.10/site-packages/py4j/clientserver.py\", line 511, in send_command\n",
      "    answer = smart_decode(self.stream.readline()[:-1])\n",
      "  File \"/Users/emisaar/anaconda3/envs/pyspark_env/lib/python3.10/socket.py\", line 717, in readinto\n",
      "    return self._sock.recv_into(b)\n",
      "KeyboardInterrupt\n"
     ]
    },
    {
     "ename": "KeyboardInterrupt",
     "evalue": "",
     "output_type": "error",
     "traceback": [
      "\u001b[0;31m---------------------------------------------------------------------------\u001b[0m",
      "\u001b[0;31mKeyboardInterrupt\u001b[0m                         Traceback (most recent call last)",
      "Cell \u001b[0;32mIn[69], line 10\u001b[0m\n\u001b[1;32m      1\u001b[0m gbt_validator \u001b[38;5;241m=\u001b[39m TreeBasedCrossValidator(\n\u001b[1;32m      2\u001b[0m     df_with_folds\u001b[38;5;241m=\u001b[39mdf_with_folds,\n\u001b[1;32m      3\u001b[0m     model_type\u001b[38;5;241m=\u001b[39m\u001b[38;5;124m\"\u001b[39m\u001b[38;5;124mgbt\u001b[39m\u001b[38;5;124m\"\u001b[39m,\n\u001b[0;32m   (...)\u001b[0m\n\u001b[1;32m      8\u001b[0m     k\u001b[38;5;241m=\u001b[39m\u001b[38;5;241m5\u001b[39m\n\u001b[1;32m      9\u001b[0m )\n\u001b[0;32m---> 10\u001b[0m \u001b[43mgbt_validator\u001b[49m\u001b[38;5;241;43m.\u001b[39;49m\u001b[43mrun\u001b[49m\u001b[43m(\u001b[49m\u001b[43m)\u001b[49m\n",
      "Cell \u001b[0;32mIn[67], line 105\u001b[0m, in \u001b[0;36mTreeBasedCrossValidator.run\u001b[0;34m(self)\u001b[0m\n\u001b[1;32m    103\u001b[0m \u001b[38;5;28mprint\u001b[39m(\u001b[38;5;124mf\u001b[39m\u001b[38;5;124m\"\u001b[39m\u001b[38;5;130;01m\\n\u001b[39;00m\u001b[38;5;124m🔁 Ejecutando validación cruzada con modelo: \u001b[39m\u001b[38;5;132;01m{\u001b[39;00m\u001b[38;5;28mself\u001b[39m\u001b[38;5;241m.\u001b[39mmodel_type\u001b[38;5;241m.\u001b[39mupper()\u001b[38;5;132;01m}\u001b[39;00m\u001b[38;5;124m (k=\u001b[39m\u001b[38;5;132;01m{\u001b[39;00m\u001b[38;5;28mself\u001b[39m\u001b[38;5;241m.\u001b[39mk\u001b[38;5;132;01m}\u001b[39;00m\u001b[38;5;124m)\u001b[39m\u001b[38;5;124m\"\u001b[39m)\n\u001b[1;32m    104\u001b[0m \u001b[38;5;28;01mfor\u001b[39;00m fold_id \u001b[38;5;129;01min\u001b[39;00m \u001b[38;5;28mrange\u001b[39m(\u001b[38;5;28mself\u001b[39m\u001b[38;5;241m.\u001b[39mk):\n\u001b[0;32m--> 105\u001b[0m     \u001b[38;5;28;43mself\u001b[39;49m\u001b[38;5;241;43m.\u001b[39;49m\u001b[43mrun_fold\u001b[49m\u001b[43m(\u001b[49m\u001b[43mfold_id\u001b[49m\u001b[43m)\u001b[49m\n\u001b[1;32m    107\u001b[0m \u001b[38;5;28mprint\u001b[39m(\u001b[38;5;124m\"\u001b[39m\u001b[38;5;130;01m\\n\u001b[39;00m\u001b[38;5;124m===== RESULTADOS FINALES =====\u001b[39m\u001b[38;5;124m\"\u001b[39m)\n\u001b[1;32m    108\u001b[0m \u001b[38;5;28;01mfor\u001b[39;00m key \u001b[38;5;129;01min\u001b[39;00m \u001b[38;5;28mself\u001b[39m\u001b[38;5;241m.\u001b[39mall_metrics[\u001b[38;5;241m0\u001b[39m]\u001b[38;5;241m.\u001b[39mkeys():\n",
      "Cell \u001b[0;32mIn[67], line 90\u001b[0m, in \u001b[0;36mTreeBasedCrossValidator.run_fold\u001b[0;34m(self, fold_id)\u001b[0m\n\u001b[1;32m     88\u001b[0m preprocessor \u001b[38;5;241m=\u001b[39m Preprocessor(\u001b[38;5;28mself\u001b[39m\u001b[38;5;241m.\u001b[39mmodel_cols)\n\u001b[1;32m     89\u001b[0m train_encoded \u001b[38;5;241m=\u001b[39m \u001b[38;5;28mself\u001b[39m\u001b[38;5;241m.\u001b[39mpreprocess(train_df, preprocessor)\n\u001b[0;32m---> 90\u001b[0m test_encoded \u001b[38;5;241m=\u001b[39m \u001b[38;5;28;43mself\u001b[39;49m\u001b[38;5;241;43m.\u001b[39;49m\u001b[43mpreprocess\u001b[49m\u001b[43m(\u001b[49m\u001b[43mtest_df\u001b[49m\u001b[43m,\u001b[49m\u001b[43m \u001b[49m\u001b[43mpreprocessor\u001b[49m\u001b[43m)\u001b[49m\n\u001b[1;32m     92\u001b[0m pipeline \u001b[38;5;241m=\u001b[39m \u001b[38;5;28mself\u001b[39m\u001b[38;5;241m.\u001b[39mbuild_model_pipeline()\n\u001b[1;32m     93\u001b[0m \u001b[38;5;28mprint\u001b[39m(\u001b[38;5;124mf\u001b[39m\u001b[38;5;124m\"\u001b[39m\u001b[38;5;130;01m\\t\u001b[39;00m\u001b[38;5;124mEntrenando modelo \u001b[39m\u001b[38;5;132;01m{\u001b[39;00m\u001b[38;5;28mself\u001b[39m\u001b[38;5;241m.\u001b[39mmodel_type\u001b[38;5;241m.\u001b[39mupper()\u001b[38;5;132;01m}\u001b[39;00m\u001b[38;5;124m...\u001b[39m\u001b[38;5;124m\"\u001b[39m)\n",
      "Cell \u001b[0;32mIn[67], line 38\u001b[0m, in \u001b[0;36mTreeBasedCrossValidator.preprocess\u001b[0;34m(self, df, preprocessor)\u001b[0m\n\u001b[1;32m     34\u001b[0m \u001b[38;5;28;01mdef\u001b[39;00m\u001b[38;5;250m \u001b[39m\u001b[38;5;21mpreprocess\u001b[39m(\u001b[38;5;28mself\u001b[39m, df, preprocessor):\n\u001b[1;32m     35\u001b[0m \u001b[38;5;250m    \u001b[39m\u001b[38;5;124;03m\"\"\"\u001b[39;00m\n\u001b[1;32m     36\u001b[0m \u001b[38;5;124;03m    Aplica el pipeline de preprocesamiento: nulos, outliers y codificación.\u001b[39;00m\n\u001b[1;32m     37\u001b[0m \u001b[38;5;124;03m    \"\"\"\u001b[39;00m\n\u001b[0;32m---> 38\u001b[0m     df_clean \u001b[38;5;241m=\u001b[39m \u001b[43mpreprocessor\u001b[49m\u001b[38;5;241;43m.\u001b[39;49m\u001b[43mdrop_nulls\u001b[49m\u001b[43m(\u001b[49m\u001b[43mdf\u001b[49m\u001b[43m)\u001b[49m\n\u001b[1;32m     39\u001b[0m     df_filtered \u001b[38;5;241m=\u001b[39m preprocessor\u001b[38;5;241m.\u001b[39mremove_outliers(df_clean, \u001b[38;5;28mself\u001b[39m\u001b[38;5;241m.\u001b[39mnum_cols)\n\u001b[1;32m     40\u001b[0m     df_encoded \u001b[38;5;241m=\u001b[39m preprocessor\u001b[38;5;241m.\u001b[39mencode_categoricals(df_filtered)\n",
      "Cell \u001b[0;32mIn[63], line 21\u001b[0m, in \u001b[0;36mPreprocessor.drop_nulls\u001b[0;34m(self, df)\u001b[0m\n\u001b[1;32m     19\u001b[0m \u001b[38;5;66;03m# Eliminar filas con nulos en columnas clave\u001b[39;00m\n\u001b[1;32m     20\u001b[0m df_clean \u001b[38;5;241m=\u001b[39m df\u001b[38;5;241m.\u001b[39mdropna(subset\u001b[38;5;241m=\u001b[39m\u001b[38;5;28mself\u001b[39m\u001b[38;5;241m.\u001b[39mcolumns)\n\u001b[0;32m---> 21\u001b[0m final_count \u001b[38;5;241m=\u001b[39m \u001b[43mdf_clean\u001b[49m\u001b[38;5;241;43m.\u001b[39;49m\u001b[43mcount\u001b[49m\u001b[43m(\u001b[49m\u001b[43m)\u001b[49m\n\u001b[1;32m     23\u001b[0m \u001b[38;5;28mprint\u001b[39m(\u001b[38;5;124mf\u001b[39m\u001b[38;5;124m\"\u001b[39m\u001b[38;5;124mTotal de registros después de eliminar nulos: \u001b[39m\u001b[38;5;132;01m{\u001b[39;00mfinal_count\u001b[38;5;132;01m}\u001b[39;00m\u001b[38;5;124m\"\u001b[39m)\n\u001b[1;32m     24\u001b[0m \u001b[38;5;28mprint\u001b[39m(\u001b[38;5;124mf\u001b[39m\u001b[38;5;124m\"\u001b[39m\u001b[38;5;124mSe eliminaron \u001b[39m\u001b[38;5;132;01m{\u001b[39;00minitial_count\u001b[38;5;250m \u001b[39m\u001b[38;5;241m-\u001b[39m\u001b[38;5;250m \u001b[39mfinal_count\u001b[38;5;132;01m}\u001b[39;00m\u001b[38;5;124m registros (\u001b[39m\u001b[38;5;132;01m{\u001b[39;00m(initial_count\u001b[38;5;250m \u001b[39m\u001b[38;5;241m-\u001b[39m\u001b[38;5;250m \u001b[39mfinal_count)\u001b[38;5;250m \u001b[39m\u001b[38;5;241m/\u001b[39m\u001b[38;5;250m \u001b[39minitial_count\u001b[38;5;132;01m:\u001b[39;00m\u001b[38;5;124m.2%\u001b[39m\u001b[38;5;132;01m}\u001b[39;00m\u001b[38;5;124m)\u001b[39m\u001b[38;5;130;01m\\n\u001b[39;00m\u001b[38;5;124m\"\u001b[39m)\n",
      "File \u001b[0;32m~/anaconda3/envs/pyspark_env/lib/python3.10/site-packages/pyspark/sql/dataframe.py:1240\u001b[0m, in \u001b[0;36mDataFrame.count\u001b[0;34m(self)\u001b[0m\n\u001b[1;32m   1217\u001b[0m \u001b[38;5;28;01mdef\u001b[39;00m\u001b[38;5;250m \u001b[39m\u001b[38;5;21mcount\u001b[39m(\u001b[38;5;28mself\u001b[39m) \u001b[38;5;241m-\u001b[39m\u001b[38;5;241m>\u001b[39m \u001b[38;5;28mint\u001b[39m:\n\u001b[1;32m   1218\u001b[0m \u001b[38;5;250m    \u001b[39m\u001b[38;5;124;03m\"\"\"Returns the number of rows in this :class:`DataFrame`.\u001b[39;00m\n\u001b[1;32m   1219\u001b[0m \n\u001b[1;32m   1220\u001b[0m \u001b[38;5;124;03m    .. versionadded:: 1.3.0\u001b[39;00m\n\u001b[0;32m   (...)\u001b[0m\n\u001b[1;32m   1238\u001b[0m \u001b[38;5;124;03m    3\u001b[39;00m\n\u001b[1;32m   1239\u001b[0m \u001b[38;5;124;03m    \"\"\"\u001b[39;00m\n\u001b[0;32m-> 1240\u001b[0m     \u001b[38;5;28;01mreturn\u001b[39;00m \u001b[38;5;28mint\u001b[39m(\u001b[38;5;28;43mself\u001b[39;49m\u001b[38;5;241;43m.\u001b[39;49m\u001b[43m_jdf\u001b[49m\u001b[38;5;241;43m.\u001b[39;49m\u001b[43mcount\u001b[49m\u001b[43m(\u001b[49m\u001b[43m)\u001b[49m)\n",
      "File \u001b[0;32m~/anaconda3/envs/pyspark_env/lib/python3.10/site-packages/py4j/java_gateway.py:1321\u001b[0m, in \u001b[0;36mJavaMember.__call__\u001b[0;34m(self, *args)\u001b[0m\n\u001b[1;32m   1314\u001b[0m args_command, temp_args \u001b[38;5;241m=\u001b[39m \u001b[38;5;28mself\u001b[39m\u001b[38;5;241m.\u001b[39m_build_args(\u001b[38;5;241m*\u001b[39margs)\n\u001b[1;32m   1316\u001b[0m command \u001b[38;5;241m=\u001b[39m proto\u001b[38;5;241m.\u001b[39mCALL_COMMAND_NAME \u001b[38;5;241m+\u001b[39m\\\n\u001b[1;32m   1317\u001b[0m     \u001b[38;5;28mself\u001b[39m\u001b[38;5;241m.\u001b[39mcommand_header \u001b[38;5;241m+\u001b[39m\\\n\u001b[1;32m   1318\u001b[0m     args_command \u001b[38;5;241m+\u001b[39m\\\n\u001b[1;32m   1319\u001b[0m     proto\u001b[38;5;241m.\u001b[39mEND_COMMAND_PART\n\u001b[0;32m-> 1321\u001b[0m answer \u001b[38;5;241m=\u001b[39m \u001b[38;5;28;43mself\u001b[39;49m\u001b[38;5;241;43m.\u001b[39;49m\u001b[43mgateway_client\u001b[49m\u001b[38;5;241;43m.\u001b[39;49m\u001b[43msend_command\u001b[49m\u001b[43m(\u001b[49m\u001b[43mcommand\u001b[49m\u001b[43m)\u001b[49m\n\u001b[1;32m   1322\u001b[0m return_value \u001b[38;5;241m=\u001b[39m get_return_value(\n\u001b[1;32m   1323\u001b[0m     answer, \u001b[38;5;28mself\u001b[39m\u001b[38;5;241m.\u001b[39mgateway_client, \u001b[38;5;28mself\u001b[39m\u001b[38;5;241m.\u001b[39mtarget_id, \u001b[38;5;28mself\u001b[39m\u001b[38;5;241m.\u001b[39mname)\n\u001b[1;32m   1325\u001b[0m \u001b[38;5;28;01mfor\u001b[39;00m temp_arg \u001b[38;5;129;01min\u001b[39;00m temp_args:\n",
      "File \u001b[0;32m~/anaconda3/envs/pyspark_env/lib/python3.10/site-packages/py4j/java_gateway.py:1038\u001b[0m, in \u001b[0;36mGatewayClient.send_command\u001b[0;34m(self, command, retry, binary)\u001b[0m\n\u001b[1;32m   1036\u001b[0m connection \u001b[38;5;241m=\u001b[39m \u001b[38;5;28mself\u001b[39m\u001b[38;5;241m.\u001b[39m_get_connection()\n\u001b[1;32m   1037\u001b[0m \u001b[38;5;28;01mtry\u001b[39;00m:\n\u001b[0;32m-> 1038\u001b[0m     response \u001b[38;5;241m=\u001b[39m \u001b[43mconnection\u001b[49m\u001b[38;5;241;43m.\u001b[39;49m\u001b[43msend_command\u001b[49m\u001b[43m(\u001b[49m\u001b[43mcommand\u001b[49m\u001b[43m)\u001b[49m\n\u001b[1;32m   1039\u001b[0m     \u001b[38;5;28;01mif\u001b[39;00m binary:\n\u001b[1;32m   1040\u001b[0m         \u001b[38;5;28;01mreturn\u001b[39;00m response, \u001b[38;5;28mself\u001b[39m\u001b[38;5;241m.\u001b[39m_create_connection_guard(connection)\n",
      "File \u001b[0;32m~/anaconda3/envs/pyspark_env/lib/python3.10/site-packages/py4j/clientserver.py:511\u001b[0m, in \u001b[0;36mClientServerConnection.send_command\u001b[0;34m(self, command)\u001b[0m\n\u001b[1;32m    509\u001b[0m \u001b[38;5;28;01mtry\u001b[39;00m:\n\u001b[1;32m    510\u001b[0m     \u001b[38;5;28;01mwhile\u001b[39;00m \u001b[38;5;28;01mTrue\u001b[39;00m:\n\u001b[0;32m--> 511\u001b[0m         answer \u001b[38;5;241m=\u001b[39m smart_decode(\u001b[38;5;28;43mself\u001b[39;49m\u001b[38;5;241;43m.\u001b[39;49m\u001b[43mstream\u001b[49m\u001b[38;5;241;43m.\u001b[39;49m\u001b[43mreadline\u001b[49m\u001b[43m(\u001b[49m\u001b[43m)\u001b[49m[:\u001b[38;5;241m-\u001b[39m\u001b[38;5;241m1\u001b[39m])\n\u001b[1;32m    512\u001b[0m         logger\u001b[38;5;241m.\u001b[39mdebug(\u001b[38;5;124m\"\u001b[39m\u001b[38;5;124mAnswer received: \u001b[39m\u001b[38;5;132;01m{0}\u001b[39;00m\u001b[38;5;124m\"\u001b[39m\u001b[38;5;241m.\u001b[39mformat(answer))\n\u001b[1;32m    513\u001b[0m         \u001b[38;5;66;03m# Happens when a the other end is dead. There might be an empty\u001b[39;00m\n\u001b[1;32m    514\u001b[0m         \u001b[38;5;66;03m# answer before the socket raises an error.\u001b[39;00m\n",
      "File \u001b[0;32m~/anaconda3/envs/pyspark_env/lib/python3.10/socket.py:717\u001b[0m, in \u001b[0;36mSocketIO.readinto\u001b[0;34m(self, b)\u001b[0m\n\u001b[1;32m    715\u001b[0m \u001b[38;5;28;01mwhile\u001b[39;00m \u001b[38;5;28;01mTrue\u001b[39;00m:\n\u001b[1;32m    716\u001b[0m     \u001b[38;5;28;01mtry\u001b[39;00m:\n\u001b[0;32m--> 717\u001b[0m         \u001b[38;5;28;01mreturn\u001b[39;00m \u001b[38;5;28;43mself\u001b[39;49m\u001b[38;5;241;43m.\u001b[39;49m\u001b[43m_sock\u001b[49m\u001b[38;5;241;43m.\u001b[39;49m\u001b[43mrecv_into\u001b[49m\u001b[43m(\u001b[49m\u001b[43mb\u001b[49m\u001b[43m)\u001b[49m\n\u001b[1;32m    718\u001b[0m     \u001b[38;5;28;01mexcept\u001b[39;00m timeout:\n\u001b[1;32m    719\u001b[0m         \u001b[38;5;28mself\u001b[39m\u001b[38;5;241m.\u001b[39m_timeout_occurred \u001b[38;5;241m=\u001b[39m \u001b[38;5;28;01mTrue\u001b[39;00m\n",
      "\u001b[0;31mKeyboardInterrupt\u001b[0m: "
     ]
    }
   ],
   "source": [
    "gbt_validator = CrossValidator(\n",
    "    df_with_folds=df_with_folds,\n",
    "    model_type=\"gbt\",\n",
    "    model_cols=model_cols,\n",
    "    num_cols=num_cols,\n",
    "    feature_cols=feature_cols,\n",
    "    label_col=\"sentiment\",\n",
    "    k=5\n",
    ")\n",
    "gbt_metrics = gbt_validator.run()"
   ]
  },
  {
   "cell_type": "markdown",
   "id": "462e281e",
   "metadata": {},
   "source": [
    "## 4. Visualización de resultados"
   ]
  },
  {
   "cell_type": "code",
   "execution_count": 74,
   "id": "35474a9b",
   "metadata": {},
   "outputs": [],
   "source": [
    "import pandas as pd\n",
    "import matplotlib.pyplot as plt\n",
    "\n",
    "class MetricsVisualizer:\n",
    "    def __init__(self, metrics: list, model_name: str = \"Modelo\", folds_label: str = \"Fold\"):\n",
    "        \"\"\"\n",
    "        Inicializa la visualización de métricas de validación cruzada.\n",
    "\n",
    "        Args:\n",
    "            metrics (list): Lista de diccionarios con métricas por fold.\n",
    "            model_name (str): Nombre descriptivo del modelo para los títulos de las gráficas.\n",
    "            folds_label (str): Etiqueta base para cada fold (por defecto: \"Fold\").\n",
    "        \"\"\"\n",
    "        self.model_name = model_name\n",
    "        self.df = pd.DataFrame(metrics)\n",
    "        self.df.index = [f\"{folds_label} {i+1}\" for i in range(len(metrics))]\n",
    "\n",
    "    def show_table(self):\n",
    "        print(f\"🔍 Resultados por Fold - {self.model_name}\")\n",
    "        display(self.df)\n",
    "\n",
    "    def plot_metrics(self, metrics_to_plot=None):\n",
    "        \"\"\"\n",
    "        Grafica líneas de evolución por fold para las métricas seleccionadas.\n",
    "        \"\"\"\n",
    "        if metrics_to_plot is None:\n",
    "            metrics_to_plot = [\"accuracy\", \"f1\", \"weightedPrecision\", \"weightedRecall\"]\n",
    "\n",
    "        plt.style.use(\"ggplot\")\n",
    "        for metric in metrics_to_plot:\n",
    "            if metric in self.df.columns:\n",
    "                plt.figure(figsize=(8, 4))\n",
    "                plt.plot(self.df.index, self.df[metric], marker='o', linewidth=2)\n",
    "                plt.title(f\"{self.model_name} - Evolución de la métrica: {metric}\")\n",
    "                plt.xlabel(\"Fold\")\n",
    "                plt.ylabel(metric)\n",
    "                plt.ylim(0, 1.05)\n",
    "                plt.grid(True)\n",
    "                plt.tight_layout()\n",
    "                plt.show()\n",
    "\n",
    "    def plot_boxplot(self, metrics_to_plot=None):\n",
    "        \"\"\"\n",
    "        Muestra un boxplot con la variabilidad por métrica.\n",
    "        \"\"\"\n",
    "        if metrics_to_plot is None:\n",
    "            metrics_to_plot = [\"accuracy\", \"f1\", \"weightedPrecision\", \"weightedRecall\"]\n",
    "\n",
    "        valid_metrics = [m for m in metrics_to_plot if m in self.df.columns]\n",
    "\n",
    "        if valid_metrics:\n",
    "            plt.figure(figsize=(8, 6))\n",
    "            self.df[valid_metrics].boxplot()\n",
    "            plt.title(f\"{self.model_name} - Distribución de Métricas por Fold\")\n",
    "            plt.ylabel(\"Valor de métrica\")\n",
    "            plt.ylim(0, 1.05)\n",
    "            plt.grid(True)\n",
    "            plt.tight_layout()\n",
    "            plt.show()\n",
    "        else:\n",
    "            print(\"⚠️ No hay métricas válidas para graficar.\")\n",
    "\n",
    "    def show_summary(self):\n",
    "        \"\"\"\n",
    "        Muestra una tabla con media y desviación estándar por métrica.\n",
    "        \"\"\"\n",
    "        summary_df = self.df.describe().T[[\"mean\", \"std\"]] \\\n",
    "            .rename(columns={\"mean\": \"Media\", \"std\": \"Desviación estándar\"})\n",
    "\n",
    "        print(f\"📋 Resumen estadístico - {self.model_name}\")\n",
    "        display(summary_df)"
   ]
  },
  {
   "cell_type": "code",
   "execution_count": 75,
   "id": "71f85432",
   "metadata": {},
   "outputs": [
    {
     "name": "stdout",
     "output_type": "stream",
     "text": [
      "🔍 Resultados por Fold - Random Forest\n"
     ]
    },
    {
     "data": {
      "text/html": [
       "<div>\n",
       "<style scoped>\n",
       "    .dataframe tbody tr th:only-of-type {\n",
       "        vertical-align: middle;\n",
       "    }\n",
       "\n",
       "    .dataframe tbody tr th {\n",
       "        vertical-align: top;\n",
       "    }\n",
       "\n",
       "    .dataframe thead th {\n",
       "        text-align: right;\n",
       "    }\n",
       "</style>\n",
       "<table border=\"1\" class=\"dataframe\">\n",
       "  <thead>\n",
       "    <tr style=\"text-align: right;\">\n",
       "      <th></th>\n",
       "      <th>accuracy</th>\n",
       "      <th>f1</th>\n",
       "      <th>weightedPrecision</th>\n",
       "      <th>weightedRecall</th>\n",
       "      <th>auc</th>\n",
       "    </tr>\n",
       "  </thead>\n",
       "  <tbody>\n",
       "    <tr>\n",
       "      <th>Fold 1</th>\n",
       "      <td>0.795223</td>\n",
       "      <td>0.713909</td>\n",
       "      <td>0.745290</td>\n",
       "      <td>0.795223</td>\n",
       "      <td>0.587326</td>\n",
       "    </tr>\n",
       "    <tr>\n",
       "      <th>Fold 2</th>\n",
       "      <td>0.795401</td>\n",
       "      <td>0.714492</td>\n",
       "      <td>0.746286</td>\n",
       "      <td>0.795401</td>\n",
       "      <td>0.590337</td>\n",
       "    </tr>\n",
       "    <tr>\n",
       "      <th>Fold 3</th>\n",
       "      <td>0.794752</td>\n",
       "      <td>0.713510</td>\n",
       "      <td>0.745742</td>\n",
       "      <td>0.794752</td>\n",
       "      <td>0.590348</td>\n",
       "    </tr>\n",
       "    <tr>\n",
       "      <th>Fold 4</th>\n",
       "      <td>0.795477</td>\n",
       "      <td>0.714468</td>\n",
       "      <td>0.748521</td>\n",
       "      <td>0.795477</td>\n",
       "      <td>0.588036</td>\n",
       "    </tr>\n",
       "    <tr>\n",
       "      <th>Fold 5</th>\n",
       "      <td>0.795941</td>\n",
       "      <td>0.715167</td>\n",
       "      <td>0.749617</td>\n",
       "      <td>0.795941</td>\n",
       "      <td>0.587855</td>\n",
       "    </tr>\n",
       "  </tbody>\n",
       "</table>\n",
       "</div>"
      ],
      "text/plain": [
       "        accuracy        f1  weightedPrecision  weightedRecall       auc\n",
       "Fold 1  0.795223  0.713909           0.745290        0.795223  0.587326\n",
       "Fold 2  0.795401  0.714492           0.746286        0.795401  0.590337\n",
       "Fold 3  0.794752  0.713510           0.745742        0.794752  0.590348\n",
       "Fold 4  0.795477  0.714468           0.748521        0.795477  0.588036\n",
       "Fold 5  0.795941  0.715167           0.749617        0.795941  0.587855"
      ]
     },
     "metadata": {},
     "output_type": "display_data"
    },
    {
     "data": {
      "image/png": "[encoded data removed]",
      "text/plain": [
       "<Figure size 800x400 with 1 Axes>"
      ]
     },
     "metadata": {},
     "output_type": "display_data"
    },
    {
     "data": {
      "image/png": "[encoded data removed]",
      "text/plain": [
       "<Figure size 800x400 with 1 Axes>"
      ]
     },
     "metadata": {},
     "output_type": "display_data"
    },
    {
     "data": {
      "image/png": "[encoded data removed]",
      "text/plain": [
       "<Figure size 800x400 with 1 Axes>"
      ]
     },
     "metadata": {},
     "output_type": "display_data"
    },
    {
     "data": {
      "image/png": "[encoded data removed]",
      "text/plain": [
       "<Figure size 800x400 with 1 Axes>"
      ]
     },
     "metadata": {},
     "output_type": "display_data"
    },
    {
     "data": {
      "image/png": "[encoded data removed]",
      "text/plain": [
       "<Figure size 800x600 with 1 Axes>"
      ]
     },
     "metadata": {},
     "output_type": "display_data"
    },
    {
     "name": "stdout",
     "output_type": "stream",
     "text": [
      "📋 Resumen estadístico - Random Forest\n"
     ]
    },
    {
     "data": {
      "text/html": [
       "<div>\n",
       "<style scoped>\n",
       "    .dataframe tbody tr th:only-of-type {\n",
       "        vertical-align: middle;\n",
       "    }\n",
       "\n",
       "    .dataframe tbody tr th {\n",
       "        vertical-align: top;\n",
       "    }\n",
       "\n",
       "    .dataframe thead th {\n",
       "        text-align: right;\n",
       "    }\n",
       "</style>\n",
       "<table border=\"1\" class=\"dataframe\">\n",
       "  <thead>\n",
       "    <tr style=\"text-align: right;\">\n",
       "      <th></th>\n",
       "      <th>Media</th>\n",
       "      <th>Desviación estándar</th>\n",
       "    </tr>\n",
       "  </thead>\n",
       "  <tbody>\n",
       "    <tr>\n",
       "      <th>accuracy</th>\n",
       "      <td>0.795359</td>\n",
       "      <td>0.000431</td>\n",
       "    </tr>\n",
       "    <tr>\n",
       "      <th>f1</th>\n",
       "      <td>0.714309</td>\n",
       "      <td>0.000631</td>\n",
       "    </tr>\n",
       "    <tr>\n",
       "      <th>weightedPrecision</th>\n",
       "      <td>0.747091</td>\n",
       "      <td>0.001880</td>\n",
       "    </tr>\n",
       "    <tr>\n",
       "      <th>weightedRecall</th>\n",
       "      <td>0.795359</td>\n",
       "      <td>0.000431</td>\n",
       "    </tr>\n",
       "    <tr>\n",
       "      <th>auc</th>\n",
       "      <td>0.588780</td>\n",
       "      <td>0.001450</td>\n",
       "    </tr>\n",
       "  </tbody>\n",
       "</table>\n",
       "</div>"
      ],
      "text/plain": [
       "                      Media  Desviación estándar\n",
       "accuracy           0.795359             0.000431\n",
       "f1                 0.714309             0.000631\n",
       "weightedPrecision  0.747091             0.001880\n",
       "weightedRecall     0.795359             0.000431\n",
       "auc                0.588780             0.001450"
      ]
     },
     "metadata": {},
     "output_type": "display_data"
    }
   ],
   "source": [
    "# Para Random Forest\n",
    "rf_viz = MetricsVisualizer(rf_metrics, model_name=\"Random Forest\")\n",
    "rf_viz.show_table()\n",
    "rf_viz.plot_metrics()\n",
    "rf_viz.plot_boxplot()\n",
    "rf_viz.show_summary()\n"
   ]
  },
  {
   "cell_type": "code",
   "execution_count": null,
   "id": "3c7e2739",
   "metadata": {},
   "outputs": [],
   "source": [
    "# Para Gradient Boosted Trees\n",
    "gbt_viz = MetricsVisualizer(gbt_metrics, model_name=\"GBT\")\n",
    "gbt_viz.show_table()\n",
    "gbt_viz.plot_metrics()\n",
    "gbt_viz.plot_boxplot()\n",
    "gbt_viz.show_summary()"
   ]
  },
  {
   "cell_type": "markdown",
   "id": "786a405c",
   "metadata": {},
   "source": [
    "## 2. (SKIP) Construcción del conjunto de entrenamiento y prueba"
   ]
  },
  {
   "cell_type": "markdown",
   "id": "a0aeb9e6",
   "metadata": {},
   "source": [
    "En este apartado se toma cada partición Mi generada en el paso anterior y se divide en dos subconjuntos: Entrenamiento (Train) y Prueba (Test).\n",
    "\n",
    "Antes de separar los datos, se analiza el tamaño de la clase minoritaria en todas las particiones para determinar el porcentaje adecuado de división.\n",
    "Dependiendo del tamaño de la clase minoritaria, se elige un split (train-test):\n",
    "* 70%-30% -> si tiene mayor o igual a 100 ejemplos\n",
    "* 75%-25% -> si tiene entre 60 y 99 ejemplos\n",
    "* 80%-20% -> si tiene menos de 60 ejemplos\n",
    "\n",
    "Se decidió realizar de estar manera para asegurar que los grupos más pequeños tengan al menos 20 ejemplos por clase en el conjunto de prueba."
   ]
  },
  {
   "cell_type": "code",
   "execution_count": 20,
   "id": "e19752de",
   "metadata": {},
   "outputs": [
    {
     "name": "stderr",
     "output_type": "stream",
     "text": [
      "                                                                                \r"
     ]
    }
   ],
   "source": [
    "# Analizar las particiones para identificar la clase minoritaria\n",
    "min_class_size = float('inf')\n",
    "target_col = \"sentiment\"\n",
    "\n",
    "for partition_key, partition_df in partitions_Mi.items():\n",
    "    class_counts = partition_df.groupBy(target_col).count().collect()\n",
    "    for row in class_counts:\n",
    "        if row['count'] < min_class_size:\n",
    "            min_class_size = row['count']"
   ]
  },
  {
   "cell_type": "code",
   "execution_count": 21,
   "id": "b904b287",
   "metadata": {},
   "outputs": [
    {
     "name": "stdout",
     "output_type": "stream",
     "text": [
      "Ratio óptimo calculado: 70% train / 30% test\n"
     ]
    }
   ],
   "source": [
    "# Determinar el ratio óptimo basado en la clase minoritaria\n",
    "if min_class_size >= 100:\n",
    "    test_ratio = 0.3  # 70-30\n",
    "elif min_class_size >= 60:\n",
    "    test_ratio = 0.25  # 75-25\n",
    "else:\n",
    "    test_ratio = 0.2  # 80-20\n",
    "\n",
    "train_ratio = 1.0 - test_ratio\n",
    "\n",
    "print(f\"Ratio óptimo calculado: {train_ratio:.0%} train / {test_ratio:.0%} test\")"
   ]
  },
  {
   "cell_type": "markdown",
   "id": "c252fa27",
   "metadata": {},
   "source": [
    "#### Separación de datos\n",
    "\n",
    "La separación se hace a partir de un muestreo estratificado para mantener la misma proporción de clases (`sentiment`) tanto en entrenamiento como en prueba, evitando sesgos.\n",
    "\n",
    "Primero se toma el conjunto de entrenamiento usando `sampleBy`, y luego se obtiene el conjunto de prueba tomando los registros restantes con `left_anti`. Con esto se busca evitar coincidencias entre ambos conjuntos, garantizando que los datos de prueba sean completamente independientes.\n",
    "\n",
    "Cabe destacar que, para cada partición, se realiza un guardado incremental en disco, lo que permite reanudar el proceso en caso de interrupciones sin recalcular todo. También, para reducir el tiempo de procesamiento, se optó por implementar procesamiento paralelo y persistencia en memoria.\n",
    "\n",
    "Fuentes consultadas:\n",
    "\n",
    "https://www.geeksforgeeks.org/pyspark-sampleby-using-multiple-columns/\n",
    "\n",
    "https://iomete.com/resources/reference/pyspark/pyspark-join\n",
    "\n",
    "https://medium.com/@shuklaprashant9264/pyspark-persist-2aa92478081d\n",
    "\n",
    "https://medium.com/@anupchakole/understanding-threadpoolexecutor-2eed095d21aa"
   ]
  },
  {
   "cell_type": "code",
   "execution_count": 3,
   "id": "4156d218",
   "metadata": {},
   "outputs": [
    {
     "ename": "NameError",
     "evalue": "name 'partitions_Mi' is not defined",
     "output_type": "error",
     "traceback": [
      "\u001b[0;31m---------------------------------------------------------------------------\u001b[0m",
      "\u001b[0;31mNameError\u001b[0m                                 Traceback (most recent call last)",
      "Cell \u001b[0;32mIn[3], line 57\u001b[0m\n\u001b[1;32m     55\u001b[0m \u001b[38;5;28;01mwith\u001b[39;00m ThreadPoolExecutor(max_workers\u001b[38;5;241m=\u001b[39mmax_workers) \u001b[38;5;28;01mas\u001b[39;00m executor:\n\u001b[1;32m     56\u001b[0m     futures \u001b[38;5;241m=\u001b[39m []\n\u001b[0;32m---> 57\u001b[0m     \u001b[38;5;28;01mfor\u001b[39;00m key, df \u001b[38;5;129;01min\u001b[39;00m \u001b[43mpartitions_Mi\u001b[49m\u001b[38;5;241m.\u001b[39mitems():\n\u001b[1;32m     58\u001b[0m         futures\u001b[38;5;241m.\u001b[39mappend(executor\u001b[38;5;241m.\u001b[39msubmit(process_partition, key, df))\n\u001b[1;32m     60\u001b[0m     \u001b[38;5;66;03m# Esperar a que todas terminen\u001b[39;00m\n",
      "\u001b[0;31mNameError\u001b[0m: name 'partitions_Mi' is not defined"
     ]
    }
   ],
   "source": [
    "# Guardar los resultados de la partición\n",
    "output_dir = \"outputs/stratified_split\"\n",
    "os.makedirs(output_dir, exist_ok=True)\n",
    "\n",
    "log_path = os.path.join(output_dir, \"split_summary.csv\")\n",
    "\n",
    "# Inicializar log si no existe\n",
    "if not os.path.exists(log_path):\n",
    "    with open(log_path, \"w\") as log_file:\n",
    "        log_file.write(\"partition,train_size,test_size,total_size\\n\")\n",
    "\n",
    "def process_partition(partition_key, partition_df):\n",
    "    train_path = f\"{output_dir}/train_{partition_key}\"\n",
    "    test_path = f\"{output_dir}/test_{partition_key}\"\n",
    "\n",
    "    if os.path.exists(train_path) and os.path.exists(test_path):\n",
    "        print(f\"Saltando partición {partition_key} (ya existe)\")\n",
    "        return\n",
    "\n",
    "    print(f\"Procesando partición {partition_key}...\")\n",
    "\n",
    "    # Persistir para evitar recálculo\n",
    "    partition_df = partition_df.persist()\n",
    "\n",
    "    class_counts = partition_df.groupBy(target_col).count().collect()\n",
    "    fractions = {row[target_col]: train_ratio for row in class_counts}\n",
    "\n",
    "    train_df = partition_df.sampleBy(target_col, fractions, seed=42).persist()\n",
    "    test_df = partition_df.join(train_df, on=partition_df.columns, how='left_anti').persist()\n",
    "\n",
    "    # Guardar en local\n",
    "    train_df.write.mode(\"overwrite\").parquet(train_path)\n",
    "    test_df.write.mode(\"overwrite\").parquet(test_path)\n",
    "\n",
    "    # Calcular tamaños solo una vez (ya persistidos)\n",
    "    train_size = train_df.count()\n",
    "    test_size = test_df.count()\n",
    "    total_size = train_size + test_size\n",
    "\n",
    "    print(f\"Train: {train_size} registros ({train_size/total_size:.1%})\")\n",
    "    print(f\"Test: {test_size} registros ({test_size/total_size:.1%})\")\n",
    "\n",
    "    # Registrar en log CSV\n",
    "    with open(log_path, \"a\") as log_file:\n",
    "        log_file.write(f\"{partition_key},{train_size},{test_size},{total_size}\\n\")\n",
    "\n",
    "    # Liberar memoria\n",
    "    partition_df.unpersist()\n",
    "    train_df.unpersist()\n",
    "    test_df.unpersist()\n",
    "\n",
    "# ⚙ Configura cuántas particiones en paralelo\n",
    "max_workers = 4\n",
    "\n",
    "with ThreadPoolExecutor(max_workers=max_workers) as executor:\n",
    "    futures = []\n",
    "    for key, df in partitions_Mi.items():\n",
    "        futures.append(executor.submit(process_partition, key, df))\n",
    "\n",
    "    # Esperar a que todas terminen\n",
    "    for future in futures:\n",
    "        future.result()\n"
   ]
  },
  {
   "cell_type": "code",
   "execution_count": 7,
   "id": "fcacb67f",
   "metadata": {},
   "outputs": [
    {
     "name": "stdout",
     "output_type": "stream",
     "text": [
      "Partición R2_VPN_VY: 133 train, 80 test\n",
      "Partición R3_VPN_VN: 5445 train, 2393 test\n",
      "Partición R5_VPY_VN: 309248 train, 132825 test\n",
      "Partición R1_VPN_VN: 12896 train, 5420 test\n",
      "Partición R5_VPN_VN: 34505 train, 14686 test\n",
      "Partición R1_VPY_VN: 50774 train, 21670 test\n",
      "Partición R4_VPN_VY: 1187 train, 487 test\n",
      "Partición R3_VPY_VN: 37301 train, 15984 test\n",
      "Partición R2_VPN_VN: 5043 train, 2165 test\n",
      "Partición R3_VPN_VY: 439 train, 167 test\n",
      "Partición R4_VPY_VN: 86077 train, 36696 test\n",
      "Partición R5_VPN_VY: 1367 train, 569 test\n",
      "Partición R4_VPN_VN: 11422 train, 4749 test\n",
      "Partición R2_VPY_VN: 25322 train, 10767 test\n"
     ]
    }
   ],
   "source": [
    "# Cargar los conjuntos de entrenamiento y prueba guardados\n",
    "output_dir = \"outputs/stratified_split\"\n",
    "train_sets = {}\n",
    "test_sets = {}\n",
    "\n",
    "# Buscar todos los archivos parquet guardados\n",
    "for filename in os.listdir(output_dir):\n",
    "    if filename.startswith(\"train_\"):\n",
    "        partition_key = filename[len(\"train_\"):]  # solo quitamos el prefijo\n",
    "        \n",
    "        train_path = f\"{output_dir}/{filename}\"\n",
    "        test_path = f\"{output_dir}/test_{partition_key}\"\n",
    "\n",
    "        try:\n",
    "            train_df = spark.read.parquet(train_path)\n",
    "            test_df = spark.read.parquet(test_path)\n",
    "            \n",
    "            train_sets[partition_key] = train_df\n",
    "            test_sets[partition_key] = test_df\n",
    "\n",
    "            print(f\"Partición {partition_key}: \"\n",
    "                  f\"{train_df.count()} train, {test_df.count()} test\")\n",
    "        except Exception as e:\n",
    "            print(f\"Error al cargar partición {partition_key}: {e}\")\n"
   ]
  },
  {
   "cell_type": "code",
   "execution_count": 8,
   "id": "334fb6f1",
   "metadata": {},
   "outputs": [
    {
     "name": "stdout",
     "output_type": "stream",
     "text": [
      "\n",
      "=== RESUMEN FINAL DE DIVISIÓN ===\n",
      "Tamaño total de entrenamiento: 581,159 registros\n",
      "Tamaño total de prueba: 248,658 registros\n",
      "Suma total de registros: 829,817 registros\n",
      "Tamaño total original: 829,817 registros\n",
      "Fracción de entrenamiento: 70.0%\n",
      "Fracción de prueba: 30.0%\n"
     ]
    }
   ],
   "source": [
    "log_df = pd.read_csv(\"outputs/stratified_split/split_summary.csv\")\n",
    "total_train = log_df[\"train_size\"].sum()\n",
    "total_test = log_df[\"test_size\"].sum()\n",
    "total_original = log_df[\"total_size\"].sum()\n",
    "\n",
    "print(f\"\\n=== RESUMEN FINAL DE DIVISIÓN ===\")\n",
    "print(f\"Tamaño total de entrenamiento: {total_train:,} registros\")\n",
    "print(f\"Tamaño total de prueba: {total_test:,} registros\")\n",
    "print(f\"Suma total de registros: {total_train + total_test:,} registros\")\n",
    "print(f\"Tamaño total original: {total_original:,} registros\")\n",
    "print(f\"Fracción de entrenamiento: {total_train / total_original:.1%}\")\n",
    "print(f\"Fracción de prueba: {total_test / total_original:.1%}\")"
   ]
  },
  {
   "cell_type": "markdown",
   "id": "e5f5fee1",
   "metadata": {},
   "source": [
    "**Observaciones**\n",
    "\n",
    "Se puede apreciar que la suma de los tamaños de los conjuntos de train y test coinciden con el tamaño original de cada partición Mi. Lo anterior, permite descartar la posibilidad de valores faltantes o duplicados."
   ]
  },
  {
   "cell_type": "markdown",
   "id": "2d47bbe2",
   "metadata": {},
   "source": [
    "## 3. (SKIP) Selección de métricas para medir calidad de resultados"
   ]
  },
  {
   "cell_type": "markdown",
   "id": "4c727377",
   "metadata": {},
   "source": [
    "En este apartado se definen y justifican las métricas que se utilizarán para evaluar la calidad de los modelos construidos. Elegir las métricas adecuadas es fundamental porque nos permite entender no solo qué tan bien se ajusta el modelo a los datos, sino que también cómo se comporta frente a nuevos casos, qué tipo de errores comete y cómo balancea entre distintas prioridades (como precisión vs. sensibilidad).\n",
    "\n",
    "#### Contexto: Amazon Reviews\n",
    "El conjunto de datos contiene reseñas de productos publicadas en Amazon, centradas en la categoría electrónica. Cada registro incluye variables relevantes como la calificación (`star_rating`), si la compra fue verificada (`verified_purchase`), si participó en el programa Vine (`vine`) y una etiqueta derivada de sentimiento (`sentiment`). El objetivo es construir modelos que puedan clasificar correctamente el sentimiento de las reseñas. \n",
    "\n",
    "Dado que se trata de un problema de clasificación binaria, y considerando el tamaño y naturaleza del dataset (grandes volúmenes y con clases desbalanceadas), es necesario usar métricas robustas y que reflejen distintos aspectos del rendimiento del modelo.\n",
    "\n",
    "#### Selección de métricas\n",
    "\n",
    "Con base en el entendimiento del problema, se consideró el uso de las siguientes métricas:\n",
    "\n",
    "**Accuracy:** Mide el porcentaje total de predicciones correctas (ya sean positivas o negativas). En nuestro caso, nos da una visión general de cuántas reseñas de sentimiento fueron clasificadas correctamente. Sin embargo, dada la naturaleza del desbalanceo de clases, no podemos depender solo de esta métrica, porque un modelo que siempre prediga “positivo” podría tener alta precisión, pero no ser útil para detectar las negativas.\n",
    "\n",
    "**Precision:** De todas las reseñas que el modelo predijo como positivas, indica cuántas realmente lo son. Esto es relevante porque, si queremos usar el modelo para destacar reseñas confiables o promocionar productos con buena reputación, es importante evitar falsos positivos, ya que no queremos etiquetar como positiva una reseña que en realidad es negativa. Lo anterior podría distorcionar el análisis comercial.\n",
    "\n",
    "**Recall:** De todas las reseñas que realmente son positivas, mide cuántas logró capturar el modelo. Esto es fundamental si queremos capturar la mayor cantidad posible de reseñas positivas para recomendaciones.\n",
    "\n",
    "**F1-score:** Combina precision y recall, balanceando ambos aspectos. En este caso, es clave porque trabajamos con clases desbalanceadas (hay muchas más reseñas positivas que negativas), y necesitamos una métrica que penalice modelos que solo optimizan una dimensión (por ejemplo, mucha precisión pero poco recall).\n",
    "\n",
    "**AUC-ROC (Área bajo la curva ROC):** Evalúa la capacidad del modelo para distinguir correctamente entre reseñas positivas y negativas, considerando todos los umbrales posibles. Esto es útil para tener una visión completa del poder discriminativo del modelo, más allá de una decisión binaria fija.\n"
   ]
  },
  {
   "cell_type": "markdown",
   "id": "97e6f17f",
   "metadata": {},
   "source": []
  },
  {
   "cell_type": "markdown",
   "id": "c05e9b49",
   "metadata": {},
   "source": [
    "## (SKIP) 4. Entrenamiento de Modelos de Aprendizaje"
   ]
  },
  {
   "cell_type": "markdown",
   "id": "dbef7b58",
   "metadata": {},
   "source": [
    "### Preprocesamiento de los datos\n",
    "\n",
    ">Nota: Se reutilizaron elementos de la Actividad 3 | Aprendizaje supervisado y no supervisado para llevar a cabo el procesamiento de los datos."
   ]
  },
  {
   "cell_type": "code",
   "execution_count": 11,
   "id": "ff87b701",
   "metadata": {},
   "outputs": [],
   "source": [
    "class Preprocessor:\n",
    "    def __init__(self, columns_for_modeling):\n",
    "        self.columns = columns_for_modeling\n",
    "        self.indexed_columns = []\n",
    "\n",
    "    def merge_partitions(self, partition_dict: dict) -> DataFrame:\n",
    "        return reduce(lambda df1, df2: df1.unionByName(df2), partition_dict.values())\n",
    "\n",
    "    def drop_nulls(self, df: DataFrame) -> DataFrame:\n",
    "        initial_count = df.count()\n",
    "        print(f\"Total de registros antes de eliminar nulos: {initial_count}\")\n",
    "\n",
    "        # Calcular cuántos nulos hay por columna relevante\n",
    "        for col_name in self.columns:\n",
    "            null_count = df.filter(F.col(col_name).isNull()).count()\n",
    "            if null_count > 0:\n",
    "                print(f\"  Columna '{col_name}' tiene {null_count} valores nulos\")\n",
    "        \n",
    "        # Eliminar filas con nulos en columnas clave\n",
    "        df_clean = df.dropna(subset=self.columns)\n",
    "        final_count = df_clean.count()\n",
    "\n",
    "        print(f\"Total de registros después de eliminar nulos: {final_count}\")\n",
    "        print(f\"Se eliminaron {initial_count - final_count} registros ({(initial_count - final_count) / initial_count:.2%})\\n\")\n",
    "        \n",
    "        return df_clean\n",
    "\n",
    "    # def cast_types(self, df: DataFrame) -> DataFrame:\n",
    "    #     numeric_cols = [\"star_rating\", \"helpful_votes\", \"total_votes\", \"sentiment\"]\n",
    "    #     for col_name in numeric_cols:\n",
    "    #         df = df.withColumn(col_name, col(col_name).cast(IntegerType()))\n",
    "    #     return df\n",
    "\n",
    "    def remove_outliers(self, df: DataFrame, columns: list, quantile_error=0.01) -> DataFrame:\n",
    "        initial_count = df.count()\n",
    "        print(f\"Total inicial: {initial_count} registros\")\n",
    "\n",
    "        for col_name in columns:\n",
    "            Q1, Q3 = df.approxQuantile(col_name, [0.25, 0.75], quantile_error)\n",
    "            IQR = Q3 - Q1\n",
    "            lower_bound = Q1 - 1.5 * IQR\n",
    "            upper_bound = Q3 + 1.5 * IQR\n",
    "\n",
    "            if IQR == 0:\n",
    "                print(f\"Advertencia: IQR=0 para '{col_name}', se omite filtro de atípicos.\")\n",
    "                continue\n",
    "\n",
    "            before_count = df.count()\n",
    "            df = df.filter((F.col(col_name) >= lower_bound) & (F.col(col_name) <= upper_bound))\n",
    "            after_count = df.count()\n",
    "            removed = before_count - after_count\n",
    "\n",
    "            print(f\"'{col_name}': límites [{lower_bound:.2f}, {upper_bound:.2f}], eliminados {removed} registros ({removed / before_count:.2%})\")\n",
    "        \n",
    "        final_count = df.count()\n",
    "        print(f\"Total final después de eliminar atípicos: {final_count} registros\")\n",
    "        print(f\"Total eliminado: {initial_count - final_count} registros ({(initial_count - final_count) / initial_count:.2%})\\n\")\n",
    "        \n",
    "        return df\n",
    "   \n",
    "\n",
    "    def encode_categoricals(self, df: DataFrame) -> DataFrame:\n",
    "        categorical_cols = [\"vine\", \"verified_purchase\"]\n",
    "        for col_name in categorical_cols:\n",
    "            index_col = f\"{col_name}_index\"\n",
    "            self.indexed_columns.append(index_col)\n",
    "            indexer = StringIndexer(inputCol=col_name, outputCol=index_col)\n",
    "            df = indexer.fit(df).transform(df)\n",
    "        return df"
   ]
  },
  {
   "cell_type": "code",
   "execution_count": 12,
   "id": "6dc0fa5c",
   "metadata": {},
   "outputs": [],
   "source": [
    "RELEVANT_COLUMNS_FOR_MODELING = [\n",
    "    \"star_rating\", \"helpful_votes\", \"total_votes\",\n",
    "    \"vine\", \"verified_purchase\", \"sentiment\"\n",
    "]"
   ]
  },
  {
   "cell_type": "markdown",
   "id": "51060b89",
   "metadata": {},
   "source": [
    "#### Unión de particiones para construir M\n",
    "\n",
    "En esta primera etapa, se lleva a cabo la unión de múltiples subconjuntos muestreados de la base original, generados a partir de combinaciones de las variables de caracterización (`star_rating`, `verified_purchase`, `vine`). Esto será de ayuda para contruir un conjunto representativo (M) que conserve la diversidad presente en la base original, evitando sesgos asociados a una partición única."
   ]
  },
  {
   "cell_type": "code",
   "execution_count": 13,
   "id": "c6c52729",
   "metadata": {},
   "outputs": [],
   "source": [
    "# Crear instancia del Preprocessor\n",
    "preprocessor = Preprocessor(columns_for_modeling=RELEVANT_COLUMNS_FOR_MODELING)\n",
    "\n",
    "# Combinar todas las particiones de entrenamiento (Tri) en un solo DataFrame\n",
    "df_train = preprocessor.merge_partitions(train_sets)\n",
    "\n",
    "# Combinar todas las particiones de prueba (Tsi) en un solo DataFrame\n",
    "df_test = preprocessor.merge_partitions(test_sets)\n"
   ]
  },
  {
   "cell_type": "markdown",
   "id": "f6ef8c94",
   "metadata": {},
   "source": [
    "#### Limpieza de valores nulos\n",
    "\n",
    "Para poder entrenar los modelos, es importante realizar una limpieza de valores faltantes para evitar errores en el prepocesamiento y mejorar la calidad de estos."
   ]
  },
  {
   "cell_type": "code",
   "execution_count": 14,
   "id": "440b88f5",
   "metadata": {},
   "outputs": [
    {
     "name": "stdout",
     "output_type": "stream",
     "text": [
      "=== TRAIN SET ===\n",
      "Total de registros antes de eliminar nulos: 581159\n",
      "Total de registros después de eliminar nulos: 581159\n",
      "Se eliminaron 0 registros (0.00%)\n",
      "\n"
     ]
    }
   ],
   "source": [
    "print(\"=== TRAIN SET ===\")\n",
    "df_train = preprocessor.drop_nulls(df_train)"
   ]
  },
  {
   "cell_type": "code",
   "execution_count": 15,
   "id": "26e7c642",
   "metadata": {},
   "outputs": [
    {
     "name": "stdout",
     "output_type": "stream",
     "text": [
      "=== TEST SET ===\n",
      "Total de registros antes de eliminar nulos: 248658\n",
      "Total de registros después de eliminar nulos: 248658\n",
      "Se eliminaron 0 registros (0.00%)\n",
      "\n"
     ]
    },
    {
     "name": "stderr",
     "output_type": "stream",
     "text": [
      "                                                                                \r"
     ]
    }
   ],
   "source": [
    "print(\"=== TEST SET ===\")\n",
    "df_test = preprocessor.drop_nulls(df_test)"
   ]
  },
  {
   "cell_type": "markdown",
   "id": "f6bc5275",
   "metadata": {},
   "source": [
    "#### Conversión de tipos\n",
    "\n",
    "En este paso, nos aseguraremos que las variables posean los tipos de datos correctos para que puedan ser procesados correctamente por los algoritmos de ML.\n",
    "\n",
    "Al utilizar `printSchema()`, se puede apreciar que las variables numéricas (`star_rating`, `helpful_votes`, `total_votes` y `sentiment`) y categóricas (`verified_purchase` y `vine`) están correctamente tipadas.\n",
    "\n",
    "Esta validación es importante, para evitar errores durante el entrenamiento del modelo."
   ]
  },
  {
   "cell_type": "code",
   "execution_count": 16,
   "id": "33218ec3",
   "metadata": {},
   "outputs": [
    {
     "name": "stdout",
     "output_type": "stream",
     "text": [
      "=== TRAIN SET ===\n",
      "root\n",
      " |-- marketplace: string (nullable = true)\n",
      " |-- customer_id: integer (nullable = true)\n",
      " |-- review_id: string (nullable = true)\n",
      " |-- product_id: string (nullable = true)\n",
      " |-- product_parent: integer (nullable = true)\n",
      " |-- product_title: string (nullable = true)\n",
      " |-- product_category: string (nullable = true)\n",
      " |-- star_rating: integer (nullable = true)\n",
      " |-- helpful_votes: integer (nullable = true)\n",
      " |-- total_votes: integer (nullable = true)\n",
      " |-- vine: string (nullable = true)\n",
      " |-- verified_purchase: string (nullable = true)\n",
      " |-- review_headline: string (nullable = true)\n",
      " |-- review_body: string (nullable = true)\n",
      " |-- review_date: date (nullable = true)\n",
      " |-- sentiment: integer (nullable = true)\n",
      "\n"
     ]
    }
   ],
   "source": [
    "print(\"=== TRAIN SET ===\")\n",
    "df_train.printSchema()\n",
    "# df_train = preprocessor.cast_types(df_train)"
   ]
  },
  {
   "cell_type": "code",
   "execution_count": 17,
   "id": "f32f4854",
   "metadata": {},
   "outputs": [
    {
     "name": "stdout",
     "output_type": "stream",
     "text": [
      "=== TEST SET ===\n",
      "root\n",
      " |-- marketplace: string (nullable = true)\n",
      " |-- customer_id: integer (nullable = true)\n",
      " |-- review_id: string (nullable = true)\n",
      " |-- product_id: string (nullable = true)\n",
      " |-- product_parent: integer (nullable = true)\n",
      " |-- product_title: string (nullable = true)\n",
      " |-- product_category: string (nullable = true)\n",
      " |-- star_rating: integer (nullable = true)\n",
      " |-- helpful_votes: integer (nullable = true)\n",
      " |-- total_votes: integer (nullable = true)\n",
      " |-- vine: string (nullable = true)\n",
      " |-- verified_purchase: string (nullable = true)\n",
      " |-- review_headline: string (nullable = true)\n",
      " |-- review_body: string (nullable = true)\n",
      " |-- review_date: date (nullable = true)\n",
      " |-- sentiment: integer (nullable = true)\n",
      "\n"
     ]
    }
   ],
   "source": [
    "print(\"=== TEST SET ===\")\n",
    "df_test.printSchema()\n",
    "# df_test = preprocessor.cast_types(df_test)"
   ]
  },
  {
   "cell_type": "markdown",
   "id": "485566e3",
   "metadata": {},
   "source": [
    "#### Detección y tratamiento de valores atípicos\n",
    "\n",
    "Para evitar que los valores extremos puedan distorsionar las distribuciones e impactar sobre la capacidad de generalización de los modelos, se aplicó una técnica de detección y eliminación de valores atípicos (outliers) sobre las columnas `total_votes` y `helpful_votes`, utilizando el método del rango intercuartílico (IQR). Se decidió utilizar IQR, ya que es una técnica robusta que identifica outliers con base en la dispersión natural de los datos, en lugar de utilizar un umbral o threshold manual."
   ]
  },
  {
   "cell_type": "code",
   "execution_count": 18,
   "id": "b12d093b",
   "metadata": {},
   "outputs": [
    {
     "name": "stdout",
     "output_type": "stream",
     "text": [
      "=== TRAIN SET ===\n",
      "Total inicial: 581159 registros\n",
      "'helpful_votes': límites [-1.50, 2.50], eliminados 51992 registros (8.95%)\n",
      "'total_votes': límites [-1.50, 2.50], eliminados 22181 registros (4.19%)\n",
      "Total final después de eliminar atípicos: 506986 registros\n",
      "Total eliminado: 74173 registros (12.76%)\n",
      "\n"
     ]
    }
   ],
   "source": [
    "print(\"=== TRAIN SET ===\")\n",
    "df_train = preprocessor.remove_outliers(df_train, columns=[\"helpful_votes\", \"total_votes\"], quantile_error=0.01)"
   ]
  },
  {
   "cell_type": "code",
   "execution_count": 19,
   "id": "d7061eeb",
   "metadata": {},
   "outputs": [
    {
     "name": "stdout",
     "output_type": "stream",
     "text": [
      "=== TEST SET ===\n",
      "Total inicial: 248658 registros\n",
      "'helpful_votes': límites [-1.50, 2.50], eliminados 22084 registros (8.88%)\n",
      "'total_votes': límites [-1.50, 2.50], eliminados 9444 registros (4.17%)\n",
      "Total final después de eliminar atípicos: 217130 registros\n",
      "Total eliminado: 31528 registros (12.68%)\n",
      "\n"
     ]
    },
    {
     "name": "stderr",
     "output_type": "stream",
     "text": [
      "                                                                                \r"
     ]
    }
   ],
   "source": [
    "print(\"=== TEST SET ===\")\n",
    "df_test = preprocessor.remove_outliers(df_test, columns=[\"helpful_votes\", \"total_votes\"], quantile_error=0.01)"
   ]
  },
  {
   "cell_type": "markdown",
   "id": "dac70790",
   "metadata": {},
   "source": [
    "#### Transformación de variables categóricas\n",
    "\n",
    "Como se revisó anteriormente, se cuenta con variables categóricas (`verified_purchase` y `vine`), por lo que es relevante llevar a cabo una codificación para el entrenamiento de los modelos. Se decidió utilizar `StringIndexer` que es una técnica de codificación por frecuencia de aparación que no incrementa el número de columnas y funciona bien para categorías binarias. En este caso, ambas columnas poseen valores de 'Y' y 'N'."
   ]
  },
  {
   "cell_type": "code",
   "execution_count": 20,
   "id": "66d65e5b",
   "metadata": {},
   "outputs": [
    {
     "name": "stderr",
     "output_type": "stream",
     "text": [
      "                                                                                \r"
     ]
    },
    {
     "name": "stdout",
     "output_type": "stream",
     "text": [
      "+----------+-----------------------+\n",
      "|vine_index|verified_purchase_index|\n",
      "+----------+-----------------------+\n",
      "|1.0       |1.0                    |\n",
      "|0.0       |1.0                    |\n",
      "|0.0       |0.0                    |\n",
      "+----------+-----------------------+\n",
      "\n"
     ]
    }
   ],
   "source": [
    "df_train = preprocessor.encode_categoricals(df_train)\n",
    "df_train.select(\"vine_index\", \"verified_purchase_index\").distinct().show(truncate=False)"
   ]
  },
  {
   "cell_type": "code",
   "execution_count": 21,
   "id": "697501fb",
   "metadata": {},
   "outputs": [
    {
     "name": "stdout",
     "output_type": "stream",
     "text": [
      "+----------+-----------------------+\n",
      "|vine_index|verified_purchase_index|\n",
      "+----------+-----------------------+\n",
      "|1.0       |1.0                    |\n",
      "|0.0       |1.0                    |\n",
      "|0.0       |0.0                    |\n",
      "+----------+-----------------------+\n",
      "\n"
     ]
    },
    {
     "name": "stderr",
     "output_type": "stream",
     "text": [
      "                                                                                \r"
     ]
    }
   ],
   "source": [
    "df_test = preprocessor.encode_categoricals(df_test)\n",
    "df_test.select(\"vine_index\", \"verified_purchase_index\").distinct().show(truncate=False)"
   ]
  },
  {
   "cell_type": "markdown",
   "id": "c0ff7ad6",
   "metadata": {},
   "source": [
    "#### Feature Engineering\n",
    "\n",
    "Adicionalmenrte, se decidió crear nuevas variables para experimentar sobre el desempeño del modelo. Se espera que con las siguientes columnas, el modelo sea capaz de capturar mejor los patrones y relaciones:\n",
    "- `vote_ratio`: Representa la proporción de votos útiles entre todos los votos recibidos en una reseña.\n",
    "- `log_total_votes` y `log_total_votes`: Al aplicar transformación logarítmica, se reduce el impacto de los valores extremos y permite que el modelo aprenda mejor sobre una escala homogénea."
   ]
  },
  {
   "cell_type": "code",
   "execution_count": 22,
   "id": "d7dd6dcf",
   "metadata": {},
   "outputs": [],
   "source": [
    "df_train = df_train \\\n",
    "    .withColumn(\"vote_ratio\", col(\"helpful_votes\") / (col(\"total_votes\") + 1)) \\\n",
    "    .withColumn(\"log_total_votes\", log1p(col(\"total_votes\"))) \\\n",
    "    .withColumn(\"log_helpful_votes\", log1p(col(\"helpful_votes\")))"
   ]
  },
  {
   "cell_type": "code",
   "execution_count": 23,
   "id": "cad3f693",
   "metadata": {},
   "outputs": [],
   "source": [
    "df_test = df_test \\\n",
    "    .withColumn(\"vote_ratio\", col(\"helpful_votes\") / (col(\"total_votes\") + 1)) \\\n",
    "    .withColumn(\"log_total_votes\", log1p(col(\"total_votes\"))) \\\n",
    "    .withColumn(\"log_helpful_votes\", log1p(col(\"helpful_votes\")))"
   ]
  },
  {
   "cell_type": "markdown",
   "id": "0d5625be",
   "metadata": {},
   "source": [
    "#### Selección y entrenamiento de modelos"
   ]
  },
  {
   "cell_type": "markdown",
   "id": "4b3b0c58",
   "metadata": {},
   "source": [
    "En esta sección se entrenan dos modelos supervisados para predecir el sentimiento de las reseñas: **Random Forest** y **Gradient Boosted Trees (GBT)**. \n",
    "\n",
    "**Random Forest**\n",
    "* Se usó `VectorAssembler` para combinar las variables seleccionadas (`log_helpful_votes`, `log_total_votes`, `vote_ratio`, `vine_index`, `verified_purchase_index`) en un único vector de entrada, seguido por un `RandomForestClassifier`.\n",
    "* Se empleó un `CrossValidator` para explorar combinaciones de número de árboles (`numTrees`: 20, 50) y profundidad máxima (`maxDepth`: 5, 10), usando 3 pliegues de validación cruzada.\n",
    "\n",
    "**GBT**\n",
    "* Al igual que en el Random Forest, se utilizó un pipeline con `VectorAssembler` seguido por un `GBTClassifier`.\n",
    "* Se exploraron combinaciones de número máximo de iteraciones (`maxIter`: 20, 50), profundidad máxima (`maxDepth`: 3, 5) y tamaño del paso (`stepSize`: 0.05, 0.1), usando validación cruzada.\n",
    "\n",
    "Los modelos son evaluados usando las métricas seleccionadas (accuracy, precision, recall, F1, AUC-ROC) en la sección **3. Selección de métricas para medir calidad de resultados**.\n"
   ]
  },
  {
   "cell_type": "code",
   "execution_count": 38,
   "id": "f0baa320",
   "metadata": {},
   "outputs": [],
   "source": [
    "def run_random_forest_cv(df_train, df_test, feature_cols, seed=42):\n",
    "    assembler = VectorAssembler(inputCols=feature_cols, outputCol=\"features\")\n",
    "    rf = RandomForestClassifier(featuresCol=\"features\", labelCol=\"sentiment\", seed=seed)\n",
    "    # rf = RandomForestClassifier(featuresCol=\"features\", labelCol=\"sentiment\", seed=seed, weightCol=\"class_weight\")\n",
    "\n",
    "    pipeline = Pipeline(stages=[assembler, rf])\n",
    "\n",
    "    param_grid = ParamGridBuilder() \\\n",
    "        .addGrid(rf.numTrees, [20, 50]) \\\n",
    "        .addGrid(rf.maxDepth, [5, 10]) \\\n",
    "        .build()\n",
    "\n",
    "    evaluator = MulticlassClassificationEvaluator(labelCol=\"sentiment\", predictionCol=\"prediction\", metricName=\"f1\")\n",
    "\n",
    "    cv = CrossValidator(estimator=pipeline, estimatorParamMaps=param_grid, evaluator=evaluator, numFolds=3, seed=seed)\n",
    "\n",
    "    cv_model = cv.fit(df_train)\n",
    "    predictions = cv_model.transform(df_test)\n",
    "\n",
    "    accuracy = evaluator.setMetricName(\"accuracy\").evaluate(predictions)\n",
    "    f1 = evaluator.setMetricName(\"f1\").evaluate(predictions)\n",
    "    precision = evaluator.setMetricName(\"weightedPrecision\").evaluate(predictions)\n",
    "    recall = evaluator.setMetricName(\"weightedRecall\").evaluate(predictions)\n",
    "\n",
    "    print(f\"Random Forest (CV) Accuracy: {accuracy:.4f}\")\n",
    "    print(f\"Random Forest (CV) F1 Score: {f1:.4f}\")\n",
    "    print(f\"Random Forest (CV) Precision: {precision:.4f}\")\n",
    "    print(f\"Random Forest (CV) Recall: {recall:.4f}\")\n",
    "\n",
    "    if df_train.select('sentiment').distinct().count() == 2:\n",
    "        binary_evaluator = BinaryClassificationEvaluator(labelCol=\"sentiment\", rawPredictionCol=\"rawPrediction\")\n",
    "        auc = binary_evaluator.evaluate(predictions)\n",
    "        print(f\"Random Forest (CV) AUC-ROC: {auc:.4f}\")\n",
    "    \n",
    "    return cv_model, predictions\n"
   ]
  },
  {
   "cell_type": "code",
   "execution_count": 39,
   "id": "ccbc7af3",
   "metadata": {},
   "outputs": [],
   "source": [
    "feature_cols = [\n",
    "    \"log_helpful_votes\", \n",
    "    \"log_total_votes\", \n",
    "    \"vote_ratio\", \n",
    "    \"vine_index\", \n",
    "    \"verified_purchase_index\"\n",
    "]"
   ]
  },
  {
   "cell_type": "code",
   "execution_count": 40,
   "id": "6429c21a",
   "metadata": {},
   "outputs": [
    {
     "name": "stderr",
     "output_type": "stream",
     "text": [
      "                                                                                \r"
     ]
    },
    {
     "name": "stdout",
     "output_type": "stream",
     "text": [
      "Random Forest (CV) Accuracy: 0.7959\n",
      "Random Forest (CV) F1 Score: 0.7152\n",
      "Random Forest (CV) Precision: 0.7483\n",
      "Random Forest (CV) Recall: 0.7959\n",
      "Random Forest (CV) AUC-ROC: 0.5810\n"
     ]
    },
    {
     "name": "stderr",
     "output_type": "stream",
     "text": [
      "                                                                                \r"
     ]
    }
   ],
   "source": [
    "# Ejecutar el modelo Random Forest con validación cruzada\n",
    "rf_model, rf_predictions = run_random_forest_cv(\n",
    "    df_train,\n",
    "    df_test,\n",
    "    feature_cols=feature_cols\n",
    ")"
   ]
  },
  {
   "cell_type": "code",
   "execution_count": 41,
   "id": "7018d230",
   "metadata": {},
   "outputs": [],
   "source": [
    "def run_gbt_cv(df_train, df_test, feature_cols, seed=42):\n",
    "    assembler = VectorAssembler(inputCols=feature_cols, outputCol=\"features\")\n",
    "    gbt = GBTClassifier(featuresCol=\"features\", labelCol=\"sentiment\", seed=seed)\n",
    "\n",
    "    pipeline = Pipeline(stages=[assembler, gbt])\n",
    "\n",
    "    param_grid = ParamGridBuilder() \\\n",
    "        .addGrid(gbt.maxIter, [20, 50]) \\\n",
    "        .addGrid(gbt.maxDepth, [3, 5]) \\\n",
    "        .addGrid(gbt.stepSize, [0.05, 0.1]) \\\n",
    "        .build()\n",
    "\n",
    "    evaluator = MulticlassClassificationEvaluator(labelCol=\"sentiment\", predictionCol=\"prediction\", metricName=\"f1\")\n",
    "\n",
    "    cv = CrossValidator(estimator=pipeline, estimatorParamMaps=param_grid, evaluator=evaluator, numFolds=3, seed=seed)\n",
    "\n",
    "    cv_model = cv.fit(df_train)\n",
    "    predictions = cv_model.transform(df_test)\n",
    "\n",
    "    accuracy = evaluator.setMetricName(\"accuracy\").evaluate(predictions)\n",
    "    f1 = evaluator.setMetricName(\"f1\").evaluate(predictions)\n",
    "    precision = evaluator.setMetricName(\"weightedPrecision\").evaluate(predictions)\n",
    "    recall = evaluator.setMetricName(\"weightedRecall\").evaluate(predictions)\n",
    "\n",
    "    print(f\"GBT (CV) Accuracy: {accuracy:.4f}\")\n",
    "    print(f\"GBT (CV) F1 Score: {f1:.4f}\")\n",
    "    print(f\"GBT (CV) Precision: {precision:.4f}\")\n",
    "    print(f\"GBT (CV) Recall: {recall:.4f}\")\n",
    "\n",
    "    if df_train.select('sentiment').distinct().count() == 2:\n",
    "        binary_evaluator = BinaryClassificationEvaluator(labelCol=\"sentiment\", rawPredictionCol=\"rawPrediction\")\n",
    "        auc = binary_evaluator.evaluate(predictions)\n",
    "        print(f\"GBT (CV) AUC-ROC: {auc:.4f}\")\n",
    "    \n",
    "    return cv_model, predictions"
   ]
  },
  {
   "cell_type": "code",
   "execution_count": 42,
   "id": "21d9f4f8",
   "metadata": {},
   "outputs": [
    {
     "name": "stderr",
     "output_type": "stream",
     "text": [
      "                                                                                \r"
     ]
    },
    {
     "name": "stdout",
     "output_type": "stream",
     "text": [
      "GBT (CV) Accuracy: 0.7959\n",
      "GBT (CV) F1 Score: 0.7152\n",
      "GBT (CV) Precision: 0.7483\n",
      "GBT (CV) Recall: 0.7959\n",
      "GBT (CV) AUC-ROC: 0.5926\n"
     ]
    },
    {
     "name": "stderr",
     "output_type": "stream",
     "text": [
      "                                                                                \r"
     ]
    }
   ],
   "source": [
    "# Ejecutar el modelo GBT con validación cruzada\n",
    "gbt_model, gbt_predictions = run_gbt_cv(\n",
    "    df_train,\n",
    "    df_test,\n",
    "    feature_cols=feature_cols\n",
    ")"
   ]
  },
  {
   "cell_type": "markdown",
   "id": "e26b2a12",
   "metadata": {},
   "source": [
    "## (SKIP) 5. Análisis de resultados"
   ]
  },
  {
   "cell_type": "markdown",
   "id": "b31c38b3",
   "metadata": {},
   "source": [
    "| **Métrica** | **Random Forest** | **GBT** |\n",
    "| ----------- | ----------------- | ------- |\n",
    "| Accuracy    | 0.7959            | 0.7959  |\n",
    "| F1 Score    | 0.7152            | 0.7152  |\n",
    "| Precision   | 0.7483            | 0.7483  |\n",
    "| Recall      | 0.7959            | 0.7959  |\n",
    "| AUC-ROC     | 0.5810            | 0.5926  |\n",
    "\n",
    "Después de entrenar los modelos Random Forest y Gradient Boosted Trees, ambos mostraron resultados muy similares, como se ve en la tabla anterior. Esto podría deberse a que el conjunto de datos presenta, posiblemente, patrones bastante claros, lo que facilita la tarea de clasificación. Ambos modelos lograron predecir correctamente cerca del 80% de las reseñas, con un equilibrio aceptable entre precisión y recall. No obstante, las métricas AUC-ROC (entre 0.58 y 0.59) fueron relativamente bajas, lo que sugiere que, si bien los modelos aciertan bien en una clase, tienen dificultades para diferenciar entre las clases.\n",
    "\n",
    "Como se exploró en la actividad 3, se ha identificado que existe un desbalance entre clases, con una fuerte predominancia de la clase positiva. Este desbalance puede limitar el desempeño de los modelos, particularmente en métricas sensibles como el AUC-ROC, y puede llevar a que los algoritmos favorezcan la clase mayoritaria para maximizar accuracy, dejando de lado una buena discriminación.\n",
    "\n",
    "**Reflexión Final**\n",
    "\n",
    "Personalmente, considero que esta actividad me ayudó a reconocer la importancia de trabajar con datos representativos y el proceso que implica llegar a una muestra que sea útil para analizar y entrenar nuestros modelos. También es relevante recordar que evaluar modelos de ML no se trata solo de elegir una métrica al azar, sino de entender qué mide cada una y cómo se alinea con los objetivos del problema o fenómeno estudiado. Métricas como el F1-score y el AUC-ROC ofrecen una perspectiva más completa sobre la capacidad del modelo para generalizar y discriminar entre clases. Finalmente, me gustaría destacar que el procesamiento paralelo, la persistencia en memoria y el guardado incremental son estrategias fundamentales para trabajar de forma eficiente y robusta con grandes volúmenes de datos."
   ]
  }
 ],
 "metadata": {
  "kernelspec": {
   "display_name": "pyspark_env",
   "language": "python",
   "name": "python3"
  },
  "language_info": {
   "codemirror_mode": {
    "name": "ipython",
    "version": 3
   },
   "file_extension": ".py",
   "mimetype": "text/x-python",
   "name": "python",
   "nbconvert_exporter": "python",
   "pygments_lexer": "ipython3",
   "version": "3.10.16"
  }
 },
 "nbformat": 4,
 "nbformat_minor": 5
}
