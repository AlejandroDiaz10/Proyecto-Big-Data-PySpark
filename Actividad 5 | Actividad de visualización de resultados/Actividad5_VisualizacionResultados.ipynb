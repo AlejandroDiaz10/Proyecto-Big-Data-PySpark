{
 "cells": [
  {
   "cell_type": "markdown",
   "id": "fc93ef7d",
   "metadata": {},
   "source": [
    "# Actividad 5 | Actividad de visualización de resultados\n",
    "---"
   ]
  },
  {
   "cell_type": "markdown",
   "id": "e8ec30f5",
   "metadata": {},
   "source": [
    "**MAESTRÍA EN INTELIGENCIA ARTIFICIAL APLICADA**\n",
    "\n",
    "**Curso: TC4034.10 - Análisis de grandes volúmenes de datos**\n",
    "\n",
    "Tecnológico de Monterrey\n",
    "\n",
    "* Dr. Iván Olmos Pineda\n",
    "* Mtra. Verónica Sandra Guzmán de Valle\n",
    "* Mtro. Alberto Daniel Salinas Montemayor\n",
    "\n",
    "---"
   ]
  },
  {
   "cell_type": "markdown",
   "id": "bfc9a9d0",
   "metadata": {},
   "source": [
    "**Equipo 37**\n",
    "\n",
    "|  NOMBRE COMPLETO                        |     MATRÍCULA     |\n",
    "| :-------------------------------------: |:-----------------:|\n",
    "| Alejandro Díaz Villagómez               |  A01276769        |\n",
    "| Alonso Pedrero Martínez                 |  A01769076        |\n",
    "| César Iván Pedrero Martínez             |  A01366501        |\n",
    "| Emiliano Saucedo Arriola                |  A01659258        |"
   ]
  },
  {
   "cell_type": "markdown",
   "id": "91480e99",
   "metadata": {},
   "source": [
    "## 0. Inicialización"
   ]
  },
  {
   "cell_type": "code",
   "execution_count": 1,
   "id": "12334dfd",
   "metadata": {},
   "outputs": [],
   "source": [
    "import findspark\n",
    "\n",
    "from pyspark.sql import SparkSession, functions as F\n",
    "from pyspark.sql import functions as F\n",
    "from pyspark.sql.types import *\n",
    "from functools import reduce\n",
    "from operator import and_\n",
    "\n",
    "import os\n",
    "from concurrent.futures import ThreadPoolExecutor\n",
    "\n",
    "import pandas as pd\n",
    "\n",
    "from pyspark.sql import DataFrame\n",
    "from pyspark.sql.functions import col, log1p\n",
    "from pyspark.ml.feature import StringIndexer\n",
    "\n",
    "from pyspark.ml import Pipeline\n",
    "from pyspark.ml.feature import VectorAssembler\n",
    "from pyspark.ml.tuning import CrossValidator, ParamGridBuilder\n",
    "from pyspark.ml.classification import RandomForestClassifier, GBTClassifier\n",
    "from pyspark.ml.evaluation import MulticlassClassificationEvaluator, BinaryClassificationEvaluator"
   ]
  },
  {
   "cell_type": "code",
   "execution_count": 2,
   "id": "c92ec906",
   "metadata": {},
   "outputs": [
    {
     "data": {
      "text/plain": [
       "'/Users/alejandrodiazvillagomez/Desktop/Proyecto-Big-Data-PySpark/.venv/lib/python3.12/site-packages/pyspark'"
      ]
     },
     "execution_count": 2,
     "metadata": {},
     "output_type": "execute_result"
    }
   ],
   "source": [
    "findspark.init()\n",
    "findspark.find()"
   ]
  },
  {
   "cell_type": "code",
   "execution_count": 3,
   "id": "fb00a52b",
   "metadata": {},
   "outputs": [
    {
     "name": "stderr",
     "output_type": "stream",
     "text": [
      "25/06/16 17:11:30 WARN Utils: Your hostname, Alejandros-MacBook-Pro.local resolves to a loopback address: 127.0.0.1; using 192.168.100.221 instead (on interface en0)\n",
      "25/06/16 17:11:30 WARN Utils: Set SPARK_LOCAL_IP if you need to bind to another address\n",
      "Setting default log level to \"WARN\".\n",
      "To adjust logging level use sc.setLogLevel(newLevel). For SparkR, use setLogLevel(newLevel).\n",
      "25/06/16 17:11:30 WARN NativeCodeLoader: Unable to load native-hadoop library for your platform... using builtin-java classes where applicable\n"
     ]
    },
    {
     "data": {
      "text/html": [
       "\n",
       "            <div>\n",
       "                <p><b>SparkSession - in-memory</b></p>\n",
       "                \n",
       "        <div>\n",
       "            <p><b>SparkContext</b></p>\n",
       "\n",
       "            <p><a href=\"http://192.168.100.221:4040\">Spark UI</a></p>\n",
       "\n",
       "            <dl>\n",
       "              <dt>Version</dt>\n",
       "                <dd><code>v3.5.5</code></dd>\n",
       "              <dt>Master</dt>\n",
       "                <dd><code>local[*]</code></dd>\n",
       "              <dt>AppName</dt>\n",
       "                <dd><code>pyspark-shell</code></dd>\n",
       "            </dl>\n",
       "        </div>\n",
       "        \n",
       "            </div>\n",
       "        "
      ],
      "text/plain": [
       "<pyspark.sql.session.SparkSession at 0x12ea69250>"
      ]
     },
     "execution_count": 3,
     "metadata": {},
     "output_type": "execute_result"
    }
   ],
   "source": [
    "spark = SparkSession.builder.master(\"local[*]\").getOrCreate()\n",
    "spark.sparkContext.setLogLevel(\"ERROR\")\n",
    "spark.conf.set(\"spark.sql.repl.eagerEval.enabled\", True)\n",
    "spark"
   ]
  },
  {
   "cell_type": "code",
   "execution_count": 4,
   "id": "1c08099e",
   "metadata": {},
   "outputs": [],
   "source": [
    "class FileManager():\n",
    "    @staticmethod\n",
    "    def open_csv_file(file_path: str):\n",
    "        \"\"\"\n",
    "        Abre un archivo CSV usando PySpark con configuraciones optimizadas\n",
    "        \"\"\"\n",
    "        csv_df = spark.read.csv(\n",
    "            file_path,\n",
    "            header=True,\n",
    "            inferSchema=True,\n",
    "            multiLine=True,\n",
    "            escape=\"\\\"\",\n",
    "            quote=\"\\\"\"\n",
    "        )\n",
    "        \n",
    "        print(f\"Dataset original cargado: {csv_df.count():,} registros\")\n",
    "        csv_df.show(5, truncate=20)\n",
    "        return csv_df"
   ]
  },
  {
   "cell_type": "code",
   "execution_count": 5,
   "id": "0ed1a46e",
   "metadata": {},
   "outputs": [
    {
     "name": "stderr",
     "output_type": "stream",
     "text": [
      "/Users/alejandrodiazvillagomez/Desktop/Proyecto-Big-Data-PySpark/.venv/lib/python3.12/site-packages/tqdm/auto.py:21: TqdmWarning: IProgress not found. Please update jupyter and ipywidgets. See https://ipywidgets.readthedocs.io/en/stable/user_install.html\n",
      "  from .autonotebook import tqdm as notebook_tqdm\n"
     ]
    },
    {
     "name": "stdout",
     "output_type": "stream",
     "text": [
      "Path to dataset files: /Users/alejandrodiazvillagomez/.cache/kagglehub/datasets/machharavikiran/amazon-reviews/versions/1\n"
     ]
    }
   ],
   "source": [
    "import kagglehub\n",
    "\n",
    "FILE_PATH = kagglehub.dataset_download(\"machharavikiran/amazon-reviews\")\n",
    "print(\"Path to dataset files:\", FILE_PATH)"
   ]
  },
  {
   "cell_type": "code",
   "execution_count": 6,
   "id": "13f79c3b",
   "metadata": {},
   "outputs": [
    {
     "name": "stderr",
     "output_type": "stream",
     "text": [
      "                                                                                \r"
     ]
    },
    {
     "name": "stdout",
     "output_type": "stream",
     "text": [
      "Dataset original cargado: 6,906,564 registros\n",
      "+-----------+-----------+--------------+----------+--------------+--------------------+----------------+-----------+-------------+-----------+----+-----------------+--------------------+--------------------+-----------+---------+\n",
      "|marketplace|customer_id|     review_id|product_id|product_parent|       product_title|product_category|star_rating|helpful_votes|total_votes|vine|verified_purchase|     review_headline|         review_body|review_date|sentiment|\n",
      "+-----------+-----------+--------------+----------+--------------+--------------------+----------------+-----------+-------------+-----------+----+-----------------+--------------------+--------------------+-----------+---------+\n",
      "|         US|   22873041|R3ARRMDEGED8RD|B00KJWQIIC|     335625766|Plemo 14-Inch Lap...|              PC|          5|            0|          0|   N|                Y|Pleasantly surprised|I was very surpri...| 2015-08-31|        1|\n",
      "|         US|   30088427| RQ28TSA020Y6J|B013ALA9LA|     671157305|TP-Link OnHub AC1...|              PC|          5|           24|         31|   N|                N|OnHub is a pretty...|I am a Google emp...| 2015-08-31|        1|\n",
      "|         US|   20329786| RUXJRZCT6953M|B00PML2GQ8|     982036237|AmazonBasics USB ...|              PC|          1|            2|          2|   N|                N|None of them work...|Bought cables in ...| 2015-08-31|        0|\n",
      "|         US|   14215710| R7EO0UO6BPB71|B001NS0OZ4|     576587596|Transcend P8 15-i...|              PC|          1|            0|          0|   N|                Y|just keep searching.|nope, cheap and slow| 2015-08-31|        0|\n",
      "|         US|   38264512|R39NJY2YJ1JFSV|B00AQMTND2|     964759214|Aleratec SATA Dat...|              PC|          5|            0|          0|   N|                Y|          Five Stars|Excellent! Great ...| 2015-08-31|        1|\n",
      "+-----------+-----------+--------------+----------+--------------+--------------------+----------------+-----------+-------------+-----------+----+-----------------+--------------------+--------------------+-----------+---------+\n",
      "only showing top 5 rows\n",
      "\n"
     ]
    }
   ],
   "source": [
    "# Cargar dataset (población P)\n",
    "df_reviews_P = FileManager.open_csv_file(FILE_PATH)"
   ]
  },
  {
   "cell_type": "markdown",
   "id": "c3dcdaab",
   "metadata": {},
   "source": [
    "## 1.  Construcción de la muestra M"
   ]
  },
  {
   "cell_type": "code",
   "execution_count": 7,
   "id": "4bba0c29",
   "metadata": {},
   "outputs": [],
   "source": [
    "# Definir variables de caracterización\n",
    "characterization_variables = [\"star_rating\", \"verified_purchase\", \"vine\"]"
   ]
  },
  {
   "cell_type": "markdown",
   "id": "ddf7f3c4",
   "metadata": {},
   "source": [
    "#### Análisis de la población P\n",
    "\n",
    "En este apartado se realiza un análisis exploratorio sobre el dataset completo (población P). El objetivo es comprender la distribución general de las variables de caracterización (`star_rating`, `verified_purchase`, `vine`) y cómo se combinan entre sí, para identificar patrones, sesgos y grupos minoritarios."
   ]
  },
  {
   "cell_type": "code",
   "execution_count": 8,
   "id": "b3ba0ae5",
   "metadata": {},
   "outputs": [
    {
     "name": "stderr",
     "output_type": "stream",
     "text": [
      "[Stage 6:>                                                          (0 + 1) / 1]\r"
     ]
    },
    {
     "name": "stdout",
     "output_type": "stream",
     "text": [
      "Tamaño total de la población P: 6,906,564 registros\n"
     ]
    },
    {
     "name": "stderr",
     "output_type": "stream",
     "text": [
      "                                                                                \r"
     ]
    }
   ],
   "source": [
    "# Analizar distribución de la población\n",
    "total_count = df_reviews_P.count()\n",
    "print(f\"Tamaño total de la población P: {total_count:,} registros\")"
   ]
  },
  {
   "cell_type": "code",
   "execution_count": 9,
   "id": "f427bb05",
   "metadata": {},
   "outputs": [
    {
     "name": "stdout",
     "output_type": "stream",
     "text": [
      "\n",
      "Distribución de star_rating:\n"
     ]
    },
    {
     "name": "stderr",
     "output_type": "stream",
     "text": [
      "                                                                                \r"
     ]
    },
    {
     "name": "stdout",
     "output_type": "stream",
     "text": [
      "+-----------+-------+----------+\n",
      "|star_rating|  count|percentage|\n",
      "+-----------+-------+----------+\n",
      "|          5|4105687|     59.45|\n",
      "|          4|1168208|     16.91|\n",
      "|          1| 756857|     10.96|\n",
      "|          3| 513656|      7.44|\n",
      "|          2| 362156|      5.24|\n",
      "+-----------+-------+----------+\n",
      "\n",
      "\n",
      "Distribución de verified_purchase:\n"
     ]
    },
    {
     "name": "stderr",
     "output_type": "stream",
     "text": [
      "                                                                                \r"
     ]
    },
    {
     "name": "stdout",
     "output_type": "stream",
     "text": [
      "+-----------------+-------+----------+\n",
      "|verified_purchase|  count|percentage|\n",
      "+-----------------+-------+----------+\n",
      "|                Y|6047075|     87.56|\n",
      "|                N| 859489|     12.44|\n",
      "+-----------------+-------+----------+\n",
      "\n",
      "\n",
      "Distribución de vine:\n"
     ]
    },
    {
     "name": "stderr",
     "output_type": "stream",
     "text": [
      "[Stage 15:>                                                         (0 + 1) / 1]\r"
     ]
    },
    {
     "name": "stdout",
     "output_type": "stream",
     "text": [
      "+----+-------+----------+\n",
      "|vine|  count|percentage|\n",
      "+----+-------+----------+\n",
      "|   N|6870336|     99.48|\n",
      "|   Y|  36228|      0.52|\n",
      "+----+-------+----------+\n",
      "\n"
     ]
    },
    {
     "name": "stderr",
     "output_type": "stream",
     "text": [
      "                                                                                \r"
     ]
    }
   ],
   "source": [
    "# Calcular distribución de cada variable individual\n",
    "for var in characterization_variables:\n",
    "    print(f\"\\nDistribución de {var}:\")\n",
    "    var_dist = df_reviews_P.groupBy(var).count() \\\n",
    "                .withColumn(\"percentage\", F.round(F.col(\"count\") * 100.0 / total_count, 2)) \\\n",
    "                .orderBy(\"count\", ascending=False)\n",
    "    var_dist.show()"
   ]
  },
  {
   "cell_type": "markdown",
   "id": "777e45c1",
   "metadata": {},
   "source": [
    "**Observaciones**\n",
    "\n",
    "***Distribución de calificaciones (`star_rating`)***\n",
    "* El 59.45% de las reseñas son de 5 estrellas, mostrando un fuerte sesgo positivo.\n",
    "* Las reseñas con 1 estrella representan el 10.96%, mientras que las reseñas intermedias (2–4 estrellas) representan el resto.\n",
    "\n",
    "***Distribución de compras verificadas (`verified_purchase`)***\n",
    "* La gran mayoría (87.56%) proviene de usuarios con compra verificada, indicando que la base de datos tiene un fuerte enfoque en opiniones genuinas.\n",
    "\n",
    "***Distribución del programa Vine (`vine`)***\n",
    "* Solo el 52% de las reseñas provienen del programa Vine (usuarios seleccionados para reseñar productos), mientras que el 99.48% no pertenece a este grupo, haciéndolo un segmento muy minoritario."
   ]
  },
  {
   "cell_type": "code",
   "execution_count": 10,
   "id": "e568c864",
   "metadata": {},
   "outputs": [
    {
     "name": "stdout",
     "output_type": "stream",
     "text": [
      "Distribución conjunta de ['star_rating', 'verified_purchase', 'vine']:\n"
     ]
    },
    {
     "name": "stderr",
     "output_type": "stream",
     "text": [
      "[Stage 18:>                                                         (0 + 1) / 1]\r"
     ]
    },
    {
     "name": "stdout",
     "output_type": "stream",
     "text": [
      "+-----------+-----------------+----+-------+-----------+\n",
      "|star_rating|verified_purchase|vine|  count|probability|\n",
      "+-----------+-----------------+----+-------+-----------+\n",
      "|          5|                Y|   N|3679909|   0.532813|\n",
      "|          4|                Y|   N|1019728|   0.147646|\n",
      "|          1|                Y|   N| 603371|   0.087362|\n",
      "|          3|                Y|   N| 443364|   0.064195|\n",
      "|          5|                N|   N| 410073|   0.059374|\n",
      "|          2|                Y|   N| 300544|   0.043516|\n",
      "|          1|                N|   N| 152779|   0.022121|\n",
      "|          4|                N|   N| 135197|   0.019575|\n",
      "|          3|                N|   N|  65398|   0.009469|\n",
      "|          2|                N|   N|  59973|   0.008683|\n",
      "|          5|                N|   Y|  15604|   0.002259|\n",
      "|          4|                N|   Y|  13240|   0.001917|\n",
      "|          3|                N|   Y|   4886|    7.07E-4|\n",
      "|          2|                N|   Y|   1634|    2.37E-4|\n",
      "|          1|                N|   Y|    705|    1.02E-4|\n",
      "|          5|                Y|   Y|    101|     1.5E-5|\n",
      "|          4|                Y|   Y|     43|     6.0E-6|\n",
      "|          3|                Y|   Y|      8|     1.0E-6|\n",
      "|          2|                Y|   Y|      5|     1.0E-6|\n",
      "|          1|                Y|   Y|      2|        0.0|\n",
      "+-----------+-----------------+----+-------+-----------+\n",
      "\n"
     ]
    },
    {
     "name": "stderr",
     "output_type": "stream",
     "text": [
      "                                                                                \r"
     ]
    }
   ],
   "source": [
    "# Calcular distribución conjunta\n",
    "print(f\"Distribución conjunta de {characterization_variables}:\")\n",
    "population_dist = df_reviews_P.groupBy(characterization_variables).count() \\\n",
    "                .withColumn(\"probability\", F.round(F.col(\"count\") / total_count, 6)) \\\n",
    "                .orderBy(\"probability\", ascending=False)\n",
    "population_dist.show(20)"
   ]
  },
  {
   "cell_type": "markdown",
   "id": "285ee96f",
   "metadata": {},
   "source": [
    "**Observaciones**\n",
    "* Más de la mitad son reseñas de 5 estrellas, verificadas y sin Vine (53.28%).\n",
    "* Los grupos minoritarios, como reseñas de Vine con calificaciones bajas (1-3), tienen probabilidades extremadamente pequeñas.\n",
    "* Esto confirma que la población está altamente desbalanceada, con algunos grupos muy dominantes y otros extremadamente escasos."
   ]
  },
  {
   "cell_type": "markdown",
   "id": "bbd449b7",
   "metadata": {},
   "source": [
    "#### Filtrado de los estratos"
   ]
  },
  {
   "cell_type": "code",
   "execution_count": 11,
   "id": "402f1a2d",
   "metadata": {},
   "outputs": [
    {
     "name": "stderr",
     "output_type": "stream",
     "text": [
      "[Stage 21:>                                                         (0 + 1) / 1]\r"
     ]
    },
    {
     "name": "stdout",
     "output_type": "stream",
     "text": [
      "Estratos identificados: 15\n",
      "Probabilidad mínima requerida: 0.000100\n"
     ]
    },
    {
     "name": "stderr",
     "output_type": "stream",
     "text": [
      "                                                                                \r"
     ]
    }
   ],
   "source": [
    "# Identificar estratos relevantes (combinaciones con suficiente probabilidad)\n",
    "min_probability = 0.0001\n",
    "relevant_strata = population_dist.filter(F.col(\"probability\") >= min_probability).collect()\n",
    "\n",
    "print(f\"Estratos identificados: {len(relevant_strata)}\")\n",
    "print(f\"Probabilidad mínima requerida: {min_probability:.6f}\")"
   ]
  },
  {
   "cell_type": "markdown",
   "id": "fac0060d",
   "metadata": {},
   "source": [
    "**Observaciones**\n",
    "\n",
    "Al analizar todas las combinaciones posibles de las variables de caracterización, se seleccionaron solo aquellos estratos (15 identificados) que tienen una probabilidad mínima (mayor o igual a 0.0001) de ocurrencia en la población. Esto asegura trabajar solo con grupos significativos."
   ]
  },
  {
   "cell_type": "markdown",
   "id": "b5d5dd20",
   "metadata": {},
   "source": [
    "#### Fracción de muestreo\n",
    "A continuación, se construye un diccionario en el que se calcula la fracción de muestreo que se aplicará a cada estrato relevante para construir la muestra representativa M. Para mantener la diversidad y la representatividad de los datos, se optó por tomar el 10% de cada grupo, con un pequeño ajuste (~12%) para compensar la variabilidad aleatoria del muestreo y evitar que algunos grupos minoritarios terminen demasiado reducidos."
   ]
  },
  {
   "cell_type": "code",
   "execution_count": 12,
   "id": "596694e9",
   "metadata": {},
   "outputs": [
    {
     "name": "stderr",
     "output_type": "stream",
     "text": [
      "[Stage 29:>                                                         (0 + 1) / 1]\r"
     ]
    },
    {
     "name": "stdout",
     "output_type": "stream",
     "text": [
      "Estrato R5_VPY_VN: 3,679,909 registros, fracción: 0.120\n",
      "Estrato R4_VPY_VN: 1,019,728 registros, fracción: 0.120\n",
      "Estrato R1_VPY_VN: 603,371 registros, fracción: 0.120\n",
      "Estrato R3_VPY_VN: 443,364 registros, fracción: 0.120\n",
      "Estrato R5_VPN_VN: 410,073 registros, fracción: 0.120\n",
      "Estrato R2_VPY_VN: 300,544 registros, fracción: 0.120\n",
      "Estrato R1_VPN_VN: 152,779 registros, fracción: 0.120\n",
      "Estrato R4_VPN_VN: 135,197 registros, fracción: 0.120\n",
      "Estrato R3_VPN_VN: 65,398 registros, fracción: 0.120\n",
      "Estrato R2_VPN_VN: 59,973 registros, fracción: 0.120\n",
      "Estrato R5_VPN_VY: 15,604 registros, fracción: 0.120\n",
      "Estrato R4_VPN_VY: 13,240 registros, fracción: 0.120\n",
      "Estrato R3_VPN_VY: 4,886 registros, fracción: 0.120\n",
      "Estrato R2_VPN_VY: 1,634 registros, fracción: 0.120\n",
      "Estrato R1_VPN_VY: 705 registros, fracción: 0.120\n"
     ]
    },
    {
     "name": "stderr",
     "output_type": "stream",
     "text": [
      "                                                                                \r"
     ]
    }
   ],
   "source": [
    "# Crear fracciones de muestreo para cada estrato\n",
    "strata_fractions = {}\n",
    "sample_fraction = 0.1\n",
    "total_population = df_reviews_P.count()\n",
    "\n",
    "for row in relevant_strata:\n",
    "    # Crear clave única para el estrato\n",
    "    star_label = f\"R{row['star_rating']}\"\n",
    "    vp_label = f\"VP{'Y' if row['verified_purchase'] == 'Y' else 'N'}\"\n",
    "    vine_label = f\"V{'Y' if row['vine'] == 'Y' else 'N'}\"\n",
    "\n",
    "    strata_key = f\"{star_label}_{vp_label}_{vine_label}\"\n",
    "    \n",
    "    # Calcular fracción de muestreo para mantener representatividad\n",
    "    strata_fraction = min(sample_fraction * 1.2, 0.5)  # Ligeramente mayor para compensar variabilidad\n",
    "    strata_fractions[strata_key] = strata_fraction\n",
    "    \n",
    "    print(f\"Estrato {strata_key}: {row['count']:,} registros, fracción: {strata_fraction:.3f}\")"
   ]
  },
  {
   "cell_type": "markdown",
   "id": "4f2e1e4a",
   "metadata": {},
   "source": [
    "#### Construcción de M"
   ]
  },
  {
   "cell_type": "markdown",
   "id": "dc81fc7c",
   "metadata": {},
   "source": [
    "Para cada estrato, se filtran los registros y se toma una muestra utilizando la fracción previamente calculada. Este muestreo se realiza con una semilla fija (seed=42) para garantizar la reproducibilidad. Además, se asegura que no haya reemplazo (`withReplacement=False`), lo que significa que cada registro puede aparecer solo una vez en la muestra final.\n",
    "\n",
    "Fuentes consultadas:\n",
    "* https://www.geeksforgeeks.org/pyspark-random-sample-with-example/"
   ]
  },
  {
   "cell_type": "code",
   "execution_count": 13,
   "id": "bc4d3f05",
   "metadata": {},
   "outputs": [
    {
     "name": "stderr",
     "output_type": "stream",
     "text": [
      "                                                                                \r"
     ]
    },
    {
     "name": "stdout",
     "output_type": "stream",
     "text": [
      "Muestreados 442,073 de 3,679,909 en estrato R5_VPY_VN\n"
     ]
    },
    {
     "name": "stderr",
     "output_type": "stream",
     "text": [
      "                                                                                \r"
     ]
    },
    {
     "name": "stdout",
     "output_type": "stream",
     "text": [
      "Muestreados 122,773 de 1,019,728 en estrato R4_VPY_VN\n"
     ]
    },
    {
     "name": "stderr",
     "output_type": "stream",
     "text": [
      "                                                                                \r"
     ]
    },
    {
     "name": "stdout",
     "output_type": "stream",
     "text": [
      "Muestreados 72,444 de 603,371 en estrato R1_VPY_VN\n"
     ]
    },
    {
     "name": "stderr",
     "output_type": "stream",
     "text": [
      "                                                                                \r"
     ]
    },
    {
     "name": "stdout",
     "output_type": "stream",
     "text": [
      "Muestreados 53,285 de 443,364 en estrato R3_VPY_VN\n"
     ]
    },
    {
     "name": "stderr",
     "output_type": "stream",
     "text": [
      "                                                                                \r"
     ]
    },
    {
     "name": "stdout",
     "output_type": "stream",
     "text": [
      "Muestreados 49,191 de 410,073 en estrato R5_VPN_VN\n"
     ]
    },
    {
     "name": "stderr",
     "output_type": "stream",
     "text": [
      "                                                                                \r"
     ]
    },
    {
     "name": "stdout",
     "output_type": "stream",
     "text": [
      "Muestreados 36,089 de 300,544 en estrato R2_VPY_VN\n"
     ]
    },
    {
     "name": "stderr",
     "output_type": "stream",
     "text": [
      "                                                                                \r"
     ]
    },
    {
     "name": "stdout",
     "output_type": "stream",
     "text": [
      "Muestreados 18,316 de 152,779 en estrato R1_VPN_VN\n"
     ]
    },
    {
     "name": "stderr",
     "output_type": "stream",
     "text": [
      "                                                                                \r"
     ]
    },
    {
     "name": "stdout",
     "output_type": "stream",
     "text": [
      "Muestreados 16,171 de 135,197 en estrato R4_VPN_VN\n"
     ]
    },
    {
     "name": "stderr",
     "output_type": "stream",
     "text": [
      "                                                                                \r"
     ]
    },
    {
     "name": "stdout",
     "output_type": "stream",
     "text": [
      "Muestreados 7,838 de 65,398 en estrato R3_VPN_VN\n"
     ]
    },
    {
     "name": "stderr",
     "output_type": "stream",
     "text": [
      "                                                                                \r"
     ]
    },
    {
     "name": "stdout",
     "output_type": "stream",
     "text": [
      "Muestreados 7,208 de 59,973 en estrato R2_VPN_VN\n"
     ]
    },
    {
     "name": "stderr",
     "output_type": "stream",
     "text": [
      "                                                                                \r"
     ]
    },
    {
     "name": "stdout",
     "output_type": "stream",
     "text": [
      "Muestreados 1,936 de 15,604 en estrato R5_VPN_VY\n"
     ]
    },
    {
     "name": "stderr",
     "output_type": "stream",
     "text": [
      "                                                                                \r"
     ]
    },
    {
     "name": "stdout",
     "output_type": "stream",
     "text": [
      "Muestreados 1,674 de 13,240 en estrato R4_VPN_VY\n"
     ]
    },
    {
     "name": "stderr",
     "output_type": "stream",
     "text": [
      "                                                                                \r"
     ]
    },
    {
     "name": "stdout",
     "output_type": "stream",
     "text": [
      "Muestreados 606 de 4,886 en estrato R3_VPN_VY\n"
     ]
    },
    {
     "name": "stderr",
     "output_type": "stream",
     "text": [
      "                                                                                \r"
     ]
    },
    {
     "name": "stdout",
     "output_type": "stream",
     "text": [
      "Muestreados 213 de 1,634 en estrato R2_VPN_VY\n"
     ]
    },
    {
     "name": "stderr",
     "output_type": "stream",
     "text": [
      "[Stage 119:>                                                        (0 + 1) / 1]\r"
     ]
    },
    {
     "name": "stdout",
     "output_type": "stream",
     "text": [
      "Muestreados 83 de 705 en estrato R1_VPN_VY\n"
     ]
    },
    {
     "name": "stderr",
     "output_type": "stream",
     "text": [
      "                                                                                \r"
     ]
    }
   ],
   "source": [
    "# Aplicar muestreo estratificado\n",
    "sample_parts = []\n",
    "\n",
    "for row in relevant_strata:\n",
    "    # Filtrar datos del estrato actual\n",
    "    conditions = [F.col(var) == row[var] for var in characterization_variables]\n",
    "    combined_condition = conditions[0]\n",
    "    for condition in conditions[1:]:\n",
    "        combined_condition = combined_condition & condition\n",
    "    \n",
    "    strata_data = df_reviews_P.filter(combined_condition)\n",
    "    \n",
    "    # Crear clave única para el estrato\n",
    "    star_label = f\"R{row['star_rating']}\"\n",
    "    vp_label = f\"VP{'Y' if row['verified_purchase'] == 'Y' else 'N'}\"\n",
    "    vine_label = f\"V{'Y' if row['vine'] == 'Y' else 'N'}\"\n",
    "\n",
    "    strata_key = f\"{star_label}_{vp_label}_{vine_label}\"\n",
    "    fraction = strata_fractions[strata_key]\n",
    "    \n",
    "    # Aplicar muestreo con semilla fija para reproducibilidad\n",
    "    sampled_strata = strata_data.sample(withReplacement=False, fraction=fraction, seed=42)\n",
    "    sample_parts.append(sampled_strata)\n",
    "    \n",
    "    print(f\"Muestreados {sampled_strata.count():,} de {strata_data.count():,} en estrato {strata_key}\")"
   ]
  },
  {
   "cell_type": "markdown",
   "id": "799e39bd",
   "metadata": {},
   "source": [
    "Posteriormente, se unen todas las submuestras recolectadas de los distintos estratos para construir la muestra representativa M. Esto se logra concatenando cada subconjunto, asegurando que todos los grupos seleccionados formen parte del conjunto final."
   ]
  },
  {
   "cell_type": "code",
   "execution_count": 14,
   "id": "da13fec6",
   "metadata": {},
   "outputs": [],
   "source": [
    "# Unir todas las partes para formar la muestra M\n",
    "sample_M = sample_parts[0]\n",
    "for part in sample_parts[1:]:\n",
    "    sample_M = sample_M.union(part)"
   ]
  },
  {
   "cell_type": "code",
   "execution_count": 15,
   "id": "be0de416",
   "metadata": {},
   "outputs": [
    {
     "name": "stderr",
     "output_type": "stream",
     "text": [
      "[Stage 125:============================================>          (12 + 3) / 15]\r"
     ]
    },
    {
     "name": "stdout",
     "output_type": "stream",
     "text": [
      "Población P: 6,906,564 registros\n",
      "Muestra M: 829,900 registros\n",
      "Factor de muestreo: 12.0%\n"
     ]
    },
    {
     "name": "stderr",
     "output_type": "stream",
     "text": [
      "                                                                                \r"
     ]
    }
   ],
   "source": [
    "# Validar que la muestra M sea representativa de la población P\n",
    "# Comparar distribuciones\n",
    "pop_total = df_reviews_P.count()\n",
    "sample_total = sample_M.count()\n",
    "\n",
    "print(f\"Población P: {pop_total:,} registros\")\n",
    "print(f\"Muestra M: {sample_total:,} registros\")\n",
    "print(f\"Factor de muestreo: {sample_total/pop_total:.1%}\")"
   ]
  },
  {
   "cell_type": "markdown",
   "id": "0b212cd2",
   "metadata": {},
   "source": [
    "**Observaciones**\n",
    "\n",
    "Se obtuvo una muestra M de 829,900 registros, equivalente al 12% de la población original.\n",
    "\n",
    "Aunque el objetivo inicial era obtener aproximadamente el 10%, el ajuste aplicado permitió compensar la variabilidad del proceso de muestreo y asegurar que los estratos más pequeños quedaran representados adecuadamente."
   ]
  },
  {
   "cell_type": "code",
   "execution_count": 16,
   "id": "8f5c50ee",
   "metadata": {},
   "outputs": [
    {
     "name": "stdout",
     "output_type": "stream",
     "text": [
      "\n",
      "--- Comparación para star_rating ---\n"
     ]
    },
    {
     "name": "stderr",
     "output_type": "stream",
     "text": [
      "                                                                                \r"
     ]
    },
    {
     "name": "stdout",
     "output_type": "stream",
     "text": [
      "+-----------+--------------+-----------------+--------------------+\n",
      "|star_rating|pop_percentage|sample_percentage|          difference|\n",
      "+-----------+--------------+-----------------+--------------------+\n",
      "|          1|         10.96|            10.95|0.010000000000001563|\n",
      "|          2|          5.24|             5.24|                 0.0|\n",
      "|          3|          7.44|             7.44|                 0.0|\n",
      "|          4|         16.91|            16.94|0.030000000000001137|\n",
      "|          5|         59.45|            59.43|0.020000000000003126|\n",
      "+-----------+--------------+-----------------+--------------------+\n",
      "\n"
     ]
    },
    {
     "name": "stderr",
     "output_type": "stream",
     "text": [
      "                                                                                \r"
     ]
    },
    {
     "name": "stdout",
     "output_type": "stream",
     "text": [
      "Diferencia promedio en star_rating: 0.01 puntos porcentuales\n",
      "\n",
      "--- Comparación para verified_purchase ---\n"
     ]
    },
    {
     "name": "stderr",
     "output_type": "stream",
     "text": [
      "                                                                                \r"
     ]
    },
    {
     "name": "stdout",
     "output_type": "stream",
     "text": [
      "+-----------------+--------------+-----------------+----------+\n",
      "|verified_purchase|pop_percentage|sample_percentage|difference|\n",
      "+-----------------+--------------+-----------------+----------+\n",
      "|                N|         12.44|            12.44|       0.0|\n",
      "|                Y|         87.56|            87.56|       0.0|\n",
      "+-----------------+--------------+-----------------+----------+\n",
      "\n"
     ]
    },
    {
     "name": "stderr",
     "output_type": "stream",
     "text": [
      "                                                                                \r"
     ]
    },
    {
     "name": "stdout",
     "output_type": "stream",
     "text": [
      "Diferencia promedio en verified_purchase: 0.00 puntos porcentuales\n",
      "\n",
      "--- Comparación para vine ---\n"
     ]
    },
    {
     "name": "stderr",
     "output_type": "stream",
     "text": [
      "                                                                                \r"
     ]
    },
    {
     "name": "stdout",
     "output_type": "stream",
     "text": [
      "+----+--------------+-----------------+--------------------+\n",
      "|vine|pop_percentage|sample_percentage|          difference|\n",
      "+----+--------------+-----------------+--------------------+\n",
      "|   N|         99.48|            99.46|0.020000000000010232|\n",
      "|   Y|          0.52|             0.54|0.020000000000000018|\n",
      "+----+--------------+-----------------+--------------------+\n",
      "\n"
     ]
    },
    {
     "name": "stderr",
     "output_type": "stream",
     "text": [
      "[Stage 178:========================================>              (11 + 4) / 15]\r"
     ]
    },
    {
     "name": "stdout",
     "output_type": "stream",
     "text": [
      "Diferencia promedio en vine: 0.02 puntos porcentuales\n"
     ]
    },
    {
     "name": "stderr",
     "output_type": "stream",
     "text": [
      "                                                                                \r"
     ]
    }
   ],
   "source": [
    "# Comparar distribución de cada variable\n",
    "for var in characterization_variables:\n",
    "    print(f\"\\n--- Comparación para {var} ---\")\n",
    "    \n",
    "    # Distribución en población\n",
    "    pop_dist = df_reviews_P.groupBy(var).count() \\\n",
    "                            .withColumn(\"pop_percentage\", F.round(F.col(\"count\") * 100.0 / pop_total, 2)) \\\n",
    "                            .select(var, F.col(\"pop_percentage\"))\n",
    "    \n",
    "    # Distribución en muestra\n",
    "    sample_dist = sample_M.groupBy(var).count() \\\n",
    "                            .withColumn(\"sample_percentage\", F.round(F.col(\"count\") * 100.0 / sample_total, 2)) \\\n",
    "                            .select(var, F.col(\"sample_percentage\"))\n",
    "    \n",
    "    # Combinar para comparar\n",
    "    comparison = pop_dist.join(sample_dist, on=var, how=\"outer\") \\\n",
    "                        .fillna(0) \\\n",
    "                        .withColumn(\"difference\", \n",
    "                                    F.abs(F.col(\"pop_percentage\") - F.col(\"sample_percentage\"))) \\\n",
    "                        .orderBy(var)\n",
    "    \n",
    "    comparison.show()\n",
    "    \n",
    "    # Calcular diferencia promedio\n",
    "    avg_diff = comparison.agg(F.avg(\"difference\")).collect()[0][0]\n",
    "    print(f\"Diferencia promedio en {var}: {avg_diff:.2f} puntos porcentuales\")"
   ]
  },
  {
   "cell_type": "markdown",
   "id": "df78039e",
   "metadata": {},
   "source": [
    "**Observaciones**\n",
    "\n",
    "Con esta validación, nos aseguramos que el muestreo estratificado preservó las proporciones de la población, asegurando que la muestra sea representativa y fiable. Los resultados muestran que las diferencias promedio entre la población original y la muestra son casi nulas."
   ]
  },
  {
   "cell_type": "markdown",
   "id": "95cc93bc",
   "metadata": {},
   "source": [
    "#### Particionamiento\n",
    "\n",
    "A continuación, se crean las particiones Mi a partir de la muestra M, filtrando los datos para cada combinación de las variables de caracterización (star_rating, verified_purchase, vine). Para cada combinación, se construye dinámicamente una condición de filtrado que selecciona únicamente los registros que coinciden simultáneamente con esos valores específicos. Solo se conservan las particiones que tienen al menos 100 registros para asegurar que sean suficientemente representativas y útiles para construir más adelante los conjuntos de entrenamiento y prueba. Cada partición se guarda con un nombre descriptivo (como R5_VPY_VN), lo que permite identificar rápidamente a qué grupo pertenece. Al final, se obtiene un conjunto organizado de subconjuntos válidos."
   ]
  },
  {
   "cell_type": "code",
   "execution_count": 17,
   "id": "caea6009",
   "metadata": {},
   "outputs": [
    {
     "name": "stderr",
     "output_type": "stream",
     "text": [
      "[Stage 194:============================================>          (12 + 3) / 15]\r"
     ]
    },
    {
     "name": "stdout",
     "output_type": "stream",
     "text": [
      "Combinaciones encontradas en M: 15\n"
     ]
    },
    {
     "name": "stderr",
     "output_type": "stream",
     "text": [
      "                                                                                \r"
     ]
    }
   ],
   "source": [
    "# Identificar todas las combinaciones existentes en M\n",
    "combinations = sample_M.select(characterization_variables).distinct().collect()\n",
    "\n",
    "print(f\"Combinaciones encontradas en M: {len(combinations)}\")"
   ]
  },
  {
   "cell_type": "code",
   "execution_count": 18,
   "id": "8b8c9d1a",
   "metadata": {},
   "outputs": [
    {
     "name": "stderr",
     "output_type": "stream",
     "text": [
      "                                                                                \r"
     ]
    },
    {
     "name": "stdout",
     "output_type": "stream",
     "text": [
      "Partición R5_VPY_VN: 442,073 registros\n"
     ]
    },
    {
     "name": "stderr",
     "output_type": "stream",
     "text": [
      "                                                                                \r"
     ]
    },
    {
     "name": "stdout",
     "output_type": "stream",
     "text": [
      "Partición R4_VPY_VN: 122,773 registros\n"
     ]
    },
    {
     "name": "stderr",
     "output_type": "stream",
     "text": [
      "                                                                                \r"
     ]
    },
    {
     "name": "stdout",
     "output_type": "stream",
     "text": [
      "Partición R1_VPY_VN: 72,444 registros\n"
     ]
    },
    {
     "name": "stderr",
     "output_type": "stream",
     "text": [
      "                                                                                \r"
     ]
    },
    {
     "name": "stdout",
     "output_type": "stream",
     "text": [
      "Partición R3_VPY_VN: 53,285 registros\n"
     ]
    },
    {
     "name": "stderr",
     "output_type": "stream",
     "text": [
      "                                                                                \r"
     ]
    },
    {
     "name": "stdout",
     "output_type": "stream",
     "text": [
      "Partición R5_VPN_VN: 49,191 registros\n"
     ]
    },
    {
     "name": "stderr",
     "output_type": "stream",
     "text": [
      "                                                                                \r"
     ]
    },
    {
     "name": "stdout",
     "output_type": "stream",
     "text": [
      "Partición R2_VPY_VN: 36,089 registros\n"
     ]
    },
    {
     "name": "stderr",
     "output_type": "stream",
     "text": [
      "                                                                                \r"
     ]
    },
    {
     "name": "stdout",
     "output_type": "stream",
     "text": [
      "Partición R1_VPN_VN: 18,316 registros\n"
     ]
    },
    {
     "name": "stderr",
     "output_type": "stream",
     "text": [
      "                                                                                \r"
     ]
    },
    {
     "name": "stdout",
     "output_type": "stream",
     "text": [
      "Partición R4_VPN_VN: 16,171 registros\n"
     ]
    },
    {
     "name": "stderr",
     "output_type": "stream",
     "text": [
      "                                                                                \r"
     ]
    },
    {
     "name": "stdout",
     "output_type": "stream",
     "text": [
      "Partición R3_VPN_VN: 7,838 registros\n"
     ]
    },
    {
     "name": "stderr",
     "output_type": "stream",
     "text": [
      "                                                                                \r"
     ]
    },
    {
     "name": "stdout",
     "output_type": "stream",
     "text": [
      "Partición R2_VPN_VN: 7,208 registros\n"
     ]
    },
    {
     "name": "stderr",
     "output_type": "stream",
     "text": [
      "                                                                                \r"
     ]
    },
    {
     "name": "stdout",
     "output_type": "stream",
     "text": [
      "Partición R5_VPN_VY: 1,936 registros\n"
     ]
    },
    {
     "name": "stderr",
     "output_type": "stream",
     "text": [
      "                                                                                \r"
     ]
    },
    {
     "name": "stdout",
     "output_type": "stream",
     "text": [
      "Partición R4_VPN_VY: 1,674 registros\n"
     ]
    },
    {
     "name": "stderr",
     "output_type": "stream",
     "text": [
      "                                                                                \r"
     ]
    },
    {
     "name": "stdout",
     "output_type": "stream",
     "text": [
      "Partición R3_VPN_VY: 606 registros\n"
     ]
    },
    {
     "name": "stderr",
     "output_type": "stream",
     "text": [
      "                                                                                \r"
     ]
    },
    {
     "name": "stdout",
     "output_type": "stream",
     "text": [
      "Partición R2_VPN_VY: 213 registros\n"
     ]
    },
    {
     "name": "stderr",
     "output_type": "stream",
     "text": [
      "[Stage 239:============================================>          (12 + 3) / 15]\r"
     ]
    },
    {
     "name": "stdout",
     "output_type": "stream",
     "text": [
      "Excluida combinación (star_rating=1, verified_purchase=N, vine=Y): solo 83 registros (< 100)\n"
     ]
    },
    {
     "name": "stderr",
     "output_type": "stream",
     "text": [
      "                                                                                \r"
     ]
    }
   ],
   "source": [
    "# Crear particiones Mi\n",
    "partitions_Mi = {}\n",
    "total_partitioned = 0\n",
    "min_partition_size = 100\n",
    "\n",
    "for row in combinations:\n",
    "    # Crear condiciones de filtrado\n",
    "    combined_condition = reduce(and_, [F.col(var) == row[var] for var in characterization_variables])\n",
    "    \n",
    "    # Filtrar para crear la partición\n",
    "    partition = sample_M.filter(combined_condition)\n",
    "    partition_size = partition.count()\n",
    "    \n",
    "    # Solo incluir si cumple con el tamaño mínimo\n",
    "    if partition_size >= min_partition_size:\n",
    "        # Crear nombre descriptivo para la partición\n",
    "        star_label = f\"R{row['star_rating']}\"\n",
    "        vp_label = f\"VP{'Y' if row['verified_purchase'] == 'Y' else 'N'}\"\n",
    "        vine_label = f\"V{'Y' if row['vine'] == 'Y' else 'N'}\"\n",
    "\n",
    "        partition_key = f\"{star_label}_{vp_label}_{vine_label}\"\n",
    "        partitions_Mi[partition_key] = partition\n",
    "        total_partitioned += partition_size\n",
    "        \n",
    "        print(f\"Partición {partition_key}: {partition_size:,} registros\")\n",
    "    else:\n",
    "        key_values = [f\"{var}={row[var]}\" for var in characterization_variables]\n",
    "        combination_str = \", \".join(key_values)\n",
    "        print(f\"Excluida combinación ({combination_str}): solo {partition_size} registros (< {min_partition_size})\")"
   ]
  },
  {
   "cell_type": "code",
   "execution_count": 19,
   "id": "c8aece47",
   "metadata": {},
   "outputs": [
    {
     "name": "stderr",
     "output_type": "stream",
     "text": [
      "[Stage 242:============================================>          (12 + 3) / 15]\r"
     ]
    },
    {
     "name": "stdout",
     "output_type": "stream",
     "text": [
      "\n",
      "=== RESUMEN DE PARTICIONAMIENTO ===\n",
      "Particiones Mi creadas: 14\n",
      "Registros en M: 829,900\n",
      "Registros particionados: 829,817\n",
      "Cobertura: 99.9900%\n"
     ]
    },
    {
     "name": "stderr",
     "output_type": "stream",
     "text": [
      "                                                                                \r"
     ]
    }
   ],
   "source": [
    "# 3. Verificar que la unión de particiones = M\n",
    "sample_M_size = sample_M.count()\n",
    "coverage = total_partitioned / sample_M_size\n",
    "\n",
    "print(f\"\\n=== RESUMEN DE PARTICIONAMIENTO ===\")\n",
    "print(f\"Particiones Mi creadas: {len(partitions_Mi)}\")\n",
    "print(f\"Registros en M: {sample_M_size:,}\")\n",
    "print(f\"Registros particionados: {total_partitioned:,}\")\n",
    "print(f'Cobertura: {coverage * 100:.4f}%')"
   ]
  },
  {
   "cell_type": "markdown",
   "id": "ad2d15bf",
   "metadata": {},
   "source": [
    "**Observaciones**\n",
    "\n",
    "Al ejecutar el particionamiento, se crearon 14 particiones Mi, que en conjunto cubren los registros de la muestra M (829,900 registros), donde 829,817 fueron particionados.\n"
   ]
  },
  {
   "cell_type": "markdown",
   "id": "778c2836",
   "metadata": {},
   "source": [
    "## 2. Definición del Proceso de Validación Cruzada k-Fold y Determinación del Valor de 'k'"
   ]
  },
  {
   "cell_type": "markdown",
   "id": "4eefea07",
   "metadata": {},
   "source": [
    "### **a) Introducción a la Validación Cruzada**\n",
    "\n",
    "La validación cruzada (`Cross-Validation`) es una técnica robusta para evaluar la capacidad de generalización de un modelo predictivo, mitigar el sobreajuste (*overfitting*) y estimar la variabilidad de los resultados del algoritmo en diferentes subconjuntos de datos. En particular, la validación cruzada `k-fold` divide el conjunto de datos disponible en `k` subconjuntos (o \"folds\") de tamaño aproximadamente igual. El proceso se repite k veces; en cada iteración, un fold se utiliza como conjunto de prueba y los k−1 restantes se combinan para formar el conjunto de entrenamiento. Las métricas de desempeño se calculan en cada iteración y se promedian para obtener una estimación más confiable de la capacidad de generalización del modelo. Este enfoque es crucial en entornos de Big Data, donde la simple división en *entrenamiento/prueba* podría no capturar adecuadamente la diversidad de la población y la variabilidad inherente a grandes volúmenes de datos.\n",
    "\n",
    "### **b) Muestra de Referencia (M)**\n",
    "\n",
    "El punto de partida para este proceso es la `Muestra M`, construida a partir de la población completa (`P`) de revisiones de Amazon. Como se detalla en las secciones previas de este cuaderno, la Muestra M (`sample_M` en nuestro código) ha sido generada mediante un muestreo estratificado. Este método garantiza que las proporciones de las variables de caracterización clave (`star_rating`, `verified_purchase`, y `vine`) se mantengan fieles a las observadas en la población P original.\n",
    "\n",
    "La Muestra M tiene un tamaño de **829,900 registros**, lo que representa aproximadamente el 12.0% de la población total de 6,906,564 registros. Esta reducción del volumen de datos es estratégica en un contexto de Big Data, permitiendo la aplicación eficiente de técnicas de Feature Engineering y validación, al tiempo que se preserva la representatividad estadística.\n",
    "\n",
    "Además, la Muestra M ha sido descompuesta en particiones `Mi`, donde cada Mi representa un estrato único definido por las combinaciones de las variables de caracterización. Se han identificado 14 particiones Mi que cumplen con un tamaño mínimo de 100 registros, cubriendo el 99.99% de la Muestra M. Esta granularidad en las particiones será fundamental para asegurar la representatividad en la construcción de los folds.\n",
    "\n",
    "### **c) Determinación y Argumentación del Valor de 'k'**\n",
    "\n",
    "La elección del valor de 'k' es un aspecto crítico que balancea la eficiencia computacional con la fiabilidad de la estimación del rendimiento del modelo. Un valor de 'k' demasiado bajo (ej., k=2 o k=3) puede resultar en una estimación de alta varianza, ya que cada conjunto de entrenamiento es significativamente más pequeño que el conjunto de datos completo, y el conjunto de prueba es grande, lo que podría no reflejar la verdadera generalización. Por otro lado, un 'k' muy alto (ej., k=50 o k=100) incrementa drásticamente el costo computacional (especialmente en Big Data), ya que se requieren más entrenamientos y evaluaciones, y los conjuntos de prueba se vuelven muy pequeños, lo que podría llevar a estimaciones de baja varianza pero alto sesgo.\n",
    "\n",
    "Por ello, para este entregable, se ha determinado que un valor de `k = 5` es el más adecuado, basado en la siguiente argumentación:\n",
    "\n",
    "* **Balance entre Sesgo y Varianza**: Un valor de k=5 es un compromiso ampliamente aceptado en la literatura de Machine Learning. Proporciona conjuntos de entrenamiento que comprenden el 80% de la Muestra M, lo cual es suficientemente grande para que los modelos aprendan patrones robustos. Simultáneamente, los conjuntos de prueba (20% de la Muestra M) son lo suficientemente grandes para obtener una estimación confiable del rendimiento. Esto ayuda a mitigar tanto el sesgo (subestimación del rendimiento) como la varianza (sensibilidad excesiva a la partición de los datos).\n",
    "\n",
    "* **Eficiencia Computacional en Big Data**: Con una Muestra M de 829,900 registros, un k=5 implica 5 iteraciones de entrenamiento y evaluación. Cada iteración operará sobre un volumen manejable de datos (aproximadamente 664,000 registros para entrenamiento y 166,000 para prueba). Si bien PySpark está diseñado para escalar, un valor de 'k' excesivamente alto multiplicaría significativamente el tiempo de ejecución y el uso de recursos computacionales (CPU, memoria, I/O de red), lo que iría en contra de la optimización en un entorno de Big Data. En otras palabras, este valor permite una experimentación iterativa razonable sin incurrir en costos prohibitivos.\n",
    "\n",
    "* **Garantía de Representatividad en cada Fold**: Para asegurar que cada uno de los k-folds sea una muestra representativa de la población, se implementará un proceso de muestreo estratificado en la construcción de los folds. Al igual que se hizo para generar la Muestra M a partir de la Población P, cada fold contendrá proporciones similares de las categorías de star_rating, verified_purchase, y vine que se observan en la Muestra M. Esto es crucial, especialmente para la variable vine, que presenta un desequilibrio significativo (0.52% 'Y' vs 99.48% 'N'). El muestreo estratificado en la construcción de los folds asegura que incluso las clases minoritarias estén adecuadamente representadas en cada conjunto de entrenamiento y prueba, lo cual es vital para la evaluación justa del modelo, especialmente si la tarea de aprendizaje se ve afectada por estas variables.\n",
    "\n",
    "  * **Ejemplo de Representatividad por Estrato (Ilustrativo)**: Si el estrato 'R5_VPY_VN' (5 estrellas, compra verificada, no Vine) constituye ~53% de la Muestra M, se garantizará que en cada uno de los 5 folds, este estrato represente aproximadamente el 53% del fold. Este principio se aplicará a todas las 14 particiones Mi identificadas."
   ]
  },
  {
   "cell_type": "markdown",
   "id": "f35283e1",
   "metadata": {},
   "source": [
    "## 3. Construcción de los k-Folds para Validación Cruzada"
   ]
  },
  {
   "cell_type": "markdown",
   "id": "c5c2e762",
   "metadata": {},
   "source": [
    "La construcción de los **k-folds** es un paso fundamental que precede a la fase de entrenamiento y prueba. Basándonos en la Muestra M (`sample_M`) generada previamente, y con `k=5` como el número de pliegues definido, el objetivo es dividir sample_M en cinco subconjuntos disjuntos y representativos. Para garantizar la representatividad de cada fold, especialmente dada la naturaleza estratificada de la Muestra M y la necesidad de preservar las proporciones de las variables de caracterización (star_rating, verified_purchase, vine), emplearemos la función `randomSplit` de PySpark.\n",
    "\n",
    "La función randomSplit permite dividir un DataFrame en múltiples DataFrames más pequeños basándose en ponderaciones especificadas. Al utilizar esta función con una semilla (`seed`) fija, aseguramos la reproducibilidad de los folds, lo cual es crucial para la consistencia en la experimentación y para la depuración. Cada subconjunto resultante será un fold, y la suma de las ponderaciones será 1 para cubrir la totalidad de la sample_M.\n",
    "\n",
    "Considerando el volumen de datos (Big Data) y el costo computacional, esta aproximación es eficiente porque:\n",
    "\n",
    "* **Opera sobre la Muestra M**: La división se realiza sobre la sample_M (829,900 registros), que ya es un subconjunto manejable de la población P. Esto evita operaciones costosas sobre el dataset completo.\n",
    "* **Operación Distribuida**: randomSplit es una transformación de PySpark que se ejecuta de manera distribuida, aprovechando el clúster de Spark para procesar eficientemente grandes volúmenes de datos sin cargar excesivamente el nodo driver.\n",
    "* **Simplicidad y Reproducibilidad**: La implementación es directa y la fijación de la semilla garantiza que los mismos folds se generarán cada vez que se ejecute el código, lo que es vital para la comparabilidad de experimentos."
   ]
  },
  {
   "cell_type": "code",
   "execution_count": 20,
   "id": "0347725d",
   "metadata": {},
   "outputs": [
    {
     "name": "stdout",
     "output_type": "stream",
     "text": [
      "Número de folds a construir (k): 5\n",
      "Ponderaciones para cada fold: [0.2, 0.2, 0.2, 0.2, 0.2]\n"
     ]
    },
    {
     "name": "stderr",
     "output_type": "stream",
     "text": [
      "                                                                                \r"
     ]
    },
    {
     "name": "stdout",
     "output_type": "stream",
     "text": [
      "Fold 'Fold_1' creado con 166,375 registros\n"
     ]
    },
    {
     "name": "stderr",
     "output_type": "stream",
     "text": [
      "                                                                                \r"
     ]
    },
    {
     "name": "stdout",
     "output_type": "stream",
     "text": [
      "Fold 'Fold_2' creado con 166,032 registros\n"
     ]
    },
    {
     "name": "stderr",
     "output_type": "stream",
     "text": [
      "                                                                                \r"
     ]
    },
    {
     "name": "stdout",
     "output_type": "stream",
     "text": [
      "Fold 'Fold_3' creado con 166,071 registros\n"
     ]
    },
    {
     "name": "stderr",
     "output_type": "stream",
     "text": [
      "                                                                                \r"
     ]
    },
    {
     "name": "stdout",
     "output_type": "stream",
     "text": [
      "Fold 'Fold_4' creado con 165,647 registros\n"
     ]
    },
    {
     "name": "stderr",
     "output_type": "stream",
     "text": [
      "                                                                                \r"
     ]
    },
    {
     "name": "stdout",
     "output_type": "stream",
     "text": [
      "Fold 'Fold_5' creado con 165,775 registros\n",
      "\n",
      "=== K-Folds Construidos Exitosamente ===\n"
     ]
    },
    {
     "name": "stderr",
     "output_type": "stream",
     "text": [
      "                                                                                \r"
     ]
    },
    {
     "name": "stdout",
     "output_type": "stream",
     "text": [
      "Total de registros en Muestra M original: 829,900\n"
     ]
    },
    {
     "name": "stderr",
     "output_type": "stream",
     "text": [
      "                                                                                \r"
     ]
    },
    {
     "name": "stdout",
     "output_type": "stream",
     "text": [
      "Total de registros en todos los folds combinados: 829,900\n"
     ]
    },
    {
     "name": "stderr",
     "output_type": "stream",
     "text": [
      "[Stage 278:============================================>          (12 + 3) / 15]\r"
     ]
    },
    {
     "name": "stdout",
     "output_type": "stream",
     "text": [
      "Verificación de tamaño: La suma de los folds es consistente con el tamaño de la Muestra M.\n"
     ]
    },
    {
     "name": "stderr",
     "output_type": "stream",
     "text": [
      "                                                                                \r"
     ]
    }
   ],
   "source": [
    "import pyspark.sql.functions as F\n",
    "from functools import reduce\n",
    "from pyspark.sql import DataFrame\n",
    "\n",
    "# Definimos el número de folds (k)\n",
    "k = 5\n",
    "print(f\"Número de folds a construir (k): {k}\")\n",
    "\n",
    "# Definir las ponderaciones para randomSplit. Para k folds de tamaño aproximadamente igual, la ponderación para cada uno es 1/k\n",
    "# randomSplit espera una lista de ponderaciones, una por cada sub-DataFrame\n",
    "weights = [1.0/k] * k\n",
    "print(f\"Ponderaciones para cada fold: {weights}\")\n",
    "\n",
    "# Construir los k-folds utilizando randomSplit y una semilla fija para la reproducibilidad\n",
    "folds = sample_M.randomSplit(weights, seed=42)\n",
    "\n",
    "# Almacenamos los folds en un diccionario para fácil acceso\n",
    "k_folds_dict = {}\n",
    "for i, fold_df in enumerate(folds):\n",
    "    fold_name = f\"Fold_{i+1}\"\n",
    "    k_folds_dict[fold_name] = fold_df\n",
    "    print(f\"Fold '{fold_name}' creado con {fold_df.count():,} registros\")\n",
    "\n",
    "print(\"\\n=== K-Folds Construidos Exitosamente ===\")\n",
    "print(f\"Total de registros en Muestra M original: {sample_M.count():,}\")\n",
    "total_folds_count = sum(fold.count() for fold in k_folds_dict.values())\n",
    "print(f\"Total de registros en todos los folds combinados: {total_folds_count:,}\")\n",
    "\n",
    "# Verificamos que la suma de los folds sea igual a la muestra M (o muy cercana debido a la aproximación de randomSplit)\n",
    "if abs(sample_M.count() - total_folds_count) < len(folds): # Pequeña tolerancia para randomSplit\n",
    "    print(\"Verificación de tamaño: La suma de los folds es consistente con el tamaño de la Muestra M.\")\n",
    "else:\n",
    "    print(\"Advertencia: La suma de los folds no coincide exactamente con el tamaño de la Muestra M.\")"
   ]
  },
  {
   "cell_type": "markdown",
   "id": "aec23de0",
   "metadata": {},
   "source": [
    "La construcción de los cinco folds se realizó exitosamente sobre la muestra estratificada M, obteniendo subconjuntos de tamaño balanceado (aproximadamente 166 mil registros cada uno) y una suma total idéntica al tamaño original, lo que confirma la integridad del particionamiento. El uso de randomSplit con semilla fija garantiza la reproducibilidad del proceso, mientras que operar sobre una muestra previamente estratificada favorece la conservación de la representatividad en cada fold, base fundamental para una validación cruzada confiable en las siguientes etapas."
   ]
  },
  {
   "cell_type": "code",
   "execution_count": 21,
   "id": "6af255f2",
   "metadata": {},
   "outputs": [
    {
     "name": "stdout",
     "output_type": "stream",
     "text": [
      "\n",
      "=== Verificación de Representatividad por Fold ===\n",
      "\n",
      "Distribución en la Muestra M (sample_M):\n"
     ]
    },
    {
     "name": "stderr",
     "output_type": "stream",
     "text": [
      "                                                                                \r"
     ]
    },
    {
     "name": "stdout",
     "output_type": "stream",
     "text": [
      "  Variable: star_rating\n"
     ]
    },
    {
     "name": "stderr",
     "output_type": "stream",
     "text": [
      "                                                                                \r"
     ]
    },
    {
     "name": "stdout",
     "output_type": "stream",
     "text": [
      "+-----------+------+----------+\n",
      "|star_rating| count|percentage|\n",
      "+-----------+------+----------+\n",
      "|          5|493200|     59.43|\n",
      "|          4|140618|     16.94|\n",
      "|          1| 90843|     10.95|\n",
      "|          3| 61729|      7.44|\n",
      "|          2| 43510|      5.24|\n",
      "+-----------+------+----------+\n",
      "\n",
      "  Variable: verified_purchase\n"
     ]
    },
    {
     "name": "stderr",
     "output_type": "stream",
     "text": [
      "                                                                                \r"
     ]
    },
    {
     "name": "stdout",
     "output_type": "stream",
     "text": [
      "+-----------------+------+----------+\n",
      "|verified_purchase| count|percentage|\n",
      "+-----------------+------+----------+\n",
      "|                Y|726664|     87.56|\n",
      "|                N|103236|     12.44|\n",
      "+-----------------+------+----------+\n",
      "\n",
      "  Variable: vine\n"
     ]
    },
    {
     "name": "stderr",
     "output_type": "stream",
     "text": [
      "                                                                                \r"
     ]
    },
    {
     "name": "stdout",
     "output_type": "stream",
     "text": [
      "+----+------+----------+\n",
      "|vine| count|percentage|\n",
      "+----+------+----------+\n",
      "|   N|825388|     99.46|\n",
      "|   Y|  4512|      0.54|\n",
      "+----+------+----------+\n",
      "\n",
      "\n",
      "Distribución en el primer fold (Fold_1):\n"
     ]
    },
    {
     "name": "stderr",
     "output_type": "stream",
     "text": [
      "                                                                                \r"
     ]
    },
    {
     "name": "stdout",
     "output_type": "stream",
     "text": [
      "  Variable: star_rating\n"
     ]
    },
    {
     "name": "stderr",
     "output_type": "stream",
     "text": [
      "                                                                                \r"
     ]
    },
    {
     "name": "stdout",
     "output_type": "stream",
     "text": [
      "+-----------+-----+----------+\n",
      "|star_rating|count|percentage|\n",
      "+-----------+-----+----------+\n",
      "|          5|98834|      59.4|\n",
      "|          4|28420|     17.08|\n",
      "|          1|18098|     10.88|\n",
      "|          3|12252|      7.36|\n",
      "|          2| 8771|      5.27|\n",
      "+-----------+-----+----------+\n",
      "\n",
      "  Variable: verified_purchase\n"
     ]
    },
    {
     "name": "stderr",
     "output_type": "stream",
     "text": [
      "                                                                                \r"
     ]
    },
    {
     "name": "stdout",
     "output_type": "stream",
     "text": [
      "+-----------------+------+----------+\n",
      "|verified_purchase| count|percentage|\n",
      "+-----------------+------+----------+\n",
      "|                Y|145794|     87.63|\n",
      "|                N| 20581|     12.37|\n",
      "+-----------------+------+----------+\n",
      "\n",
      "  Variable: vine\n"
     ]
    },
    {
     "name": "stderr",
     "output_type": "stream",
     "text": [
      "[Stage 302:============================================>          (12 + 3) / 15]\r"
     ]
    },
    {
     "name": "stdout",
     "output_type": "stream",
     "text": [
      "+----+------+----------+\n",
      "|vine| count|percentage|\n",
      "+----+------+----------+\n",
      "|   N|165474|     99.46|\n",
      "|   Y|   901|      0.54|\n",
      "+----+------+----------+\n",
      "\n"
     ]
    },
    {
     "name": "stderr",
     "output_type": "stream",
     "text": [
      "                                                                                \r"
     ]
    }
   ],
   "source": [
    "# Para asegurar que cada fold es representativo de la Muestra M y, por extensión, de la población, \n",
    "# verificaremos las distribuciones de las variables de caracterización (`star_rating`, `verified_purchase`, `vine`) \n",
    "# dentro de cada fold y las compararemos con la distribución de la `sample_M`\n",
    "# Si `randomSplit` se aplica a una muestra ya estratificada, generalmente mantendrá esas proporciones, pero una verificación explícita es crucial\n",
    "\n",
    "print(\"\\n=== Verificación de Representatividad por Fold ===\")\n",
    "\n",
    "# Obtenemos la distribución de las variables de caracterización en la Muestra M\n",
    "print(\"\\nDistribución en la Muestra M (sample_M):\")\n",
    "total_sample_M_count = sample_M.count()\n",
    "for var in characterization_variables:\n",
    "    dist_M = sample_M.groupBy(var).count() \\\n",
    "                .withColumn(\"percentage\", F.round(F.col(\"count\") * 100.0 / total_sample_M_count, 2)) \\\n",
    "                .orderBy(\"count\", ascending=False)\n",
    "    print(f\"  Variable: {var}\")\n",
    "    dist_M.show(5)\n",
    "\n",
    "# Verificamos la distribución en el primer fold (Fold_1) como ejemplo\n",
    "print(\"\\nDistribución en el primer fold (Fold_1):\")\n",
    "first_fold_df = k_folds_dict[\"Fold_1\"]\n",
    "total_first_fold_count = first_fold_df.count()\n",
    "for var in characterization_variables:\n",
    "    dist_first_fold = first_fold_df.groupBy(var).count() \\\n",
    "                                    .withColumn(\"percentage\", F.round(F.col(\"count\") * 100.0 / total_first_fold_count, 2)) \\\n",
    "                                    .orderBy(\"count\", ascending=False)\n",
    "    print(f\"  Variable: {var}\")\n",
    "    dist_first_fold.show(5)"
   ]
  },
  {
   "cell_type": "markdown",
   "id": "e28fa114",
   "metadata": {},
   "source": [
    "Los resultados obtenidos al comparar las distribuciones de las variables de caracterización (star_rating, verified_purchase, vine) entre la muestra completa sample_M y el primer fold (Fold_1) confirman que las proporciones se mantienen prácticamente inalteradas. Esto valida que la aplicación de randomSplit sobre una muestra previamente estratificada conserva adecuadamente la representatividad interna de los datos, incluso en clases minoritarias como vine=Y. Por tanto, los folds generados son apropiados para realizar una validación cruzada confiable y sin sesgos atribuibles a desbalanceo estructural."
   ]
  },
  {
   "cell_type": "markdown",
   "id": "91d8ed0d",
   "metadata": {},
   "source": [
    "## 4. Fase de entrenamiento"
   ]
  },
  {
   "cell_type": "markdown",
   "id": "f4a140d9",
   "metadata": {},
   "source": [
    "Con base en los resultados obtenidos en la Actividad 4 del Módulo 5, el modelo que reportó el mejor desempeño fue el `Gradient Boosted Trees (GBTClassifier)`, el cual demostró ser especialmente efectivo para capturar relaciones no lineales y complejas entre las variables predictoras derivadas del comportamiento del usuario en reseñas de productos electrónicos de Amazon.\n",
    "\n",
    "El objetivo del presente apartado es evaluar de forma exhaustiva la capacidad de generalización de dicho modelo aplicando un esquema de validación cruzada k-fold (`k=5`), basado en los folds generados previamente a partir de la muestra estratificada M.\n",
    "\n",
    "Para garantizar una evaluación integral, se utilizarán las siguientes métricas, justificadas en función de la naturaleza del problema de clasificación binaria con clases desbalanceadas:\n",
    "\n",
    "* **Accuracy**: Evalúa el porcentaje general de predicciones correctas.\n",
    "\n",
    "* **Precision**: Mide la proporción de verdaderos positivos entre todas las predicciones positivas.\n",
    "\n",
    "* **Recall**: Indica cuántos positivos reales fueron correctamente identificados.\n",
    "\n",
    "* **F1-score**: Representa el balance entre precision y recall, útil ante clases desbalanceadas.\n",
    "\n",
    "* **AUC-ROC**: Evalúa la capacidad del modelo para distinguir entre clases, independiente del umbral de decisión.\n",
    "\n",
    "Estas métricas permitirán no solo valorar el desempeño general, sino también identificar posibles sesgos o desequilibrios en la clasificación. A continuación, se presenta el proceso experimental y los resultados obtenidos."
   ]
  },
  {
   "cell_type": "code",
   "execution_count": 27,
   "id": "986002ed",
   "metadata": {},
   "outputs": [],
   "source": [
    "import pyspark.sql.functions as F\n",
    "from pyspark.ml.feature import StringIndexer, VectorAssembler\n",
    "from pyspark.ml.classification import GBTClassifier\n",
    "from pyspark.ml import Pipeline\n",
    "from pyspark.ml.evaluation import MulticlassClassificationEvaluator, BinaryClassificationEvaluator\n",
    "from pyspark.sql import DataFrame\n",
    "from functools import reduce\n",
    "\n",
    "class Preprocessor:\n",
    "    def __init__(self, columns_for_modeling):\n",
    "        self.columns = columns_for_modeling\n",
    "        self.indexed_columns = []\n",
    "    \n",
    "    def merge_partitions(self, partition_dict: dict) -> DataFrame:\n",
    "        # Nota: En este contexto de k-folds, usaremos unionByName para combinar folds.\n",
    "        return reduce(lambda df1, df2: df1.unionByName(df2), partition_dict.values())\n",
    "    \n",
    "    def drop_nulls(self, df: DataFrame) -> DataFrame:\n",
    "        initial_count = df.count()\n",
    "        df_clean = df.dropna(subset=self.columns)\n",
    "        final_count = df_clean.count()\n",
    "        # print(f\"Se eliminaron {initial_count - final_count} registros ({(initial_count - final_count) / initial_count:.2%})\\n\")\n",
    "        return df_clean\n",
    "    \n",
    "    def remove_outliers(self, df: DataFrame, columns: list, quantile_error=0.01) -> DataFrame:\n",
    "        # Optimizamos para no imprimir tanto en cada iteración de fold\n",
    "        for col_name in columns:\n",
    "            Q1, Q3 = df.approxQuantile(col_name, [0.25, 0.75], quantile_error)\n",
    "            IQR = Q3 - Q1\n",
    "            lower_bound = Q1 - 1.5 * IQR\n",
    "            upper_bound = Q3 + 1.5 * IQR\n",
    "            if IQR == 0:\n",
    "                # print(f\"Advertencia: IQR=0 para '{col_name}', se omite filtro de atípicos.\")\n",
    "                continue\n",
    "            df = df.filter((F.col(col_name) >= lower_bound) & (F.col(col_name) <= upper_bound))\n",
    "        return df\n",
    "   \n",
    "    def encode_categoricals(self, df: DataFrame) -> DataFrame:\n",
    "        categorical_cols = [\"vine\", \"verified_purchase\"]\n",
    "        # Reseteamos indexed_columns para cada preprocesamiento \n",
    "        self.indexed_columns = [] \n",
    "        \n",
    "        pipeline_stages = []\n",
    "        for col_name in categorical_cols:\n",
    "            index_col = f\"{col_name}_index\"\n",
    "            self.indexed_columns.append(index_col)\n",
    "            indexer = StringIndexer(inputCol=col_name, outputCol=index_col, handleInvalid=\"keep\") # handleInvalid para datos de prueba\n",
    "            pipeline_stages.append(indexer)\n",
    "        \n",
    "        # Creamos un pipeline temporal para aplicar los indexers\n",
    "        if pipeline_stages:\n",
    "            temp_pipeline = Pipeline(stages=pipeline_stages)\n",
    "            df = temp_pipeline.fit(df).transform(df)\n",
    "        \n",
    "        return df"
   ]
  },
  {
   "cell_type": "code",
   "execution_count": null,
   "id": "2542f070",
   "metadata": {},
   "outputs": [],
   "source": [
    "# Definimos las columnas necesarias para el modelo, incluyendo las que se crearán/transformarán:\n",
    "# a) sentiment debe ser \"0\" o \"1\" (o IntegerType)\n",
    "# b) star_rating es numérica, helpful_votes y total_votes también\n",
    "# c) Necesitamos asegurar que 'sentiment' sea un tipo numérico (integer/double) para los clasificadores.\n",
    "# d) PySpark MLlib GBTClassifier espera la etiqueta como DoubleType.\n",
    "\n",
    "columns_for_modeling = [\n",
    "    # \"star_rating\", # Quitamos star_rating del modelo\n",
    "    \"helpful_votes\", \"total_votes\", \n",
    "    \"vine\", \"verified_purchase\", \"sentiment\" # Sentiment debe ser la etiqueta numérica\n",
    "]\n",
    "\n",
    "# Inicializamos el preprocesador\n",
    "preprocessor = Preprocessor(columns_for_modeling=columns_for_modeling)\n",
    "\n",
    "# Columnas para Feature Engineering\n",
    "numerical_feature_cols = [\"helpful_votes\", \"total_votes\"] # Estas son las originales para las que se calculará FE\n",
    "derived_feature_cols = [\"vote_ratio\", \"log_total_votes\", \"log_helpful_votes\"]\n",
    "\n",
    "# Columnas de features finales para el GBT Classifier (incluyendo índices de categóricas)\n",
    "# Estas se actualizarán dinámicamente con los nombres de las columnas indexadas\n",
    "feature_cols = [\n",
    "    # \"star_rating\", # Quitamos star_rating del modelo\n",
    "    \"log_helpful_votes\", \n",
    "    \"log_total_votes\", \n",
    "    \"vote_ratio\"\n",
    "    # \"vine_index\", # Se agregará programáticamente después del encoding\n",
    "    # \"verified_purchase_index\" # Se agregará programáticamente después del encoding\n",
    "]"
   ]
  },
  {
   "cell_type": "code",
   "execution_count": 30,
   "id": "5b9fea4b",
   "metadata": {},
   "outputs": [
    {
     "name": "stdout",
     "output_type": "stream",
     "text": [
      "\n",
      "=== Inicio de la Fase de Experimentación con GBT Classifier ===\n"
     ]
    }
   ],
   "source": [
    "# Lista para almacenar los resultados de cada fold y los modelos entrenados\n",
    "experiment_results = []\n",
    "trained_models = {} \n",
    "i = 0\n",
    "\n",
    "print(\"\\n=== Inicio de la Fase de Experimentación con GBT Classifier ===\")"
   ]
  },
  {
   "cell_type": "code",
   "execution_count": 31,
   "id": "52f1e20c",
   "metadata": {},
   "outputs": [
    {
     "name": "stdout",
     "output_type": "stream",
     "text": [
      "\n",
      "--- Procesando Fold 1/5 ---\n"
     ]
    },
    {
     "name": "stderr",
     "output_type": "stream",
     "text": [
      "                                                                                \r"
     ]
    },
    {
     "name": "stdout",
     "output_type": "stream",
     "text": [
      "Tamaño del conjunto de entrenamiento: 663,525 registros\n"
     ]
    },
    {
     "name": "stderr",
     "output_type": "stream",
     "text": [
      "                                                                                \r"
     ]
    },
    {
     "name": "stdout",
     "output_type": "stream",
     "text": [
      "Tamaño del conjunto de prueba: 166,375 registros\n",
      "Paso 1: Convertimos 'sentiment' a tipo Double para entrenamiento y prueba.\n"
     ]
    },
    {
     "name": "stderr",
     "output_type": "stream",
     "text": [
      "                                                                                \r"
     ]
    },
    {
     "name": "stdout",
     "output_type": "stream",
     "text": [
      "Paso 2: Eliminamos registros con nulos en columnas clave.\n"
     ]
    },
    {
     "name": "stderr",
     "output_type": "stream",
     "text": [
      "                                                                                \r"
     ]
    },
    {
     "name": "stdout",
     "output_type": "stream",
     "text": [
      "Paso 3: Eliminamos outliers en columnas numéricas clave.\n",
      "Paso 4: Aplicamos Feature Engineering para crear nuevas columnas.\n"
     ]
    },
    {
     "name": "stderr",
     "output_type": "stream",
     "text": [
      "                                                                                \r"
     ]
    },
    {
     "name": "stdout",
     "output_type": "stream",
     "text": [
      "Paso 5: Codificamos variables categóricas usando StringIndexer.\n",
      "Entrenando GBT para Fold 1...\n"
     ]
    },
    {
     "name": "stderr",
     "output_type": "stream",
     "text": [
      "[Stage 802:============================================>          (12 + 3) / 15]\r"
     ]
    },
    {
     "name": "stdout",
     "output_type": "stream",
     "text": [
      "Resultados de Fold 1:\n",
      "\tAccuracy: 0.7963\n",
      "\tF1 Score: 0.7160\n",
      "\tPrecision: 0.7511\n",
      "\tRecall: 0.7963\n",
      "\tAUC-ROC: 0.5905\n"
     ]
    },
    {
     "name": "stderr",
     "output_type": "stream",
     "text": [
      "                                                                                \r"
     ]
    }
   ],
   "source": [
    "# Procesamos el fold actual\n",
    "if i < k:\n",
    "    print(f\"\\n--- Procesando Fold {i+1}/{k} ---\")\n",
    "    test_fold = k_folds_dict[f\"Fold_{i+1}\"]\n",
    "\n",
    "    # Combinamos los k-1 folds restantes para el entrenamiento\n",
    "    train_folds_list = []\n",
    "    for j in range(k):\n",
    "        if j != i:\n",
    "            train_folds_list.append(k_folds_dict[f\"Fold_{j+1}\"])\n",
    "\n",
    "    # Unimos los DataFrames de entrenamiento con unionByName\n",
    "    df_train = reduce(lambda df1, df2: df1.unionByName(df2), train_folds_list)\n",
    "    df_test = test_fold \n",
    "\n",
    "    print(f\"Tamaño del conjunto de entrenamiento: {df_train.count():,} registros\")\n",
    "    print(f\"Tamaño del conjunto de prueba: {df_test.count():,} registros\")\n",
    "\n",
    "    # --- Preprocesamiento y Feature Engineering ---\n",
    "    # 1. Aseguramos que 'sentiment' sea de tipo Double para PySpark MLlib\n",
    "    df_train = df_train.withColumn(\"sentiment\", F.col(\"sentiment\").cast(\"double\"))\n",
    "    df_test = df_test.withColumn(\"sentiment\", F.col(\"sentiment\").cast(\"double\"))\n",
    "    print(\"Paso 1: Convertimos 'sentiment' a tipo Double para entrenamiento y prueba.\")\n",
    "\n",
    "    # 2. Eliminamos nulos en columnas clave\n",
    "    df_train_processed = preprocessor.drop_nulls(df_train)\n",
    "    df_test_processed = preprocessor.drop_nulls(df_test) \n",
    "    print(\"Paso 2: Eliminamos registros con nulos en columnas clave.\")\n",
    "\n",
    "    # 3. Removemos Outliers (si aplica, para columnas específicas)\n",
    "    df_train_processed = preprocessor.remove_outliers(df_train_processed, numerical_feature_cols)\n",
    "    df_test_processed = preprocessor.remove_outliers(df_test_processed, numerical_feature_cols)\n",
    "    print(\"Paso 3: Eliminamos outliers en columnas numéricas clave.\")\n",
    "\n",
    "    # 4. Feature Engineering\n",
    "    df_train_fe = df_train_processed \\\n",
    "        .withColumn(\"vote_ratio\", F.col(\"helpful_votes\") / (F.col(\"total_votes\") + 1)) \\\n",
    "        .withColumn(\"log_total_votes\", F.log1p(F.col(\"total_votes\"))) \\\n",
    "        .withColumn(\"log_helpful_votes\", F.log1p(F.col(\"helpful_votes\")))\n",
    "    df_test_fe = df_test_processed \\\n",
    "        .withColumn(\"vote_ratio\", F.col(\"helpful_votes\") / (F.col(\"total_votes\") + 1)) \\\n",
    "        .withColumn(\"log_total_votes\", F.log1p(F.col(\"total_votes\"))) \\\n",
    "        .withColumn(\"log_helpful_votes\", F.log1p(F.col(\"helpful_votes\")))\n",
    "    print(\"Paso 4: Aplicamos Feature Engineering para crear nuevas columnas.\")\n",
    "\n",
    "    # 5. Codificación de variables categóricas (StringIndexer)\n",
    "    categorical_cols = [\"vine\", \"verified_purchase\"]\n",
    "    indexer_stages = []\n",
    "    current_feature_cols = list(feature_cols) # Copia las features base\n",
    "\n",
    "    for col_name in categorical_cols:\n",
    "        index_col = f\"{col_name}_index\"\n",
    "        indexer = StringIndexer(inputCol=col_name, outputCol=index_col, handleInvalid=\"keep\")\n",
    "        indexer_stages.append(indexer)\n",
    "        current_feature_cols.append(index_col) # Añadimos al listado de features\n",
    "\n",
    "    # Creamos un pipeline temporal para los indexers y lo aplicamos a train y test\n",
    "    temp_indexer_pipeline = Pipeline(stages=indexer_stages)\n",
    "    temp_indexer_model = temp_indexer_pipeline.fit(df_train_fe)\n",
    "\n",
    "    df_train_final = temp_indexer_model.transform(df_train_fe)\n",
    "    df_test_final = temp_indexer_model.transform(df_test_fe)\n",
    "    print(\"Paso 5: Codificamos variables categóricas usando StringIndexer.\")\n",
    "\n",
    "    # Aseguramos que feature_cols tenga los nombres correctos para el assembler y que 'sentiment' sea la etiqueta\n",
    "    final_feature_cols_for_assembler = [col for col in current_feature_cols if col in df_train_final.columns]\n",
    "\n",
    "    # --- Configuración y Entrenamiento del Modelo GBT ---\n",
    "    assembler = VectorAssembler(inputCols=final_feature_cols_for_assembler, outputCol=\"features\")\n",
    "    gbt = GBTClassifier(featuresCol=\"features\", labelCol=\"sentiment\", seed=42) # Usar seed para reproducibilidad\n",
    "\n",
    "    # Pipeline del modelo\n",
    "    model_pipeline = Pipeline(stages=[assembler, gbt])\n",
    "\n",
    "    # Entrenamiento del modelo\n",
    "    print(f\"Entrenando GBT para Fold {i+1}...\")\n",
    "    gbt_model_trained = model_pipeline.fit(df_train_final)\n",
    "\n",
    "    # Almacenar el modelo entrenado (opcional, útil para debugging o despliegue)\n",
    "    trained_models[f\"Fold_{i+1}\"] = gbt_model_trained\n",
    "\n",
    "    # --- Predicciones y Evaluación ---\n",
    "    predictions = gbt_model_trained.transform(df_test_final)\n",
    "\n",
    "    # Evaluadores de métricas\n",
    "    evaluator_accuracy = MulticlassClassificationEvaluator(labelCol=\"sentiment\", predictionCol=\"prediction\", metricName=\"accuracy\")\n",
    "    evaluator_f1 = MulticlassClassificationEvaluator(labelCol=\"sentiment\", predictionCol=\"prediction\", metricName=\"f1\")\n",
    "    evaluator_precision = MulticlassClassificationEvaluator(labelCol=\"sentiment\", predictionCol=\"prediction\", metricName=\"weightedPrecision\")\n",
    "    evaluator_recall = MulticlassClassificationEvaluator(labelCol=\"sentiment\", predictionCol=\"prediction\", metricName=\"weightedRecall\")\n",
    "    evaluator_auc_roc = BinaryClassificationEvaluator(labelCol=\"sentiment\", rawPredictionCol=\"rawPrediction\", metricName=\"areaUnderROC\")\n",
    "\n",
    "    accuracy = evaluator_accuracy.evaluate(predictions)\n",
    "    f1 = evaluator_f1.evaluate(predictions)\n",
    "    precision = evaluator_precision.evaluate(predictions)\n",
    "    recall = evaluator_recall.evaluate(predictions)\n",
    "    auc_roc = evaluator_auc_roc.evaluate(predictions)\n",
    "\n",
    "    # Registro de resultados para el fold actual\n",
    "    fold_results = {\n",
    "        \"fold\": i + 1,\n",
    "        \"accuracy\": accuracy,\n",
    "        \"f1_score\": f1,\n",
    "        \"precision\": precision,\n",
    "        \"recall\": recall,\n",
    "        \"auc_roc\": auc_roc,\n",
    "        \"train_size\": df_train_final.count(),\n",
    "        \"test_size\": df_test_final.count()\n",
    "    }\n",
    "    experiment_results.append(fold_results)\n",
    "\n",
    "    print(f\"Resultados de Fold {i+1}:\")\n",
    "    print(f\"\\tAccuracy: {accuracy:.4f}\")\n",
    "    print(f\"\\tF1 Score: {f1:.4f}\")\n",
    "    print(f\"\\tPrecision: {precision:.4f}\")\n",
    "    print(f\"\\tRecall: {recall:.4f}\")\n",
    "    print(f\"\\tAUC-ROC: {auc_roc:.4f}\")\n",
    "\n",
    "    i += 1\n",
    "else:\n",
    "    print(f\"Todos los folds ya han sido procesados. No hay más folds para procesar.\")"
   ]
  },
  {
   "cell_type": "code",
   "execution_count": 32,
   "id": "ea05aa5c",
   "metadata": {},
   "outputs": [
    {
     "name": "stdout",
     "output_type": "stream",
     "text": [
      "\n",
      "--- Procesando Fold 2/5 ---\n"
     ]
    },
    {
     "name": "stderr",
     "output_type": "stream",
     "text": [
      "                                                                                \r"
     ]
    },
    {
     "name": "stdout",
     "output_type": "stream",
     "text": [
      "Tamaño del conjunto de entrenamiento: 663,868 registros\n"
     ]
    },
    {
     "name": "stderr",
     "output_type": "stream",
     "text": [
      "                                                                                \r"
     ]
    },
    {
     "name": "stdout",
     "output_type": "stream",
     "text": [
      "Tamaño del conjunto de prueba: 166,032 registros\n",
      "Paso 1: Convertimos 'sentiment' a tipo Double para entrenamiento y prueba.\n"
     ]
    },
    {
     "name": "stderr",
     "output_type": "stream",
     "text": [
      "                                                                                \r"
     ]
    },
    {
     "name": "stdout",
     "output_type": "stream",
     "text": [
      "Paso 2: Eliminamos registros con nulos en columnas clave.\n"
     ]
    },
    {
     "name": "stderr",
     "output_type": "stream",
     "text": [
      "                                                                                \r"
     ]
    },
    {
     "name": "stdout",
     "output_type": "stream",
     "text": [
      "Paso 3: Eliminamos outliers en columnas numéricas clave.\n",
      "Paso 4: Aplicamos Feature Engineering para crear nuevas columnas.\n"
     ]
    },
    {
     "name": "stderr",
     "output_type": "stream",
     "text": [
      "                                                                                \r"
     ]
    },
    {
     "name": "stdout",
     "output_type": "stream",
     "text": [
      "Paso 5: Codificamos variables categóricas usando StringIndexer.\n",
      "Entrenando GBT para Fold 2...\n"
     ]
    },
    {
     "name": "stderr",
     "output_type": "stream",
     "text": [
      "[Stage 1063:===========================================>          (12 + 3) / 15]\r"
     ]
    },
    {
     "name": "stdout",
     "output_type": "stream",
     "text": [
      "Resultados de Fold 2:\n",
      "\tAccuracy: 0.7950\n",
      "\tF1 Score: 0.7138\n",
      "\tPrecision: 0.7433\n",
      "\tRecall: 0.7950\n",
      "\tAUC-ROC: 0.5889\n"
     ]
    },
    {
     "name": "stderr",
     "output_type": "stream",
     "text": [
      "                                                                                \r"
     ]
    }
   ],
   "source": [
    "# Procesamos el fold actual\n",
    "if i < k:\n",
    "    print(f\"\\n--- Procesando Fold {i+1}/{k} ---\")\n",
    "    test_fold = k_folds_dict[f\"Fold_{i+1}\"]\n",
    "\n",
    "    # Combinamos los k-1 folds restantes para el entrenamiento\n",
    "    train_folds_list = []\n",
    "    for j in range(k):\n",
    "        if j != i:\n",
    "            train_folds_list.append(k_folds_dict[f\"Fold_{j+1}\"])\n",
    "\n",
    "    # Unimos los DataFrames de entrenamiento con unionByName\n",
    "    df_train = reduce(lambda df1, df2: df1.unionByName(df2), train_folds_list)\n",
    "    df_test = test_fold \n",
    "\n",
    "    print(f\"Tamaño del conjunto de entrenamiento: {df_train.count():,} registros\")\n",
    "    print(f\"Tamaño del conjunto de prueba: {df_test.count():,} registros\")\n",
    "\n",
    "    # --- Preprocesamiento y Feature Engineering ---\n",
    "    # 1. Aseguramos que 'sentiment' sea de tipo Double para PySpark MLlib\n",
    "    df_train = df_train.withColumn(\"sentiment\", F.col(\"sentiment\").cast(\"double\"))\n",
    "    df_test = df_test.withColumn(\"sentiment\", F.col(\"sentiment\").cast(\"double\"))\n",
    "    print(\"Paso 1: Convertimos 'sentiment' a tipo Double para entrenamiento y prueba.\")\n",
    "\n",
    "    # 2. Eliminamos nulos en columnas clave\n",
    "    df_train_processed = preprocessor.drop_nulls(df_train)\n",
    "    df_test_processed = preprocessor.drop_nulls(df_test) \n",
    "    print(\"Paso 2: Eliminamos registros con nulos en columnas clave.\")\n",
    "\n",
    "    # 3. Removemos Outliers (si aplica, para columnas específicas)\n",
    "    df_train_processed = preprocessor.remove_outliers(df_train_processed, numerical_feature_cols)\n",
    "    df_test_processed = preprocessor.remove_outliers(df_test_processed, numerical_feature_cols)\n",
    "    print(\"Paso 3: Eliminamos outliers en columnas numéricas clave.\")\n",
    "\n",
    "    # 4. Feature Engineering\n",
    "    df_train_fe = df_train_processed \\\n",
    "        .withColumn(\"vote_ratio\", F.col(\"helpful_votes\") / (F.col(\"total_votes\") + 1)) \\\n",
    "        .withColumn(\"log_total_votes\", F.log1p(F.col(\"total_votes\"))) \\\n",
    "        .withColumn(\"log_helpful_votes\", F.log1p(F.col(\"helpful_votes\")))\n",
    "    df_test_fe = df_test_processed \\\n",
    "        .withColumn(\"vote_ratio\", F.col(\"helpful_votes\") / (F.col(\"total_votes\") + 1)) \\\n",
    "        .withColumn(\"log_total_votes\", F.log1p(F.col(\"total_votes\"))) \\\n",
    "        .withColumn(\"log_helpful_votes\", F.log1p(F.col(\"helpful_votes\")))\n",
    "    print(\"Paso 4: Aplicamos Feature Engineering para crear nuevas columnas.\")\n",
    "\n",
    "    # 5. Codificación de variables categóricas (StringIndexer)\n",
    "    categorical_cols = [\"vine\", \"verified_purchase\"]\n",
    "    indexer_stages = []\n",
    "    current_feature_cols = list(feature_cols) # Copia las features base\n",
    "\n",
    "    for col_name in categorical_cols:\n",
    "        index_col = f\"{col_name}_index\"\n",
    "        indexer = StringIndexer(inputCol=col_name, outputCol=index_col, handleInvalid=\"keep\")\n",
    "        indexer_stages.append(indexer)\n",
    "        current_feature_cols.append(index_col) # Añadimos al listado de features\n",
    "\n",
    "    # Creamos un pipeline temporal para los indexers y lo aplicamos a train y test\n",
    "    temp_indexer_pipeline = Pipeline(stages=indexer_stages)\n",
    "    temp_indexer_model = temp_indexer_pipeline.fit(df_train_fe)\n",
    "\n",
    "    df_train_final = temp_indexer_model.transform(df_train_fe)\n",
    "    df_test_final = temp_indexer_model.transform(df_test_fe)\n",
    "    print(\"Paso 5: Codificamos variables categóricas usando StringIndexer.\")\n",
    "\n",
    "    # Aseguramos que feature_cols tenga los nombres correctos para el assembler y que 'sentiment' sea la etiqueta\n",
    "    final_feature_cols_for_assembler = [col for col in current_feature_cols if col in df_train_final.columns]\n",
    "\n",
    "    # --- Configuración y Entrenamiento del Modelo GBT ---\n",
    "    assembler = VectorAssembler(inputCols=final_feature_cols_for_assembler, outputCol=\"features\")\n",
    "    gbt = GBTClassifier(featuresCol=\"features\", labelCol=\"sentiment\", seed=42) # Usar seed para reproducibilidad\n",
    "\n",
    "    # Pipeline del modelo\n",
    "    model_pipeline = Pipeline(stages=[assembler, gbt])\n",
    "\n",
    "    # Entrenamiento del modelo\n",
    "    print(f\"Entrenando GBT para Fold {i+1}...\")\n",
    "    gbt_model_trained = model_pipeline.fit(df_train_final)\n",
    "\n",
    "    # Almacenar el modelo entrenado (opcional, útil para debugging o despliegue)\n",
    "    trained_models[f\"Fold_{i+1}\"] = gbt_model_trained\n",
    "\n",
    "    # --- Predicciones y Evaluación ---\n",
    "    predictions = gbt_model_trained.transform(df_test_final)\n",
    "\n",
    "    # Evaluadores de métricas\n",
    "    evaluator_accuracy = MulticlassClassificationEvaluator(labelCol=\"sentiment\", predictionCol=\"prediction\", metricName=\"accuracy\")\n",
    "    evaluator_f1 = MulticlassClassificationEvaluator(labelCol=\"sentiment\", predictionCol=\"prediction\", metricName=\"f1\")\n",
    "    evaluator_precision = MulticlassClassificationEvaluator(labelCol=\"sentiment\", predictionCol=\"prediction\", metricName=\"weightedPrecision\")\n",
    "    evaluator_recall = MulticlassClassificationEvaluator(labelCol=\"sentiment\", predictionCol=\"prediction\", metricName=\"weightedRecall\")\n",
    "    evaluator_auc_roc = BinaryClassificationEvaluator(labelCol=\"sentiment\", rawPredictionCol=\"rawPrediction\", metricName=\"areaUnderROC\")\n",
    "\n",
    "    accuracy = evaluator_accuracy.evaluate(predictions)\n",
    "    f1 = evaluator_f1.evaluate(predictions)\n",
    "    precision = evaluator_precision.evaluate(predictions)\n",
    "    recall = evaluator_recall.evaluate(predictions)\n",
    "    auc_roc = evaluator_auc_roc.evaluate(predictions)\n",
    "\n",
    "    # Registro de resultados para el fold actual\n",
    "    fold_results = {\n",
    "        \"fold\": i + 1,\n",
    "        \"accuracy\": accuracy,\n",
    "        \"f1_score\": f1,\n",
    "        \"precision\": precision,\n",
    "        \"recall\": recall,\n",
    "        \"auc_roc\": auc_roc,\n",
    "        \"train_size\": df_train_final.count(),\n",
    "        \"test_size\": df_test_final.count()\n",
    "    }\n",
    "    experiment_results.append(fold_results)\n",
    "\n",
    "    print(f\"Resultados de Fold {i+1}:\")\n",
    "    print(f\"\\tAccuracy: {accuracy:.4f}\")\n",
    "    print(f\"\\tF1 Score: {f1:.4f}\")\n",
    "    print(f\"\\tPrecision: {precision:.4f}\")\n",
    "    print(f\"\\tRecall: {recall:.4f}\")\n",
    "    print(f\"\\tAUC-ROC: {auc_roc:.4f}\")\n",
    "\n",
    "    i += 1\n",
    "else:\n",
    "    print(f\"Todos los folds ya han sido procesados. No hay más folds para procesar.\")"
   ]
  },
  {
   "cell_type": "code",
   "execution_count": 33,
   "id": "d640b7f3",
   "metadata": {},
   "outputs": [
    {
     "name": "stdout",
     "output_type": "stream",
     "text": [
      "\n",
      "--- Procesando Fold 3/5 ---\n"
     ]
    },
    {
     "name": "stderr",
     "output_type": "stream",
     "text": [
      "                                                                                \r"
     ]
    },
    {
     "name": "stdout",
     "output_type": "stream",
     "text": [
      "Tamaño del conjunto de entrenamiento: 663,829 registros\n"
     ]
    },
    {
     "name": "stderr",
     "output_type": "stream",
     "text": [
      "                                                                                \r"
     ]
    },
    {
     "name": "stdout",
     "output_type": "stream",
     "text": [
      "Tamaño del conjunto de prueba: 166,071 registros\n",
      "Paso 1: Convertimos 'sentiment' a tipo Double para entrenamiento y prueba.\n"
     ]
    },
    {
     "name": "stderr",
     "output_type": "stream",
     "text": [
      "                                                                                \r"
     ]
    },
    {
     "name": "stdout",
     "output_type": "stream",
     "text": [
      "Paso 2: Eliminamos registros con nulos en columnas clave.\n"
     ]
    },
    {
     "name": "stderr",
     "output_type": "stream",
     "text": [
      "                                                                                \r"
     ]
    },
    {
     "name": "stdout",
     "output_type": "stream",
     "text": [
      "Paso 3: Eliminamos outliers en columnas numéricas clave.\n",
      "Paso 4: Aplicamos Feature Engineering para crear nuevas columnas.\n"
     ]
    },
    {
     "name": "stderr",
     "output_type": "stream",
     "text": [
      "                                                                                \r"
     ]
    },
    {
     "name": "stdout",
     "output_type": "stream",
     "text": [
      "Paso 5: Codificamos variables categóricas usando StringIndexer.\n",
      "Entrenando GBT para Fold 3...\n"
     ]
    },
    {
     "name": "stderr",
     "output_type": "stream",
     "text": [
      "[Stage 1324:===========================================>          (12 + 3) / 15]\r"
     ]
    },
    {
     "name": "stdout",
     "output_type": "stream",
     "text": [
      "Resultados de Fold 3:\n",
      "\tAccuracy: 0.7951\n",
      "\tF1 Score: 0.7143\n",
      "\tPrecision: 0.7493\n",
      "\tRecall: 0.7951\n",
      "\tAUC-ROC: 0.5894\n"
     ]
    },
    {
     "name": "stderr",
     "output_type": "stream",
     "text": [
      "                                                                                \r"
     ]
    }
   ],
   "source": [
    "# Procesamos el fold actual\n",
    "if i < k:\n",
    "    print(f\"\\n--- Procesando Fold {i+1}/{k} ---\")\n",
    "    test_fold = k_folds_dict[f\"Fold_{i+1}\"]\n",
    "\n",
    "    # Combinamos los k-1 folds restantes para el entrenamiento\n",
    "    train_folds_list = []\n",
    "    for j in range(k):\n",
    "        if j != i:\n",
    "            train_folds_list.append(k_folds_dict[f\"Fold_{j+1}\"])\n",
    "\n",
    "    # Unimos los DataFrames de entrenamiento con unionByName\n",
    "    df_train = reduce(lambda df1, df2: df1.unionByName(df2), train_folds_list)\n",
    "    df_test = test_fold \n",
    "\n",
    "    print(f\"Tamaño del conjunto de entrenamiento: {df_train.count():,} registros\")\n",
    "    print(f\"Tamaño del conjunto de prueba: {df_test.count():,} registros\")\n",
    "\n",
    "    # --- Preprocesamiento y Feature Engineering ---\n",
    "    # 1. Aseguramos que 'sentiment' sea de tipo Double para PySpark MLlib\n",
    "    df_train = df_train.withColumn(\"sentiment\", F.col(\"sentiment\").cast(\"double\"))\n",
    "    df_test = df_test.withColumn(\"sentiment\", F.col(\"sentiment\").cast(\"double\"))\n",
    "    print(\"Paso 1: Convertimos 'sentiment' a tipo Double para entrenamiento y prueba.\")\n",
    "\n",
    "    # 2. Eliminamos nulos en columnas clave\n",
    "    df_train_processed = preprocessor.drop_nulls(df_train)\n",
    "    df_test_processed = preprocessor.drop_nulls(df_test) \n",
    "    print(\"Paso 2: Eliminamos registros con nulos en columnas clave.\")\n",
    "\n",
    "    # 3. Removemos Outliers (si aplica, para columnas específicas)\n",
    "    df_train_processed = preprocessor.remove_outliers(df_train_processed, numerical_feature_cols)\n",
    "    df_test_processed = preprocessor.remove_outliers(df_test_processed, numerical_feature_cols)\n",
    "    print(\"Paso 3: Eliminamos outliers en columnas numéricas clave.\")\n",
    "\n",
    "    # 4. Feature Engineering\n",
    "    df_train_fe = df_train_processed \\\n",
    "        .withColumn(\"vote_ratio\", F.col(\"helpful_votes\") / (F.col(\"total_votes\") + 1)) \\\n",
    "        .withColumn(\"log_total_votes\", F.log1p(F.col(\"total_votes\"))) \\\n",
    "        .withColumn(\"log_helpful_votes\", F.log1p(F.col(\"helpful_votes\")))\n",
    "    df_test_fe = df_test_processed \\\n",
    "        .withColumn(\"vote_ratio\", F.col(\"helpful_votes\") / (F.col(\"total_votes\") + 1)) \\\n",
    "        .withColumn(\"log_total_votes\", F.log1p(F.col(\"total_votes\"))) \\\n",
    "        .withColumn(\"log_helpful_votes\", F.log1p(F.col(\"helpful_votes\")))\n",
    "    print(\"Paso 4: Aplicamos Feature Engineering para crear nuevas columnas.\")\n",
    "\n",
    "    # 5. Codificación de variables categóricas (StringIndexer)\n",
    "    categorical_cols = [\"vine\", \"verified_purchase\"]\n",
    "    indexer_stages = []\n",
    "    current_feature_cols = list(feature_cols) # Copia las features base\n",
    "\n",
    "    for col_name in categorical_cols:\n",
    "        index_col = f\"{col_name}_index\"\n",
    "        indexer = StringIndexer(inputCol=col_name, outputCol=index_col, handleInvalid=\"keep\")\n",
    "        indexer_stages.append(indexer)\n",
    "        current_feature_cols.append(index_col) # Añadimos al listado de features\n",
    "\n",
    "    # Creamos un pipeline temporal para los indexers y lo aplicamos a train y test\n",
    "    temp_indexer_pipeline = Pipeline(stages=indexer_stages)\n",
    "    temp_indexer_model = temp_indexer_pipeline.fit(df_train_fe)\n",
    "\n",
    "    df_train_final = temp_indexer_model.transform(df_train_fe)\n",
    "    df_test_final = temp_indexer_model.transform(df_test_fe)\n",
    "    print(\"Paso 5: Codificamos variables categóricas usando StringIndexer.\")\n",
    "\n",
    "    # Aseguramos que feature_cols tenga los nombres correctos para el assembler y que 'sentiment' sea la etiqueta\n",
    "    final_feature_cols_for_assembler = [col for col in current_feature_cols if col in df_train_final.columns]\n",
    "\n",
    "    # --- Configuración y Entrenamiento del Modelo GBT ---\n",
    "    assembler = VectorAssembler(inputCols=final_feature_cols_for_assembler, outputCol=\"features\")\n",
    "    gbt = GBTClassifier(featuresCol=\"features\", labelCol=\"sentiment\", seed=42) # Usar seed para reproducibilidad\n",
    "\n",
    "    # Pipeline del modelo\n",
    "    model_pipeline = Pipeline(stages=[assembler, gbt])\n",
    "\n",
    "    # Entrenamiento del modelo\n",
    "    print(f\"Entrenando GBT para Fold {i+1}...\")\n",
    "    gbt_model_trained = model_pipeline.fit(df_train_final)\n",
    "\n",
    "    # Almacenar el modelo entrenado (opcional, útil para debugging o despliegue)\n",
    "    trained_models[f\"Fold_{i+1}\"] = gbt_model_trained\n",
    "\n",
    "    # --- Predicciones y Evaluación ---\n",
    "    predictions = gbt_model_trained.transform(df_test_final)\n",
    "\n",
    "    # Evaluadores de métricas\n",
    "    evaluator_accuracy = MulticlassClassificationEvaluator(labelCol=\"sentiment\", predictionCol=\"prediction\", metricName=\"accuracy\")\n",
    "    evaluator_f1 = MulticlassClassificationEvaluator(labelCol=\"sentiment\", predictionCol=\"prediction\", metricName=\"f1\")\n",
    "    evaluator_precision = MulticlassClassificationEvaluator(labelCol=\"sentiment\", predictionCol=\"prediction\", metricName=\"weightedPrecision\")\n",
    "    evaluator_recall = MulticlassClassificationEvaluator(labelCol=\"sentiment\", predictionCol=\"prediction\", metricName=\"weightedRecall\")\n",
    "    evaluator_auc_roc = BinaryClassificationEvaluator(labelCol=\"sentiment\", rawPredictionCol=\"rawPrediction\", metricName=\"areaUnderROC\")\n",
    "\n",
    "    accuracy = evaluator_accuracy.evaluate(predictions)\n",
    "    f1 = evaluator_f1.evaluate(predictions)\n",
    "    precision = evaluator_precision.evaluate(predictions)\n",
    "    recall = evaluator_recall.evaluate(predictions)\n",
    "    auc_roc = evaluator_auc_roc.evaluate(predictions)\n",
    "\n",
    "    # Registro de resultados para el fold actual\n",
    "    fold_results = {\n",
    "        \"fold\": i + 1,\n",
    "        \"accuracy\": accuracy,\n",
    "        \"f1_score\": f1,\n",
    "        \"precision\": precision,\n",
    "        \"recall\": recall,\n",
    "        \"auc_roc\": auc_roc,\n",
    "        \"train_size\": df_train_final.count(),\n",
    "        \"test_size\": df_test_final.count()\n",
    "    }\n",
    "    experiment_results.append(fold_results)\n",
    "\n",
    "    print(f\"Resultados de Fold {i+1}:\")\n",
    "    print(f\"\\tAccuracy: {accuracy:.4f}\")\n",
    "    print(f\"\\tF1 Score: {f1:.4f}\")\n",
    "    print(f\"\\tPrecision: {precision:.4f}\")\n",
    "    print(f\"\\tRecall: {recall:.4f}\")\n",
    "    print(f\"\\tAUC-ROC: {auc_roc:.4f}\")\n",
    "\n",
    "    i += 1\n",
    "else:\n",
    "    print(f\"Todos los folds ya han sido procesados. No hay más folds para procesar.\")"
   ]
  },
  {
   "cell_type": "code",
   "execution_count": 34,
   "id": "63fdc241",
   "metadata": {},
   "outputs": [
    {
     "name": "stdout",
     "output_type": "stream",
     "text": [
      "\n",
      "--- Procesando Fold 4/5 ---\n"
     ]
    },
    {
     "name": "stderr",
     "output_type": "stream",
     "text": [
      "                                                                                \r"
     ]
    },
    {
     "name": "stdout",
     "output_type": "stream",
     "text": [
      "Tamaño del conjunto de entrenamiento: 664,253 registros\n"
     ]
    },
    {
     "name": "stderr",
     "output_type": "stream",
     "text": [
      "                                                                                \r"
     ]
    },
    {
     "name": "stdout",
     "output_type": "stream",
     "text": [
      "Tamaño del conjunto de prueba: 165,647 registros\n",
      "Paso 1: Convertimos 'sentiment' a tipo Double para entrenamiento y prueba.\n"
     ]
    },
    {
     "name": "stderr",
     "output_type": "stream",
     "text": [
      "                                                                                \r"
     ]
    },
    {
     "name": "stdout",
     "output_type": "stream",
     "text": [
      "Paso 2: Eliminamos registros con nulos en columnas clave.\n"
     ]
    },
    {
     "name": "stderr",
     "output_type": "stream",
     "text": [
      "                                                                                \r"
     ]
    },
    {
     "name": "stdout",
     "output_type": "stream",
     "text": [
      "Paso 3: Eliminamos outliers en columnas numéricas clave.\n",
      "Paso 4: Aplicamos Feature Engineering para crear nuevas columnas.\n"
     ]
    },
    {
     "name": "stderr",
     "output_type": "stream",
     "text": [
      "                                                                                \r"
     ]
    },
    {
     "name": "stdout",
     "output_type": "stream",
     "text": [
      "Paso 5: Codificamos variables categóricas usando StringIndexer.\n",
      "Entrenando GBT para Fold 4...\n"
     ]
    },
    {
     "name": "stderr",
     "output_type": "stream",
     "text": [
      "[Stage 1585:===========================================>          (12 + 3) / 15]\r"
     ]
    },
    {
     "name": "stdout",
     "output_type": "stream",
     "text": [
      "Resultados de Fold 4:\n",
      "\tAccuracy: 0.7945\n",
      "\tF1 Score: 0.7128\n",
      "\tPrecision: 0.7442\n",
      "\tRecall: 0.7945\n",
      "\tAUC-ROC: 0.5906\n"
     ]
    },
    {
     "name": "stderr",
     "output_type": "stream",
     "text": [
      "                                                                                \r"
     ]
    }
   ],
   "source": [
    "# Procesamos el fold actual\n",
    "if i < k:\n",
    "    print(f\"\\n--- Procesando Fold {i+1}/{k} ---\")\n",
    "    test_fold = k_folds_dict[f\"Fold_{i+1}\"]\n",
    "\n",
    "    # Combinamos los k-1 folds restantes para el entrenamiento\n",
    "    train_folds_list = []\n",
    "    for j in range(k):\n",
    "        if j != i:\n",
    "            train_folds_list.append(k_folds_dict[f\"Fold_{j+1}\"])\n",
    "\n",
    "    # Unimos los DataFrames de entrenamiento con unionByName\n",
    "    df_train = reduce(lambda df1, df2: df1.unionByName(df2), train_folds_list)\n",
    "    df_test = test_fold \n",
    "\n",
    "    print(f\"Tamaño del conjunto de entrenamiento: {df_train.count():,} registros\")\n",
    "    print(f\"Tamaño del conjunto de prueba: {df_test.count():,} registros\")\n",
    "\n",
    "    # --- Preprocesamiento y Feature Engineering ---\n",
    "    # 1. Aseguramos que 'sentiment' sea de tipo Double para PySpark MLlib\n",
    "    df_train = df_train.withColumn(\"sentiment\", F.col(\"sentiment\").cast(\"double\"))\n",
    "    df_test = df_test.withColumn(\"sentiment\", F.col(\"sentiment\").cast(\"double\"))\n",
    "    print(\"Paso 1: Convertimos 'sentiment' a tipo Double para entrenamiento y prueba.\")\n",
    "\n",
    "    # 2. Eliminamos nulos en columnas clave\n",
    "    df_train_processed = preprocessor.drop_nulls(df_train)\n",
    "    df_test_processed = preprocessor.drop_nulls(df_test) \n",
    "    print(\"Paso 2: Eliminamos registros con nulos en columnas clave.\")\n",
    "\n",
    "    # 3. Removemos Outliers (si aplica, para columnas específicas)\n",
    "    df_train_processed = preprocessor.remove_outliers(df_train_processed, numerical_feature_cols)\n",
    "    df_test_processed = preprocessor.remove_outliers(df_test_processed, numerical_feature_cols)\n",
    "    print(\"Paso 3: Eliminamos outliers en columnas numéricas clave.\")\n",
    "\n",
    "    # 4. Feature Engineering\n",
    "    df_train_fe = df_train_processed \\\n",
    "        .withColumn(\"vote_ratio\", F.col(\"helpful_votes\") / (F.col(\"total_votes\") + 1)) \\\n",
    "        .withColumn(\"log_total_votes\", F.log1p(F.col(\"total_votes\"))) \\\n",
    "        .withColumn(\"log_helpful_votes\", F.log1p(F.col(\"helpful_votes\")))\n",
    "    df_test_fe = df_test_processed \\\n",
    "        .withColumn(\"vote_ratio\", F.col(\"helpful_votes\") / (F.col(\"total_votes\") + 1)) \\\n",
    "        .withColumn(\"log_total_votes\", F.log1p(F.col(\"total_votes\"))) \\\n",
    "        .withColumn(\"log_helpful_votes\", F.log1p(F.col(\"helpful_votes\")))\n",
    "    print(\"Paso 4: Aplicamos Feature Engineering para crear nuevas columnas.\")\n",
    "\n",
    "    # 5. Codificación de variables categóricas (StringIndexer)\n",
    "    categorical_cols = [\"vine\", \"verified_purchase\"]\n",
    "    indexer_stages = []\n",
    "    current_feature_cols = list(feature_cols) # Copia las features base\n",
    "\n",
    "    for col_name in categorical_cols:\n",
    "        index_col = f\"{col_name}_index\"\n",
    "        indexer = StringIndexer(inputCol=col_name, outputCol=index_col, handleInvalid=\"keep\")\n",
    "        indexer_stages.append(indexer)\n",
    "        current_feature_cols.append(index_col) # Añadimos al listado de features\n",
    "\n",
    "    # Creamos un pipeline temporal para los indexers y lo aplicamos a train y test\n",
    "    temp_indexer_pipeline = Pipeline(stages=indexer_stages)\n",
    "    temp_indexer_model = temp_indexer_pipeline.fit(df_train_fe)\n",
    "\n",
    "    df_train_final = temp_indexer_model.transform(df_train_fe)\n",
    "    df_test_final = temp_indexer_model.transform(df_test_fe)\n",
    "    print(\"Paso 5: Codificamos variables categóricas usando StringIndexer.\")\n",
    "\n",
    "    # Aseguramos que feature_cols tenga los nombres correctos para el assembler y que 'sentiment' sea la etiqueta\n",
    "    final_feature_cols_for_assembler = [col for col in current_feature_cols if col in df_train_final.columns]\n",
    "\n",
    "    # --- Configuración y Entrenamiento del Modelo GBT ---\n",
    "    assembler = VectorAssembler(inputCols=final_feature_cols_for_assembler, outputCol=\"features\")\n",
    "    gbt = GBTClassifier(featuresCol=\"features\", labelCol=\"sentiment\", seed=42) # Usar seed para reproducibilidad\n",
    "\n",
    "    # Pipeline del modelo\n",
    "    model_pipeline = Pipeline(stages=[assembler, gbt])\n",
    "\n",
    "    # Entrenamiento del modelo\n",
    "    print(f\"Entrenando GBT para Fold {i+1}...\")\n",
    "    gbt_model_trained = model_pipeline.fit(df_train_final)\n",
    "\n",
    "    # Almacenar el modelo entrenado (opcional, útil para debugging o despliegue)\n",
    "    trained_models[f\"Fold_{i+1}\"] = gbt_model_trained\n",
    "\n",
    "    # --- Predicciones y Evaluación ---\n",
    "    predictions = gbt_model_trained.transform(df_test_final)\n",
    "\n",
    "    # Evaluadores de métricas\n",
    "    evaluator_accuracy = MulticlassClassificationEvaluator(labelCol=\"sentiment\", predictionCol=\"prediction\", metricName=\"accuracy\")\n",
    "    evaluator_f1 = MulticlassClassificationEvaluator(labelCol=\"sentiment\", predictionCol=\"prediction\", metricName=\"f1\")\n",
    "    evaluator_precision = MulticlassClassificationEvaluator(labelCol=\"sentiment\", predictionCol=\"prediction\", metricName=\"weightedPrecision\")\n",
    "    evaluator_recall = MulticlassClassificationEvaluator(labelCol=\"sentiment\", predictionCol=\"prediction\", metricName=\"weightedRecall\")\n",
    "    evaluator_auc_roc = BinaryClassificationEvaluator(labelCol=\"sentiment\", rawPredictionCol=\"rawPrediction\", metricName=\"areaUnderROC\")\n",
    "\n",
    "    accuracy = evaluator_accuracy.evaluate(predictions)\n",
    "    f1 = evaluator_f1.evaluate(predictions)\n",
    "    precision = evaluator_precision.evaluate(predictions)\n",
    "    recall = evaluator_recall.evaluate(predictions)\n",
    "    auc_roc = evaluator_auc_roc.evaluate(predictions)\n",
    "\n",
    "    # Registro de resultados para el fold actual\n",
    "    fold_results = {\n",
    "        \"fold\": i + 1,\n",
    "        \"accuracy\": accuracy,\n",
    "        \"f1_score\": f1,\n",
    "        \"precision\": precision,\n",
    "        \"recall\": recall,\n",
    "        \"auc_roc\": auc_roc,\n",
    "        \"train_size\": df_train_final.count(),\n",
    "        \"test_size\": df_test_final.count()\n",
    "    }\n",
    "    experiment_results.append(fold_results)\n",
    "\n",
    "    print(f\"Resultados de Fold {i+1}:\")\n",
    "    print(f\"\\tAccuracy: {accuracy:.4f}\")\n",
    "    print(f\"\\tF1 Score: {f1:.4f}\")\n",
    "    print(f\"\\tPrecision: {precision:.4f}\")\n",
    "    print(f\"\\tRecall: {recall:.4f}\")\n",
    "    print(f\"\\tAUC-ROC: {auc_roc:.4f}\")\n",
    "\n",
    "    i += 1\n",
    "else:\n",
    "    print(f\"Todos los folds ya han sido procesados. No hay más folds para procesar.\")"
   ]
  },
  {
   "cell_type": "code",
   "execution_count": 35,
   "id": "dfd05e3e",
   "metadata": {},
   "outputs": [
    {
     "name": "stdout",
     "output_type": "stream",
     "text": [
      "\n",
      "--- Procesando Fold 5/5 ---\n"
     ]
    },
    {
     "name": "stderr",
     "output_type": "stream",
     "text": [
      "                                                                                \r"
     ]
    },
    {
     "name": "stdout",
     "output_type": "stream",
     "text": [
      "Tamaño del conjunto de entrenamiento: 664,125 registros\n"
     ]
    },
    {
     "name": "stderr",
     "output_type": "stream",
     "text": [
      "                                                                                \r"
     ]
    },
    {
     "name": "stdout",
     "output_type": "stream",
     "text": [
      "Tamaño del conjunto de prueba: 165,775 registros\n",
      "Paso 1: Convertimos 'sentiment' a tipo Double para entrenamiento y prueba.\n"
     ]
    },
    {
     "name": "stderr",
     "output_type": "stream",
     "text": [
      "                                                                                \r"
     ]
    },
    {
     "name": "stdout",
     "output_type": "stream",
     "text": [
      "Paso 2: Eliminamos registros con nulos en columnas clave.\n"
     ]
    },
    {
     "name": "stderr",
     "output_type": "stream",
     "text": [
      "                                                                                \r"
     ]
    },
    {
     "name": "stdout",
     "output_type": "stream",
     "text": [
      "Paso 3: Eliminamos outliers en columnas numéricas clave.\n",
      "Paso 4: Aplicamos Feature Engineering para crear nuevas columnas.\n"
     ]
    },
    {
     "name": "stderr",
     "output_type": "stream",
     "text": [
      "                                                                                \r"
     ]
    },
    {
     "name": "stdout",
     "output_type": "stream",
     "text": [
      "Paso 5: Codificamos variables categóricas usando StringIndexer.\n",
      "Entrenando GBT para Fold 5...\n"
     ]
    },
    {
     "name": "stderr",
     "output_type": "stream",
     "text": [
      "[Stage 1846:===========================================>          (12 + 3) / 15]\r"
     ]
    },
    {
     "name": "stdout",
     "output_type": "stream",
     "text": [
      "Resultados de Fold 5:\n",
      "\tAccuracy: 0.7958\n",
      "\tF1 Score: 0.7146\n",
      "\tPrecision: 0.7473\n",
      "\tRecall: 0.7958\n",
      "\tAUC-ROC: 0.5920\n"
     ]
    },
    {
     "name": "stderr",
     "output_type": "stream",
     "text": [
      "                                                                                \r"
     ]
    }
   ],
   "source": [
    "# Procesamos el fold actual\n",
    "if i < k:\n",
    "    print(f\"\\n--- Procesando Fold {i+1}/{k} ---\")\n",
    "    test_fold = k_folds_dict[f\"Fold_{i+1}\"]\n",
    "\n",
    "    # Combinamos los k-1 folds restantes para el entrenamiento\n",
    "    train_folds_list = []\n",
    "    for j in range(k):\n",
    "        if j != i:\n",
    "            train_folds_list.append(k_folds_dict[f\"Fold_{j+1}\"])\n",
    "\n",
    "    # Unimos los DataFrames de entrenamiento con unionByName\n",
    "    df_train = reduce(lambda df1, df2: df1.unionByName(df2), train_folds_list)\n",
    "    df_test = test_fold \n",
    "\n",
    "    print(f\"Tamaño del conjunto de entrenamiento: {df_train.count():,} registros\")\n",
    "    print(f\"Tamaño del conjunto de prueba: {df_test.count():,} registros\")\n",
    "\n",
    "    # --- Preprocesamiento y Feature Engineering ---\n",
    "    # 1. Aseguramos que 'sentiment' sea de tipo Double para PySpark MLlib\n",
    "    df_train = df_train.withColumn(\"sentiment\", F.col(\"sentiment\").cast(\"double\"))\n",
    "    df_test = df_test.withColumn(\"sentiment\", F.col(\"sentiment\").cast(\"double\"))\n",
    "    print(\"Paso 1: Convertimos 'sentiment' a tipo Double para entrenamiento y prueba.\")\n",
    "\n",
    "    # 2. Eliminamos nulos en columnas clave\n",
    "    df_train_processed = preprocessor.drop_nulls(df_train)\n",
    "    df_test_processed = preprocessor.drop_nulls(df_test) \n",
    "    print(\"Paso 2: Eliminamos registros con nulos en columnas clave.\")\n",
    "\n",
    "    # 3. Removemos Outliers (si aplica, para columnas específicas)\n",
    "    df_train_processed = preprocessor.remove_outliers(df_train_processed, numerical_feature_cols)\n",
    "    df_test_processed = preprocessor.remove_outliers(df_test_processed, numerical_feature_cols)\n",
    "    print(\"Paso 3: Eliminamos outliers en columnas numéricas clave.\")\n",
    "\n",
    "    # 4. Feature Engineering\n",
    "    df_train_fe = df_train_processed \\\n",
    "        .withColumn(\"vote_ratio\", F.col(\"helpful_votes\") / (F.col(\"total_votes\") + 1)) \\\n",
    "        .withColumn(\"log_total_votes\", F.log1p(F.col(\"total_votes\"))) \\\n",
    "        .withColumn(\"log_helpful_votes\", F.log1p(F.col(\"helpful_votes\")))\n",
    "    df_test_fe = df_test_processed \\\n",
    "        .withColumn(\"vote_ratio\", F.col(\"helpful_votes\") / (F.col(\"total_votes\") + 1)) \\\n",
    "        .withColumn(\"log_total_votes\", F.log1p(F.col(\"total_votes\"))) \\\n",
    "        .withColumn(\"log_helpful_votes\", F.log1p(F.col(\"helpful_votes\")))\n",
    "    print(\"Paso 4: Aplicamos Feature Engineering para crear nuevas columnas.\")\n",
    "\n",
    "    # 5. Codificación de variables categóricas (StringIndexer)\n",
    "    categorical_cols = [\"vine\", \"verified_purchase\"]\n",
    "    indexer_stages = []\n",
    "    current_feature_cols = list(feature_cols) # Copia las features base\n",
    "\n",
    "    for col_name in categorical_cols:\n",
    "        index_col = f\"{col_name}_index\"\n",
    "        indexer = StringIndexer(inputCol=col_name, outputCol=index_col, handleInvalid=\"keep\")\n",
    "        indexer_stages.append(indexer)\n",
    "        current_feature_cols.append(index_col) # Añadimos al listado de features\n",
    "\n",
    "    # Creamos un pipeline temporal para los indexers y lo aplicamos a train y test\n",
    "    temp_indexer_pipeline = Pipeline(stages=indexer_stages)\n",
    "    temp_indexer_model = temp_indexer_pipeline.fit(df_train_fe)\n",
    "\n",
    "    df_train_final = temp_indexer_model.transform(df_train_fe)\n",
    "    df_test_final = temp_indexer_model.transform(df_test_fe)\n",
    "    print(\"Paso 5: Codificamos variables categóricas usando StringIndexer.\")\n",
    "\n",
    "    # Aseguramos que feature_cols tenga los nombres correctos para el assembler y que 'sentiment' sea la etiqueta\n",
    "    final_feature_cols_for_assembler = [col for col in current_feature_cols if col in df_train_final.columns]\n",
    "\n",
    "    # --- Configuración y Entrenamiento del Modelo GBT ---\n",
    "    assembler = VectorAssembler(inputCols=final_feature_cols_for_assembler, outputCol=\"features\")\n",
    "    gbt = GBTClassifier(featuresCol=\"features\", labelCol=\"sentiment\", seed=42) # Usar seed para reproducibilidad\n",
    "\n",
    "    # Pipeline del modelo\n",
    "    model_pipeline = Pipeline(stages=[assembler, gbt])\n",
    "\n",
    "    # Entrenamiento del modelo\n",
    "    print(f\"Entrenando GBT para Fold {i+1}...\")\n",
    "    gbt_model_trained = model_pipeline.fit(df_train_final)\n",
    "\n",
    "    # Almacenar el modelo entrenado (opcional, útil para debugging o despliegue)\n",
    "    trained_models[f\"Fold_{i+1}\"] = gbt_model_trained\n",
    "\n",
    "    # --- Predicciones y Evaluación ---\n",
    "    predictions = gbt_model_trained.transform(df_test_final)\n",
    "\n",
    "    # Evaluadores de métricas\n",
    "    evaluator_accuracy = MulticlassClassificationEvaluator(labelCol=\"sentiment\", predictionCol=\"prediction\", metricName=\"accuracy\")\n",
    "    evaluator_f1 = MulticlassClassificationEvaluator(labelCol=\"sentiment\", predictionCol=\"prediction\", metricName=\"f1\")\n",
    "    evaluator_precision = MulticlassClassificationEvaluator(labelCol=\"sentiment\", predictionCol=\"prediction\", metricName=\"weightedPrecision\")\n",
    "    evaluator_recall = MulticlassClassificationEvaluator(labelCol=\"sentiment\", predictionCol=\"prediction\", metricName=\"weightedRecall\")\n",
    "    evaluator_auc_roc = BinaryClassificationEvaluator(labelCol=\"sentiment\", rawPredictionCol=\"rawPrediction\", metricName=\"areaUnderROC\")\n",
    "\n",
    "    accuracy = evaluator_accuracy.evaluate(predictions)\n",
    "    f1 = evaluator_f1.evaluate(predictions)\n",
    "    precision = evaluator_precision.evaluate(predictions)\n",
    "    recall = evaluator_recall.evaluate(predictions)\n",
    "    auc_roc = evaluator_auc_roc.evaluate(predictions)\n",
    "\n",
    "    # Registro de resultados para el fold actual\n",
    "    fold_results = {\n",
    "        \"fold\": i + 1,\n",
    "        \"accuracy\": accuracy,\n",
    "        \"f1_score\": f1,\n",
    "        \"precision\": precision,\n",
    "        \"recall\": recall,\n",
    "        \"auc_roc\": auc_roc,\n",
    "        \"train_size\": df_train_final.count(),\n",
    "        \"test_size\": df_test_final.count()\n",
    "    }\n",
    "    experiment_results.append(fold_results)\n",
    "\n",
    "    print(f\"Resultados de Fold {i+1}:\")\n",
    "    print(f\"\\tAccuracy: {accuracy:.4f}\")\n",
    "    print(f\"\\tF1 Score: {f1:.4f}\")\n",
    "    print(f\"\\tPrecision: {precision:.4f}\")\n",
    "    print(f\"\\tRecall: {recall:.4f}\")\n",
    "    print(f\"\\tAUC-ROC: {auc_roc:.4f}\")\n",
    "\n",
    "    i += 1\n",
    "else:\n",
    "    print(f\"Todos los folds ya han sido procesados. No hay más folds para procesar.\")"
   ]
  },
  {
   "cell_type": "code",
   "execution_count": 36,
   "id": "fee8bd71",
   "metadata": {},
   "outputs": [
    {
     "name": "stdout",
     "output_type": "stream",
     "text": [
      "\n",
      "--- Resumen de Resultados por Fold ---\n",
      "Fold 1: Acc=0.7963, F1=0.7160, Prec=0.7511, Rec=0.7963, AUC=0.5905\n",
      "Fold 2: Acc=0.7950, F1=0.7138, Prec=0.7433, Rec=0.7950, AUC=0.5889\n",
      "Fold 3: Acc=0.7951, F1=0.7143, Prec=0.7493, Rec=0.7951, AUC=0.5894\n",
      "Fold 4: Acc=0.7945, F1=0.7128, Prec=0.7442, Rec=0.7945, AUC=0.5906\n",
      "Fold 5: Acc=0.7958, F1=0.7146, Prec=0.7473, Rec=0.7958, AUC=0.5920\n",
      "\n",
      "--- Estadísticas de las Métricas (Media y Desviación Estándar) ---\n",
      "fold               3.000000\n",
      "accuracy           0.795358\n",
      "f1_score           0.714307\n",
      "precision          0.747035\n",
      "recall             0.795358\n",
      "auc_roc            0.590273\n",
      "train_size    579320.800000\n",
      "test_size     144830.200000\n",
      "dtype: float64\n",
      "\n",
      "--- Desviación Estándar ---\n",
      "fold            1.581139\n",
      "accuracy        0.000712\n",
      "f1_score        0.001166\n",
      "precision       0.003295\n",
      "recall          0.000712\n",
      "auc_roc         0.001188\n",
      "train_size    303.789730\n",
      "test_size     303.789730\n",
      "dtype: float64\n"
     ]
    }
   ],
   "source": [
    "# Imprimimos un resumen de todos los resultados\n",
    "print(\"\\n--- Resumen de Resultados por Fold ---\")\n",
    "for result in experiment_results:\n",
    "    print(f\"Fold {result['fold']}: Acc={result['accuracy']:.4f}, F1={result['f1_score']:.4f}, Prec={result['precision']:.4f}, Rec={result['recall']:.4f}, AUC={result['auc_roc']:.4f}\")\n",
    "\n",
    "# Calculamos las estadísticas de los resultados (media, desviación estándar)\n",
    "import pandas as pd\n",
    "results_df = pd.DataFrame(experiment_results)\n",
    "\n",
    "print(\"\\n--- Estadísticas de las Métricas (Media y Desviación Estándar) ---\")\n",
    "print(results_df.mean(numeric_only=True))\n",
    "\n",
    "print(\"\\n--- Desviación Estándar ---\")\n",
    "print(results_df.std(numeric_only=True))"
   ]
  },
  {
   "cell_type": "markdown",
   "id": "ee45a5e1",
   "metadata": {},
   "source": [
    "Los resultados obtenidos tras aplicar el modelo GBT mediante validación cruzada `k-fold` reflejan un desempeño altamente consistente en los cinco pliegues, con métricas de evaluación que muestran desviaciones estándar notablemente bajas. Las puntuaciones promedio alcanzadas, accuracy (0.795), F1-score (0.714), precision (0.747), recall (0.795) y AUC-ROC (0.590), indican que el modelo generaliza de forma adecuada y mantiene una capacidad predictiva estable en diferentes subconjuntos del conjunto de datos. Un aspecto clave fue la exclusión explícita de la variable `star_rating`, debido a su correlación directa con la etiqueta `sentiment`, lo cual evitó problemas de data leakage y redujo el riesgo de sobreajuste. Este riesgo fue detectado tempranamente gracias a una ejecución anticipada de los primeros pliegues, lo que permitió ajustar el flujo sin necesidad de procesar todos los folds, ahorrando así recursos computacionales. Además, la estructura modular del preprocesamiento y la ingeniería de características permitió mantener la integridad del flujo experimental, aun cuando se adaptó la estrategia iterativa para facilitar su ejecución en escenarios con restricciones de tiempo. En conjunto, los resultados obtenidos validan la eficacia del enfoque implementado, tanto desde una perspectiva técnica como metodológica."
   ]
  },
  {
   "cell_type": "markdown",
   "id": "c444cbd6",
   "metadata": {},
   "source": [
    "## 5. Visualización de resultados"
   ]
  },
  {
   "cell_type": "markdown",
   "id": "48a1e000",
   "metadata": {},
   "source": [
    "La fase de experimentación ha generado un conjunto valioso de métricas de rendimiento para el modelo GBT a través de los 5 folds de validación cruzada. Para interpretar estos resultados de manera efectiva y obtener una comprensión profunda de la variabilidad del modelo, su consistencia y su capacidad de generalización, es esencial recurrir a la visualización de datos.\n",
    "\n",
    "Para la visualización de los resultados, utilizaremos las bibliotecas `Matplotlib` y `Seaborn` en Python. Estas bibliotecas son ampliamente reconocidas en la comunidad de ciencia de datos por su flexibilidad, capacidad para generar gráficos de alta calidad y su compatibilidad con Pandas DataFrames, a los que convertiremos nuestros resultados agregados de PySpark para facilitar la graficación en el nodo driver.\n",
    "\n",
    "Las visualizaciones se diseñarán para abordar los siguientes aspectos clave:\n",
    "\n",
    "* **Rendimiento por Fold**: Mostrar el valor de cada métrica (Accuracy, F1-Score, Precision, Recall, AUC-ROC) para cada uno de los k folds. Esto nos permitirá identificar la consistencia del rendimiento del modelo a través de diferentes subconjuntos de datos y detectar posibles folds atípicos. Un modelo robusto debe mostrar un rendimiento relativamente estable entre los folds.\n",
    "* **Distribución y Variabilidad de las Métricas**: A través de box plots, analizaremos la distribución de cada métrica en el conjunto de los k folds. Esto nos dará una visión clara de la variabilidad de los resultados, proporcionando una estimación más fiable del rango de rendimiento esperado del modelo en datos no vistos. Una baja variabilidad sugiere un modelo más estable y fiable.\n",
    "* **Estadísticas Resumen**: Aunque ya se han impreso las medias y desviaciones estándar, visualizarlas en gráficos de barras para comparar el rendimiento promedio es útil, especialmente si se llegaran a comparar múltiples modelos.\n",
    "* **Detección de Sobre-ajuste (Overfitting)**: Si tuviéramos acceso a las métricas de entrenamiento vs. validación en cada iteración interna de GBT (lo cual es más complejo de extraer directamente de la implementación estándar de PySpark GBT), podríamos trazar curvas de aprendizaje. Dado que PySpark GBTClassifier no expone fácilmente las métricas de entrenamiento internas por iteración, nos enfocaremos en la variabilidad de las métricas de test a través de los folds como un indicador indirecto de la generalización. Una alta variabilidad podría sugerir que el modelo se está ajustando en exceso a las particularidades de cada conjunto de entrenamiento.\n",
    "\n",
    "Al presentar estas visualizaciones, argumentaremos cómo los patrones observados en los gráficos respaldan o refutan las expectativas sobre el rendimiento del modelo GBT y su capacidad para generalizar los patrones de sentimiento en las reseñas de Amazon."
   ]
  },
  {
   "cell_type": "code",
   "execution_count": 37,
   "id": "0414e06f",
   "metadata": {},
   "outputs": [
    {
     "name": "stdout",
     "output_type": "stream",
     "text": [
      "DataFrame de Resultados para Visualización:\n"
     ]
    },
    {
     "data": {
      "text/html": [
       "<div>\n",
       "<style scoped>\n",
       "    .dataframe tbody tr th:only-of-type {\n",
       "        vertical-align: middle;\n",
       "    }\n",
       "\n",
       "    .dataframe tbody tr th {\n",
       "        vertical-align: top;\n",
       "    }\n",
       "\n",
       "    .dataframe thead th {\n",
       "        text-align: right;\n",
       "    }\n",
       "</style>\n",
       "<table border=\"1\" class=\"dataframe\">\n",
       "  <thead>\n",
       "    <tr style=\"text-align: right;\">\n",
       "      <th></th>\n",
       "      <th>fold</th>\n",
       "      <th>accuracy</th>\n",
       "      <th>f1_score</th>\n",
       "      <th>precision</th>\n",
       "      <th>recall</th>\n",
       "      <th>auc_roc</th>\n",
       "      <th>train_size</th>\n",
       "      <th>test_size</th>\n",
       "    </tr>\n",
       "  </thead>\n",
       "  <tbody>\n",
       "    <tr>\n",
       "      <th>0</th>\n",
       "      <td>1</td>\n",
       "      <td>0.796338</td>\n",
       "      <td>0.716014</td>\n",
       "      <td>0.751058</td>\n",
       "      <td>0.796338</td>\n",
       "      <td>0.590533</td>\n",
       "      <td>578812</td>\n",
       "      <td>145339</td>\n",
       "    </tr>\n",
       "    <tr>\n",
       "      <th>1</th>\n",
       "      <td>2</td>\n",
       "      <td>0.795002</td>\n",
       "      <td>0.713812</td>\n",
       "      <td>0.743298</td>\n",
       "      <td>0.795002</td>\n",
       "      <td>0.588930</td>\n",
       "      <td>579423</td>\n",
       "      <td>144728</td>\n",
       "    </tr>\n",
       "    <tr>\n",
       "      <th>2</th>\n",
       "      <td>3</td>\n",
       "      <td>0.795111</td>\n",
       "      <td>0.714296</td>\n",
       "      <td>0.749327</td>\n",
       "      <td>0.795111</td>\n",
       "      <td>0.589376</td>\n",
       "      <td>579419</td>\n",
       "      <td>144732</td>\n",
       "    </tr>\n",
       "    <tr>\n",
       "      <th>3</th>\n",
       "      <td>4</td>\n",
       "      <td>0.794534</td>\n",
       "      <td>0.712823</td>\n",
       "      <td>0.744214</td>\n",
       "      <td>0.794534</td>\n",
       "      <td>0.590555</td>\n",
       "      <td>579621</td>\n",
       "      <td>144530</td>\n",
       "    </tr>\n",
       "    <tr>\n",
       "      <th>4</th>\n",
       "      <td>5</td>\n",
       "      <td>0.795805</td>\n",
       "      <td>0.714590</td>\n",
       "      <td>0.747277</td>\n",
       "      <td>0.795805</td>\n",
       "      <td>0.591972</td>\n",
       "      <td>579329</td>\n",
       "      <td>144822</td>\n",
       "    </tr>\n",
       "  </tbody>\n",
       "</table>\n",
       "</div>"
      ],
      "text/plain": [
       "   fold  accuracy  f1_score  precision    recall   auc_roc  train_size  \\\n",
       "0     1  0.796338  0.716014   0.751058  0.796338  0.590533      578812   \n",
       "1     2  0.795002  0.713812   0.743298  0.795002  0.588930      579423   \n",
       "2     3  0.795111  0.714296   0.749327  0.795111  0.589376      579419   \n",
       "3     4  0.794534  0.712823   0.744214  0.794534  0.590555      579621   \n",
       "4     5  0.795805  0.714590   0.747277  0.795805  0.591972      579329   \n",
       "\n",
       "   test_size  \n",
       "0     145339  \n",
       "1     144728  \n",
       "2     144732  \n",
       "3     144530  \n",
       "4     144822  "
      ]
     },
     "execution_count": 37,
     "metadata": {},
     "output_type": "execute_result"
    }
   ],
   "source": [
    "import matplotlib.pyplot as plt\n",
    "import seaborn as sns\n",
    "\n",
    "# Convertimos la lista de diccionarios de resultados a un DataFrame de Pandas\n",
    "results_df = pd.DataFrame(experiment_results)\n",
    "\n",
    "print(\"DataFrame de Resultados para Visualización:\")\n",
    "results_df"
   ]
  },
  {
   "cell_type": "markdown",
   "id": "54c35756",
   "metadata": {},
   "source": [
    "Los resultados muestran que el modelo GBT mantiene una consistencia notable en sus métricas de desempeño a lo largo de los cinco pliegues de validación cruzada. El accuracy oscila entre 0.7945 y 0.7963, mientras que el F1-score varía entre 0.7128 y 0.7160, lo cual refleja una baja variabilidad interfold y sugiere que el modelo no está sobreajustando a subconjuntos específicos. Las métricas de precision y recall también presentan una correspondencia equilibrada, reforzando que el modelo no favorece excesivamente una clase sobre otra. Aunque el AUC-ROC se mantiene en valores moderados (~0.59), es coherente con la naturaleza binaria y desbalanceada de la tarea de clasificación. En conjunto, los resultados validan que el modelo es robusto, generaliza adecuadamente, y fue correctamente ajustado tras eliminar fuentes de fuga de información como la variable star_rating."
   ]
  },
  {
   "cell_type": "code",
   "execution_count": 38,
   "id": "3ff2643b",
   "metadata": {},
   "outputs": [
    {
     "data": {
      "image/png": "[encoded data removed]",
      "text/plain": [
       "<Figure size 1500x800 with 1 Axes>"
      ]
     },
     "metadata": {},
     "output_type": "display_data"
    }
   ],
   "source": [
    "# Establecemos el estilo de Seaborn para gráficos más atractivos\n",
    "sns.set_style(\"whitegrid\")\n",
    "plt.rcParams['figure.figsize'] = (12, 8) # Tamaño general de las figuras\n",
    "\n",
    "# --- 1. Gráfico de Barras: Rendimiento de cada Métrica por Fold ---\n",
    "# Usamos Melt para transformar el DataFrame y facilitar la graficación multi-métrica\n",
    "metrics_to_plot = ['accuracy', 'f1_score', 'precision', 'recall', 'auc_roc']\n",
    "results_melted = results_df.melt(id_vars=['fold'], value_vars=metrics_to_plot, var_name='Metric', value_name='Score')\n",
    "\n",
    "plt.figure(figsize=(15, 8))\n",
    "sns.barplot(x='fold', y='Score', hue='Metric', data=results_melted, palette='viridis')\n",
    "plt.title('Rendimiento del Modelo GBT por Fold para Cada Métrica', fontsize=16)\n",
    "plt.xlabel('Número de Fold', fontsize=12)\n",
    "plt.ylabel('Puntuación de la Métrica', fontsize=12)\n",
    "plt.ylim(0, 1) # Las métricas están entre 0 y 1\n",
    "plt.legend(title='Métrica', bbox_to_anchor=(1.05, 1), loc='upper left')\n",
    "plt.grid(axis='y', linestyle='--')\n",
    "plt.tight_layout()\n",
    "plt.show()"
   ]
  },
  {
   "cell_type": "markdown",
   "id": "f0ccfeb5",
   "metadata": {},
   "source": [
    "La siguiente visualización presenta el comportamiento del modelo GBT a través de los cinco pliegues generados mediante validación cruzada, considerando cinco métricas fundamentales: accuracy, f1_score, precision, recall y AUC-ROC. Esta gráfica de barras permite observar, de forma simultánea y desagregada, el rendimiento del modelo en cada fold, lo cual resulta especialmente valioso en ejercicios de validación, donde se busca evaluar la consistencia y capacidad de generalización del modelo.\n",
    "\n",
    "Desde una perspectiva analítica, el gráfico revela una notable estabilidad interfold. Las métricas se mantienen uniformes a lo largo de los cinco pliegues, sin presencia de variaciones abruptas ni outliers visibles. Este patrón sugiere que el modelo no está sobreajustando a subconjuntos específicos del conjunto de entrenamiento, y que ha sido capaz de capturar patrones generales de la muestra M con alto grado de reproducibilidad."
   ]
  },
  {
   "cell_type": "code",
   "execution_count": 41,
   "id": "a35c9463",
   "metadata": {},
   "outputs": [
    {
     "data": {
      "image/png": "[encoded data removed]",
      "text/plain": [
       "<Figure size 1500x800 with 1 Axes>"
      ]
     },
     "metadata": {},
     "output_type": "display_data"
    }
   ],
   "source": [
    "# --- 2. Box Plots: Distribución y Variabilidad de las Métricas a través de los Folds ---\n",
    "# Esto es excelente para visualizar la variabilidad de los resultados\n",
    "plt.figure(figsize=(15, 8))\n",
    "sns.boxplot(x='Metric', y='Score', data=results_melted, hue='Metric', palette='muted', legend=False)\n",
    "plt.title('Distribución de Métricas a través de los 5 Folds de Validación Cruzada', fontsize=16)\n",
    "plt.xlabel('Métrica de Evaluación', fontsize=12)\n",
    "plt.ylabel('Puntuación', fontsize=12)\n",
    "plt.ylim(0, 1)\n",
    "plt.grid(axis='y', linestyle='--')\n",
    "plt.tight_layout()\n",
    "plt.show()"
   ]
  },
  {
   "cell_type": "markdown",
   "id": "fbad8daa",
   "metadata": {},
   "source": [
    "El gráfico de cajas (boxplot) presentado permite analizar la distribución y variabilidad de las principales métricas de evaluación del modelo GBT (accuracy, f1_score, precision, recall y AUC-ROC) a lo largo de los cinco folds generados mediante validación cruzada. Esta visualización es de especial utilidad en contextos de modelado predictivo, ya que permite identificar posibles inestabilidades o dispersiones significativas en el rendimiento del modelo, las cuales podrían indicar problemas de sobreajuste, sensibilidad a ciertos subconjuntos de datos o variabilidad inherente en la muestra.\n",
    "\n",
    "En este caso, las cajas correspondientes a cada métrica muestran una variación mínima entre los folds, lo que reafirma nuevamente una alta consistencia en el desempeño del modelo. No se observan valores atípicos (outliers) ni amplitudes intercuartílicas pronunciadas, lo cual respalda empíricamente que el modelo GBT ha logrado una generalización robusta y balanceada. La métrica AUC-ROC, si bien es la más baja en términos absolutos, también presenta una variabilidad muy reducida, lo que reafirma su estabilidad como indicador del poder discriminativo del modelo.\n",
    "\n",
    "En síntesis, este gráfico aporta una evidencia visual contundente sobre la baja dispersión de los resultados obtenidos a través de los distintos folds, reforzando la confiabilidad de las métricas globales reportadas y validando el uso de GBT como una estrategia eficaz y estable para la clasificación binaria del sentimiento en reseñas de Amazon."
   ]
  },
  {
   "cell_type": "code",
   "execution_count": 40,
   "id": "5bcf154b",
   "metadata": {},
   "outputs": [
    {
     "data": {
      "image/png": "[encoded data removed]",
      "text/plain": [
       "<Figure size 1000x700 with 1 Axes>"
      ]
     },
     "metadata": {},
     "output_type": "display_data"
    }
   ],
   "source": [
    "# --- 3. Gráfico de Barras: Media de las Métricas con Desviación Estándar ---\n",
    "# Esto resume el rendimiento promedio y su variabilidad directamente\n",
    "mean_scores = results_df[metrics_to_plot].mean()\n",
    "std_scores = results_df[metrics_to_plot].std()\n",
    "\n",
    "plt.figure(figsize=(10, 7))\n",
    "mean_scores.plot(kind='bar', yerr=std_scores, capsize=5, color=sns.color_palette(\"deep\"))\n",
    "plt.title('Rendimiento Promedio del Modelo GBT (con Desviación Estándar)', fontsize=16)\n",
    "plt.xlabel('Métrica de Evaluación', fontsize=12)\n",
    "plt.ylabel('Puntuación Promedio', fontsize=12)\n",
    "plt.ylim(0, 1)\n",
    "plt.xticks(rotation=45, ha='right')\n",
    "plt.grid(axis='y', linestyle='--')\n",
    "plt.tight_layout()\n",
    "plt.show()"
   ]
  },
  {
   "cell_type": "markdown",
   "id": "96939894",
   "metadata": {},
   "source": [
    "El gráfico de barras presentado muestra el rendimiento promedio del modelo GBT para cada métrica evaluada , acompañado de sus respectivas barras de error que representan la desviación estándar calculada a partir de los resultados de los cinco folds de validación cruzada. Esta visualización es especialmente útil para resumir de forma compacta y comparativa el comportamiento general del modelo, permitiendo observar tanto su eficacia como su estabilidad estadística.\n",
    "\n",
    "Se aprecia que las métricas accuracy, recall y precision presentan valores promedio elevados, con desviaciones estándar muy reducidas, lo cual sugiere un modelo consistente y fiable en su capacidad de generalización. El f1_score, que balancea precision y recall, también se mantiene en un nivel competitivo (~0.71), indicando un buen equilibrio en el tratamiento de clases desbalanceadas. Por su parte, AUC-ROC, aunque con una media inferior (~0.59), evidencia una estabilidad apreciable en su variación inter-fold, lo que la posiciona como una métrica complementaria útil para interpretar la capacidad discriminativa del modelo.\n",
    "\n",
    "En conjunto, este gráfico ofrece una perspectiva global y comparativa del rendimiento del modelo GBT, facilitando la identificación de fortalezas métricas clave y validando la elección del enfoque metodológico implementado."
   ]
  },
  {
   "cell_type": "markdown",
   "id": "e26b2a12",
   "metadata": {},
   "source": [
    "## 6. Discusión y conclusiones"
   ]
  },
  {
   "cell_type": "markdown",
   "id": "b31c38b3",
   "metadata": {},
   "source": [
    "Los resultados obtenidos a lo largo de esta fase experimental permiten realizar un análisis integral sobre el desempeño del modelo GBT aplicado a la tarea de clasificación binaria del sentimiento en reseñas de productos electrónicos en Amazon. En términos generales, se observa un rendimiento consistente entre los distintos folds de validación cruzada, con métricas de accuracy, recall y precision cercanas al 0.79 y desviaciones estándar muy reducidas. Este comportamiento sugiere que el modelo no solo es capaz de generalizar adecuadamente, sino que también mantiene una estabilidad estadística destacable, lo cual es fundamental en problemas de clasificación aplicados a datos reales y desbalanceados.\n",
    "\n",
    "La implementación de la validación cruzada con estrategia k-fold ha sido un elemento clave para garantizar una evaluación robusta y no sesgada del modelo. Dividir los datos en particiones representativas y disjuntas permite simular distintos escenarios de entrenamiento y prueba, evitando sobreajustes específicos a subconjuntos particulares. En este sentido, se cuidó que los folds preservaran las proporciones originales de las clases objetivo y de las variables de caracterización, lo cual es crucial para evitar distorsiones que comprometan la interpretabilidad de los resultados. La elección y correcta ejecución de esta técnica eleva la calidad del análisis y permite conclusiones más confiables sobre la capacidad de generalización del modelo.\n",
    "\n",
    "Asimismo, la visualización de los resultados ha desempeñado un rol fundamental. Gráficos como los de barras, boxplots y barras con desviación estándar han permitido condensar información compleja en representaciones claras, visualmente atractivas y de fácil interpretación, tanto para especialistas como para públicos no técnicos. Esta práctica no solo facilita la identificación de patrones de desempeño y posibles outliers, sino que también permite comunicar hallazgos de forma más efectiva, lo cual es indispensable en contextos colaborativos, interdisciplinares y orientados a toma de decisiones.\n",
    "\n",
    "En conclusión, este entregable no solo ha permitido validar empíricamente un modelo con buen rendimiento para una tarea de clasificación compleja, sino que ha puesto en evidencia la importancia de una metodología rigurosa, del uso de herramientas visuales para análisis, y del cuidado en cada etapa del flujo de trabajo. Como futuros especialistas en inteligencia artificial, es imperativo que reconozcamos que el valor de un modelo no reside únicamente en su precisión, sino también en la forma en que sus resultados se construyen, se interpretan y se comunican. En un mundo guiado cada vez más por datos, la claridad, la transparencia y la capacidad de explicar resultados a audiencias diversas serán habilidades tan esenciales como el conocimiento técnico mismo. Por ello, debemos asumir el compromiso de mantenernos a la vanguardia, pero también de traducir la complejidad en comprensión, y el método en impacto."
   ]
  }
 ],
 "metadata": {
  "kernelspec": {
   "display_name": ".venv",
   "language": "python",
   "name": "python3"
  },
  "language_info": {
   "codemirror_mode": {
    "name": "ipython",
    "version": 3
   },
   "file_extension": ".py",
   "mimetype": "text/x-python",
   "name": "python",
   "nbconvert_exporter": "python",
   "pygments_lexer": "ipython3",
   "version": "3.12.0"
  }
 },
 "nbformat": 4,
 "nbformat_minor": 5
}
