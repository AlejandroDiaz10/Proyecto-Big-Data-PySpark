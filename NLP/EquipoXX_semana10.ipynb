{
 "cells": [
  {
   "cell_type": "markdown",
   "id": "41bdf507",
   "metadata": {},
   "source": [
    "# 10.3 Actividad: modelos LLM y IA en tu lugar de trabajo."
   ]
  },
  {
   "cell_type": "markdown",
   "id": "df26e1c8",
   "metadata": {},
   "source": [
    "## 1. Introducción"
   ]
  },
  {
   "cell_type": "markdown",
   "id": "b307c512",
   "metadata": {},
   "source": [
    "Contexto general del problema o área de oportunidad.\n",
    "\n",
    "Importancia de aplicar IA / PLN en este contexto.\n",
    "\n",
    "Objetivo de la actividad."
   ]
  },
  {
   "cell_type": "markdown",
   "id": "170de9fa",
   "metadata": {},
   "source": [
    "## (Brainstorm?)\n",
    "🏢 1. Automatización de tareas administrativas\n",
    "Nombre del proyecto: Asistente Inteligente de Redacción de Correos\n",
    "\n",
    "Problemática: Redacción repetitiva de correos y respuestas similares consume tiempo.\n",
    "\n",
    "Solución: Un modelo que genere o sugiera correos personalizados a partir de un resumen o comando breve.\n",
    "\n",
    "Datos: Plantillas de correo, historial de mensajes enviados.\n",
    "\n",
    "Modelos: LLM (GPT, Claude), fine-tuning opcional con datos de la empresa.\n",
    "\n",
    "Entregable: Plugin o aplicación web para redactar correos desde una interfaz integrada con Outlook o Gmail.\n",
    "\n",
    "---\n",
    "\n",
    "👥 2. Recursos humanos y talento\n",
    "Nombre del proyecto: Filtro Inteligente de CVs y Recomendador de Candidatos\n",
    "\n",
    "Problemática: Revisión manual de cientos de currículums es lenta y propensa a sesgos.\n",
    "\n",
    "Solución: Un sistema que extraiga habilidades y experiencia clave de CVs y los clasifique con base en una vacante específica.\n",
    "\n",
    "Datos: CVs históricos, descripciones de puestos.\n",
    "\n",
    "Modelos: Transformers + embeddings + clasificación.\n",
    "\n",
    "Entregable: Dashboard interactivo para RRHH.\n",
    "\n",
    "---\n",
    "\n",
    "📞 4. Atención al cliente\n",
    "Nombre del proyecto: Resumen Automático de Interacciones con Clientes\n",
    "\n",
    "Problemática: Difícil tener seguimiento claro de las llamadas o tickets atendidos.\n",
    "\n",
    "Solución: LLM que analiza texto de chats o transcripciones de llamadas para generar resúmenes, alertas o clasificaciones.\n",
    "\n",
    "Datos: Chat logs, llamadas transcritas.\n",
    "\n",
    "Modelos: Whisper (ASR), GPT (resumen y análisis).\n",
    "\n",
    "Entregable: Sistema que se conecta a CRM para cargar resúmenes por cliente.\n",
    "\n",
    "---\n",
    "\n",
    "📑 7. Gestión documental\n",
    "Nombre del proyecto: Buscador Semántico de Documentos Internos\n",
    "\n",
    "Problemática: Es difícil encontrar documentos relevantes solo con palabras clave.\n",
    "\n",
    "Solución: Indexar documentos con embeddings para permitir búsquedas semánticas más precisas.\n",
    "\n",
    "Datos: Manuales, políticas, actas, informes.\n",
    "\n",
    "Modelos: FAISS/Chroma + LLM tipo RAG.\n",
    "\n",
    "Entregable: Motor de búsqueda interno con respuesta tipo chatbot."
   ]
  },
  {
   "cell_type": "markdown",
   "id": "5a53dcc0",
   "metadata": {},
   "source": [
    "## 2. Idea seleccionada"
   ]
  },
  {
   "cell_type": "markdown",
   "id": "1ce4e38b",
   "metadata": {},
   "source": [
    "Descripción de la idea elegida\n",
    "\n",
    "Justificación de la elección (¿por qué fue la más viable/interesante?)"
   ]
  },
  {
   "cell_type": "markdown",
   "id": "62b18137",
   "metadata": {},
   "source": [
    "## 3. Desarrollo de la solución con apoyo del LLM"
   ]
  },
  {
   "cell_type": "markdown",
   "id": "e124df45",
   "metadata": {},
   "source": [
    "### 3.1 Modelo LLM utilizado"
   ]
  },
  {
   "cell_type": "markdown",
   "id": "88f04e6c",
   "metadata": {},
   "source": [
    "Nombre y versión del modelo (ej. ChatGPT-4o, Gemini 1.5, Claude 3 Opus)"
   ]
  },
  {
   "cell_type": "markdown",
   "id": "56fb5a94",
   "metadata": {},
   "source": [
    "### 3.2 Estrategia de Prompt Engineering"
   ]
  },
  {
   "cell_type": "markdown",
   "id": "c39ff872",
   "metadata": {},
   "source": [
    "Objetivo de las consultas al modelo\n",
    "\n",
    "Ejemplos de prompts utilizados\n",
    "\n",
    "Respuestas obtenidas (resumidas o textual si se requiere)"
   ]
  },
  {
   "cell_type": "markdown",
   "id": "927cee94",
   "metadata": {},
   "source": [
    "### 3.3 Propuesta Detallada Generada con LLM"
   ]
  },
  {
   "cell_type": "markdown",
   "id": "ad7007b9",
   "metadata": {},
   "source": [
    "Descripción del proyecto\n",
    "\n",
    "Flujo o pasos para su implementación\n",
    "\n",
    "Posibles desafíos\n",
    "\n",
    "Métricas de éxito sugeridas\n",
    "\n",
    "Recomendaciones técnicas y organizacionales"
   ]
  },
  {
   "cell_type": "markdown",
   "id": "d75f5e1d",
   "metadata": {},
   "source": [
    "## 4. Evaluación Técnica"
   ]
  },
  {
   "cell_type": "markdown",
   "id": "052be3e7",
   "metadata": {},
   "source": [
    "Análisis de factibilidad\n",
    "\n",
    "Estimación de recursos técnicos y humanos\n",
    "\n",
    "Consideraciones éticas y de privacidad de datos"
   ]
  },
  {
   "cell_type": "markdown",
   "id": "b2bf0839",
   "metadata": {},
   "source": [
    "## 5. Conclusiones"
   ]
  },
  {
   "cell_type": "markdown",
   "id": "5da02f88",
   "metadata": {},
   "source": [
    "Principales aprendizajes sobre IA y PLN\n",
    "\n",
    "Valor del uso del LLM como asistente de ideación\n",
    "\n",
    "Siguientes pasos sugeridos"
   ]
  }
 ],
 "metadata": {
  "language_info": {
   "name": "python"
  }
 },
 "nbformat": 4,
 "nbformat_minor": 5
}
